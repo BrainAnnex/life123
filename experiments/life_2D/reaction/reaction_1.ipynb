{
 "cells": [
  {
   "cell_type": "markdown",
   "id": "d0259ef8",
   "metadata": {
    "lines_to_next_cell": 0
   },
   "source": [
    "## A <-> B reaction, with 1st-order kinetics in both directions,\n",
    "### taken to equilibrium\n",
    "\n",
    "Diffusion not done\n",
    "\n",
    "LAST REVISED: Aug. 19, 2022"
   ]
  },
  {
   "cell_type": "code",
   "execution_count": 1,
   "id": "706d5946",
   "metadata": {},
   "outputs": [
    {
     "name": "stdout",
     "output_type": "stream",
     "text": [
      "Added 'D:\\Docs\\- MY CODE\\BioSimulations\\life123-Win7' to sys.path\n"
     ]
    }
   ],
   "source": [
    "# Extend the sys.path variable, to contain the project's root directory\n",
    "import set_path\n",
    "set_path.add_ancestor_dir_to_syspath(3)  # The number of levels to go up \n",
    "                                         # to reach the project's home, from the folder containing this notebook"
   ]
  },
  {
   "cell_type": "code",
   "execution_count": 2,
   "id": "bca245e8",
   "metadata": {},
   "outputs": [],
   "source": [
    "from experiments.get_notebook_info import get_notebook_basename\n",
    "\n",
    "from modules.chemicals.chemicals import Chemicals as chem\n",
    "from modules.reactions.reactions import Reactions\n",
    "from life_2D.bio_sim_2d import BioSim2D as bio\n",
    "\n",
    "import plotly.express as px\n",
    "from modules.html_log.html_log import HtmlLog as log\n",
    "from modules.visualization.graphic_log import GraphicLog"
   ]
  },
  {
   "cell_type": "code",
   "execution_count": 3,
   "id": "48630be5",
   "metadata": {},
   "outputs": [
    {
     "name": "stdout",
     "output_type": "stream",
     "text": [
      "-> Output will be LOGGED into the file 'reaction_1.log.htm'\n"
     ]
    }
   ],
   "source": [
    "# Initialize the HTML logging\n",
    "log_file = get_notebook_basename() + \".log.htm\"    # Use the notebook base filename for the log file\n",
    "# Set up the use of some specified graphic (Vue) components\n",
    "GraphicLog.config(filename=log_file,\n",
    "                  components=[\"vue_cytoscape_1\"],\n",
    "                  extra_js=\"https://cdnjs.cloudflare.com/ajax/libs/cytoscape/3.21.2/cytoscape.umd.js\",\n",
    "                  home_rel_path=\"../../..\")    # relative path is from the location of THE LOG FILE to the project's home"
   ]
  },
  {
   "cell_type": "code",
   "execution_count": 4,
   "id": "e18c0c41",
   "metadata": {},
   "outputs": [
    {
     "name": "stdout",
     "output_type": "stream",
     "text": [
      "SYSTEM STATE at Time t = 0:\n",
      "Species `A`:\n",
      "[[10. 20.  0.  0.]\n",
      " [ 0.  0.  0.  0.]\n",
      " [ 0.  0.  0.  5.]]\n",
      "Species `B`:\n",
      "[[ 50.  35.   0.   0.]\n",
      " [  0.   0.   0.   0.]\n",
      " [  0.   0.   0. 100.]]\n"
     ]
    }
   ],
   "source": [
    "# Initialize the system\n",
    "chem_data = chem(names=[\"A\", \"B\"])     # NOTE: Diffusion not done\n",
    "\n",
    "rxn = Reactions(chem_data)\n",
    "\n",
    "# Reaction A <-> B , with 1st-order kinetics in both directions\n",
    "rxn.add_reaction(reactants=[\"A\"], products=[\"B\"], forward_rate=3., reverse_rate=2.)\n",
    "\n",
    "bio.initialize_system(n_bins=(3,4), chem_data=chem_data, reactions=rxn)\n",
    "\n",
    "bio.set_bin_conc_all_species(bin_x=0, bin_y=0, conc_list=[10.,50.])\n",
    "bio.set_bin_conc_all_species(bin_x=0, bin_y=1, conc_list=[20.,35.])\n",
    "bio.set_bin_conc_all_species(bin_x=2, bin_y=3, conc_list=[5.,100.])\n",
    "\n",
    "bio.describe_state()"
   ]
  },
  {
   "cell_type": "code",
   "execution_count": 5,
   "id": "06d14448",
   "metadata": {},
   "outputs": [
    {
     "name": "stdout",
     "output_type": "stream",
     "text": [
      "Number of reactions:  1\n",
      "0: A <-> B  (Rf = 3.0 / Rb = 2.0)\n"
     ]
    }
   ],
   "source": [
    "rxn.describe_reactions()"
   ]
  },
  {
   "cell_type": "code",
   "execution_count": 6,
   "id": "bad0134c",
   "metadata": {},
   "outputs": [
    {
     "name": "stdout",
     "output_type": "stream",
     "text": [
      "\n",
      " {'reactants': [(1, 0, 1)], 'products': [(1, 1, 1)], 'Rf': 3.0, 'Rb': 2.0} \n",
      "\n",
      "[GRAPHIC ELEMENT SENT TO LOG FILE `reaction_1.log.htm`]\n"
     ]
    }
   ],
   "source": [
    "# Send the plot to the HTML log file\n",
    "graph_data = rxn.prepare_graph_network()\n",
    "GraphicLog.export_plot(graph_data, \"vue_cytoscape_1\")"
   ]
  },
  {
   "cell_type": "markdown",
   "id": "0b8318bf",
   "metadata": {
    "tags": []
   },
   "source": [
    "### <a name=\"sec_2_first_step\"></a>First step"
   ]
  },
  {
   "cell_type": "code",
   "execution_count": 7,
   "id": "97f6ad20",
   "metadata": {},
   "outputs": [
    {
     "name": "stdout",
     "output_type": "stream",
     "text": [
      "bio.delta_reactions:\n",
      " [[[  7.    1.    0.    0. ]\n",
      "  [  0.    0.    0.    0. ]\n",
      "  [  0.    0.    0.   18.5]]\n",
      "\n",
      " [[ -7.   -1.    0.    0. ]\n",
      "  [  0.    0.    0.    0. ]\n",
      "  [  0.    0.    0.  -18.5]]]\n"
     ]
    }
   ],
   "source": [
    "# First step\n",
    "bio.reaction_step(delta_time=0.1)\n",
    "print(\"bio.delta_reactions:\\n\", bio.delta_reactions)"
   ]
  },
  {
   "cell_type": "code",
   "execution_count": 8,
   "id": "93b53e77",
   "metadata": {},
   "outputs": [
    {
     "name": "stdout",
     "output_type": "stream",
     "text": [
      "SYSTEM STATE at Time t = 0.1:\n",
      "Species `A`:\n",
      "[[17.  21.   0.   0. ]\n",
      " [ 0.   0.   0.   0. ]\n",
      " [ 0.   0.   0.  23.5]]\n",
      "Species `B`:\n",
      "[[43.  34.   0.   0. ]\n",
      " [ 0.   0.   0.   0. ]\n",
      " [ 0.   0.   0.  81.5]]\n"
     ]
    }
   ],
   "source": [
    "bio.system += bio.delta_reactions       # Matrix operation to update all the concentrations\n",
    "bio.system_time += 0.1\n",
    "\n",
    "bio.describe_state()"
   ]
  }
 ],
 "metadata": {
  "kernelspec": {
   "display_name": "Python 3 (ipykernel)",
   "language": "python",
   "name": "python3"
  },
  "language_info": {
   "codemirror_mode": {
    "name": "ipython",
    "version": 3
   },
   "file_extension": ".py",
   "mimetype": "text/x-python",
   "name": "python",
   "nbconvert_exporter": "python",
   "pygments_lexer": "ipython3",
   "version": "3.8.10"
  }
 },
 "nbformat": 4,
 "nbformat_minor": 5
}
