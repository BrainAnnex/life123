{
 "cells": [
  {
   "cell_type": "code",
   "execution_count": 1,
   "id": "5cf08e0a-bf1c-4c4f-92f3-593e444b175f",
   "metadata": {},
   "outputs": [
    {
     "name": "stdout",
     "output_type": "stream",
     "text": [
      "<b>hello</b>\n"
     ]
    }
   ],
   "source": [
    "print(\"<b>hello</b>\")"
   ]
  },
  {
   "cell_type": "code",
   "execution_count": 2,
   "id": "47041100-06f8-45f3-b424-695f48c5a759",
   "metadata": {},
   "outputs": [],
   "source": [
    "from IPython.display import display, HTML"
   ]
  },
  {
   "cell_type": "code",
   "execution_count": 3,
   "id": "55866c6e-0f40-49f7-b52e-7a0f90badf7b",
   "metadata": {},
   "outputs": [
    {
     "data": {
      "text/html": [
       "<h1>Hello World</h1>"
      ],
      "text/plain": [
       "<IPython.core.display.HTML object>"
      ]
     },
     "metadata": {},
     "output_type": "display_data"
    }
   ],
   "source": [
    "display(HTML('<h1>Hello World</h1>'))"
   ]
  },
  {
   "cell_type": "code",
   "execution_count": 4,
   "id": "d42d8ecb-68c3-4340-8ab1-298b9ea6fcf8",
   "metadata": {},
   "outputs": [
    {
     "data": {
      "text/html": [
       "<i>Hello World</i>"
      ],
      "text/plain": [
       "<IPython.core.display.HTML object>"
      ]
     },
     "metadata": {},
     "output_type": "display_data"
    }
   ],
   "source": [
    "display(HTML('<i>Hello World</i>'))"
   ]
  },
  {
   "cell_type": "code",
   "execution_count": 5,
   "id": "e3091137-b183-4a2e-a3ab-1d0d74853fa3",
   "metadata": {},
   "outputs": [
    {
     "data": {
      "text/html": [
       "<span style=\"font-size:48px; color: red\">Hello World</span>"
      ],
      "text/plain": [
       "<IPython.core.display.HTML object>"
      ]
     },
     "metadata": {},
     "output_type": "display_data"
    }
   ],
   "source": [
    "display(HTML('<span style=\"font-size:48px; color: red\">Hello World</span>'))"
   ]
  },
  {
   "cell_type": "code",
   "execution_count": null,
   "id": "c8c7f542-36e8-4029-939b-4760303e9eb9",
   "metadata": {},
   "outputs": [],
   "source": []
  }
 ],
 "metadata": {
  "kernelspec": {
   "display_name": "Python 3 (ipykernel)",
   "language": "python",
   "name": "python3"
  },
  "language_info": {
   "codemirror_mode": {
    "name": "ipython",
    "version": 3
   },
   "file_extension": ".py",
   "mimetype": "text/x-python",
   "name": "python",
   "nbconvert_exporter": "python",
   "pygments_lexer": "ipython3",
   "version": "3.7.3"
  }
 },
 "nbformat": 4,
 "nbformat_minor": 5
}
