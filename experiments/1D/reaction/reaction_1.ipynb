{
 "cells": [
  {
   "cell_type": "markdown",
   "id": "49bcb5b0-f19d-4b96-a5f1-e0ae30f66d8f",
   "metadata": {},
   "source": [
    "### A simple A <-> B reaction between 2 species with initial uniform concentrations across 3 bins,\n",
    "with 1st-order kinetics in both directions, taken to equilibrium\n",
    "\n",
    "Diffusion NOT taken into account\n",
    "\n",
    "See also the experiment _\"reactions_single_compartment/react_1\"_ \n",
    "\n",
    "LAST REVISED: Jan. 15, 2023"
   ]
  },
  {
   "cell_type": "code",
   "execution_count": 1,
   "id": "d9efa3fd-e95d-4e1c-878a-81ae932b2709",
   "metadata": {},
   "outputs": [
    {
     "name": "stdout",
     "output_type": "stream",
     "text": [
      "Added 'D:\\Docs\\- MY CODE\\BioSimulations\\life123-Win7' to sys.path\n"
     ]
    }
   ],
   "source": [
    "# Extend the sys.path variable, to contain the project's root directory\n",
    "import set_path\n",
    "set_path.add_ancestor_dir_to_syspath(3)  # The number of levels to go up \n",
    "                                         # to reach the project's home, from the folder containing this notebook"
   ]
  },
  {
   "cell_type": "code",
   "execution_count": 2,
   "id": "01bae555-3dcf-42c1-bddc-9477a37f49f8",
   "metadata": {
    "tags": []
   },
   "outputs": [],
   "source": [
    "from experiments.get_notebook_info import get_notebook_basename\n",
    "\n",
    "from modules.reactions.reaction_data import ReactionData as chem\n",
    "from modules.reactions.reaction_dynamics import ReactionDynamics\n",
    "from life_1D.bio_sim_1d import BioSim1D\n",
    "\n",
    "import plotly.express as px\n",
    "from modules.html_log.html_log import HtmlLog as log\n",
    "from modules.visualization.graphic_log import GraphicLog"
   ]
  },
  {
   "cell_type": "code",
   "execution_count": 3,
   "id": "cc53849f-351d-49e0-bfa8-22f8d8e22f8e",
   "metadata": {
    "tags": []
   },
   "outputs": [
    {
     "name": "stdout",
     "output_type": "stream",
     "text": [
      "-> Output will be LOGGED into the file 'reaction_1.log.htm'\n"
     ]
    }
   ],
   "source": [
    "# Initialize the HTML logging (for the graphics)\n",
    "log_file = get_notebook_basename() + \".log.htm\"    # Use the notebook base filename for the log file\n",
    "\n",
    "# Set up the use of some specified graphic (Vue) components\n",
    "GraphicLog.config(filename=log_file,\n",
    "                  components=[\"vue_cytoscape_1\"],\n",
    "                  extra_js=\"https://cdnjs.cloudflare.com/ajax/libs/cytoscape/3.21.2/cytoscape.umd.js\")"
   ]
  },
  {
   "cell_type": "markdown",
   "id": "8af818bc-9bac-4ec7-9672-b76223876595",
   "metadata": {},
   "source": [
    "# Initialize the System"
   ]
  },
  {
   "cell_type": "code",
   "execution_count": 4,
   "id": "de47e1df-67cf-4200-a580-fbcf50ebd1c0",
   "metadata": {
    "tags": []
   },
   "outputs": [
    {
     "name": "stdout",
     "output_type": "stream",
     "text": [
      "SYSTEM STATE at Time t = 0:\n",
      "3 bins and 2 species:\n",
      "  Species 0 (A). Diff rate: None. Conc: [10. 10. 10.]\n",
      "  Species 1 (B). Diff rate: None. Conc: [50. 50. 50.]\n"
     ]
    }
   ],
   "source": [
    "# Initialize the system\n",
    "chem_data = chem(names=[\"A\", \"B\"])              # Diffusion NOT taken into account\n",
    "bio = BioSim1D(n_bins=3, chem_data=chem_data)   # We'll specify the reactions later\n",
    "\n",
    "bio.set_uniform_concentration(species_name=\"A\", conc=10.)\n",
    "bio.set_uniform_concentration(species_name=\"B\", conc=50.)\n",
    "\n",
    "bio.describe_state()"
   ]
  },
  {
   "cell_type": "code",
   "execution_count": 5,
   "id": "5562fea2-834e-40a9-9b1d-5ea28a0100bf",
   "metadata": {},
   "outputs": [],
   "source": [
    "# Save the state of the concentrations of all species at bin 0\n",
    "bio.add_snapshot(bio.bin_snapshot(bin_address = 0), caption=\"Initial state\")"
   ]
  },
  {
   "cell_type": "code",
   "execution_count": 6,
   "id": "3d22b349-c063-4c2d-9cde-ebd87bda6901",
   "metadata": {},
   "outputs": [
    {
     "data": {
      "text/html": [
       "<div>\n",
       "<style scoped>\n",
       "    .dataframe tbody tr th:only-of-type {\n",
       "        vertical-align: middle;\n",
       "    }\n",
       "\n",
       "    .dataframe tbody tr th {\n",
       "        vertical-align: top;\n",
       "    }\n",
       "\n",
       "    .dataframe thead th {\n",
       "        text-align: right;\n",
       "    }\n",
       "</style>\n",
       "<table border=\"1\" class=\"dataframe\">\n",
       "  <thead>\n",
       "    <tr style=\"text-align: right;\">\n",
       "      <th></th>\n",
       "      <th>SYSTEM TIME</th>\n",
       "      <th>A</th>\n",
       "      <th>B</th>\n",
       "      <th>caption</th>\n",
       "    </tr>\n",
       "  </thead>\n",
       "  <tbody>\n",
       "    <tr>\n",
       "      <th>0</th>\n",
       "      <td>0</td>\n",
       "      <td>10.0</td>\n",
       "      <td>50.0</td>\n",
       "      <td>Initial state</td>\n",
       "    </tr>\n",
       "  </tbody>\n",
       "</table>\n",
       "</div>"
      ],
      "text/plain": [
       "   SYSTEM TIME     A     B        caption\n",
       "0            0  10.0  50.0  Initial state"
      ]
     },
     "execution_count": 6,
     "metadata": {},
     "output_type": "execute_result"
    }
   ],
   "source": [
    "bio.get_history()"
   ]
  },
  {
   "cell_type": "code",
   "execution_count": 7,
   "id": "25155c63-e53c-41e1-be1e-41577158a4ca",
   "metadata": {},
   "outputs": [
    {
     "name": "stdout",
     "output_type": "stream",
     "text": [
      "Number of reactions:  1\n"
     ]
    }
   ],
   "source": [
    "# Specify the reaction\n",
    "\n",
    "# Reaction A <-> B , with 1st-order kinetics in both directions\n",
    "chem_data.add_reaction(reactants=[\"A\"], products=[\"B\"], forward_rate=3., reverse_rate=2.)\n",
    "\n",
    "print(\"Number of reactions: \", chem_data.number_of_reactions())"
   ]
  },
  {
   "cell_type": "code",
   "execution_count": 8,
   "id": "16396b37-96ce-4b6d-a415-dc8f72b04559",
   "metadata": {},
   "outputs": [
    {
     "name": "stdout",
     "output_type": "stream",
     "text": [
      "Number of reactions: 1 (at temp. 25 C)\n",
      "0: A <-> B  (kF = 3 / kR = 2 / Delta_G = -1,005.13 / K = 1.5) | 1st order in all reactants & products\n"
     ]
    }
   ],
   "source": [
    "chem_data.describe_reactions()"
   ]
  },
  {
   "cell_type": "code",
   "execution_count": 9,
   "id": "00a39103-a470-490a-8165-bd58c6f70fb6",
   "metadata": {},
   "outputs": [
    {
     "name": "stdout",
     "output_type": "stream",
     "text": [
      "[GRAPHIC ELEMENT SENT TO LOG FILE `reaction_1.log.htm`]\n"
     ]
    }
   ],
   "source": [
    "# Send a plot of the network of reactions to the HTML log file\n",
    "graph_data = chem_data.prepare_graph_network()\n",
    "GraphicLog.export_plot(graph_data, \"vue_cytoscape_1\")"
   ]
  },
  {
   "cell_type": "markdown",
   "id": "0b46b395-3f68-4dbd-b0c5-d67a0e623726",
   "metadata": {
    "tags": []
   },
   "source": [
    "### <a name=\"sec_1\"></a>First step"
   ]
  },
  {
   "cell_type": "code",
   "execution_count": 10,
   "id": "bcf652b8-e0dc-438e-bdbe-02216c1d52a0",
   "metadata": {},
   "outputs": [
    {
     "name": "stdout",
     "output_type": "stream",
     "text": [
      "SYSTEM STATE at Time t = 0.1:\n",
      "3 bins and 2 species:\n",
      "  Species 0 (A). Diff rate: None. Conc: [17. 17. 17.]\n",
      "  Species 1 (B). Diff rate: None. Conc: [43. 43. 43.]\n"
     ]
    }
   ],
   "source": [
    "# First step of reaction\n",
    "bio.react(time_step=0.1, n_steps=1)\n",
    "bio.describe_state()"
   ]
  },
  {
   "cell_type": "markdown",
   "id": "7dc56592-179d-4e4c-b75a-8eb81dcafe71",
   "metadata": {},
   "source": [
    "NOTE: the concentration of species A is increasing, while that of species B is decreasing.\n",
    "All bins have identical concentrations; so, there's no diffusion (and we're not attempting to compute it):  \n",
    "[[17. 17. 17.]  \n",
    " [43. 43. 43.]]"
   ]
  },
  {
   "cell_type": "code",
   "execution_count": 11,
   "id": "54ee2411-de4e-4895-91a9-dfb4cab743ec",
   "metadata": {},
   "outputs": [
    {
     "data": {
      "text/html": [
       "<div>\n",
       "<style scoped>\n",
       "    .dataframe tbody tr th:only-of-type {\n",
       "        vertical-align: middle;\n",
       "    }\n",
       "\n",
       "    .dataframe tbody tr th {\n",
       "        vertical-align: top;\n",
       "    }\n",
       "\n",
       "    .dataframe thead th {\n",
       "        text-align: right;\n",
       "    }\n",
       "</style>\n",
       "<table border=\"1\" class=\"dataframe\">\n",
       "  <thead>\n",
       "    <tr style=\"text-align: right;\">\n",
       "      <th></th>\n",
       "      <th>SYSTEM TIME</th>\n",
       "      <th>A</th>\n",
       "      <th>B</th>\n",
       "      <th>caption</th>\n",
       "    </tr>\n",
       "  </thead>\n",
       "  <tbody>\n",
       "    <tr>\n",
       "      <th>0</th>\n",
       "      <td>0.0</td>\n",
       "      <td>10.0</td>\n",
       "      <td>50.0</td>\n",
       "      <td>Initial state</td>\n",
       "    </tr>\n",
       "    <tr>\n",
       "      <th>1</th>\n",
       "      <td>0.1</td>\n",
       "      <td>17.0</td>\n",
       "      <td>43.0</td>\n",
       "      <td></td>\n",
       "    </tr>\n",
       "  </tbody>\n",
       "</table>\n",
       "</div>"
      ],
      "text/plain": [
       "   SYSTEM TIME     A     B        caption\n",
       "0          0.0  10.0  50.0  Initial state\n",
       "1          0.1  17.0  43.0               "
      ]
     },
     "execution_count": 11,
     "metadata": {},
     "output_type": "execute_result"
    }
   ],
   "source": [
    "# Save the state of the concentrations of all species at bin 0\n",
    "bio.add_snapshot(bio.bin_snapshot(bin_address = 0))\n",
    "bio.get_history()"
   ]
  },
  {
   "cell_type": "markdown",
   "id": "82a62165-425d-4e8d-abac-01d579dfd1ae",
   "metadata": {},
   "source": [
    "### <a name=\"sec_more_steps\"></a>Numerous more steps"
   ]
  },
  {
   "cell_type": "code",
   "execution_count": 12,
   "id": "cf6a7337-8e2e-4c02-9bb3-85052f37144f",
   "metadata": {},
   "outputs": [
    {
     "name": "stdout",
     "output_type": "stream",
     "text": [
      "SYSTEM STATE at Time t = 1.1:\n",
      "3 bins and 2 species:\n",
      "  Species 0 (A). Diff rate: None. Conc: [23.99316406 23.99316406 23.99316406]\n",
      "  Species 1 (B). Diff rate: None. Conc: [36.00683594 36.00683594 36.00683594]\n"
     ]
    }
   ],
   "source": [
    "# Numerous more steps\n",
    "bio.react(time_step=0.1, n_steps=10, snapshots={\"sample_bin\": 0})\n",
    "\n",
    "bio.describe_state()"
   ]
  },
  {
   "cell_type": "markdown",
   "id": "962acf15-3b50-40e4-9daa-3dcca7d3291a",
   "metadata": {},
   "source": [
    "### <a name=\"sec_equilibrium\"></a>Equilibrium"
   ]
  },
  {
   "cell_type": "markdown",
   "id": "809b4afa-fb2f-4ac3-92c9-083fc487c81b",
   "metadata": {},
   "source": [
    "NOTE: Consistent with the 3/2 ratio of forward/reverse rates (and the 1st order reactions),\n",
    " the systems settles in the following equilibrium:\n",
    "\n",
    "[A] = 23.99316406\n",
    " \n",
    "[B] = 36.00683594\n"
   ]
  },
  {
   "cell_type": "code",
   "execution_count": 13,
   "id": "490fdc0f-fa2a-48d8-ae04-7c80d298842a",
   "metadata": {},
   "outputs": [
    {
     "data": {
      "text/plain": [
       "{'A': 23.9931640625, 'B': 36.0068359375}"
      ]
     },
     "execution_count": 13,
     "metadata": {},
     "output_type": "execute_result"
    }
   ],
   "source": [
    "bio.bin_snapshot(bin_address = 0)"
   ]
  },
  {
   "cell_type": "code",
   "execution_count": 17,
   "id": "f22258b2-5181-4ff9-b379-f6a12ad5c8fb",
   "metadata": {},
   "outputs": [
    {
     "name": "stdout",
     "output_type": "stream",
     "text": [
      "A <-> B\n",
      "Final concentrations:  [B] = 36.01 ; [A] = 23.99\n",
      "1. Ratio of reactant/product concentrations, adjusted for reaction orders: 1.50071\n",
      "    Formula used:  [B] / [A]\n",
      "2. Ratio of forward/reverse reaction rates: 1.5\n",
      "Discrepancy between the two values: 0.04749%\n",
      "Reaction IS in equilibrium (within tolerance)\n",
      "\n"
     ]
    },
    {
     "data": {
      "text/plain": [
       "{0: True}"
      ]
     },
     "execution_count": 17,
     "metadata": {},
     "output_type": "execute_result"
    }
   ],
   "source": [
    "# Verify that the reaction has reached equilibrium\n",
    "bio.reaction_dynamics.is_in_equilibrium(conc=bio.bin_snapshot(bin_address = 0))"
   ]
  },
  {
   "cell_type": "code",
   "execution_count": null,
   "id": "382e3253-045e-40a5-beab-c1c6e8608334",
   "metadata": {},
   "outputs": [],
   "source": [
    "# Save the state of the concentrations of all species at bin 0\n",
    "#bio.save_snapshot(bio.bin_snapshot(bin_address = 0))\n",
    "bio.get_history()"
   ]
  },
  {
   "cell_type": "markdown",
   "id": "cbf6c9c7-8cec-400f-9e70-49ff1a9f485c",
   "metadata": {
    "tags": []
   },
   "source": [
    "## Plots of changes of concentration with time"
   ]
  },
  {
   "cell_type": "code",
   "execution_count": null,
   "id": "665dfff9-e943-44e1-b76d-af363d94c9f8",
   "metadata": {},
   "outputs": [],
   "source": [
    "fig = px.line(data_frame=bio.get_history(), x=\"SYSTEM TIME\", y=[\"A\", \"B\"], \n",
    "              title=\"Changes in concentrations with time\",\n",
    "              color_discrete_sequence = ['navy', 'darkorange'],\n",
    "              labels={\"value\":\"concentration\", \"variable\":\"Chemical\"})\n",
    "fig.show()"
   ]
  },
  {
   "cell_type": "code",
   "execution_count": null,
   "id": "5a6dcbce-19fe-4fbb-b399-8e5dbbc8c1bb",
   "metadata": {},
   "outputs": [],
   "source": [
    "# Same plot, but with a smoothed line\n",
    "fig = px.line(data_frame=bio.get_history(), x=\"SYSTEM TIME\", y=[\"A\", \"B\"], \n",
    "              title=\"Changes in concentrations with time (smoothed)\",\n",
    "              color_discrete_sequence = ['navy', 'darkorange'],\n",
    "              labels={\"value\":\"concentration\", \"variable\":\"Chemical\"},\n",
    "              line_shape=\"spline\")\n",
    "fig.show()"
   ]
  },
  {
   "cell_type": "markdown",
   "id": "37879680-50e8-4564-a872-a1f94cedfd22",
   "metadata": {},
   "source": [
    "## For more in-depth analysis of this reaction, see the experiment _\"reactions_single_compartment/react_1\"_ "
   ]
  },
  {
   "cell_type": "code",
   "execution_count": null,
   "id": "7245be7a-c9db-45f5-b033-d6c521237a9c",
   "metadata": {},
   "outputs": [],
   "source": []
  }
 ],
 "metadata": {
  "jupytext": {
   "formats": "ipynb,py:percent"
  },
  "kernelspec": {
   "display_name": "Python 3 (ipykernel)",
   "language": "python",
   "name": "python3"
  },
  "language_info": {
   "codemirror_mode": {
    "name": "ipython",
    "version": 3
   },
   "file_extension": ".py",
   "mimetype": "text/x-python",
   "name": "python",
   "nbconvert_exporter": "python",
   "pygments_lexer": "ipython3",
   "version": "3.8.10"
  }
 },
 "nbformat": 4,
 "nbformat_minor": 5
}
