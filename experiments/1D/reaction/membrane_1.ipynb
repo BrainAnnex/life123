{
 "cells": [
  {
   "cell_type": "markdown",
   "id": "19564ec4-168a-481e-ba02-6d3fe0ce5fef",
   "metadata": {},
   "source": [
    "### Exploring the data structures of MEMBRANES, and reactions in them \n",
    "#### - with NO DIFFUSION\n",
    "\n",
    "LAST REVISED: Aug. 29, 2022"
   ]
  },
  {
   "cell_type": "code",
   "execution_count": 1,
   "id": "e0f32dc4-72a0-47d8-825e-b94c53025ff5",
   "metadata": {},
   "outputs": [
    {
     "name": "stdout",
     "output_type": "stream",
     "text": [
      "Added 'D:\\Docs\\- MY CODE\\BioSimulations\\life123-Win7' to sys.path\n"
     ]
    }
   ],
   "source": [
    "# Extend the sys.path variable, to contain the project's root directory\n",
    "import set_path\n",
    "set_path.add_ancestor_dir_to_syspath(3)  # The number of levels to go up \n",
    "                                         # to reach the project's home from the folder containing this notebook"
   ]
  },
  {
   "cell_type": "code",
   "execution_count": 2,
   "id": "855122a8-7003-4bc6-a66d-4ba3dec12645",
   "metadata": {},
   "outputs": [],
   "source": [
    "from modules.chemicals.chemicals import Chemicals as chem\n",
    "from life_1D.bio_sim_1d import BioSim1D as bio"
   ]
  },
  {
   "cell_type": "code",
   "execution_count": 3,
   "id": "81b9c228-ab44-48ce-b0a1-99b52bcbaf98",
   "metadata": {},
   "outputs": [
    {
     "name": "stdout",
     "output_type": "stream",
     "text": [
      "SYSTEM STATE at Time t = 0:\n",
      "5 bins and 2 species:\n",
      "  Species 0 (A). Diff rate: NOT SET. Conc: |4.0|10.0()55.0|4.0|4.0|4.0|\n",
      "  Species 1 (B). Diff rate: NOT SET. Conc: |8.0|20.0()0.0|8.0|8.0|8.0|\n"
     ]
    }
   ],
   "source": [
    "chem_data = chem(names=[\"A\", \"B\"])\n",
    "bio.initialize_system(n_bins=5, chem_data=chem_data)\n",
    "\n",
    "bio.set_membranes(membrane_pos=[1])\n",
    "\n",
    "bio.set_all_uniform_concentrations(conc_list=[4., 8.])\n",
    "bio.set_bin_conc(bin_address=1, species_name=\"A\", conc=10.)\n",
    "bio.set_bin_conc(bin_address=1, species_name=\"B\", conc=20.)\n",
    "\n",
    "bio.set_bin_conc(bin_address=1, species_name=\"A\", conc=55., across_membrane=True)\n",
    "\n",
    "bio.describe_state()"
   ]
  },
  {
   "cell_type": "code",
   "execution_count": null,
   "id": "5816fe14-c3d4-48ee-8e2e-fac3af6ea662",
   "metadata": {},
   "outputs": [],
   "source": []
  }
 ],
 "metadata": {
  "kernelspec": {
   "display_name": "Python 3 (ipykernel)",
   "language": "python",
   "name": "python3"
  },
  "language_info": {
   "codemirror_mode": {
    "name": "ipython",
    "version": 3
   },
   "file_extension": ".py",
   "mimetype": "text/x-python",
   "name": "python",
   "nbconvert_exporter": "python",
   "pygments_lexer": "ipython3",
   "version": "3.8.10"
  }
 },
 "nbformat": 4,
 "nbformat_minor": 5
}
