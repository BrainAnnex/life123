{
 "cells": [
  {
   "cell_type": "markdown",
   "id": "be12cf16-dfa2-4a42-8e4e-a5bfafb12389",
   "metadata": {},
   "source": [
    "**THE DANGER OF EXCESSIVELY LARGE SINGLE TIME STEPS IN DIFFUSION**\n",
    "\n",
    "(We're assuming bins of size 1 ; TODO: adjust for any size)\n",
    "\n",
    "->  When the time step is (0.5 / diffusion rate),\n",
    "    a 2-bin system equilibrates in a single step,\n",
    "    and some 3-bin systems can over-shoot equilibrium!\n",
    "\n",
    "->  When the time step is (0.33333 / diffusion rate),\n",
    "    some 3-bin systems equilibrate in a single step\n",
    "\n",
    "So, (0.33333 / diffusion rate) is a - rather lax - upper bound for\n",
    "sensible single time steps!\n",
    "\n",
    "That value of 0.33333 is saved in the Class variable \"time_step_threshold\"\n",
    "\n",
    "*NO log file.*\n",
    "\n",
    "LAST REVISED: Aug. 28, 2022"
   ]
  },
  {
   "cell_type": "code",
   "execution_count": 1,
   "id": "c862a801-ae6c-49fa-9d80-b62863b0719b",
   "metadata": {},
   "outputs": [
    {
     "name": "stdout",
     "output_type": "stream",
     "text": [
      "Added 'D:\\Docs\\- MY CODE\\BioSimulations\\life123-Win7' to sys.path\n"
     ]
    }
   ],
   "source": [
    "import set_path\n",
    "set_path.add_ancestor_dir_to_syspath(3)  # The number of levels to go up \n",
    "                                         # to reach the project's home from the folder containing this notebook"
   ]
  },
  {
   "cell_type": "code",
   "execution_count": 2,
   "id": "b101f8c2-2252-4a66-9097-09ed7fe2ac4f",
   "metadata": {},
   "outputs": [],
   "source": [
    "from modules.chemicals.chemicals import Chemicals as chem\n",
    "from life_1D.bio_sim_1d import BioSim1D"
   ]
  },
  {
   "cell_type": "code",
   "execution_count": 3,
   "id": "535f1062-8252-480f-8117-6de2bf87906d",
   "metadata": {},
   "outputs": [
    {
     "name": "stdout",
     "output_type": "stream",
     "text": [
      "2 bins and 1 species:\n",
      "  Species 0. Diff rate: 10.0. Conc:  [100.   0.]\n"
     ]
    }
   ],
   "source": [
    "###########################\n",
    "# Simulate a 2-bin system\n",
    "###########################\n",
    "chem_data = chem(diffusion_rates=[10.])\n",
    "bio = BioSim1D(n_bins=2, chem_data=chem_data)\n",
    "bio.inject_conc_to_bin(bin_address=0, delta_conc=100., species_index=0)\n",
    "bio.describe_state()"
   ]
  },
  {
   "cell_type": "code",
   "execution_count": 4,
   "id": "c29b3617-7913-4cf2-be84-7e8def8e4476",
   "metadata": {},
   "outputs": [
    {
     "name": "stdout",
     "output_type": "stream",
     "text": [
      "[[50. 50.]]\n"
     ]
    }
   ],
   "source": [
    "bio.time_step_threshold = 0.51  # To bypass limits that are typically in place\n",
    "\n",
    "# When the time step is (0.5 / diffusion rate),\n",
    "# a 2-bin system equilibrates in a single step!\n",
    "bio.diffuse(time_step=0.05, n_steps=1)\n",
    "print(bio.system) "
   ]
  },
  {
   "cell_type": "markdown",
   "id": "4d9d808c-a64e-4e75-a173-e2f46918712b",
   "metadata": {},
   "source": [
    "_Note: [[50. 50.]]  : **the two bins have equilibrated!**_"
   ]
  },
  {
   "cell_type": "code",
   "execution_count": 5,
   "id": "5c1bd9a7-9323-4b8a-9130-40dba22dc2ac",
   "metadata": {},
   "outputs": [
    {
     "name": "stdout",
     "output_type": "stream",
     "text": [
      "3 bins and 1 species:\n",
      "  Species 0. Diff rate: 10.0. Conc:  [  0. 100.   0.]\n"
     ]
    }
   ],
   "source": [
    "######################################\n",
    "# Simulate a 3-bin system\n",
    "# with an excessive single time step\n",
    "######################################\n",
    "bio = BioSim1D(n_bins=3, chem_data=chem_data)\n",
    "bio.inject_conc_to_bin(bin_address=1, delta_conc=100., species_index=0)\n",
    "bio.describe_state()\n",
    "#3 bins and 1 species:   [[  0. 100.   0.]]"
   ]
  },
  {
   "cell_type": "code",
   "execution_count": 6,
   "id": "95397550-9261-494d-8c17-b410a2474b61",
   "metadata": {},
   "outputs": [
    {
     "name": "stdout",
     "output_type": "stream",
     "text": [
      "[[50.  0. 50.]]\n"
     ]
    }
   ],
   "source": [
    "bio.time_step_threshold = 0.51      # To bypass a limit that is typically in place\n",
    "\n",
    "# When the time step is (0.5 / diffusion rate),\n",
    "# a 3-bin system can overshoot equilibrium!\n",
    "bio.diffuse(time_step=0.05, n_steps=1)\n",
    "print(bio.system)"
   ]
  },
  {
   "cell_type": "markdown",
   "id": "718a6239-aa63-4574-9ef2-2b06a934844c",
   "metadata": {},
   "source": [
    "_Note: [[50.  0. 50.]] : the diffusion has **over-shot equilibrium!!!**_"
   ]
  },
  {
   "cell_type": "code",
   "execution_count": 7,
   "id": "3ebadd9c-3604-43d0-abe8-f33fdc9b552f",
   "metadata": {},
   "outputs": [
    {
     "name": "stdout",
     "output_type": "stream",
     "text": [
      "3 bins and 1 species:\n",
      "  Species 0. Diff rate: 10.0. Conc:  [  0. 100.   0.]\n"
     ]
    }
   ],
   "source": [
    "#############################################\n",
    "# Re-Simulate the 3-bin system,\n",
    "# with a somewhat smaller single time step\n",
    "#############################################\n",
    "bio = BioSim1D(n_bins=3, chem_data=chem_data)\n",
    "bio.inject_conc_to_bin(bin_address=1, delta_conc=100., species_index=0)\n",
    "bio.describe_state()"
   ]
  },
  {
   "cell_type": "code",
   "execution_count": 8,
   "id": "0fd086b3-8b8f-48cf-958f-50799c130bd3",
   "metadata": {},
   "outputs": [
    {
     "name": "stdout",
     "output_type": "stream",
     "text": [
      "[[33.333 33.334 33.333]]\n"
     ]
    }
   ],
   "source": [
    "bio.time_step_threshold = 0.34      # To bypass a limit that is typically in place\n",
    "\n",
    "# When the time step is (0.33333 / diffusion rate),\n",
    "# a 3-bin system, configured as above, equilibrates in a single step!\n",
    "bio.diffuse(time_step=0.033333, n_steps=1)\n",
    "print(bio.system)  "
   ]
  },
  {
   "cell_type": "markdown",
   "id": "df3c48e7-7492-499c-a4ac-d3a2f1e9dcaa",
   "metadata": {},
   "source": [
    "_Note: the three bins have **equilibrated**!_"
   ]
  }
 ],
 "metadata": {
  "kernelspec": {
   "display_name": "Python 3 (ipykernel)",
   "language": "python",
   "name": "python3"
  },
  "language_info": {
   "codemirror_mode": {
    "name": "ipython",
    "version": 3
   },
   "file_extension": ".py",
   "mimetype": "text/x-python",
   "name": "python",
   "nbconvert_exporter": "python",
   "pygments_lexer": "ipython3",
   "version": "3.8.10"
  }
 },
 "nbformat": 4,
 "nbformat_minor": 5
}
