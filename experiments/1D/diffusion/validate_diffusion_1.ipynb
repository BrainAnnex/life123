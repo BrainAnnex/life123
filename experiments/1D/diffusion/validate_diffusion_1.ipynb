{
 "cells": [
  {
   "cell_type": "markdown",
   "id": "f102f8dc",
   "metadata": {},
   "source": [
    "## Carry out a few single indivual steps of diffusion, \n",
    "### and directly verify that the values satisfy the diffusion equation\n",
    "\n",
    "In this \"PART 1\", we'll be looking at a tiny system with just 10 bins, to easily inspect the numbers directly.\n",
    "We'll use concentrations initialized to an upward-shifted sine wave with 1 cycle over the length system\n",
    "\n",
    "LAST REVISED: Oct. 5, 2022"
   ]
  },
  {
   "cell_type": "code",
   "execution_count": null,
   "id": "b4a4936a",
   "metadata": {},
   "outputs": [],
   "source": [
    "# Extend the sys.path variable, to contain the project's root directory\n",
    "import set_path\n",
    "set_path.add_ancestor_dir_to_syspath(3)  # The number of levels to go up \n",
    "                                         # to reach the project's home, from the folder containing this notebook"
   ]
  },
  {
   "cell_type": "code",
   "execution_count": null,
   "id": "a945cbfa",
   "metadata": {},
   "outputs": [],
   "source": [
    "from experiments.get_notebook_info import get_notebook_basename\n",
    "\n",
    "from life_1D.bio_sim_1d import BioSim1D\n",
    "from modules.chemicals.chemicals import Chemicals as chem\n",
    "from modules.movies.movies import MovieArray\n",
    "from modules.numerical.numerical import Numerical as num\n",
    "\n",
    "import numpy as np\n",
    "\n",
    "import plotly.express as px\n",
    "import plotly.graph_objects as go"
   ]
  },
  {
   "cell_type": "code",
   "execution_count": null,
   "id": "6207338f",
   "metadata": {},
   "outputs": [],
   "source": [
    "# We'll be considering just 1 chemical species, \"A\"\n",
    "diffusion_rate = 10.\n",
    "\n",
    "chem_data = chem(diffusion_rates=[diffusion_rate], names=[\"A\"])"
   ]
  },
  {
   "cell_type": "code",
   "execution_count": null,
   "id": "087caa8d",
   "metadata": {},
   "outputs": [],
   "source": [
    "# Initialize the system with just a few bins\n",
    "bio = BioSim1D(n_bins=10, chem_data=chem_data)"
   ]
  },
  {
   "cell_type": "code",
   "execution_count": null,
   "id": "3f40acb3",
   "metadata": {},
   "outputs": [],
   "source": [
    "# Initialize the concentrations to a sine wave with 1 cycle over the system\n",
    "# (with a bias to always keep it > 0)\n",
    "bio.inject_sine_conc(species_name=\"A\", frequency=1, amplitude=10, bias=50)"
   ]
  },
  {
   "cell_type": "code",
   "execution_count": null,
   "id": "919ddc99",
   "metadata": {},
   "outputs": [],
   "source": [
    "bio.show_system_snapshot()"
   ]
  },
  {
   "cell_type": "code",
   "execution_count": null,
   "id": "43e30fba",
   "metadata": {},
   "outputs": [],
   "source": [
    "fig = px.line(data_frame=bio.system_snapshot(), y=[\"A\"], \n",
    "              title= \"Initial System State (for the tiny system)\",\n",
    "              color_discrete_sequence = ['red'],\n",
    "              labels={\"value\":\"concentration\", \"variable\":\"Chemical\", \"index\":\"Bin number\"})\n",
    "fig.show()"
   ]
  },
  {
   "cell_type": "code",
   "execution_count": null,
   "id": "cc542145",
   "metadata": {},
   "outputs": [],
   "source": [
    "# Show as heatmap\n",
    "fig = px.imshow(bio.system_snapshot().T, \n",
    "                title= \"Initial System State (for the tiny system)\", \n",
    "                labels=dict(x=\"Bin number\", y=\"Chem. species\", color=\"Concentration\"),\n",
    "                text_auto=False, color_continuous_scale=\"gray_r\") \n",
    "\n",
    "fig.data[0].xgap=1\n",
    "fig.data[0].ygap=1\n",
    "\n",
    "fig.show()"
   ]
  },
  {
   "cell_type": "markdown",
   "id": "259c41dd",
   "metadata": {},
   "source": [
    "### Now do 4 rounds of single-step diffusion, to collect the system state at a total of 5 time points: \n",
    "#### t0 (the initial state), plus t1, t2, t3 and t4"
   ]
  },
  {
   "cell_type": "code",
   "execution_count": null,
   "id": "5051007a",
   "metadata": {},
   "outputs": [],
   "source": [
    "# All the system states will get collected in this object\n",
    "history = MovieArray()"
   ]
  },
  {
   "cell_type": "code",
   "execution_count": null,
   "id": "8ec78ba5",
   "metadata": {},
   "outputs": [],
   "source": [
    "# Store the initial state\n",
    "arr = bio.lookup_species(species_index=0, copy=True)\n",
    "history.store(pars=bio.system_time, data_snapshot=arr, caption=f\"State at time {bio.system_time}\")"
   ]
  },
  {
   "cell_type": "code",
   "execution_count": null,
   "id": "7ed98602",
   "metadata": {},
   "outputs": [],
   "source": [
    "# Take a look at what got stored so far (a matrix whose only row is the initial state)\n",
    "history.get_array()"
   ]
  },
  {
   "cell_type": "code",
   "execution_count": null,
   "id": "5b702362",
   "metadata": {},
   "outputs": [],
   "source": [
    "# Additional parameters of the simulation run (the diffusion rate got set earlier)\n",
    "delta_t = 0.01\n",
    "delta_x = 2       # Note that the number of bins also define the fraction of the sine wave cycle in each bin\n",
    "algorithm = None  # \"Explicit, with 3+1 stencil\""
   ]
  },
  {
   "cell_type": "code",
   "execution_count": null,
   "id": "b02af31b",
   "metadata": {},
   "outputs": [],
   "source": [
    "# Do the 4 rounds of single-step diffusion; show the system state after each step, and accumulate all data\n",
    "# in the history object\n",
    "for _ in range(4):\n",
    "    bio.diffuse(time_step=delta_t, n_steps=1, delta_x=delta_x , algorithm=algorithm)\n",
    "    bio.describe_state(concise=True)\n",
    "\n",
    "    arr = bio.lookup_species(species_index=0, copy=True)\n",
    "    history.store(pars=bio.system_time, data_snapshot=arr, caption=f\"State at time {bio.system_time}\")"
   ]
  },
  {
   "cell_type": "code",
   "execution_count": null,
   "id": "8a14efb3",
   "metadata": {},
   "outputs": [],
   "source": [
    "# Now, let's examine the data collected at the 5 time points\n",
    "all_history = history.get_array()\n",
    "all_history"
   ]
  },
  {
   "cell_type": "markdown",
   "id": "cc72bb99",
   "metadata": {},
   "source": [
    "#### Each row in the above matrix is a state snapshot at a different time:\n",
    "first row is the initial state at time 0; the successive rows are at t1, t2, t3, t4"
   ]
  },
  {
   "cell_type": "code",
   "execution_count": null,
   "id": "8e767eb3",
   "metadata": {},
   "outputs": [],
   "source": [
    "# Let's consider the state, i.e. the concentration across the bins, at the midpoint in time (t2)\n",
    "f_at_t2 = all_history[2]\n",
    "f_at_t2"
   ]
  },
  {
   "cell_type": "markdown",
   "id": "06ceebe4",
   "metadata": {},
   "source": [
    "If one compares the above state (at t2) with the initial state (the top row in the matrix), \n",
    "one can see, for example, that the leftmost bin's concentration is increasing (\"pulled up\" by its neighbor to the right):\n",
    "50. has now become 50.28881576\n",
    "\n",
    "The rightmost bin's concentration is decreasing (\"pulled down\" by its neighbor to the left):\n",
    "44.12214748 has now become 43.94505274"
   ]
  },
  {
   "cell_type": "markdown",
   "id": "3a88a1ca",
   "metadata": {},
   "source": [
    "## The diffusion equation states that the partial derivative of the concentration values with respect to time  must equal the (diffusion rate) times (the 2nd partial derivative  with respect to space).\n",
    "Let's see if that is the case for the values at time t2!  We are picking t2 because we need at least a value at the earlier time, and a value at the later time"
   ]
  },
  {
   "cell_type": "markdown",
   "id": "09a0d7f8",
   "metadata": {},
   "source": [
    "## A. The 2nd partial derivative  with respect to space"
   ]
  },
  {
   "cell_type": "code",
   "execution_count": null,
   "id": "1d06fc6a",
   "metadata": {},
   "outputs": [],
   "source": [
    "# A simple-minded way of computing the 2nd spacial derivative is to use the Numpy gradient function TWICE across the x value\n",
    "# (that function approximates the derivative using differences)\n",
    "gradient_x_at_t2 = np.gradient(f_at_t2, delta_x)   # Start with taking the first derivative\n",
    "gradient_x_at_t2    # This will be the partial derivative of the concentration with respect to x, at time t2"
   ]
  },
  {
   "cell_type": "markdown",
   "id": "b7ebf78e",
   "metadata": {},
   "source": [
    "For example, the 2nd entry in the above array of estimated derivatives, can be manually checked from the 1st and 3rd value in the function f_at_t2(x), as follows:"
   ]
  },
  {
   "cell_type": "code",
   "execution_count": null,
   "id": "cde2fff9",
   "metadata": {},
   "outputs": [],
   "source": [
    "(59.32979676 - 50.28881576) / (2*delta_x)    # This way of numerically estimating derivatives is called \"Central Differences\""
   ]
  },
  {
   "cell_type": "markdown",
   "id": "5b79c68f",
   "metadata": {},
   "source": [
    "#### Now take the derivative again, with the Numpy gradient function, to arrive at a coarse estimate of the 2nd derivative with respect to x:"
   ]
  },
  {
   "cell_type": "code",
   "execution_count": null,
   "id": "980650d1",
   "metadata": {},
   "outputs": [],
   "source": [
    "second_gradient_x_at_t2 = np.gradient(gradient_x_at_t2, delta_x)\n",
    "second_gradient_x_at_t2"
   ]
  },
  {
   "cell_type": "markdown",
   "id": "be13f82c",
   "metadata": {},
   "source": [
    "Note how the 2nd derivative is 0 at bin 5 (bins are numbered 0 thru 9): if you look at the earlier sine plot, x5 is the inflection point."
   ]
  },
  {
   "cell_type": "markdown",
   "id": "58d3cd8e",
   "metadata": {},
   "source": [
    "### B. The partial derivative with respect to time\n",
    "Now, let's look at how concentrations change with time.  Let's first revisit the full history:"
   ]
  },
  {
   "cell_type": "code",
   "execution_count": null,
   "id": "86a5c102",
   "metadata": {},
   "outputs": [],
   "source": [
    "all_history"
   ]
  },
  {
   "cell_type": "markdown",
   "id": "cace8215",
   "metadata": {},
   "source": [
    "#### For simplicity, let's start by just inspecting how the values change over time at the *3rd bin* from the left, \n",
    "i.e. the 3rd *column* (index 2 because counting starts at 0) of the above matrix:"
   ]
  },
  {
   "cell_type": "code",
   "execution_count": null,
   "id": "f1dc7ce4",
   "metadata": {},
   "outputs": [],
   "source": [
    "f_of_t_at_x2 = all_history[ : , 2]  # The column with index 2\n",
    "f_of_t_at_x2"
   ]
  },
  {
   "cell_type": "markdown",
   "id": "2f372d89",
   "metadata": {},
   "source": [
    "### The above a function of time \n",
    "(we took an entry from each row - the rows being the system states at t0, t1, t2, t3, t4); let's look at its time derivative:"
   ]
  },
  {
   "cell_type": "code",
   "execution_count": null,
   "id": "21654172",
   "metadata": {},
   "outputs": [],
   "source": [
    "gradient_t_at_x2 = np.gradient(f_of_t_at_x2, delta_t)\n",
    "gradient_t_at_x2"
   ]
  },
  {
   "cell_type": "markdown",
   "id": "8fe73fb8",
   "metadata": {},
   "source": [
    "### The above is the rate of change of the concentration, as the diffusion proceeds, at the position x2\n",
    "At time t2, the midpoint in the simulation, the value is:"
   ]
  },
  {
   "cell_type": "code",
   "execution_count": null,
   "id": "270aaafa",
   "metadata": {},
   "outputs": [],
   "source": [
    "gradient_t_at_x2[2]"
   ]
  },
  {
   "cell_type": "markdown",
   "id": "3cf59301",
   "metadata": {},
   "source": [
    "### C. All said and done, we have collected the time derivative and the 2nd spacial derivative, at the point (x2, t2).\n",
    "Do those values satisfy the diffusion equation??  Does the time derivative indeed equal the (diffusion rate) x (the \n",
    "2nd spacial derivative)?  Let's see:"
   ]
  },
  {
   "cell_type": "code",
   "execution_count": null,
   "id": "9b64a095",
   "metadata": {},
   "outputs": [],
   "source": [
    "gradient_t_at_x2[2]"
   ]
  },
  {
   "cell_type": "code",
   "execution_count": null,
   "id": "e19fc288",
   "metadata": {},
   "outputs": [],
   "source": [
    "diffusion_rate * second_gradient_x_at_t2[2]"
   ]
  },
  {
   "cell_type": "markdown",
   "id": "24121c37",
   "metadata": {},
   "source": [
    "## D. The 2 value indeed roughly match - considering the coarseness of the large spacial grid, and the coarseness of estimating the derivatives numerically. \n",
    "We have evidence that the diffusion equation may indeed be satisfied by the values we obtained from our diffusion algorithm, in the proximity of the point (x2, t2)"
   ]
  },
  {
   "cell_type": "markdown",
   "id": "86a00a96",
   "metadata": {},
   "source": [
    "### E. Finally, instead of just scrutining the match at the point x2, let's do that for all the points in space at time t2,\n",
    "WITH THE EXCEPTION of the outmost points (because the numeric estimation of the derivatives gets very crummy at the boundary).\n",
    " \n",
    "Let's first re-visit all the data once again:"
   ]
  },
  {
   "cell_type": "code",
   "execution_count": null,
   "id": "28225e05",
   "metadata": {},
   "outputs": [],
   "source": [
    "all_history"
   ]
  },
  {
   "cell_type": "code",
   "execution_count": null,
   "id": "380f8bf6",
   "metadata": {},
   "outputs": [],
   "source": [
    "# The following is just an expanded version of what we did before for the time derivative; \n",
    "# instead of just considering 1 column,\n",
    "# like we did before, we're now repeating the computations along all columns\n",
    "# (the computations are applied vertically, \"along axis 0\" in Numpy-speak)\n",
    "gradient_t = np.apply_along_axis(np.gradient, 0, all_history, delta_t)\n",
    "gradient_t"
   ]
  },
  {
   "cell_type": "code",
   "execution_count": null,
   "id": "3278805e",
   "metadata": {},
   "outputs": [],
   "source": [
    "# Again, we focus on time t2 (the 3rd row), to stay away from the edges\n",
    "gradient_t_at_t2 = gradient_t[2]\n",
    "gradient_t_at_t2"
   ]
  },
  {
   "cell_type": "markdown",
   "id": "d03cb73c",
   "metadata": {},
   "source": [
    "Note the value -8.94751865, 3rd from left : that's the single value we looked at before (at point x2)"
   ]
  },
  {
   "cell_type": "markdown",
   "id": "9bba1933",
   "metadata": {},
   "source": [
    "#### Time to again check the match of the two sides of the diffusion equation"
   ]
  },
  {
   "cell_type": "code",
   "execution_count": null,
   "id": "d1bde2cd",
   "metadata": {},
   "outputs": [],
   "source": [
    "lhs = gradient_t_at_t2   # The LEFT-hand side of the diffusion equation, as a vector for all the spacial points at time t2\n",
    "lhs"
   ]
  },
  {
   "cell_type": "code",
   "execution_count": null,
   "id": "1daa4abd",
   "metadata": {},
   "outputs": [],
   "source": [
    "rhs = diffusion_rate * second_gradient_x_at_t2  # The RIGHT-hand side of the diffusion equation, again as a vector\n",
    "rhs"
   ]
  },
  {
   "cell_type": "markdown",
   "id": "b0df453b",
   "metadata": {},
   "source": [
    "## The left-hand side and the right-hand side of the diffusion equation appear to generally agree, except at the boundary points, where our approximations are just too crummy"
   ]
  },
  {
   "cell_type": "code",
   "execution_count": null,
   "id": "aa858793",
   "metadata": {},
   "outputs": [],
   "source": [
    "lhs - rhs"
   ]
  },
  {
   "cell_type": "code",
   "execution_count": null,
   "id": "0649f714",
   "metadata": {},
   "outputs": [],
   "source": [
    "# Here we use a handy function to compare two equal-sized vectors,\n",
    "# while opting to disregarding a specified number of entries at each edge.\n",
    "# It returns the Euclidean distance (\"L2 norm\") of the shortened vectors\n",
    "num.compare_vectors(lhs, rhs, trim_edges=1)"
   ]
  },
  {
   "cell_type": "markdown",
   "id": "3878d34e",
   "metadata": {},
   "source": [
    "#### IMPORTANT: all values in this experiment are VERY coarse, because of the large effective delta_x (the tiny number of bins.)\n",
    "In part2 (notebook \"validate_diffusion_2\"), much-better approximations will get looked at!"
   ]
  },
  {
   "cell_type": "code",
   "execution_count": null,
   "id": "3926f0e9",
   "metadata": {},
   "outputs": [],
   "source": []
  }
 ],
 "metadata": {
  "kernelspec": {
   "display_name": "Python 3 (ipykernel)",
   "language": "python",
   "name": "python3"
  },
  "language_info": {
   "codemirror_mode": {
    "name": "ipython",
    "version": 3
   },
   "file_extension": ".py",
   "mimetype": "text/x-python",
   "name": "python",
   "nbconvert_exporter": "python",
   "pygments_lexer": "ipython3",
   "version": "3.8.10"
  }
 },
 "nbformat": 4,
 "nbformat_minor": 5
}
