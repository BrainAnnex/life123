{
 "cells": [
  {
   "cell_type": "markdown",
   "id": "4911f3e0",
   "metadata": {},
   "source": [
    "# IN-PROGRESS\n",
    "## A cycle of reactions `A <-> B <-> C <-> A`\n",
    "#### the \"closing\" of the above cycle (the \"return\" parth from `C` to `A`) is coupled with an \"energy donor\" reaction:\n",
    "#### `C + E_High <-> A + E_Low`\n",
    "#### where `E_High` and `E_Low` are, respectively, the high- and low- energy molecules that drive the cycle (for example, think of ATP/ADP) \n",
    "### AND `E_High` is periodically replenished\n",
    "\n",
    "All 1st-order kinetics.    \n",
    "\n",
    "LAST REVISED: Feb. 1, 2023"
   ]
  },
  {
   "cell_type": "code",
   "execution_count": null,
   "id": "bc567878",
   "metadata": {},
   "outputs": [],
   "source": [
    "# Extend the sys.path variable, to contain the project's root directory\n",
    "import set_path\n",
    "set_path.add_ancestor_dir_to_syspath(2)  # The number of levels to go up \n",
    "                                         # to reach the project's home, from the folder containing this notebook"
   ]
  },
  {
   "cell_type": "code",
   "execution_count": null,
   "id": "71c7303f",
   "metadata": {
    "tags": []
   },
   "outputs": [],
   "source": [
    "from experiments.get_notebook_info import get_notebook_basename\n",
    "\n",
    "from src.modules.reactions.reaction_data import ReactionData as chem\n",
    "from src.modules.reactions.reaction_dynamics import ReactionDynamics\n",
    "from src.modules.numerical.numerical import Numerical as num\n",
    "\n",
    "import numpy as np\n",
    "import plotly.express as px\n",
    "from src.modules.visualization.graphic_log import GraphicLog"
   ]
  },
  {
   "cell_type": "code",
   "execution_count": null,
   "id": "1b8e394a",
   "metadata": {
    "tags": []
   },
   "outputs": [],
   "source": [
    "# Initialize the HTML logging\n",
    "log_file = get_notebook_basename() + \".log.htm\"    # Use the notebook base filename for the log file\n",
    "\n",
    "# Set up the use of some specified graphic (Vue) components\n",
    "GraphicLog.config(filename=log_file,\n",
    "                  components=[\"vue_cytoscape_1\"],\n",
    "                  extra_js=\"https://cdnjs.cloudflare.com/ajax/libs/cytoscape/3.21.2/cytoscape.umd.js\")"
   ]
  },
  {
   "cell_type": "markdown",
   "id": "06a1865e",
   "metadata": {},
   "source": [
    "### Initialize the system"
   ]
  },
  {
   "cell_type": "code",
   "execution_count": null,
   "id": "a51ff702",
   "metadata": {},
   "outputs": [],
   "source": [
    "# Initialize the system\n",
    "chem_data = chem(names=[\"A\", \"B\", \"C\", \"E_high\", \"E_low\"])\n",
    "\n",
    "# Reaction A <-> B, mostly in forward direction (favored energetically)\n",
    "# Note: all reactions in this experiment have 1st-order kinetics for all species\n",
    "chem_data.add_reaction(reactants=\"A\", products=\"B\",\n",
    "                       forward_rate=9., reverse_rate=3.)\n",
    "\n",
    "# Reaction B <-> C, also favored energetically\n",
    "chem_data.add_reaction(reactants=\"B\", products=\"C\",\n",
    "                       forward_rate=8., reverse_rate=4.)\n",
    "\n",
    "# Reaction C + E_High <-> A + E_Low, also favored energetically, but kinetically slow\n",
    "# Note that, thanks to the energy donation from E, we can go \"upstream\" from C, to the higher-energy level of \"A\"\n",
    "chem_data.add_reaction(reactants=[\"C\" , \"E_high\"], products=[\"A\", \"E_low\"],\n",
    "                       forward_rate=1., reverse_rate=0.2)\n",
    "\n",
    "chem_data.describe_reactions()\n",
    "\n",
    "# Send the plot of the reaction network to the HTML log file\n",
    "graph_data = chem_data.prepare_graph_network()\n",
    "GraphicLog.export_plot(graph_data, \"vue_cytoscape_1\")"
   ]
  },
  {
   "cell_type": "markdown",
   "id": "04ffe609",
   "metadata": {},
   "source": [
    "### Set the initial concentrations of all the chemicals"
   ]
  },
  {
   "cell_type": "code",
   "execution_count": null,
   "id": "deba872f",
   "metadata": {},
   "outputs": [],
   "source": [
    "initial_conc = {\"A\": 100., \"B\": 0., \"C\": 0., \"E_high\": 1000., \"E_low\": 0.}  # Note the abundant energy source \"E_high\"\n",
    "initial_conc"
   ]
  },
  {
   "cell_type": "code",
   "execution_count": null,
   "id": "3c514229",
   "metadata": {},
   "outputs": [],
   "source": [
    "dynamics = ReactionDynamics(reaction_data=chem_data)\n",
    "dynamics.set_conc(conc=initial_conc, snapshot=True)\n",
    "dynamics.describe_state()"
   ]
  },
  {
   "cell_type": "code",
   "execution_count": null,
   "id": "e5050b31",
   "metadata": {},
   "outputs": [],
   "source": [
    "dynamics.set_diagnostics()       # To save diagnostic information about the call to single_compartment_react()"
   ]
  },
  {
   "cell_type": "code",
   "execution_count": null,
   "id": "455dd1ad",
   "metadata": {},
   "outputs": [],
   "source": [
    "dynamics.single_compartment_react(time_step=0.0016, reaction_duration=0.025,\n",
    "                                 dynamic_steps=2, fast_threshold=150.)\n",
    "#dynamics.get_history()"
   ]
  },
  {
   "cell_type": "code",
   "execution_count": null,
   "id": "dcc8c512",
   "metadata": {},
   "outputs": [],
   "source": [
    "dynamics.describe_state()"
   ]
  },
  {
   "cell_type": "code",
   "execution_count": null,
   "id": "15c55c04",
   "metadata": {},
   "outputs": [],
   "source": [
    "dynamics.explain_time_advance()"
   ]
  },
  {
   "cell_type": "code",
   "execution_count": null,
   "id": "40a19107",
   "metadata": {},
   "outputs": [],
   "source": [
    "dynamics.set_chem_conc(conc=1000., species_name=\"E_high\", snapshot=True)"
   ]
  },
  {
   "cell_type": "code",
   "execution_count": null,
   "id": "6f06eadd",
   "metadata": {},
   "outputs": [],
   "source": [
    "for i in range(19):\n",
    "    dynamics.single_compartment_react(time_step=0.0016, reaction_duration=0.025,\n",
    "                                 dynamic_steps=2, fast_threshold=150., silent=True)\n",
    "    dynamics.set_chem_conc(conc=1000., species_name=\"E_high\", snapshot=True)"
   ]
  },
  {
   "cell_type": "code",
   "execution_count": null,
   "id": "2f91bf09",
   "metadata": {},
   "outputs": [],
   "source": [
    "dynamics.system_time"
   ]
  },
  {
   "cell_type": "code",
   "execution_count": null,
   "id": "6113288c",
   "metadata": {},
   "outputs": [],
   "source": [
    "for i in range(30):\n",
    "    dynamics.single_compartment_react(time_step=0.0016, reaction_duration=0.025,\n",
    "                                 dynamic_steps=2, fast_threshold=150., silent=True)\n",
    "    dynamics.set_chem_conc(conc=1000., species_name=\"E_high\", snapshot=True)"
   ]
  },
  {
   "cell_type": "code",
   "execution_count": null,
   "id": "502b1697",
   "metadata": {},
   "outputs": [],
   "source": [
    "dynamics.system_time"
   ]
  },
  {
   "cell_type": "code",
   "execution_count": null,
   "id": "55f59c57",
   "metadata": {},
   "outputs": [],
   "source": [
    "for i in range(1500):\n",
    "    dynamics.single_compartment_react(time_step=0.0005, reaction_duration=0.025,\n",
    "                                 dynamic_steps=2, fast_threshold=80., silent=True)\n",
    "    dynamics.set_chem_conc(conc=1000., species_name=\"E_high\", snapshot=True)\n",
    "    if i % 50 == 0:\n",
    "        print(f\"Processed {i} rounds so far...\")"
   ]
  },
  {
   "cell_type": "code",
   "execution_count": null,
   "id": "72fb35c6",
   "metadata": {},
   "outputs": [],
   "source": [
    "dynamics.plot_curves(chemicals=[\"E_high\", \"E_low\"], colors=[\"red\", \"grey\"])"
   ]
  },
  {
   "cell_type": "code",
   "execution_count": null,
   "id": "432507bd",
   "metadata": {},
   "outputs": [],
   "source": [
    "dynamics.plot_curves(chemicals=[\"A\", \"B\", \"C\"])"
   ]
  },
  {
   "cell_type": "code",
   "execution_count": null,
   "id": "1828e9a0",
   "metadata": {},
   "outputs": [],
   "source": [
    "dynamics.is_in_equilibrium()"
   ]
  },
  {
   "cell_type": "code",
   "execution_count": null,
   "id": "658e26c0",
   "metadata": {},
   "outputs": [],
   "source": [
    "len(dynamics.get_history())"
   ]
  },
  {
   "cell_type": "code",
   "execution_count": null,
   "id": "f4845efa",
   "metadata": {},
   "outputs": [],
   "source": []
  }
 ],
 "metadata": {
  "jupytext": {
   "formats": "ipynb,py:percent"
  },
  "kernelspec": {
   "display_name": "Python 3 (ipykernel)",
   "language": "python",
   "name": "python3"
  },
  "language_info": {
   "codemirror_mode": {
    "name": "ipython",
    "version": 3
   },
   "file_extension": ".py",
   "mimetype": "text/x-python",
   "name": "python",
   "nbconvert_exporter": "python",
   "pygments_lexer": "ipython3",
   "version": "3.8.10"
  }
 },
 "nbformat": 4,
 "nbformat_minor": 5
}
