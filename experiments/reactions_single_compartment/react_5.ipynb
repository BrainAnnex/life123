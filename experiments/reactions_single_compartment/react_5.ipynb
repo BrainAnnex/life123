{
 "cells": [
  {
   "cell_type": "markdown",
   "id": "3bbe8002-bdf3-490c-bde0-80dd3713a3d0",
   "metadata": {},
   "source": [
    "## 2 COUPLED reactions of different speeds:  \n",
    "### A <-> B (fast) and B <-> C (slow)\n",
    "All 1st order. Taken to equilibrium.   \n",
    "The concentration of the intermediate product B manifests 1 oscillation (\"overshoot\")\n",
    "\n",
    "LAST REVISED: Jan. 4, 2023"
   ]
  },
  {
   "cell_type": "code",
   "execution_count": 1,
   "id": "13e55c1d-609f-4bf0-a004-6c45bcfcbc99",
   "metadata": {},
   "outputs": [
    {
     "name": "stdout",
     "output_type": "stream",
     "text": [
      "Added 'D:\\Docs\\- MY CODE\\BioSimulations\\life123-Win7' to sys.path\n"
     ]
    }
   ],
   "source": [
    "# Extend the sys.path variable, to contain the project's root directory\n",
    "import set_path\n",
    "set_path.add_ancestor_dir_to_syspath(2)  # The number of levels to go up \n",
    "                                         # to reach the project's home, from the folder containing this notebook"
   ]
  },
  {
   "cell_type": "code",
   "execution_count": 2,
   "id": "bdad128a-9214-46f5-aeb9-a7b77c81aa3e",
   "metadata": {
    "tags": []
   },
   "outputs": [],
   "source": [
    "from experiments.get_notebook_info import get_notebook_basename\n",
    "\n",
    "from modules.reactions.reaction_data import ReactionData as chem\n",
    "from modules.reactions.reaction_dynamics import ReactionDynamics\n",
    "\n",
    "import numpy as np\n",
    "import plotly.express as px\n",
    "from modules.visualization.graphic_log import GraphicLog"
   ]
  },
  {
   "cell_type": "code",
   "execution_count": 3,
   "id": "83c3cc5f-de21-4f66-9988-2806fbf0666d",
   "metadata": {
    "tags": []
   },
   "outputs": [
    {
     "name": "stdout",
     "output_type": "stream",
     "text": [
      "-> Output will be LOGGED into the file 'react_5.log.htm'\n"
     ]
    }
   ],
   "source": [
    "# Initialize the HTML logging (for the graphics)\n",
    "log_file = get_notebook_basename() + \".log.htm\"    # Use the notebook base filename for the log file\n",
    "\n",
    "# Set up the use of some specified graphic (Vue) components\n",
    "GraphicLog.config(filename=log_file,\n",
    "                  components=[\"vue_cytoscape_1\"],\n",
    "                  extra_js=\"https://cdnjs.cloudflare.com/ajax/libs/cytoscape/3.21.2/cytoscape.umd.js\")"
   ]
  },
  {
   "cell_type": "markdown",
   "id": "9329208b-070f-4902-8f37-0f11ddf75ed6",
   "metadata": {},
   "source": [
    "# Initialize the System\n",
    "Specify the chemicals and the reactions"
   ]
  },
  {
   "cell_type": "code",
   "execution_count": 4,
   "id": "72b4245c-de4e-480d-a501-3495b7ed8bc4",
   "metadata": {
    "tags": []
   },
   "outputs": [
    {
     "name": "stdout",
     "output_type": "stream",
     "text": [
      "Number of reactions:  2\n"
     ]
    }
   ],
   "source": [
    "# Specify the chemicals\n",
    "chem_data = chem(names=[\"A\", \"B\", \"C\"])\n",
    "\n",
    "# Reaction A <-> B (fast)\n",
    "chem_data.add_reaction(reactants=[\"A\"], products=[\"B\"],\n",
    "                       forward_rate=32., reverse_rate=8.) \n",
    "\n",
    "# Reaction B <-> C (slow)\n",
    "chem_data.add_reaction(reactants=[\"B\"], products=[\"C\"],\n",
    "                       forward_rate=3., reverse_rate=2.) \n",
    "\n",
    "print(\"Number of reactions: \", chem_data.number_of_reactions())"
   ]
  },
  {
   "cell_type": "code",
   "execution_count": 5,
   "id": "00ea560d-9a49-4041-b119-6de11bfcc7af",
   "metadata": {},
   "outputs": [
    {
     "name": "stdout",
     "output_type": "stream",
     "text": [
      "Number of reactions: 2 (at temp. 25 C)\n",
      "0: A <-> B  (kF = 32 / kR = 8 / Delta_G = -3,436.56 / K = 4) | 1st order in all reactants & products\n",
      "1: B <-> C  (kF = 3 / kR = 2 / Delta_G = -1,005.13 / K = 1.5) | 1st order in all reactants & products\n"
     ]
    }
   ],
   "source": [
    "chem_data.describe_reactions()"
   ]
  },
  {
   "cell_type": "code",
   "execution_count": 6,
   "id": "cb582868-431c-4022-aa0e-a2f554f80d6c",
   "metadata": {},
   "outputs": [
    {
     "name": "stdout",
     "output_type": "stream",
     "text": [
      "[GRAPHIC ELEMENT SENT TO LOG FILE `react_5.log.htm`]\n"
     ]
    }
   ],
   "source": [
    "# Send a plot of the network of reactions to the HTML log file\n",
    "graph_data = chem_data.prepare_graph_network()\n",
    "GraphicLog.export_plot(graph_data, \"vue_cytoscape_1\")"
   ]
  },
  {
   "cell_type": "markdown",
   "id": "98a9fbe5-2090-4d38-9c5f-94fbf7c3eae2",
   "metadata": {},
   "source": [
    "# Start the simulation"
   ]
  },
  {
   "cell_type": "code",
   "execution_count": 7,
   "id": "c2f4a554-807b-49f9-8ca2-8d929fe6eeef",
   "metadata": {},
   "outputs": [],
   "source": [
    "dynamics = ReactionDynamics(reaction_data=chem_data)"
   ]
  },
  {
   "cell_type": "markdown",
   "id": "b0345d36-5702-4b40-9221-a765dfcb0bac",
   "metadata": {},
   "source": [
    "### Set the initial concentrations of all the chemicals, in their index order"
   ]
  },
  {
   "cell_type": "code",
   "execution_count": 8,
   "id": "ae304704-c8d9-4cef-9e0b-2587bb3909ef",
   "metadata": {},
   "outputs": [],
   "source": [
    "dynamics.set_conc([60., 0, 10.], snapshot=True)"
   ]
  },
  {
   "cell_type": "code",
   "execution_count": 9,
   "id": "a605dacf-2c67-403e-9aa9-5be25fc9f481",
   "metadata": {},
   "outputs": [
    {
     "name": "stdout",
     "output_type": "stream",
     "text": [
      "SYSTEM STATE at Time t = 0:\n",
      "3 species:\n",
      "  Species 0 (A). Conc: 60.0\n",
      "  Species 1 (B). Conc: 0.0\n",
      "  Species 2 (C). Conc: 10.0\n"
     ]
    }
   ],
   "source": [
    "dynamics.describe_state()"
   ]
  },
  {
   "cell_type": "code",
   "execution_count": 10,
   "id": "0ff2c242-a15b-456d-ad56-0ba1041c0b4c",
   "metadata": {},
   "outputs": [
    {
     "data": {
      "text/html": [
       "<div>\n",
       "<style scoped>\n",
       "    .dataframe tbody tr th:only-of-type {\n",
       "        vertical-align: middle;\n",
       "    }\n",
       "\n",
       "    .dataframe tbody tr th {\n",
       "        vertical-align: top;\n",
       "    }\n",
       "\n",
       "    .dataframe thead th {\n",
       "        text-align: right;\n",
       "    }\n",
       "</style>\n",
       "<table border=\"1\" class=\"dataframe\">\n",
       "  <thead>\n",
       "    <tr style=\"text-align: right;\">\n",
       "      <th></th>\n",
       "      <th>SYSTEM TIME</th>\n",
       "      <th>A</th>\n",
       "      <th>B</th>\n",
       "      <th>C</th>\n",
       "      <th>caption</th>\n",
       "    </tr>\n",
       "  </thead>\n",
       "  <tbody>\n",
       "    <tr>\n",
       "      <th>0</th>\n",
       "      <td>0.0</td>\n",
       "      <td>60.0</td>\n",
       "      <td>0.0</td>\n",
       "      <td>10.0</td>\n",
       "      <td>Initial state</td>\n",
       "    </tr>\n",
       "  </tbody>\n",
       "</table>\n",
       "</div>"
      ],
      "text/plain": [
       "   SYSTEM TIME     A    B     C        caption\n",
       "0          0.0  60.0  0.0  10.0  Initial state"
      ]
     },
     "execution_count": 10,
     "metadata": {},
     "output_type": "execute_result"
    }
   ],
   "source": [
    "dynamics.history.get()"
   ]
  },
  {
   "cell_type": "markdown",
   "id": "fc516ca2-e62d-4784-b826-5372ff7f4c75",
   "metadata": {
    "tags": []
   },
   "source": [
    "## Run the reaction"
   ]
  },
  {
   "cell_type": "code",
   "execution_count": 11,
   "id": "2502cd11-0df9-4303-8895-98401a1df7b8",
   "metadata": {},
   "outputs": [],
   "source": [
    "dynamics.set_diagnostics()       # To save diagnostic information about the call to single_compartment_react()\n",
    "#dynamics.verbose_list = [1, 2, 3]      # Uncomment for detailed run information (meant for debugging the adaptive variable time step)\n",
    "\n",
    "# The changes of concentrations vary very rapidly early on; so, we'll be using dynamic_step=4 , i.e. increase time resolution\n",
    "# by x4 initially, as long as the reaction remains \"fast\" (based on a threshold of 5% change)\n",
    "dynamics.single_compartment_react(time_step=0.05, reaction_duration=1.0,\n",
    "                                  snapshots={\"initial_caption\": \"1st reaction step\",\n",
    "                                             \"final_caption\": \"last reaction step\"},\n",
    "                                  dynamic_step=20)      \n",
    "                                  # Accepting the default:  fast_threshold=5"
   ]
  },
  {
   "cell_type": "markdown",
   "id": "99a9a4b2-a588-4ba5-85c9-0a5a5d1dbaad",
   "metadata": {},
   "source": [
    "### Note: the argument _dynamic_step=4_ splits the time steps in 4 whenever the reaction is \"fast\" (as determined using fast_threshold=5)"
   ]
  },
  {
   "cell_type": "code",
   "execution_count": 12,
   "id": "80fbaee3-bd6f-4197-9270-23374d46a4a7",
   "metadata": {},
   "outputs": [
    {
     "data": {
      "text/html": [
       "<div>\n",
       "<style scoped>\n",
       "    .dataframe tbody tr th:only-of-type {\n",
       "        vertical-align: middle;\n",
       "    }\n",
       "\n",
       "    .dataframe tbody tr th {\n",
       "        vertical-align: top;\n",
       "    }\n",
       "\n",
       "    .dataframe thead th {\n",
       "        text-align: right;\n",
       "    }\n",
       "</style>\n",
       "<table border=\"1\" class=\"dataframe\">\n",
       "  <thead>\n",
       "    <tr style=\"text-align: right;\">\n",
       "      <th></th>\n",
       "      <th>SYSTEM TIME</th>\n",
       "      <th>A</th>\n",
       "      <th>B</th>\n",
       "      <th>C</th>\n",
       "      <th>caption</th>\n",
       "    </tr>\n",
       "  </thead>\n",
       "  <tbody>\n",
       "    <tr>\n",
       "      <th>0</th>\n",
       "      <td>0.0000</td>\n",
       "      <td>60.000000</td>\n",
       "      <td>0.000000</td>\n",
       "      <td>10.000000</td>\n",
       "      <td>Initial state</td>\n",
       "    </tr>\n",
       "    <tr>\n",
       "      <th>1</th>\n",
       "      <td>0.0025</td>\n",
       "      <td>55.200000</td>\n",
       "      <td>4.850000</td>\n",
       "      <td>9.950000</td>\n",
       "      <td>Interm. step, due to the fast rxns: [0, 1]</td>\n",
       "    </tr>\n",
       "    <tr>\n",
       "      <th>2</th>\n",
       "      <td>0.0050</td>\n",
       "      <td>50.881000</td>\n",
       "      <td>9.182375</td>\n",
       "      <td>9.936625</td>\n",
       "      <td>Interm. step, due to the fast rxns: [0, 1]</td>\n",
       "    </tr>\n",
       "    <tr>\n",
       "      <th>3</th>\n",
       "      <td>0.0075</td>\n",
       "      <td>46.994168</td>\n",
       "      <td>13.050023</td>\n",
       "      <td>9.955810</td>\n",
       "      <td>Interm. step, due to the fast rxns: [0, 1]</td>\n",
       "    </tr>\n",
       "    <tr>\n",
       "      <th>4</th>\n",
       "      <td>0.0100</td>\n",
       "      <td>43.495635</td>\n",
       "      <td>16.500460</td>\n",
       "      <td>10.003906</td>\n",
       "      <td>Interm. step, due to the fast rxns: [0, 1]</td>\n",
       "    </tr>\n",
       "    <tr>\n",
       "      <th>...</th>\n",
       "      <td>...</td>\n",
       "      <td>...</td>\n",
       "      <td>...</td>\n",
       "      <td>...</td>\n",
       "      <td>...</td>\n",
       "    </tr>\n",
       "    <tr>\n",
       "      <th>149</th>\n",
       "      <td>0.8000</td>\n",
       "      <td>6.538521</td>\n",
       "      <td>26.059573</td>\n",
       "      <td>37.401906</td>\n",
       "      <td></td>\n",
       "    </tr>\n",
       "    <tr>\n",
       "      <th>150</th>\n",
       "      <td>0.8500</td>\n",
       "      <td>6.500717</td>\n",
       "      <td>25.928632</td>\n",
       "      <td>37.570652</td>\n",
       "      <td></td>\n",
       "    </tr>\n",
       "    <tr>\n",
       "      <th>151</th>\n",
       "      <td>0.9000</td>\n",
       "      <td>6.471022</td>\n",
       "      <td>25.826096</td>\n",
       "      <td>37.702881</td>\n",
       "      <td></td>\n",
       "    </tr>\n",
       "    <tr>\n",
       "      <th>152</th>\n",
       "      <td>0.9500</td>\n",
       "      <td>6.447825</td>\n",
       "      <td>25.745667</td>\n",
       "      <td>37.806508</td>\n",
       "      <td></td>\n",
       "    </tr>\n",
       "    <tr>\n",
       "      <th>153</th>\n",
       "      <td>1.0000</td>\n",
       "      <td>6.429572</td>\n",
       "      <td>25.682721</td>\n",
       "      <td>37.887707</td>\n",
       "      <td>last reaction step</td>\n",
       "    </tr>\n",
       "  </tbody>\n",
       "</table>\n",
       "<p>154 rows × 5 columns</p>\n",
       "</div>"
      ],
      "text/plain": [
       "     SYSTEM TIME          A          B          C  \\\n",
       "0         0.0000  60.000000   0.000000  10.000000   \n",
       "1         0.0025  55.200000   4.850000   9.950000   \n",
       "2         0.0050  50.881000   9.182375   9.936625   \n",
       "3         0.0075  46.994168  13.050023   9.955810   \n",
       "4         0.0100  43.495635  16.500460  10.003906   \n",
       "..           ...        ...        ...        ...   \n",
       "149       0.8000   6.538521  26.059573  37.401906   \n",
       "150       0.8500   6.500717  25.928632  37.570652   \n",
       "151       0.9000   6.471022  25.826096  37.702881   \n",
       "152       0.9500   6.447825  25.745667  37.806508   \n",
       "153       1.0000   6.429572  25.682721  37.887707   \n",
       "\n",
       "                                        caption  \n",
       "0                                 Initial state  \n",
       "1    Interm. step, due to the fast rxns: [0, 1]  \n",
       "2    Interm. step, due to the fast rxns: [0, 1]  \n",
       "3    Interm. step, due to the fast rxns: [0, 1]  \n",
       "4    Interm. step, due to the fast rxns: [0, 1]  \n",
       "..                                          ...  \n",
       "149                                              \n",
       "150                                              \n",
       "151                                              \n",
       "152                                              \n",
       "153                          last reaction step  \n",
       "\n",
       "[154 rows x 5 columns]"
      ]
     },
     "execution_count": 12,
     "metadata": {},
     "output_type": "execute_result"
    }
   ],
   "source": [
    "df = dynamics.history.get()\n",
    "df"
   ]
  },
  {
   "cell_type": "markdown",
   "id": "9fb5f6b8-dde3-415d-9e90-b8d102bfd748",
   "metadata": {},
   "source": [
    "### Notice how the reaction proceeds in smaller steps in the early times, when the concentrations are changing much more rapidly"
   ]
  },
  {
   "cell_type": "code",
   "execution_count": 13,
   "id": "12118fdd-5e81-42e5-b271-818f8d686b79",
   "metadata": {},
   "outputs": [
    {
     "data": {
      "text/plain": [
       "(array([43.49563455625, 16.50045963359375, 10.00390581015625], dtype=object),\n",
       " array([40.345992984421876, 19.5763672872207, 10.077639728357422],\n",
       "       dtype=object))"
      ]
     },
     "execution_count": 13,
     "metadata": {},
     "output_type": "execute_result"
    }
   ],
   "source": [
    "# Let's look at two early arrays of concentrations, from the run's history\n",
    "arr0 = dynamics.get_historical_concentrations(4)\n",
    "arr1 = dynamics.get_historical_concentrations(5)\n",
    "arr0, arr1"
   ]
  },
  {
   "cell_type": "code",
   "execution_count": 14,
   "id": "a2450ae8-e342-4adf-9330-ce86a1dfcbeb",
   "metadata": {},
   "outputs": [
    {
     "data": {
      "text/plain": [
       "False"
      ]
     },
     "execution_count": 14,
     "metadata": {},
     "output_type": "execute_result"
    }
   ],
   "source": [
    "# Let's verify that the stoichiometry is being respected        # TODO: THIS MUST GET GENERALIZED for multiple reactions!!! *****\n",
    "dynamics.stoichiometry_checker(rxn_index=0, \n",
    "                               conc_arr_before = arr0, \n",
    "                               conc_arr_after = arr1)"
   ]
  },
  {
   "cell_type": "code",
   "execution_count": 15,
   "id": "fdda6206-f65d-4954-a69b-f86b749ec07d",
   "metadata": {},
   "outputs": [
    {
     "data": {
      "text/plain": [
       "False"
      ]
     },
     "execution_count": 15,
     "metadata": {},
     "output_type": "execute_result"
    }
   ],
   "source": [
    "dynamics.stoichiometry_checker(rxn_index=1, \n",
    "                               conc_arr_before = arr0, \n",
    "                               conc_arr_after = arr1)"
   ]
  },
  {
   "cell_type": "code",
   "execution_count": 16,
   "id": "4ccfa79c-0bd4-40f0-be82-2da19523cd40",
   "metadata": {},
   "outputs": [
    {
     "data": {
      "text/plain": [
       "TIME                               0.0\n",
       "Delta A                           -4.8\n",
       "Delta B                            4.8\n",
       "Delta C                            0.0\n",
       "reaction                             0\n",
       "substep                              0\n",
       "time_subdivision                    20\n",
       "caption             delta_time: 0.0025\n",
       "Name: 0, dtype: object"
      ]
     },
     "execution_count": 16,
     "metadata": {},
     "output_type": "execute_result"
    }
   ],
   "source": [
    "dynamics.diagnostic_data.get().loc[0]    # Conveniently seen in the diagnostic data"
   ]
  },
  {
   "cell_type": "markdown",
   "id": "b1366038-2dea-4d69-a655-ae464ca22922",
   "metadata": {},
   "source": [
    "## Note: \"A\" (now largely depleted) is the limiting reagent"
   ]
  },
  {
   "cell_type": "markdown",
   "id": "c02a8f55-a671-4771-86c9-fc4d1b126bf8",
   "metadata": {},
   "source": [
    "### Check the final equilibrium"
   ]
  },
  {
   "cell_type": "code",
   "execution_count": 17,
   "id": "b139f5e4-625f-4a5e-8f57-8f00244dced4",
   "metadata": {},
   "outputs": [
    {
     "data": {
      "text/plain": [
       "array([ 6.42957196, 25.68272114, 37.8877069 ])"
      ]
     },
     "execution_count": 17,
     "metadata": {},
     "output_type": "execute_result"
    }
   ],
   "source": [
    "dynamics.get_system_conc()"
   ]
  },
  {
   "cell_type": "code",
   "execution_count": 18,
   "id": "765f6f39-4b2e-4a86-b6a9-ace9d1941663",
   "metadata": {},
   "outputs": [
    {
     "name": "stdout",
     "output_type": "stream",
     "text": [
      "Ratio of forward/reverse reaction rates: 4.0\n",
      "Ratio of reactant/product concentrations, adjusted for reaction orders: 3.99447\n",
      "    [B] / [A]\n"
     ]
    },
    {
     "data": {
      "text/plain": [
       "True"
      ]
     },
     "execution_count": 18,
     "metadata": {},
     "output_type": "execute_result"
    }
   ],
   "source": [
    "# Verify that all the reactions have reached equilibrium\n",
    "dynamics.is_in_equilibrium(rxn_index=0, conc=dynamics.get_conc_dict())       # TODO: generalize to multiple reactions"
   ]
  },
  {
   "cell_type": "code",
   "execution_count": 19,
   "id": "471f5a05-f983-492c-8642-86b86444beb1",
   "metadata": {},
   "outputs": [
    {
     "name": "stdout",
     "output_type": "stream",
     "text": [
      "Ratio of forward/reverse reaction rates: 1.5\n",
      "Ratio of reactant/product concentrations, adjusted for reaction orders: 1.47522\n",
      "    [C] / [B]\n"
     ]
    },
    {
     "data": {
      "text/plain": [
       "True"
      ]
     },
     "execution_count": 19,
     "metadata": {},
     "output_type": "execute_result"
    }
   ],
   "source": [
    "dynamics.is_in_equilibrium(rxn_index=1, conc=dynamics.get_conc_dict())"
   ]
  },
  {
   "cell_type": "markdown",
   "id": "6ac3dd4e-9dd0-4d3a-aa83-76102bd79524",
   "metadata": {
    "tags": []
   },
   "source": [
    "## Plots of changes of concentration with time"
   ]
  },
  {
   "cell_type": "code",
   "execution_count": 22,
   "id": "1020f9bc-eb0c-4bc6-9ebd-d5dbc23a8bd1",
   "metadata": {},
   "outputs": [
    {
     "data": {
      "application/vnd.plotly.v1+json": {
       "config": {
        "plotlyServerURL": "https://plot.ly"
       },
       "data": [
        {
         "hovertemplate": "Chemical=A<br>SYSTEM TIME=%{x}<br>concentration=%{y}<extra></extra>",
         "legendgroup": "A",
         "line": {
          "color": "blue",
          "dash": "solid"
         },
         "marker": {
          "symbol": "circle"
         },
         "mode": "lines",
         "name": "A",
         "orientation": "v",
         "showlegend": true,
         "type": "scatter",
         "x": [
          0,
          0.0025,
          0.005,
          0.0075,
          0.01,
          0.0125,
          0.015,
          0.0175,
          0.02,
          0.0225,
          0.025,
          0.0275,
          0.03,
          0.0325,
          0.035,
          0.0375,
          0.04,
          0.0425,
          0.045,
          0.0475,
          0.05,
          0.052500000000000005,
          0.055,
          0.0575,
          0.060000000000000005,
          0.0625,
          0.065,
          0.0675,
          0.07,
          0.07250000000000001,
          0.07500000000000001,
          0.0775,
          0.08,
          0.0825,
          0.085,
          0.0875,
          0.09,
          0.0925,
          0.095,
          0.0975,
          0.1,
          0.10250000000000001,
          0.10500000000000001,
          0.10750000000000001,
          0.11,
          0.1125,
          0.115,
          0.11750000000000001,
          0.12000000000000001,
          0.1225,
          0.125,
          0.1275,
          0.13,
          0.1325,
          0.135,
          0.1375,
          0.14,
          0.14250000000000002,
          0.14500000000000002,
          0.14750000000000002,
          0.15000000000000002,
          0.15250000000000002,
          0.15500000000000003,
          0.15750000000000003,
          0.16000000000000003,
          0.16250000000000003,
          0.16500000000000004,
          0.16750000000000004,
          0.17,
          0.17250000000000001,
          0.17500000000000002,
          0.17750000000000002,
          0.18000000000000002,
          0.18250000000000002,
          0.18500000000000003,
          0.18750000000000003,
          0.19000000000000003,
          0.19250000000000003,
          0.195,
          0.1975,
          0.2,
          0.2025,
          0.20500000000000002,
          0.20750000000000002,
          0.21000000000000002,
          0.21250000000000002,
          0.21500000000000002,
          0.21750000000000003,
          0.22,
          0.2225,
          0.225,
          0.2275,
          0.23,
          0.2325,
          0.23500000000000001,
          0.23750000000000002,
          0.24000000000000002,
          0.24250000000000002,
          0.245,
          0.2475,
          0.25,
          0.2525,
          0.255,
          0.2575,
          0.26,
          0.2625,
          0.265,
          0.2675,
          0.27,
          0.2725,
          0.275,
          0.2775,
          0.28,
          0.2825,
          0.28500000000000003,
          0.2875,
          0.29,
          0.2925,
          0.295,
          0.2975,
          0.3,
          0.3025,
          0.305,
          0.3075,
          0.31,
          0.3125,
          0.315,
          0.3175,
          0.32,
          0.3225,
          0.325,
          0.3275,
          0.32999999999999996,
          0.3325,
          0.33499999999999996,
          0.33749999999999997,
          0.33999999999999997,
          0.34249999999999997,
          0.345,
          0.3475,
          0.35,
          0.39999999999999997,
          0.44999999999999996,
          0.49999999999999994,
          0.5499999999999999,
          0.6,
          0.65,
          0.7000000000000001,
          0.7500000000000001,
          0.8000000000000002,
          0.8500000000000002,
          0.9000000000000002,
          0.9500000000000003,
          1.0000000000000002
         ],
         "xaxis": "x",
         "y": [
          60,
          55.2,
          50.881,
          46.9941675,
          43.49563455625,
          40.345992984421876,
          37.50984089141254,
          34.95537531658389,
          32.654026293942906,
          30.580128123500792,
          28.71062406831008,
          27.02480107839247,
          25.504051488365455,
          24.131658946030246,
          22.892606108070545,
          21.77340188954068,
          20.761926278876544,
          19.847290932333628,
          19.01971394337003,
          18.270407345639263,
          17.591476054815494,
          16.975827086129204,
          16.417088002759826,
          15.90953365647476,
          15.44802037734373,
          15.027926855092817,
          14.645101031680055,
          14.295812393860626,
          13.976709116661034,
          13.68477956451315,
          13.417317706953575,
          13.17189205084849,
          12.946317731577576,
          12.738631441968707,
          12.547068910436101,
          12.370044669114748,
          12.206133879140566,
          12.054056003902454,
          11.912660142361576,
          11.780911853639752,
          11.657881321242536,
          11.542732720701004,
          11.434714668267027,
          11.333151640739102,
          11.237436267672974,
          11.147022407271972,
          11.061418926271642,
          10.98018411223585,
          10.902920653960187,
          10.829271132217077,
          10.75891396895071,
          10.69155978830637,
          10.626948147618672,
          10.564844600741203,
          10.50503805992507,
          10.447338425889937,
          10.391574458817837,
          10.33759186577287,
          10.285251582540763,
          10.234428230119917,
          10.185008728105622,
          10.136891049014803,
          10.089983099220785,
          10.044201713624677,
          9.99947175249899,
          9.955725290114954,
          9.912900885821374,
          9.870942929191695,
          9.829801051708452,
          9.789429598219963,
          9.749787152092049,
          9.710836108595483,
          9.67254229162498,
          9.634874609344203,
          9.597804744799227,
          9.561306877945281,
          9.525357435893126,
          9.489934868506097,
          9.455019446770628,
          9.420593081625041,
          9.386639161166888,
          9.353142404370487,
          9.320088729636398,
          9.287465136665086,
          9.255259600300446,
          9.223460975126498,
          9.192058909724288,
          9.161043769607188,
          9.130406567952564,
          9.100138903337518,
          9.070232903766916,
          9.040681176354337,
          9.011476762081529,
          8.98261309512042,
          8.954083966254148,
          8.925883489980698,
          8.898006074925133,
          8.87044639722434,
          8.843199376582469,
          8.81626015472586,
          8.789624076013881,
          8.763286669986801,
          8.737243635654151,
          8.711490827346939,
          8.686024241975069,
          8.660840007547453,
          8.635934372826771,
          8.611303698003864,
          8.586944446288424,
          8.562853176323166,
          8.539026535338083,
          8.515461252969866,
          8.492154135679202,
          8.46910206170547,
          8.446301976504536,
          8.423750888620832,
          8.401445865949889,
          8.379384032351943,
          8.357562564581222,
          8.33597868949912,
          8.314629681542716,
          8.293512860422958,
          8.272625589029476,
          8.251965271521295,
          8.231529351584852,
          8.211315310842586,
          8.19132066739708,
          8.17154297449727,
          8.15197981931455,
          8.132628821817939,
          8.11348763373845,
          8.094553937613904,
          8.075825445906258,
          8.057299900184345,
          8.038975070365652,
          8.020848754011359,
          8.00291877566952,
          7.985182986261727,
          7.967639262509074,
          7.950285506393707,
          7.933119644652555,
          7.59351931760651,
          7.327447082766942,
          7.118888876569537,
          6.955509917898837,
          6.827422510546616,
          6.727107405861403,
          6.648435382077407,
          6.5868481532283845,
          6.5385206211756035,
          6.5007168488210905,
          6.471022490946965,
          6.447825024808341,
          6.429571961464956
         ],
         "yaxis": "y"
        },
        {
         "hovertemplate": "Chemical=B<br>SYSTEM TIME=%{x}<br>concentration=%{y}<extra></extra>",
         "legendgroup": "B",
         "line": {
          "color": "red",
          "dash": "solid"
         },
         "marker": {
          "symbol": "circle"
         },
         "mode": "lines",
         "name": "B",
         "orientation": "v",
         "showlegend": true,
         "type": "scatter",
         "x": [
          0,
          0.0025,
          0.005,
          0.0075,
          0.01,
          0.0125,
          0.015,
          0.0175,
          0.02,
          0.0225,
          0.025,
          0.0275,
          0.03,
          0.0325,
          0.035,
          0.0375,
          0.04,
          0.0425,
          0.045,
          0.0475,
          0.05,
          0.052500000000000005,
          0.055,
          0.0575,
          0.060000000000000005,
          0.0625,
          0.065,
          0.0675,
          0.07,
          0.07250000000000001,
          0.07500000000000001,
          0.0775,
          0.08,
          0.0825,
          0.085,
          0.0875,
          0.09,
          0.0925,
          0.095,
          0.0975,
          0.1,
          0.10250000000000001,
          0.10500000000000001,
          0.10750000000000001,
          0.11,
          0.1125,
          0.115,
          0.11750000000000001,
          0.12000000000000001,
          0.1225,
          0.125,
          0.1275,
          0.13,
          0.1325,
          0.135,
          0.1375,
          0.14,
          0.14250000000000002,
          0.14500000000000002,
          0.14750000000000002,
          0.15000000000000002,
          0.15250000000000002,
          0.15500000000000003,
          0.15750000000000003,
          0.16000000000000003,
          0.16250000000000003,
          0.16500000000000004,
          0.16750000000000004,
          0.17,
          0.17250000000000001,
          0.17500000000000002,
          0.17750000000000002,
          0.18000000000000002,
          0.18250000000000002,
          0.18500000000000003,
          0.18750000000000003,
          0.19000000000000003,
          0.19250000000000003,
          0.195,
          0.1975,
          0.2,
          0.2025,
          0.20500000000000002,
          0.20750000000000002,
          0.21000000000000002,
          0.21250000000000002,
          0.21500000000000002,
          0.21750000000000003,
          0.22,
          0.2225,
          0.225,
          0.2275,
          0.23,
          0.2325,
          0.23500000000000001,
          0.23750000000000002,
          0.24000000000000002,
          0.24250000000000002,
          0.245,
          0.2475,
          0.25,
          0.2525,
          0.255,
          0.2575,
          0.26,
          0.2625,
          0.265,
          0.2675,
          0.27,
          0.2725,
          0.275,
          0.2775,
          0.28,
          0.2825,
          0.28500000000000003,
          0.2875,
          0.29,
          0.2925,
          0.295,
          0.2975,
          0.3,
          0.3025,
          0.305,
          0.3075,
          0.31,
          0.3125,
          0.315,
          0.3175,
          0.32,
          0.3225,
          0.325,
          0.3275,
          0.32999999999999996,
          0.3325,
          0.33499999999999996,
          0.33749999999999997,
          0.33999999999999997,
          0.34249999999999997,
          0.345,
          0.3475,
          0.35,
          0.39999999999999997,
          0.44999999999999996,
          0.49999999999999994,
          0.5499999999999999,
          0.6,
          0.65,
          0.7000000000000001,
          0.7500000000000001,
          0.8000000000000002,
          0.8500000000000002,
          0.9000000000000002,
          0.9500000000000003,
          1.0000000000000002
         ],
         "xaxis": "x",
         "y": [
          0,
          4.85,
          9.182375,
          13.0500228125,
          16.50045963359375,
          19.5763672872207,
          22.31608482421767,
          24.754050134286533,
          26.921196653666012,
          28.845309734467584,
          30.551346777359946,
          32.061724812219005,
          33.39657883670132,
          34.57399388613594,
          35.610213505788785,
          36.51982702495594,
          37.31593778836042,
          38.01031428115445,
          38.61352588694195,
          39.135064841369086,
          39.58345578494754,
          39.96635417604791,
          40.29063469678604,
          40.56247066934748,
          40.7874053968293,
          40.97041624973313,
          41.115972235748764,
          41.22808571546293,
          41.31035885924993,
          41.366025380073886,
          41.39798802255997,
          41.408852239848294,
          41.40095644586686,
          41.37639919124451,
          41.337063575676716,
          41.28463917774993,
          41.22064175465666,
          41.146430938565864,
          41.06322613335516,
          40.972120794698235,
          40.87409525789351,
          40.77002826110516,
          40.660707296671816,
          40.54683790965001,
          40.429052050641815,
          40.30791557907143,
          40.183935003297,
          40.05756353516022,
          39.9292065286852,
          39.79922636554994,
          39.66794684358585,
          39.53565711884062,
          39.40261524660127,
          39.26905136215813,
          39.13517053794358,
          39.00115534995479,
          38.867168183023004,
          38.7333533014861,
          38.59983870912077,
          38.4667378197649,
          38.33415095788154,
          38.20216670635831,
          38.07086311707778,
          37.94030879821431,
          37.8105638907942,
          37.68168094578081,
          37.553705711801555,
          37.426677842604605,
          37.300631532409334,
          37.17559608648416,
          37.05159643353993,
          36.928653585856786,
          36.8067850524611,
          36.68600521012799,
          36.56632563649964,
          36.44775540917335,
          36.33030137422111,
          36.21396838725091,
          36.09875952980321,
          35.9846763035924,
          35.871718804847525,
          35.759885880777496,
          35.64917526998001,
          35.53958372842839,
          35.431107142504345,
          35.323740630395484,
          35.21747863304212,
          35.112314995697574,
          35.008243041057945,
          34.90525563482,
          34.80334524443867,
          34.70250399177693,
          34.60272370027075,
          34.503995937168064,
          34.40631205134413,
          34.30966320714451,
          34.214040414660865,
          34.119434556803775,
          34.025836413499476,
          33.93323668330443,
          33.84162600270148,
          33.750994963314724,
          33.661334127256005,
          33.57263404079425,
          33.484885246519454,
          33.3980782941557,
          33.3122037501617,
          33.227252206243456,
          33.14321428689083,
          33.06008065603851,
          32.977842022941495,
          32.89648914734625,
          32.81601284403024,
          32.736403986775194,
          32.65765351183291,
          32.57975242093618,
          32.502691783902314,
          32.42646274087173,
          32.35105650421979,
          32.27646436017624,
          32.20267767018296,
          32.12968787201771,
          32.05748648070886,
          31.986065089263032,
          31.915415369226082,
          31.845529071095097,
          31.7763980245977,
          31.708014138853056,
          31.640369402427627,
          31.57345588329732,
          31.5072657287265,
          31.441791165073273,
          31.377024497529433,
          31.312958109802697,
          31.249584463747937,
          31.186896098953554,
          31.124885632288414,
          31.063545757414254,
          31.00286924426792,
          30.942848938517393,
          30.883477760995106,
          29.70889668332712,
          28.788392815574255,
          28.0671081096014,
          27.501821153214795,
          27.058902280473433,
          26.711749563985624,
          26.439773456187073,
          26.226573782781585,
          26.05957305381613,
          25.92863150059905,
          25.8260962984413,
          25.7456674408749,
          25.682721141518723
         ],
         "yaxis": "y"
        },
        {
         "hovertemplate": "Chemical=C<br>SYSTEM TIME=%{x}<br>concentration=%{y}<extra></extra>",
         "legendgroup": "C",
         "line": {
          "color": "green",
          "dash": "solid"
         },
         "marker": {
          "symbol": "circle"
         },
         "mode": "lines",
         "name": "C",
         "orientation": "v",
         "showlegend": true,
         "type": "scatter",
         "x": [
          0,
          0.0025,
          0.005,
          0.0075,
          0.01,
          0.0125,
          0.015,
          0.0175,
          0.02,
          0.0225,
          0.025,
          0.0275,
          0.03,
          0.0325,
          0.035,
          0.0375,
          0.04,
          0.0425,
          0.045,
          0.0475,
          0.05,
          0.052500000000000005,
          0.055,
          0.0575,
          0.060000000000000005,
          0.0625,
          0.065,
          0.0675,
          0.07,
          0.07250000000000001,
          0.07500000000000001,
          0.0775,
          0.08,
          0.0825,
          0.085,
          0.0875,
          0.09,
          0.0925,
          0.095,
          0.0975,
          0.1,
          0.10250000000000001,
          0.10500000000000001,
          0.10750000000000001,
          0.11,
          0.1125,
          0.115,
          0.11750000000000001,
          0.12000000000000001,
          0.1225,
          0.125,
          0.1275,
          0.13,
          0.1325,
          0.135,
          0.1375,
          0.14,
          0.14250000000000002,
          0.14500000000000002,
          0.14750000000000002,
          0.15000000000000002,
          0.15250000000000002,
          0.15500000000000003,
          0.15750000000000003,
          0.16000000000000003,
          0.16250000000000003,
          0.16500000000000004,
          0.16750000000000004,
          0.17,
          0.17250000000000001,
          0.17500000000000002,
          0.17750000000000002,
          0.18000000000000002,
          0.18250000000000002,
          0.18500000000000003,
          0.18750000000000003,
          0.19000000000000003,
          0.19250000000000003,
          0.195,
          0.1975,
          0.2,
          0.2025,
          0.20500000000000002,
          0.20750000000000002,
          0.21000000000000002,
          0.21250000000000002,
          0.21500000000000002,
          0.21750000000000003,
          0.22,
          0.2225,
          0.225,
          0.2275,
          0.23,
          0.2325,
          0.23500000000000001,
          0.23750000000000002,
          0.24000000000000002,
          0.24250000000000002,
          0.245,
          0.2475,
          0.25,
          0.2525,
          0.255,
          0.2575,
          0.26,
          0.2625,
          0.265,
          0.2675,
          0.27,
          0.2725,
          0.275,
          0.2775,
          0.28,
          0.2825,
          0.28500000000000003,
          0.2875,
          0.29,
          0.2925,
          0.295,
          0.2975,
          0.3,
          0.3025,
          0.305,
          0.3075,
          0.31,
          0.3125,
          0.315,
          0.3175,
          0.32,
          0.3225,
          0.325,
          0.3275,
          0.32999999999999996,
          0.3325,
          0.33499999999999996,
          0.33749999999999997,
          0.33999999999999997,
          0.34249999999999997,
          0.345,
          0.3475,
          0.35,
          0.39999999999999997,
          0.44999999999999996,
          0.49999999999999994,
          0.5499999999999999,
          0.6,
          0.65,
          0.7000000000000001,
          0.7500000000000001,
          0.8000000000000002,
          0.8500000000000002,
          0.9000000000000002,
          0.9500000000000003,
          1.0000000000000002
         ],
         "xaxis": "x",
         "y": [
          10,
          9.95,
          9.936625,
          9.955809687499999,
          10.00390581015625,
          10.077639728357422,
          10.17407428436979,
          10.290574549129575,
          10.424777052391077,
          10.574562142031617,
          10.738029154329965,
          10.913474109388515,
          11.099369674933214,
          11.29434716783381,
          11.49718038614066,
          11.706771085503371,
          11.922135932763023,
          12.142394786511911,
          12.36676016968801,
          12.594527812991634,
          12.825068160236944,
          13.057818737822865,
          13.29227730045411,
          13.527995674177735,
          13.764574225826951,
          14.001656895174037,
          14.238926732571166,
          14.476101890676425,
          14.712932024089016,
          14.949195055412945,
          15.184694270486434,
          15.4192557093032,
          15.652725822555547,
          15.884969366786772,
          16.11586751388717,
          16.34531615313531,
          16.57322436620276,
          16.79951305753167,
          17.024113724283254,
          17.246967351662,
          17.468023420863933,
          17.687239018193814,
          17.904578035061135,
          18.120010449610866,
          18.333511681685188,
          18.545062013656576,
          18.754646070431328,
          18.962252352603898,
          19.16787281735458,
          19.371502502232946,
          19.573139187463408,
          19.772783092852986,
          19.970436605780026,
          20.166104037100634,
          20.359791402131318,
          20.55150622415524,
          20.741257358159125,
          20.929054832741002,
          21.114909708338445,
          21.29883395011516,
          21.480840314012813,
          21.66094224462686,
          21.839153783701413,
          22.015489488160988,
          22.18996435670679,
          22.36259376410421,
          22.533393402377047,
          22.702379228203675,
          22.86956741588219,
          23.034974315295848,
          23.198616414368,
          23.36051030554771,
          23.5206726559139,
          23.679120180527786,
          23.835869618701107,
          23.990937712881347,
          24.14434118988574,
          24.29609674424297,
          24.446221023426137,
          24.59473061478253,
          24.741642033985563,
          24.886971714851992,
          25.030736000383563,
          25.172951134906494,
          25.313633257195175,
          25.45279839447798,
          25.590462457233556,
          25.726641234695204,
          25.86135039098946,
          25.994605461842447,
          26.126421851794383,
          26.256814831868702,
          26.385799537647685,
          26.513390967711477,
          26.63960398240168,
          26.764453302874752,
          26.88795351041396,
          27.010119045971848,
          27.130964209918016,
          27.25050316196967,
          27.368749921284614,
          27.485718366698453,
          27.60142223708982,
          27.71587513185879,
          27.829090511505456,
          27.941081698296824,
          28.051861877011508,
          28.161444095752664,
          28.269841266820727,
          28.377066167638304,
          28.483131441720403,
          28.588049599683863,
          28.69183302029054,
          28.794493951519314,
          28.89604451166253,
          28.996496690442964,
          29.09586235014777,
          29.194153226776297,
          29.291380931198955,
          29.38755695032461,
          29.482692648274305,
          29.576799267559306,
          29.66988793026164,
          29.76196963921565,
          29.853055279189043,
          29.943155618062292,
          30.032281308005192,
          30.12044288664965,
          30.207650778257797,
          30.293915294884716,
          30.379246637535022,
          30.463654897312797,
          30.54715005656428,
          30.62974199001293,
          30.711440465886387,
          30.792255147035064,
          30.87219559204204,
          30.95127125632399,
          31.029491493222977,
          31.106865555088874,
          31.183402594352316,
          32.69758399906635,
          33.884160101658786,
          34.814003013829044,
          35.54266892888635,
          36.113675208979934,
          36.561143030152955,
          36.9117911617355,
          37.18657806399001,
          37.40190632500825,
          37.57065165057984,
          37.702881210611714,
          37.80650753431674,
          37.8877068970163
         ],
         "yaxis": "y"
        }
       ],
       "layout": {
        "autosize": true,
        "legend": {
         "title": {
          "text": "Chemical"
         },
         "tracegroupgap": 0
        },
        "template": {
         "data": {
          "bar": [
           {
            "error_x": {
             "color": "#2a3f5f"
            },
            "error_y": {
             "color": "#2a3f5f"
            },
            "marker": {
             "line": {
              "color": "#E5ECF6",
              "width": 0.5
             },
             "pattern": {
              "fillmode": "overlay",
              "size": 10,
              "solidity": 0.2
             }
            },
            "type": "bar"
           }
          ],
          "barpolar": [
           {
            "marker": {
             "line": {
              "color": "#E5ECF6",
              "width": 0.5
             },
             "pattern": {
              "fillmode": "overlay",
              "size": 10,
              "solidity": 0.2
             }
            },
            "type": "barpolar"
           }
          ],
          "carpet": [
           {
            "aaxis": {
             "endlinecolor": "#2a3f5f",
             "gridcolor": "white",
             "linecolor": "white",
             "minorgridcolor": "white",
             "startlinecolor": "#2a3f5f"
            },
            "baxis": {
             "endlinecolor": "#2a3f5f",
             "gridcolor": "white",
             "linecolor": "white",
             "minorgridcolor": "white",
             "startlinecolor": "#2a3f5f"
            },
            "type": "carpet"
           }
          ],
          "choropleth": [
           {
            "colorbar": {
             "outlinewidth": 0,
             "ticks": ""
            },
            "type": "choropleth"
           }
          ],
          "contour": [
           {
            "colorbar": {
             "outlinewidth": 0,
             "ticks": ""
            },
            "colorscale": [
             [
              0,
              "#0d0887"
             ],
             [
              0.1111111111111111,
              "#46039f"
             ],
             [
              0.2222222222222222,
              "#7201a8"
             ],
             [
              0.3333333333333333,
              "#9c179e"
             ],
             [
              0.4444444444444444,
              "#bd3786"
             ],
             [
              0.5555555555555556,
              "#d8576b"
             ],
             [
              0.6666666666666666,
              "#ed7953"
             ],
             [
              0.7777777777777778,
              "#fb9f3a"
             ],
             [
              0.8888888888888888,
              "#fdca26"
             ],
             [
              1,
              "#f0f921"
             ]
            ],
            "type": "contour"
           }
          ],
          "contourcarpet": [
           {
            "colorbar": {
             "outlinewidth": 0,
             "ticks": ""
            },
            "type": "contourcarpet"
           }
          ],
          "heatmap": [
           {
            "colorbar": {
             "outlinewidth": 0,
             "ticks": ""
            },
            "colorscale": [
             [
              0,
              "#0d0887"
             ],
             [
              0.1111111111111111,
              "#46039f"
             ],
             [
              0.2222222222222222,
              "#7201a8"
             ],
             [
              0.3333333333333333,
              "#9c179e"
             ],
             [
              0.4444444444444444,
              "#bd3786"
             ],
             [
              0.5555555555555556,
              "#d8576b"
             ],
             [
              0.6666666666666666,
              "#ed7953"
             ],
             [
              0.7777777777777778,
              "#fb9f3a"
             ],
             [
              0.8888888888888888,
              "#fdca26"
             ],
             [
              1,
              "#f0f921"
             ]
            ],
            "type": "heatmap"
           }
          ],
          "heatmapgl": [
           {
            "colorbar": {
             "outlinewidth": 0,
             "ticks": ""
            },
            "colorscale": [
             [
              0,
              "#0d0887"
             ],
             [
              0.1111111111111111,
              "#46039f"
             ],
             [
              0.2222222222222222,
              "#7201a8"
             ],
             [
              0.3333333333333333,
              "#9c179e"
             ],
             [
              0.4444444444444444,
              "#bd3786"
             ],
             [
              0.5555555555555556,
              "#d8576b"
             ],
             [
              0.6666666666666666,
              "#ed7953"
             ],
             [
              0.7777777777777778,
              "#fb9f3a"
             ],
             [
              0.8888888888888888,
              "#fdca26"
             ],
             [
              1,
              "#f0f921"
             ]
            ],
            "type": "heatmapgl"
           }
          ],
          "histogram": [
           {
            "marker": {
             "pattern": {
              "fillmode": "overlay",
              "size": 10,
              "solidity": 0.2
             }
            },
            "type": "histogram"
           }
          ],
          "histogram2d": [
           {
            "colorbar": {
             "outlinewidth": 0,
             "ticks": ""
            },
            "colorscale": [
             [
              0,
              "#0d0887"
             ],
             [
              0.1111111111111111,
              "#46039f"
             ],
             [
              0.2222222222222222,
              "#7201a8"
             ],
             [
              0.3333333333333333,
              "#9c179e"
             ],
             [
              0.4444444444444444,
              "#bd3786"
             ],
             [
              0.5555555555555556,
              "#d8576b"
             ],
             [
              0.6666666666666666,
              "#ed7953"
             ],
             [
              0.7777777777777778,
              "#fb9f3a"
             ],
             [
              0.8888888888888888,
              "#fdca26"
             ],
             [
              1,
              "#f0f921"
             ]
            ],
            "type": "histogram2d"
           }
          ],
          "histogram2dcontour": [
           {
            "colorbar": {
             "outlinewidth": 0,
             "ticks": ""
            },
            "colorscale": [
             [
              0,
              "#0d0887"
             ],
             [
              0.1111111111111111,
              "#46039f"
             ],
             [
              0.2222222222222222,
              "#7201a8"
             ],
             [
              0.3333333333333333,
              "#9c179e"
             ],
             [
              0.4444444444444444,
              "#bd3786"
             ],
             [
              0.5555555555555556,
              "#d8576b"
             ],
             [
              0.6666666666666666,
              "#ed7953"
             ],
             [
              0.7777777777777778,
              "#fb9f3a"
             ],
             [
              0.8888888888888888,
              "#fdca26"
             ],
             [
              1,
              "#f0f921"
             ]
            ],
            "type": "histogram2dcontour"
           }
          ],
          "mesh3d": [
           {
            "colorbar": {
             "outlinewidth": 0,
             "ticks": ""
            },
            "type": "mesh3d"
           }
          ],
          "parcoords": [
           {
            "line": {
             "colorbar": {
              "outlinewidth": 0,
              "ticks": ""
             }
            },
            "type": "parcoords"
           }
          ],
          "pie": [
           {
            "automargin": true,
            "type": "pie"
           }
          ],
          "scatter": [
           {
            "fillpattern": {
             "fillmode": "overlay",
             "size": 10,
             "solidity": 0.2
            },
            "type": "scatter"
           }
          ],
          "scatter3d": [
           {
            "line": {
             "colorbar": {
              "outlinewidth": 0,
              "ticks": ""
             }
            },
            "marker": {
             "colorbar": {
              "outlinewidth": 0,
              "ticks": ""
             }
            },
            "type": "scatter3d"
           }
          ],
          "scattercarpet": [
           {
            "marker": {
             "colorbar": {
              "outlinewidth": 0,
              "ticks": ""
             }
            },
            "type": "scattercarpet"
           }
          ],
          "scattergeo": [
           {
            "marker": {
             "colorbar": {
              "outlinewidth": 0,
              "ticks": ""
             }
            },
            "type": "scattergeo"
           }
          ],
          "scattergl": [
           {
            "marker": {
             "colorbar": {
              "outlinewidth": 0,
              "ticks": ""
             }
            },
            "type": "scattergl"
           }
          ],
          "scattermapbox": [
           {
            "marker": {
             "colorbar": {
              "outlinewidth": 0,
              "ticks": ""
             }
            },
            "type": "scattermapbox"
           }
          ],
          "scatterpolar": [
           {
            "marker": {
             "colorbar": {
              "outlinewidth": 0,
              "ticks": ""
             }
            },
            "type": "scatterpolar"
           }
          ],
          "scatterpolargl": [
           {
            "marker": {
             "colorbar": {
              "outlinewidth": 0,
              "ticks": ""
             }
            },
            "type": "scatterpolargl"
           }
          ],
          "scatterternary": [
           {
            "marker": {
             "colorbar": {
              "outlinewidth": 0,
              "ticks": ""
             }
            },
            "type": "scatterternary"
           }
          ],
          "surface": [
           {
            "colorbar": {
             "outlinewidth": 0,
             "ticks": ""
            },
            "colorscale": [
             [
              0,
              "#0d0887"
             ],
             [
              0.1111111111111111,
              "#46039f"
             ],
             [
              0.2222222222222222,
              "#7201a8"
             ],
             [
              0.3333333333333333,
              "#9c179e"
             ],
             [
              0.4444444444444444,
              "#bd3786"
             ],
             [
              0.5555555555555556,
              "#d8576b"
             ],
             [
              0.6666666666666666,
              "#ed7953"
             ],
             [
              0.7777777777777778,
              "#fb9f3a"
             ],
             [
              0.8888888888888888,
              "#fdca26"
             ],
             [
              1,
              "#f0f921"
             ]
            ],
            "type": "surface"
           }
          ],
          "table": [
           {
            "cells": {
             "fill": {
              "color": "#EBF0F8"
             },
             "line": {
              "color": "white"
             }
            },
            "header": {
             "fill": {
              "color": "#C8D4E3"
             },
             "line": {
              "color": "white"
             }
            },
            "type": "table"
           }
          ]
         },
         "layout": {
          "annotationdefaults": {
           "arrowcolor": "#2a3f5f",
           "arrowhead": 0,
           "arrowwidth": 1
          },
          "autotypenumbers": "strict",
          "coloraxis": {
           "colorbar": {
            "outlinewidth": 0,
            "ticks": ""
           }
          },
          "colorscale": {
           "diverging": [
            [
             0,
             "#8e0152"
            ],
            [
             0.1,
             "#c51b7d"
            ],
            [
             0.2,
             "#de77ae"
            ],
            [
             0.3,
             "#f1b6da"
            ],
            [
             0.4,
             "#fde0ef"
            ],
            [
             0.5,
             "#f7f7f7"
            ],
            [
             0.6,
             "#e6f5d0"
            ],
            [
             0.7,
             "#b8e186"
            ],
            [
             0.8,
             "#7fbc41"
            ],
            [
             0.9,
             "#4d9221"
            ],
            [
             1,
             "#276419"
            ]
           ],
           "sequential": [
            [
             0,
             "#0d0887"
            ],
            [
             0.1111111111111111,
             "#46039f"
            ],
            [
             0.2222222222222222,
             "#7201a8"
            ],
            [
             0.3333333333333333,
             "#9c179e"
            ],
            [
             0.4444444444444444,
             "#bd3786"
            ],
            [
             0.5555555555555556,
             "#d8576b"
            ],
            [
             0.6666666666666666,
             "#ed7953"
            ],
            [
             0.7777777777777778,
             "#fb9f3a"
            ],
            [
             0.8888888888888888,
             "#fdca26"
            ],
            [
             1,
             "#f0f921"
            ]
           ],
           "sequentialminus": [
            [
             0,
             "#0d0887"
            ],
            [
             0.1111111111111111,
             "#46039f"
            ],
            [
             0.2222222222222222,
             "#7201a8"
            ],
            [
             0.3333333333333333,
             "#9c179e"
            ],
            [
             0.4444444444444444,
             "#bd3786"
            ],
            [
             0.5555555555555556,
             "#d8576b"
            ],
            [
             0.6666666666666666,
             "#ed7953"
            ],
            [
             0.7777777777777778,
             "#fb9f3a"
            ],
            [
             0.8888888888888888,
             "#fdca26"
            ],
            [
             1,
             "#f0f921"
            ]
           ]
          },
          "colorway": [
           "#636efa",
           "#EF553B",
           "#00cc96",
           "#ab63fa",
           "#FFA15A",
           "#19d3f3",
           "#FF6692",
           "#B6E880",
           "#FF97FF",
           "#FECB52"
          ],
          "font": {
           "color": "#2a3f5f"
          },
          "geo": {
           "bgcolor": "white",
           "lakecolor": "white",
           "landcolor": "#E5ECF6",
           "showlakes": true,
           "showland": true,
           "subunitcolor": "white"
          },
          "hoverlabel": {
           "align": "left"
          },
          "hovermode": "closest",
          "mapbox": {
           "style": "light"
          },
          "paper_bgcolor": "white",
          "plot_bgcolor": "#E5ECF6",
          "polar": {
           "angularaxis": {
            "gridcolor": "white",
            "linecolor": "white",
            "ticks": ""
           },
           "bgcolor": "#E5ECF6",
           "radialaxis": {
            "gridcolor": "white",
            "linecolor": "white",
            "ticks": ""
           }
          },
          "scene": {
           "xaxis": {
            "backgroundcolor": "#E5ECF6",
            "gridcolor": "white",
            "gridwidth": 2,
            "linecolor": "white",
            "showbackground": true,
            "ticks": "",
            "zerolinecolor": "white"
           },
           "yaxis": {
            "backgroundcolor": "#E5ECF6",
            "gridcolor": "white",
            "gridwidth": 2,
            "linecolor": "white",
            "showbackground": true,
            "ticks": "",
            "zerolinecolor": "white"
           },
           "zaxis": {
            "backgroundcolor": "#E5ECF6",
            "gridcolor": "white",
            "gridwidth": 2,
            "linecolor": "white",
            "showbackground": true,
            "ticks": "",
            "zerolinecolor": "white"
           }
          },
          "shapedefaults": {
           "line": {
            "color": "#2a3f5f"
           }
          },
          "ternary": {
           "aaxis": {
            "gridcolor": "white",
            "linecolor": "white",
            "ticks": ""
           },
           "baxis": {
            "gridcolor": "white",
            "linecolor": "white",
            "ticks": ""
           },
           "bgcolor": "#E5ECF6",
           "caxis": {
            "gridcolor": "white",
            "linecolor": "white",
            "ticks": ""
           }
          },
          "title": {
           "x": 0.05
          },
          "xaxis": {
           "automargin": true,
           "gridcolor": "white",
           "linecolor": "white",
           "ticks": "",
           "title": {
            "standoff": 15
           },
           "zerolinecolor": "white",
           "zerolinewidth": 2
          },
          "yaxis": {
           "automargin": true,
           "gridcolor": "white",
           "linecolor": "white",
           "ticks": "",
           "title": {
            "standoff": 15
           },
           "zerolinecolor": "white",
           "zerolinewidth": 2
          }
         }
        },
        "title": {
         "text": "Coupled reactions A <-> B and B <-> C"
        },
        "xaxis": {
         "anchor": "y",
         "autorange": true,
         "domain": [
          0,
          1
         ],
         "range": [
          0,
          1.0000000000000002
         ],
         "title": {
          "text": "SYSTEM TIME"
         },
         "type": "linear"
        },
        "yaxis": {
         "anchor": "x",
         "autorange": true,
         "domain": [
          0,
          1
         ],
         "range": [
          -3.333333333333333,
          63.333333333333336
         ],
         "title": {
          "text": "concentration"
         },
         "type": "linear"
        }
       }
      },
      "image/png": "[encoded data removed]",
      "text/html": [
       "<div>                            <div id=\"8634fd29-d297-401a-a0d7-fb9be9c29d27\" class=\"plotly-graph-div\" style=\"height:525px; width:100%;\"></div>            <script type=\"text/javascript\">                require([\"plotly\"], function(Plotly) {                    window.PLOTLYENV=window.PLOTLYENV || {};                                    if (document.getElementById(\"8634fd29-d297-401a-a0d7-fb9be9c29d27\")) {                    Plotly.newPlot(                        \"8634fd29-d297-401a-a0d7-fb9be9c29d27\",                        [{\"hovertemplate\":\"Chemical=A<br>SYSTEM TIME=%{x}<br>concentration=%{y}<extra></extra>\",\"legendgroup\":\"A\",\"line\":{\"color\":\"blue\",\"dash\":\"solid\"},\"marker\":{\"symbol\":\"circle\"},\"mode\":\"lines\",\"name\":\"A\",\"orientation\":\"v\",\"showlegend\":true,\"x\":[0.0,0.0025,0.005,0.0075,0.01,0.0125,0.015,0.0175,0.02,0.0225,0.025,0.0275,0.03,0.0325,0.035,0.0375,0.04,0.0425,0.045,0.0475,0.05,0.052500000000000005,0.055,0.0575,0.060000000000000005,0.0625,0.065,0.0675,0.07,0.07250000000000001,0.07500000000000001,0.0775,0.08,0.0825,0.085,0.0875,0.09,0.0925,0.095,0.0975,0.1,0.10250000000000001,0.10500000000000001,0.10750000000000001,0.11,0.1125,0.115,0.11750000000000001,0.12000000000000001,0.1225,0.125,0.1275,0.13,0.1325,0.135,0.1375,0.14,0.14250000000000002,0.14500000000000002,0.14750000000000002,0.15000000000000002,0.15250000000000002,0.15500000000000003,0.15750000000000003,0.16000000000000003,0.16250000000000003,0.16500000000000004,0.16750000000000004,0.17,0.17250000000000001,0.17500000000000002,0.17750000000000002,0.18000000000000002,0.18250000000000002,0.18500000000000003,0.18750000000000003,0.19000000000000003,0.19250000000000003,0.195,0.1975,0.2,0.2025,0.20500000000000002,0.20750000000000002,0.21000000000000002,0.21250000000000002,0.21500000000000002,0.21750000000000003,0.22,0.2225,0.225,0.2275,0.23,0.2325,0.23500000000000001,0.23750000000000002,0.24000000000000002,0.24250000000000002,0.245,0.2475,0.25,0.2525,0.255,0.2575,0.26,0.2625,0.265,0.2675,0.27,0.2725,0.275,0.2775,0.28,0.2825,0.28500000000000003,0.2875,0.29,0.2925,0.295,0.2975,0.3,0.3025,0.305,0.3075,0.31,0.3125,0.315,0.3175,0.32,0.3225,0.325,0.3275,0.32999999999999996,0.3325,0.33499999999999996,0.33749999999999997,0.33999999999999997,0.34249999999999997,0.345,0.3475,0.35,0.39999999999999997,0.44999999999999996,0.49999999999999994,0.5499999999999999,0.6,0.65,0.7000000000000001,0.7500000000000001,0.8000000000000002,0.8500000000000002,0.9000000000000002,0.9500000000000003,1.0000000000000002],\"xaxis\":\"x\",\"y\":[60.0,55.2,50.881,46.9941675,43.49563455625,40.345992984421876,37.50984089141254,34.95537531658389,32.654026293942906,30.580128123500792,28.71062406831008,27.02480107839247,25.504051488365455,24.131658946030246,22.892606108070545,21.77340188954068,20.761926278876544,19.847290932333628,19.01971394337003,18.270407345639263,17.591476054815494,16.975827086129204,16.417088002759826,15.90953365647476,15.44802037734373,15.027926855092817,14.645101031680055,14.295812393860626,13.976709116661034,13.68477956451315,13.417317706953575,13.17189205084849,12.946317731577576,12.738631441968707,12.547068910436101,12.370044669114748,12.206133879140566,12.054056003902454,11.912660142361576,11.780911853639752,11.657881321242536,11.542732720701004,11.434714668267027,11.333151640739102,11.237436267672974,11.147022407271972,11.061418926271642,10.98018411223585,10.902920653960187,10.829271132217077,10.75891396895071,10.69155978830637,10.626948147618672,10.564844600741203,10.50503805992507,10.447338425889937,10.391574458817837,10.33759186577287,10.285251582540763,10.234428230119917,10.185008728105622,10.136891049014803,10.089983099220785,10.044201713624677,9.99947175249899,9.955725290114954,9.912900885821374,9.870942929191695,9.829801051708452,9.789429598219963,9.749787152092049,9.710836108595483,9.67254229162498,9.634874609344203,9.597804744799227,9.561306877945281,9.525357435893126,9.489934868506097,9.455019446770628,9.420593081625041,9.386639161166888,9.353142404370487,9.320088729636398,9.287465136665086,9.255259600300446,9.223460975126498,9.192058909724288,9.161043769607188,9.130406567952564,9.100138903337518,9.070232903766916,9.040681176354337,9.011476762081529,8.98261309512042,8.954083966254148,8.925883489980698,8.898006074925133,8.87044639722434,8.843199376582469,8.81626015472586,8.789624076013881,8.763286669986801,8.737243635654151,8.711490827346939,8.686024241975069,8.660840007547453,8.635934372826771,8.611303698003864,8.586944446288424,8.562853176323166,8.539026535338083,8.515461252969866,8.492154135679202,8.46910206170547,8.446301976504536,8.423750888620832,8.401445865949889,8.379384032351943,8.357562564581222,8.33597868949912,8.314629681542716,8.293512860422958,8.272625589029476,8.251965271521295,8.231529351584852,8.211315310842586,8.19132066739708,8.17154297449727,8.15197981931455,8.132628821817939,8.11348763373845,8.094553937613904,8.075825445906258,8.057299900184345,8.038975070365652,8.020848754011359,8.00291877566952,7.985182986261727,7.967639262509074,7.950285506393707,7.933119644652555,7.59351931760651,7.327447082766942,7.118888876569537,6.955509917898837,6.827422510546616,6.727107405861403,6.648435382077407,6.5868481532283845,6.5385206211756035,6.5007168488210905,6.471022490946965,6.447825024808341,6.429571961464956],\"yaxis\":\"y\",\"type\":\"scatter\"},{\"hovertemplate\":\"Chemical=B<br>SYSTEM TIME=%{x}<br>concentration=%{y}<extra></extra>\",\"legendgroup\":\"B\",\"line\":{\"color\":\"red\",\"dash\":\"solid\"},\"marker\":{\"symbol\":\"circle\"},\"mode\":\"lines\",\"name\":\"B\",\"orientation\":\"v\",\"showlegend\":true,\"x\":[0.0,0.0025,0.005,0.0075,0.01,0.0125,0.015,0.0175,0.02,0.0225,0.025,0.0275,0.03,0.0325,0.035,0.0375,0.04,0.0425,0.045,0.0475,0.05,0.052500000000000005,0.055,0.0575,0.060000000000000005,0.0625,0.065,0.0675,0.07,0.07250000000000001,0.07500000000000001,0.0775,0.08,0.0825,0.085,0.0875,0.09,0.0925,0.095,0.0975,0.1,0.10250000000000001,0.10500000000000001,0.10750000000000001,0.11,0.1125,0.115,0.11750000000000001,0.12000000000000001,0.1225,0.125,0.1275,0.13,0.1325,0.135,0.1375,0.14,0.14250000000000002,0.14500000000000002,0.14750000000000002,0.15000000000000002,0.15250000000000002,0.15500000000000003,0.15750000000000003,0.16000000000000003,0.16250000000000003,0.16500000000000004,0.16750000000000004,0.17,0.17250000000000001,0.17500000000000002,0.17750000000000002,0.18000000000000002,0.18250000000000002,0.18500000000000003,0.18750000000000003,0.19000000000000003,0.19250000000000003,0.195,0.1975,0.2,0.2025,0.20500000000000002,0.20750000000000002,0.21000000000000002,0.21250000000000002,0.21500000000000002,0.21750000000000003,0.22,0.2225,0.225,0.2275,0.23,0.2325,0.23500000000000001,0.23750000000000002,0.24000000000000002,0.24250000000000002,0.245,0.2475,0.25,0.2525,0.255,0.2575,0.26,0.2625,0.265,0.2675,0.27,0.2725,0.275,0.2775,0.28,0.2825,0.28500000000000003,0.2875,0.29,0.2925,0.295,0.2975,0.3,0.3025,0.305,0.3075,0.31,0.3125,0.315,0.3175,0.32,0.3225,0.325,0.3275,0.32999999999999996,0.3325,0.33499999999999996,0.33749999999999997,0.33999999999999997,0.34249999999999997,0.345,0.3475,0.35,0.39999999999999997,0.44999999999999996,0.49999999999999994,0.5499999999999999,0.6,0.65,0.7000000000000001,0.7500000000000001,0.8000000000000002,0.8500000000000002,0.9000000000000002,0.9500000000000003,1.0000000000000002],\"xaxis\":\"x\",\"y\":[0.0,4.85,9.182375,13.0500228125,16.50045963359375,19.5763672872207,22.31608482421767,24.754050134286533,26.921196653666012,28.845309734467584,30.551346777359946,32.061724812219005,33.39657883670132,34.57399388613594,35.610213505788785,36.51982702495594,37.31593778836042,38.01031428115445,38.61352588694195,39.135064841369086,39.58345578494754,39.96635417604791,40.29063469678604,40.56247066934748,40.7874053968293,40.97041624973313,41.115972235748764,41.22808571546293,41.31035885924993,41.366025380073886,41.39798802255997,41.408852239848294,41.40095644586686,41.37639919124451,41.337063575676716,41.28463917774993,41.22064175465666,41.146430938565864,41.06322613335516,40.972120794698235,40.87409525789351,40.77002826110516,40.660707296671816,40.54683790965001,40.429052050641815,40.30791557907143,40.183935003297,40.05756353516022,39.9292065286852,39.79922636554994,39.66794684358585,39.53565711884062,39.40261524660127,39.26905136215813,39.13517053794358,39.00115534995479,38.867168183023004,38.7333533014861,38.59983870912077,38.4667378197649,38.33415095788154,38.20216670635831,38.07086311707778,37.94030879821431,37.8105638907942,37.68168094578081,37.553705711801555,37.426677842604605,37.300631532409334,37.17559608648416,37.05159643353993,36.928653585856786,36.8067850524611,36.68600521012799,36.56632563649964,36.44775540917335,36.33030137422111,36.21396838725091,36.09875952980321,35.9846763035924,35.871718804847525,35.759885880777496,35.64917526998001,35.53958372842839,35.431107142504345,35.323740630395484,35.21747863304212,35.112314995697574,35.008243041057945,34.90525563482,34.80334524443867,34.70250399177693,34.60272370027075,34.503995937168064,34.40631205134413,34.30966320714451,34.214040414660865,34.119434556803775,34.025836413499476,33.93323668330443,33.84162600270148,33.750994963314724,33.661334127256005,33.57263404079425,33.484885246519454,33.3980782941557,33.3122037501617,33.227252206243456,33.14321428689083,33.06008065603851,32.977842022941495,32.89648914734625,32.81601284403024,32.736403986775194,32.65765351183291,32.57975242093618,32.502691783902314,32.42646274087173,32.35105650421979,32.27646436017624,32.20267767018296,32.12968787201771,32.05748648070886,31.986065089263032,31.915415369226082,31.845529071095097,31.7763980245977,31.708014138853056,31.640369402427627,31.57345588329732,31.5072657287265,31.441791165073273,31.377024497529433,31.312958109802697,31.249584463747937,31.186896098953554,31.124885632288414,31.063545757414254,31.00286924426792,30.942848938517393,30.883477760995106,29.70889668332712,28.788392815574255,28.0671081096014,27.501821153214795,27.058902280473433,26.711749563985624,26.439773456187073,26.226573782781585,26.05957305381613,25.92863150059905,25.8260962984413,25.7456674408749,25.682721141518723],\"yaxis\":\"y\",\"type\":\"scatter\"},{\"hovertemplate\":\"Chemical=C<br>SYSTEM TIME=%{x}<br>concentration=%{y}<extra></extra>\",\"legendgroup\":\"C\",\"line\":{\"color\":\"green\",\"dash\":\"solid\"},\"marker\":{\"symbol\":\"circle\"},\"mode\":\"lines\",\"name\":\"C\",\"orientation\":\"v\",\"showlegend\":true,\"x\":[0.0,0.0025,0.005,0.0075,0.01,0.0125,0.015,0.0175,0.02,0.0225,0.025,0.0275,0.03,0.0325,0.035,0.0375,0.04,0.0425,0.045,0.0475,0.05,0.052500000000000005,0.055,0.0575,0.060000000000000005,0.0625,0.065,0.0675,0.07,0.07250000000000001,0.07500000000000001,0.0775,0.08,0.0825,0.085,0.0875,0.09,0.0925,0.095,0.0975,0.1,0.10250000000000001,0.10500000000000001,0.10750000000000001,0.11,0.1125,0.115,0.11750000000000001,0.12000000000000001,0.1225,0.125,0.1275,0.13,0.1325,0.135,0.1375,0.14,0.14250000000000002,0.14500000000000002,0.14750000000000002,0.15000000000000002,0.15250000000000002,0.15500000000000003,0.15750000000000003,0.16000000000000003,0.16250000000000003,0.16500000000000004,0.16750000000000004,0.17,0.17250000000000001,0.17500000000000002,0.17750000000000002,0.18000000000000002,0.18250000000000002,0.18500000000000003,0.18750000000000003,0.19000000000000003,0.19250000000000003,0.195,0.1975,0.2,0.2025,0.20500000000000002,0.20750000000000002,0.21000000000000002,0.21250000000000002,0.21500000000000002,0.21750000000000003,0.22,0.2225,0.225,0.2275,0.23,0.2325,0.23500000000000001,0.23750000000000002,0.24000000000000002,0.24250000000000002,0.245,0.2475,0.25,0.2525,0.255,0.2575,0.26,0.2625,0.265,0.2675,0.27,0.2725,0.275,0.2775,0.28,0.2825,0.28500000000000003,0.2875,0.29,0.2925,0.295,0.2975,0.3,0.3025,0.305,0.3075,0.31,0.3125,0.315,0.3175,0.32,0.3225,0.325,0.3275,0.32999999999999996,0.3325,0.33499999999999996,0.33749999999999997,0.33999999999999997,0.34249999999999997,0.345,0.3475,0.35,0.39999999999999997,0.44999999999999996,0.49999999999999994,0.5499999999999999,0.6,0.65,0.7000000000000001,0.7500000000000001,0.8000000000000002,0.8500000000000002,0.9000000000000002,0.9500000000000003,1.0000000000000002],\"xaxis\":\"x\",\"y\":[10.0,9.95,9.936625,9.955809687499999,10.00390581015625,10.077639728357422,10.17407428436979,10.290574549129575,10.424777052391077,10.574562142031617,10.738029154329965,10.913474109388515,11.099369674933214,11.29434716783381,11.49718038614066,11.706771085503371,11.922135932763023,12.142394786511911,12.36676016968801,12.594527812991634,12.825068160236944,13.057818737822865,13.29227730045411,13.527995674177735,13.764574225826951,14.001656895174037,14.238926732571166,14.476101890676425,14.712932024089016,14.949195055412945,15.184694270486434,15.4192557093032,15.652725822555547,15.884969366786772,16.11586751388717,16.34531615313531,16.57322436620276,16.79951305753167,17.024113724283254,17.246967351662,17.468023420863933,17.687239018193814,17.904578035061135,18.120010449610866,18.333511681685188,18.545062013656576,18.754646070431328,18.962252352603898,19.16787281735458,19.371502502232946,19.573139187463408,19.772783092852986,19.970436605780026,20.166104037100634,20.359791402131318,20.55150622415524,20.741257358159125,20.929054832741002,21.114909708338445,21.29883395011516,21.480840314012813,21.66094224462686,21.839153783701413,22.015489488160988,22.18996435670679,22.36259376410421,22.533393402377047,22.702379228203675,22.86956741588219,23.034974315295848,23.198616414368,23.36051030554771,23.5206726559139,23.679120180527786,23.835869618701107,23.990937712881347,24.14434118988574,24.29609674424297,24.446221023426137,24.59473061478253,24.741642033985563,24.886971714851992,25.030736000383563,25.172951134906494,25.313633257195175,25.45279839447798,25.590462457233556,25.726641234695204,25.86135039098946,25.994605461842447,26.126421851794383,26.256814831868702,26.385799537647685,26.513390967711477,26.63960398240168,26.764453302874752,26.88795351041396,27.010119045971848,27.130964209918016,27.25050316196967,27.368749921284614,27.485718366698453,27.60142223708982,27.71587513185879,27.829090511505456,27.941081698296824,28.051861877011508,28.161444095752664,28.269841266820727,28.377066167638304,28.483131441720403,28.588049599683863,28.69183302029054,28.794493951519314,28.89604451166253,28.996496690442964,29.09586235014777,29.194153226776297,29.291380931198955,29.38755695032461,29.482692648274305,29.576799267559306,29.66988793026164,29.76196963921565,29.853055279189043,29.943155618062292,30.032281308005192,30.12044288664965,30.207650778257797,30.293915294884716,30.379246637535022,30.463654897312797,30.54715005656428,30.62974199001293,30.711440465886387,30.792255147035064,30.87219559204204,30.95127125632399,31.029491493222977,31.106865555088874,31.183402594352316,32.69758399906635,33.884160101658786,34.814003013829044,35.54266892888635,36.113675208979934,36.561143030152955,36.9117911617355,37.18657806399001,37.40190632500825,37.57065165057984,37.702881210611714,37.80650753431674,37.8877068970163],\"yaxis\":\"y\",\"type\":\"scatter\"}],                        {\"template\":{\"data\":{\"histogram2dcontour\":[{\"type\":\"histogram2dcontour\",\"colorbar\":{\"outlinewidth\":0,\"ticks\":\"\"},\"colorscale\":[[0.0,\"#0d0887\"],[0.1111111111111111,\"#46039f\"],[0.2222222222222222,\"#7201a8\"],[0.3333333333333333,\"#9c179e\"],[0.4444444444444444,\"#bd3786\"],[0.5555555555555556,\"#d8576b\"],[0.6666666666666666,\"#ed7953\"],[0.7777777777777778,\"#fb9f3a\"],[0.8888888888888888,\"#fdca26\"],[1.0,\"#f0f921\"]]}],\"choropleth\":[{\"type\":\"choropleth\",\"colorbar\":{\"outlinewidth\":0,\"ticks\":\"\"}}],\"histogram2d\":[{\"type\":\"histogram2d\",\"colorbar\":{\"outlinewidth\":0,\"ticks\":\"\"},\"colorscale\":[[0.0,\"#0d0887\"],[0.1111111111111111,\"#46039f\"],[0.2222222222222222,\"#7201a8\"],[0.3333333333333333,\"#9c179e\"],[0.4444444444444444,\"#bd3786\"],[0.5555555555555556,\"#d8576b\"],[0.6666666666666666,\"#ed7953\"],[0.7777777777777778,\"#fb9f3a\"],[0.8888888888888888,\"#fdca26\"],[1.0,\"#f0f921\"]]}],\"heatmap\":[{\"type\":\"heatmap\",\"colorbar\":{\"outlinewidth\":0,\"ticks\":\"\"},\"colorscale\":[[0.0,\"#0d0887\"],[0.1111111111111111,\"#46039f\"],[0.2222222222222222,\"#7201a8\"],[0.3333333333333333,\"#9c179e\"],[0.4444444444444444,\"#bd3786\"],[0.5555555555555556,\"#d8576b\"],[0.6666666666666666,\"#ed7953\"],[0.7777777777777778,\"#fb9f3a\"],[0.8888888888888888,\"#fdca26\"],[1.0,\"#f0f921\"]]}],\"heatmapgl\":[{\"type\":\"heatmapgl\",\"colorbar\":{\"outlinewidth\":0,\"ticks\":\"\"},\"colorscale\":[[0.0,\"#0d0887\"],[0.1111111111111111,\"#46039f\"],[0.2222222222222222,\"#7201a8\"],[0.3333333333333333,\"#9c179e\"],[0.4444444444444444,\"#bd3786\"],[0.5555555555555556,\"#d8576b\"],[0.6666666666666666,\"#ed7953\"],[0.7777777777777778,\"#fb9f3a\"],[0.8888888888888888,\"#fdca26\"],[1.0,\"#f0f921\"]]}],\"contourcarpet\":[{\"type\":\"contourcarpet\",\"colorbar\":{\"outlinewidth\":0,\"ticks\":\"\"}}],\"contour\":[{\"type\":\"contour\",\"colorbar\":{\"outlinewidth\":0,\"ticks\":\"\"},\"colorscale\":[[0.0,\"#0d0887\"],[0.1111111111111111,\"#46039f\"],[0.2222222222222222,\"#7201a8\"],[0.3333333333333333,\"#9c179e\"],[0.4444444444444444,\"#bd3786\"],[0.5555555555555556,\"#d8576b\"],[0.6666666666666666,\"#ed7953\"],[0.7777777777777778,\"#fb9f3a\"],[0.8888888888888888,\"#fdca26\"],[1.0,\"#f0f921\"]]}],\"surface\":[{\"type\":\"surface\",\"colorbar\":{\"outlinewidth\":0,\"ticks\":\"\"},\"colorscale\":[[0.0,\"#0d0887\"],[0.1111111111111111,\"#46039f\"],[0.2222222222222222,\"#7201a8\"],[0.3333333333333333,\"#9c179e\"],[0.4444444444444444,\"#bd3786\"],[0.5555555555555556,\"#d8576b\"],[0.6666666666666666,\"#ed7953\"],[0.7777777777777778,\"#fb9f3a\"],[0.8888888888888888,\"#fdca26\"],[1.0,\"#f0f921\"]]}],\"mesh3d\":[{\"type\":\"mesh3d\",\"colorbar\":{\"outlinewidth\":0,\"ticks\":\"\"}}],\"scatter\":[{\"fillpattern\":{\"fillmode\":\"overlay\",\"size\":10,\"solidity\":0.2},\"type\":\"scatter\"}],\"parcoords\":[{\"type\":\"parcoords\",\"line\":{\"colorbar\":{\"outlinewidth\":0,\"ticks\":\"\"}}}],\"scatterpolargl\":[{\"type\":\"scatterpolargl\",\"marker\":{\"colorbar\":{\"outlinewidth\":0,\"ticks\":\"\"}}}],\"bar\":[{\"error_x\":{\"color\":\"#2a3f5f\"},\"error_y\":{\"color\":\"#2a3f5f\"},\"marker\":{\"line\":{\"color\":\"#E5ECF6\",\"width\":0.5},\"pattern\":{\"fillmode\":\"overlay\",\"size\":10,\"solidity\":0.2}},\"type\":\"bar\"}],\"scattergeo\":[{\"type\":\"scattergeo\",\"marker\":{\"colorbar\":{\"outlinewidth\":0,\"ticks\":\"\"}}}],\"scatterpolar\":[{\"type\":\"scatterpolar\",\"marker\":{\"colorbar\":{\"outlinewidth\":0,\"ticks\":\"\"}}}],\"histogram\":[{\"marker\":{\"pattern\":{\"fillmode\":\"overlay\",\"size\":10,\"solidity\":0.2}},\"type\":\"histogram\"}],\"scattergl\":[{\"type\":\"scattergl\",\"marker\":{\"colorbar\":{\"outlinewidth\":0,\"ticks\":\"\"}}}],\"scatter3d\":[{\"type\":\"scatter3d\",\"line\":{\"colorbar\":{\"outlinewidth\":0,\"ticks\":\"\"}},\"marker\":{\"colorbar\":{\"outlinewidth\":0,\"ticks\":\"\"}}}],\"scattermapbox\":[{\"type\":\"scattermapbox\",\"marker\":{\"colorbar\":{\"outlinewidth\":0,\"ticks\":\"\"}}}],\"scatterternary\":[{\"type\":\"scatterternary\",\"marker\":{\"colorbar\":{\"outlinewidth\":0,\"ticks\":\"\"}}}],\"scattercarpet\":[{\"type\":\"scattercarpet\",\"marker\":{\"colorbar\":{\"outlinewidth\":0,\"ticks\":\"\"}}}],\"carpet\":[{\"aaxis\":{\"endlinecolor\":\"#2a3f5f\",\"gridcolor\":\"white\",\"linecolor\":\"white\",\"minorgridcolor\":\"white\",\"startlinecolor\":\"#2a3f5f\"},\"baxis\":{\"endlinecolor\":\"#2a3f5f\",\"gridcolor\":\"white\",\"linecolor\":\"white\",\"minorgridcolor\":\"white\",\"startlinecolor\":\"#2a3f5f\"},\"type\":\"carpet\"}],\"table\":[{\"cells\":{\"fill\":{\"color\":\"#EBF0F8\"},\"line\":{\"color\":\"white\"}},\"header\":{\"fill\":{\"color\":\"#C8D4E3\"},\"line\":{\"color\":\"white\"}},\"type\":\"table\"}],\"barpolar\":[{\"marker\":{\"line\":{\"color\":\"#E5ECF6\",\"width\":0.5},\"pattern\":{\"fillmode\":\"overlay\",\"size\":10,\"solidity\":0.2}},\"type\":\"barpolar\"}],\"pie\":[{\"automargin\":true,\"type\":\"pie\"}]},\"layout\":{\"autotypenumbers\":\"strict\",\"colorway\":[\"#636efa\",\"#EF553B\",\"#00cc96\",\"#ab63fa\",\"#FFA15A\",\"#19d3f3\",\"#FF6692\",\"#B6E880\",\"#FF97FF\",\"#FECB52\"],\"font\":{\"color\":\"#2a3f5f\"},\"hovermode\":\"closest\",\"hoverlabel\":{\"align\":\"left\"},\"paper_bgcolor\":\"white\",\"plot_bgcolor\":\"#E5ECF6\",\"polar\":{\"bgcolor\":\"#E5ECF6\",\"angularaxis\":{\"gridcolor\":\"white\",\"linecolor\":\"white\",\"ticks\":\"\"},\"radialaxis\":{\"gridcolor\":\"white\",\"linecolor\":\"white\",\"ticks\":\"\"}},\"ternary\":{\"bgcolor\":\"#E5ECF6\",\"aaxis\":{\"gridcolor\":\"white\",\"linecolor\":\"white\",\"ticks\":\"\"},\"baxis\":{\"gridcolor\":\"white\",\"linecolor\":\"white\",\"ticks\":\"\"},\"caxis\":{\"gridcolor\":\"white\",\"linecolor\":\"white\",\"ticks\":\"\"}},\"coloraxis\":{\"colorbar\":{\"outlinewidth\":0,\"ticks\":\"\"}},\"colorscale\":{\"sequential\":[[0.0,\"#0d0887\"],[0.1111111111111111,\"#46039f\"],[0.2222222222222222,\"#7201a8\"],[0.3333333333333333,\"#9c179e\"],[0.4444444444444444,\"#bd3786\"],[0.5555555555555556,\"#d8576b\"],[0.6666666666666666,\"#ed7953\"],[0.7777777777777778,\"#fb9f3a\"],[0.8888888888888888,\"#fdca26\"],[1.0,\"#f0f921\"]],\"sequentialminus\":[[0.0,\"#0d0887\"],[0.1111111111111111,\"#46039f\"],[0.2222222222222222,\"#7201a8\"],[0.3333333333333333,\"#9c179e\"],[0.4444444444444444,\"#bd3786\"],[0.5555555555555556,\"#d8576b\"],[0.6666666666666666,\"#ed7953\"],[0.7777777777777778,\"#fb9f3a\"],[0.8888888888888888,\"#fdca26\"],[1.0,\"#f0f921\"]],\"diverging\":[[0,\"#8e0152\"],[0.1,\"#c51b7d\"],[0.2,\"#de77ae\"],[0.3,\"#f1b6da\"],[0.4,\"#fde0ef\"],[0.5,\"#f7f7f7\"],[0.6,\"#e6f5d0\"],[0.7,\"#b8e186\"],[0.8,\"#7fbc41\"],[0.9,\"#4d9221\"],[1,\"#276419\"]]},\"xaxis\":{\"gridcolor\":\"white\",\"linecolor\":\"white\",\"ticks\":\"\",\"title\":{\"standoff\":15},\"zerolinecolor\":\"white\",\"automargin\":true,\"zerolinewidth\":2},\"yaxis\":{\"gridcolor\":\"white\",\"linecolor\":\"white\",\"ticks\":\"\",\"title\":{\"standoff\":15},\"zerolinecolor\":\"white\",\"automargin\":true,\"zerolinewidth\":2},\"scene\":{\"xaxis\":{\"backgroundcolor\":\"#E5ECF6\",\"gridcolor\":\"white\",\"linecolor\":\"white\",\"showbackground\":true,\"ticks\":\"\",\"zerolinecolor\":\"white\",\"gridwidth\":2},\"yaxis\":{\"backgroundcolor\":\"#E5ECF6\",\"gridcolor\":\"white\",\"linecolor\":\"white\",\"showbackground\":true,\"ticks\":\"\",\"zerolinecolor\":\"white\",\"gridwidth\":2},\"zaxis\":{\"backgroundcolor\":\"#E5ECF6\",\"gridcolor\":\"white\",\"linecolor\":\"white\",\"showbackground\":true,\"ticks\":\"\",\"zerolinecolor\":\"white\",\"gridwidth\":2}},\"shapedefaults\":{\"line\":{\"color\":\"#2a3f5f\"}},\"annotationdefaults\":{\"arrowcolor\":\"#2a3f5f\",\"arrowhead\":0,\"arrowwidth\":1},\"geo\":{\"bgcolor\":\"white\",\"landcolor\":\"#E5ECF6\",\"subunitcolor\":\"white\",\"showland\":true,\"showlakes\":true,\"lakecolor\":\"white\"},\"title\":{\"x\":0.05},\"mapbox\":{\"style\":\"light\"}}},\"xaxis\":{\"anchor\":\"y\",\"domain\":[0.0,1.0],\"title\":{\"text\":\"SYSTEM TIME\"}},\"yaxis\":{\"anchor\":\"x\",\"domain\":[0.0,1.0],\"title\":{\"text\":\"concentration\"}},\"legend\":{\"title\":{\"text\":\"Chemical\"},\"tracegroupgap\":0},\"title\":{\"text\":\"Coupled reactions A <-> B and B <-> C\"}},                        {\"responsive\": true}                    ).then(function(){\n",
       "                            \n",
       "var gd = document.getElementById('8634fd29-d297-401a-a0d7-fb9be9c29d27');\n",
       "var x = new MutationObserver(function (mutations, observer) {{\n",
       "        var display = window.getComputedStyle(gd).display;\n",
       "        if (!display || display === 'none') {{\n",
       "            console.log([gd, 'removed!']);\n",
       "            Plotly.purge(gd);\n",
       "            observer.disconnect();\n",
       "        }}\n",
       "}});\n",
       "\n",
       "// Listen for the removal of the full notebook cells\n",
       "var notebookContainer = gd.closest('#notebook-container');\n",
       "if (notebookContainer) {{\n",
       "    x.observe(notebookContainer, {childList: true});\n",
       "}}\n",
       "\n",
       "// Listen for the clearing of the current output cell\n",
       "var outputEl = gd.closest('.output');\n",
       "if (outputEl) {{\n",
       "    x.observe(outputEl, {childList: true});\n",
       "}}\n",
       "\n",
       "                        })                };                });            </script>        </div>"
      ]
     },
     "metadata": {},
     "output_type": "display_data"
    }
   ],
   "source": [
    "fig = px.line(data_frame=dynamics.get_history(), x=\"SYSTEM TIME\", y=[\"A\", \"B\", \"C\"], \n",
    "              title=\"Coupled reactions A <-> B and B <-> C\",\n",
    "              color_discrete_sequence = ['blue', 'red', 'green'],\n",
    "              labels={\"value\":\"concentration\", \"variable\":\"Chemical\"})\n",
    "fig.show()"
   ]
  },
  {
   "cell_type": "markdown",
   "id": "5c3f8b4f-3a75-4a21-8579-13550bcebb3c",
   "metadata": {},
   "source": [
    "#### For diagnostic insight, uncomment the following lines:"
   ]
  },
  {
   "cell_type": "code",
   "execution_count": 21,
   "id": "10af1095-a320-4fa4-a45e-e1f3f87203c9",
   "metadata": {},
   "outputs": [],
   "source": [
    "#dynamics.examine_run(df=df, time_step=0.01)  \n",
    "# the time step MUST match the value used in call to single_compartment_react()\n",
    "\n",
    "#dynamics.diagnose_variable_time_steps()\n",
    "\n",
    "#dynamics.diagnostic_data.get()\n",
    "\n",
    "#dynamics.diagnostic_data_baselines.get()"
   ]
  },
  {
   "cell_type": "code",
   "execution_count": null,
   "id": "71f62382-f07a-416d-876f-97832c1f79e5",
   "metadata": {},
   "outputs": [],
   "source": []
  }
 ],
 "metadata": {
  "kernelspec": {
   "display_name": "Python 3 (ipykernel)",
   "language": "python",
   "name": "python3"
  },
  "language_info": {
   "codemirror_mode": {
    "name": "ipython",
    "version": 3
   },
   "file_extension": ".py",
   "mimetype": "text/x-python",
   "name": "python",
   "nbconvert_exporter": "python",
   "pygments_lexer": "ipython3",
   "version": "3.8.10"
  }
 },
 "nbformat": 4,
 "nbformat_minor": 5
}
