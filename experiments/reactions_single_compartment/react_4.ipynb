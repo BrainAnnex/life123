{
 "cells": [
  {
   "cell_type": "markdown",
   "id": "3bbe8002-bdf3-490c-bde0-80dd3713a3d0",
   "metadata": {},
   "source": [
    "## Association/Dissociation reaction `2A <-> C`\n",
    "#### with 2nd-order kinetics for `A`,  \n",
    "#### and 1-st order kinetics for `C`\n",
    "\n",
    "Taken to equilibrium.  (Adaptive variable time substeps are used)\n",
    "\n",
    "_See also the experiment \"1D/reactions/reaction_7\"_ \n",
    "\n",
    "LAST REVISED: Mar. 7, 2023"
   ]
  },
  {
   "cell_type": "code",
   "execution_count": 1,
   "id": "13e55c1d-609f-4bf0-a004-6c45bcfcbc99",
   "metadata": {},
   "outputs": [
    {
     "name": "stdout",
     "output_type": "stream",
     "text": [
      "Added 'D:\\Docs\\- MY CODE\\BioSimulations\\life123-Win7' to sys.path\n"
     ]
    }
   ],
   "source": [
    "# Extend the sys.path variable, to contain the project's root directory\n",
    "import set_path\n",
    "set_path.add_ancestor_dir_to_syspath(2)  # The number of levels to go up \n",
    "                                         # to reach the project's home, from the folder containing this notebook"
   ]
  },
  {
   "cell_type": "code",
   "execution_count": 2,
   "id": "bdad128a-9214-46f5-aeb9-a7b77c81aa3e",
   "metadata": {
    "tags": []
   },
   "outputs": [],
   "source": [
    "from experiments.get_notebook_info import get_notebook_basename\n",
    "\n",
    "from src.modules.reactions.reaction_data import ReactionData as chem\n",
    "from src.modules.reactions.reaction_dynamics import ReactionDynamics\n",
    "\n",
    "import numpy as np\n",
    "import plotly.express as px\n",
    "from src.modules.visualization.graphic_log import GraphicLog"
   ]
  },
  {
   "cell_type": "code",
   "execution_count": 3,
   "id": "83c3cc5f-de21-4f66-9988-2806fbf0666d",
   "metadata": {
    "tags": []
   },
   "outputs": [
    {
     "name": "stdout",
     "output_type": "stream",
     "text": [
      "-> Output will be LOGGED into the file 'react_4.log.htm'\n"
     ]
    }
   ],
   "source": [
    "# Initialize the HTML logging (for the graphics)\n",
    "log_file = get_notebook_basename() + \".log.htm\"    # Use the notebook base filename for the log file\n",
    "\n",
    "# Set up the use of some specified graphic (Vue) components\n",
    "GraphicLog.config(filename=log_file,\n",
    "                  components=[\"vue_cytoscape_1\"],\n",
    "                  extra_js=\"https://cdnjs.cloudflare.com/ajax/libs/cytoscape/3.21.2/cytoscape.umd.js\")"
   ]
  },
  {
   "cell_type": "markdown",
   "id": "9329208b-070f-4902-8f37-0f11ddf75ed6",
   "metadata": {},
   "source": [
    "# Initialize the System\n",
    "Specify the chemicals and the reactions"
   ]
  },
  {
   "cell_type": "code",
   "execution_count": 4,
   "id": "72b4245c-de4e-480d-a501-3495b7ed8bc4",
   "metadata": {
    "tags": []
   },
   "outputs": [
    {
     "name": "stdout",
     "output_type": "stream",
     "text": [
      "Number of reactions:  1\n"
     ]
    }
   ],
   "source": [
    "# Specify the chemicals\n",
    "chem_data = chem(names=[\"A\", \"C\"])\n",
    "\n",
    "# Reaction 2A <-> C , with 2nd-order kinetics for A, and 1st-order kinetics for C\n",
    "chem_data.add_reaction(reactants=[(2, \"A\", 2)], products=[\"C\"],\n",
    "                       forward_rate=3., reverse_rate=2.)   \n",
    "# Note: the first 2 in (2, \"A\", 2) is the stoichiometry coefficient, while the other one is the order\n",
    "\n",
    "print(\"Number of reactions: \", chem_data.number_of_reactions())"
   ]
  },
  {
   "cell_type": "code",
   "execution_count": 5,
   "id": "00ea560d-9a49-4041-b119-6de11bfcc7af",
   "metadata": {},
   "outputs": [
    {
     "name": "stdout",
     "output_type": "stream",
     "text": [
      "Number of reactions: 1 (at temp. 25 C)\n",
      "0: 2 A <-> C  (kF = 3 / kR = 2 / Delta_G = -1,005.13 / K = 1.5) | 2-th order in reactant A\n"
     ]
    }
   ],
   "source": [
    "chem_data.describe_reactions()"
   ]
  },
  {
   "cell_type": "code",
   "execution_count": 6,
   "id": "cb582868-431c-4022-aa0e-a2f554f80d6c",
   "metadata": {},
   "outputs": [
    {
     "name": "stdout",
     "output_type": "stream",
     "text": [
      "[GRAPHIC ELEMENT SENT TO LOG FILE `react_4.log.htm`]\n"
     ]
    }
   ],
   "source": [
    "# Send a plot of the network of reactions to the HTML log file\n",
    "graph_data = chem_data.prepare_graph_network()\n",
    "GraphicLog.export_plot(graph_data, \"vue_cytoscape_1\")"
   ]
  },
  {
   "cell_type": "markdown",
   "id": "98a9fbe5-2090-4d38-9c5f-94fbf7c3eae2",
   "metadata": {},
   "source": [
    "# Start the simulation"
   ]
  },
  {
   "cell_type": "code",
   "execution_count": 7,
   "id": "c2f4a554-807b-49f9-8ca2-8d929fe6eeef",
   "metadata": {},
   "outputs": [],
   "source": [
    "dynamics = ReactionDynamics(reaction_data=chem_data)"
   ]
  },
  {
   "cell_type": "code",
   "execution_count": 8,
   "id": "ae304704-c8d9-4cef-9e0b-2587bb3909ef",
   "metadata": {},
   "outputs": [],
   "source": [
    "# Initial concentrations of all the chemicals, in index order\n",
    "dynamics.set_conc([200., 40.], snapshot=True)"
   ]
  },
  {
   "cell_type": "code",
   "execution_count": 9,
   "id": "a605dacf-2c67-403e-9aa9-5be25fc9f481",
   "metadata": {},
   "outputs": [
    {
     "name": "stdout",
     "output_type": "stream",
     "text": [
      "SYSTEM STATE at Time t = 0:\n",
      "2 species:\n",
      "  Species 0 (A). Conc: 200.0\n",
      "  Species 1 (C). Conc: 40.0\n"
     ]
    }
   ],
   "source": [
    "dynamics.describe_state()"
   ]
  },
  {
   "cell_type": "code",
   "execution_count": 10,
   "id": "0ff2c242-a15b-456d-ad56-0ba1041c0b4c",
   "metadata": {},
   "outputs": [
    {
     "data": {
      "text/html": [
       "<div>\n",
       "<style scoped>\n",
       "    .dataframe tbody tr th:only-of-type {\n",
       "        vertical-align: middle;\n",
       "    }\n",
       "\n",
       "    .dataframe tbody tr th {\n",
       "        vertical-align: top;\n",
       "    }\n",
       "\n",
       "    .dataframe thead th {\n",
       "        text-align: right;\n",
       "    }\n",
       "</style>\n",
       "<table border=\"1\" class=\"dataframe\">\n",
       "  <thead>\n",
       "    <tr style=\"text-align: right;\">\n",
       "      <th></th>\n",
       "      <th>SYSTEM TIME</th>\n",
       "      <th>A</th>\n",
       "      <th>C</th>\n",
       "      <th>caption</th>\n",
       "    </tr>\n",
       "  </thead>\n",
       "  <tbody>\n",
       "    <tr>\n",
       "      <th>0</th>\n",
       "      <td>0.0</td>\n",
       "      <td>200.0</td>\n",
       "      <td>40.0</td>\n",
       "      <td>Initial state</td>\n",
       "    </tr>\n",
       "  </tbody>\n",
       "</table>\n",
       "</div>"
      ],
      "text/plain": [
       "   SYSTEM TIME      A     C        caption\n",
       "0          0.0  200.0  40.0  Initial state"
      ]
     },
     "execution_count": 10,
     "metadata": {},
     "output_type": "execute_result"
    }
   ],
   "source": [
    "dynamics.get_history()"
   ]
  },
  {
   "cell_type": "markdown",
   "id": "fc516ca2-e62d-4784-b826-5372ff7f4c75",
   "metadata": {
    "tags": []
   },
   "source": [
    "## Run the reaction"
   ]
  },
  {
   "cell_type": "code",
   "execution_count": 11,
   "id": "2502cd11-0df9-4303-8895-98401a1df7b8",
   "metadata": {},
   "outputs": [
    {
     "name": "stdout",
     "output_type": "stream",
     "text": [
      "single_compartment_react(): setting abs_fast_threshold to 300.0\n",
      "20 total step(s) taken\n"
     ]
    }
   ],
   "source": [
    "dynamics.set_diagnostics()       # To save diagnostic information about the call to single_compartment_react()\n",
    "#dynamics.verbose_list = [\"substeps\"]      # Uncomment for detailed run information (meant for debugging the adaptive variable time step)\n",
    "\n",
    "# The changes of concentrations vary very rapidly early on; so, we'll be using dynamic_substeps=4 , i.e. increase time resolution\n",
    "# by x4 initially, as long as the reaction remains \"fast\" (based on a threshold of 5% change)\n",
    "dynamics.single_compartment_react(time_step=0.002, reaction_duration=0.04,\n",
    "                                  snapshots={\"initial_caption\": \"1st reaction step\",\n",
    "                                             \"final_caption\": \"last reaction step\"},\n",
    "                                  dynamic_substeps=4, rel_fast_threshold=60)"
   ]
  },
  {
   "cell_type": "markdown",
   "id": "99a9a4b2-a588-4ba5-85c9-0a5a5d1dbaad",
   "metadata": {},
   "source": [
    "### Note: the argument _dynamic_step=4_ splits the time steps in 4 whenever the reaction is \"fast\" (as determined using the given value of _fast_threshold_ )"
   ]
  },
  {
   "cell_type": "code",
   "execution_count": 12,
   "id": "80fbaee3-bd6f-4197-9270-23374d46a4a7",
   "metadata": {},
   "outputs": [
    {
     "data": {
      "text/html": [
       "<div>\n",
       "<style scoped>\n",
       "    .dataframe tbody tr th:only-of-type {\n",
       "        vertical-align: middle;\n",
       "    }\n",
       "\n",
       "    .dataframe tbody tr th {\n",
       "        vertical-align: top;\n",
       "    }\n",
       "\n",
       "    .dataframe thead th {\n",
       "        text-align: right;\n",
       "    }\n",
       "</style>\n",
       "<table border=\"1\" class=\"dataframe\">\n",
       "  <thead>\n",
       "    <tr style=\"text-align: right;\">\n",
       "      <th></th>\n",
       "      <th>SYSTEM TIME</th>\n",
       "      <th>A</th>\n",
       "      <th>C</th>\n",
       "      <th>caption</th>\n",
       "    </tr>\n",
       "  </thead>\n",
       "  <tbody>\n",
       "    <tr>\n",
       "      <th>0</th>\n",
       "      <td>0.0000</td>\n",
       "      <td>200.000000</td>\n",
       "      <td>40.000000</td>\n",
       "      <td>Initial state</td>\n",
       "    </tr>\n",
       "    <tr>\n",
       "      <th>1</th>\n",
       "      <td>0.0005</td>\n",
       "      <td>80.080000</td>\n",
       "      <td>99.960000</td>\n",
       "      <td>Interm. step, due to the fast rxns: [0]</td>\n",
       "    </tr>\n",
       "    <tr>\n",
       "      <th>2</th>\n",
       "      <td>0.0010</td>\n",
       "      <td>61.041501</td>\n",
       "      <td>109.479250</td>\n",
       "      <td>Interm. step, due to the fast rxns: [0]</td>\n",
       "    </tr>\n",
       "    <tr>\n",
       "      <th>3</th>\n",
       "      <td>0.0015</td>\n",
       "      <td>50.082265</td>\n",
       "      <td>114.958868</td>\n",
       "      <td>Interm. step, due to the fast rxns: [0]</td>\n",
       "    </tr>\n",
       "    <tr>\n",
       "      <th>4</th>\n",
       "      <td>0.0020</td>\n",
       "      <td>42.787483</td>\n",
       "      <td>118.606259</td>\n",
       "      <td>1st reaction step</td>\n",
       "    </tr>\n",
       "    <tr>\n",
       "      <th>5</th>\n",
       "      <td>0.0025</td>\n",
       "      <td>37.532389</td>\n",
       "      <td>121.233805</td>\n",
       "      <td>Interm. step, due to the fast rxns: [0]</td>\n",
       "    </tr>\n",
       "    <tr>\n",
       "      <th>6</th>\n",
       "      <td>0.0030</td>\n",
       "      <td>33.548816</td>\n",
       "      <td>123.225592</td>\n",
       "      <td>Interm. step, due to the fast rxns: [0]</td>\n",
       "    </tr>\n",
       "    <tr>\n",
       "      <th>7</th>\n",
       "      <td>0.0035</td>\n",
       "      <td>30.418698</td>\n",
       "      <td>124.790651</td>\n",
       "      <td>Interm. step, due to the fast rxns: [0]</td>\n",
       "    </tr>\n",
       "    <tr>\n",
       "      <th>8</th>\n",
       "      <td>0.0040</td>\n",
       "      <td>27.892388</td>\n",
       "      <td>126.053806</td>\n",
       "      <td></td>\n",
       "    </tr>\n",
       "    <tr>\n",
       "      <th>9</th>\n",
       "      <td>0.0045</td>\n",
       "      <td>25.810540</td>\n",
       "      <td>127.094730</td>\n",
       "      <td>Interm. step, due to the fast rxns: [0]</td>\n",
       "    </tr>\n",
       "    <tr>\n",
       "      <th>10</th>\n",
       "      <td>0.0050</td>\n",
       "      <td>24.066177</td>\n",
       "      <td>127.966911</td>\n",
       "      <td>Interm. step, due to the fast rxns: [0]</td>\n",
       "    </tr>\n",
       "    <tr>\n",
       "      <th>11</th>\n",
       "      <td>0.0055</td>\n",
       "      <td>22.584568</td>\n",
       "      <td>128.707716</td>\n",
       "      <td>Interm. step, due to the fast rxns: [0]</td>\n",
       "    </tr>\n",
       "    <tr>\n",
       "      <th>12</th>\n",
       "      <td>0.0060</td>\n",
       "      <td>21.311796</td>\n",
       "      <td>129.344102</td>\n",
       "      <td></td>\n",
       "    </tr>\n",
       "    <tr>\n",
       "      <th>13</th>\n",
       "      <td>0.0065</td>\n",
       "      <td>20.207906</td>\n",
       "      <td>129.896047</td>\n",
       "      <td>Interm. step, due to the fast rxns: [0]</td>\n",
       "    </tr>\n",
       "    <tr>\n",
       "      <th>14</th>\n",
       "      <td>0.0070</td>\n",
       "      <td>19.242620</td>\n",
       "      <td>130.378690</td>\n",
       "      <td>Interm. step, due to the fast rxns: [0]</td>\n",
       "    </tr>\n",
       "    <tr>\n",
       "      <th>15</th>\n",
       "      <td>0.0075</td>\n",
       "      <td>18.392542</td>\n",
       "      <td>130.803729</td>\n",
       "      <td>Interm. step, due to the fast rxns: [0]</td>\n",
       "    </tr>\n",
       "    <tr>\n",
       "      <th>16</th>\n",
       "      <td>0.0080</td>\n",
       "      <td>17.639292</td>\n",
       "      <td>131.180354</td>\n",
       "      <td></td>\n",
       "    </tr>\n",
       "    <tr>\n",
       "      <th>17</th>\n",
       "      <td>0.0085</td>\n",
       "      <td>16.968219</td>\n",
       "      <td>131.515890</td>\n",
       "      <td>Interm. step, due to the fast rxns: [0]</td>\n",
       "    </tr>\n",
       "    <tr>\n",
       "      <th>18</th>\n",
       "      <td>0.0090</td>\n",
       "      <td>16.367490</td>\n",
       "      <td>131.816255</td>\n",
       "      <td>Interm. step, due to the fast rxns: [0]</td>\n",
       "    </tr>\n",
       "    <tr>\n",
       "      <th>19</th>\n",
       "      <td>0.0095</td>\n",
       "      <td>15.827438</td>\n",
       "      <td>132.086281</td>\n",
       "      <td>Interm. step, due to the fast rxns: [0]</td>\n",
       "    </tr>\n",
       "    <tr>\n",
       "      <th>20</th>\n",
       "      <td>0.0100</td>\n",
       "      <td>15.340087</td>\n",
       "      <td>132.329956</td>\n",
       "      <td></td>\n",
       "    </tr>\n",
       "    <tr>\n",
       "      <th>21</th>\n",
       "      <td>0.0105</td>\n",
       "      <td>14.898792</td>\n",
       "      <td>132.550604</td>\n",
       "      <td>Interm. step, due to the fast rxns: [0]</td>\n",
       "    </tr>\n",
       "    <tr>\n",
       "      <th>22</th>\n",
       "      <td>0.0110</td>\n",
       "      <td>14.497971</td>\n",
       "      <td>132.751014</td>\n",
       "      <td>Interm. step, due to the fast rxns: [0]</td>\n",
       "    </tr>\n",
       "    <tr>\n",
       "      <th>23</th>\n",
       "      <td>0.0115</td>\n",
       "      <td>14.132900</td>\n",
       "      <td>132.933550</td>\n",
       "      <td>Interm. step, due to the fast rxns: [0]</td>\n",
       "    </tr>\n",
       "    <tr>\n",
       "      <th>24</th>\n",
       "      <td>0.0120</td>\n",
       "      <td>13.799550</td>\n",
       "      <td>133.100225</td>\n",
       "      <td></td>\n",
       "    </tr>\n",
       "    <tr>\n",
       "      <th>25</th>\n",
       "      <td>0.0125</td>\n",
       "      <td>13.494468</td>\n",
       "      <td>133.252766</td>\n",
       "      <td>Interm. step, due to the fast rxns: [0]</td>\n",
       "    </tr>\n",
       "    <tr>\n",
       "      <th>26</th>\n",
       "      <td>0.0130</td>\n",
       "      <td>13.214672</td>\n",
       "      <td>133.392664</td>\n",
       "      <td>Interm. step, due to the fast rxns: [0]</td>\n",
       "    </tr>\n",
       "    <tr>\n",
       "      <th>27</th>\n",
       "      <td>0.0135</td>\n",
       "      <td>12.957574</td>\n",
       "      <td>133.521213</td>\n",
       "      <td>Interm. step, due to the fast rxns: [0]</td>\n",
       "    </tr>\n",
       "    <tr>\n",
       "      <th>28</th>\n",
       "      <td>0.0140</td>\n",
       "      <td>12.720921</td>\n",
       "      <td>133.639540</td>\n",
       "      <td></td>\n",
       "    </tr>\n",
       "    <tr>\n",
       "      <th>29</th>\n",
       "      <td>0.0145</td>\n",
       "      <td>12.502734</td>\n",
       "      <td>133.748633</td>\n",
       "      <td>Interm. step, due to the fast rxns: [0]</td>\n",
       "    </tr>\n",
       "    <tr>\n",
       "      <th>30</th>\n",
       "      <td>0.0150</td>\n",
       "      <td>12.301276</td>\n",
       "      <td>133.849362</td>\n",
       "      <td>Interm. step, due to the fast rxns: [0]</td>\n",
       "    </tr>\n",
       "    <tr>\n",
       "      <th>31</th>\n",
       "      <td>0.0155</td>\n",
       "      <td>12.115011</td>\n",
       "      <td>133.942495</td>\n",
       "      <td>Interm. step, due to the fast rxns: [0]</td>\n",
       "    </tr>\n",
       "    <tr>\n",
       "      <th>32</th>\n",
       "      <td>0.0160</td>\n",
       "      <td>11.942575</td>\n",
       "      <td>134.028712</td>\n",
       "      <td></td>\n",
       "    </tr>\n",
       "    <tr>\n",
       "      <th>33</th>\n",
       "      <td>0.0165</td>\n",
       "      <td>11.782758</td>\n",
       "      <td>134.108621</td>\n",
       "      <td>Interm. step, due to the fast rxns: [0]</td>\n",
       "    </tr>\n",
       "    <tr>\n",
       "      <th>34</th>\n",
       "      <td>0.0170</td>\n",
       "      <td>11.634475</td>\n",
       "      <td>134.182763</td>\n",
       "      <td>Interm. step, due to the fast rxns: [0]</td>\n",
       "    </tr>\n",
       "    <tr>\n",
       "      <th>35</th>\n",
       "      <td>0.0175</td>\n",
       "      <td>11.496757</td>\n",
       "      <td>134.251621</td>\n",
       "      <td>Interm. step, due to the fast rxns: [0]</td>\n",
       "    </tr>\n",
       "    <tr>\n",
       "      <th>36</th>\n",
       "      <td>0.0180</td>\n",
       "      <td>11.368734</td>\n",
       "      <td>134.315633</td>\n",
       "      <td></td>\n",
       "    </tr>\n",
       "    <tr>\n",
       "      <th>37</th>\n",
       "      <td>0.0200</td>\n",
       "      <td>10.892282</td>\n",
       "      <td>134.553859</td>\n",
       "      <td></td>\n",
       "    </tr>\n",
       "    <tr>\n",
       "      <th>38</th>\n",
       "      <td>0.0220</td>\n",
       "      <td>10.545011</td>\n",
       "      <td>134.727494</td>\n",
       "      <td></td>\n",
       "    </tr>\n",
       "    <tr>\n",
       "      <th>39</th>\n",
       "      <td>0.0240</td>\n",
       "      <td>10.288464</td>\n",
       "      <td>134.855768</td>\n",
       "      <td></td>\n",
       "    </tr>\n",
       "    <tr>\n",
       "      <th>40</th>\n",
       "      <td>0.0260</td>\n",
       "      <td>10.097080</td>\n",
       "      <td>134.951460</td>\n",
       "      <td></td>\n",
       "    </tr>\n",
       "    <tr>\n",
       "      <th>41</th>\n",
       "      <td>0.0280</td>\n",
       "      <td>9.953280</td>\n",
       "      <td>135.023360</td>\n",
       "      <td></td>\n",
       "    </tr>\n",
       "    <tr>\n",
       "      <th>42</th>\n",
       "      <td>0.0300</td>\n",
       "      <td>9.844653</td>\n",
       "      <td>135.077673</td>\n",
       "      <td></td>\n",
       "    </tr>\n",
       "    <tr>\n",
       "      <th>43</th>\n",
       "      <td>0.0320</td>\n",
       "      <td>9.762268</td>\n",
       "      <td>135.118866</td>\n",
       "      <td></td>\n",
       "    </tr>\n",
       "    <tr>\n",
       "      <th>44</th>\n",
       "      <td>0.0340</td>\n",
       "      <td>9.699597</td>\n",
       "      <td>135.150202</td>\n",
       "      <td></td>\n",
       "    </tr>\n",
       "    <tr>\n",
       "      <th>45</th>\n",
       "      <td>0.0360</td>\n",
       "      <td>9.651812</td>\n",
       "      <td>135.174094</td>\n",
       "      <td></td>\n",
       "    </tr>\n",
       "    <tr>\n",
       "      <th>46</th>\n",
       "      <td>0.0380</td>\n",
       "      <td>9.615315</td>\n",
       "      <td>135.192342</td>\n",
       "      <td></td>\n",
       "    </tr>\n",
       "    <tr>\n",
       "      <th>47</th>\n",
       "      <td>0.0400</td>\n",
       "      <td>9.587402</td>\n",
       "      <td>135.206299</td>\n",
       "      <td>last reaction step</td>\n",
       "    </tr>\n",
       "  </tbody>\n",
       "</table>\n",
       "</div>"
      ],
      "text/plain": [
       "    SYSTEM TIME           A           C  \\\n",
       "0        0.0000  200.000000   40.000000   \n",
       "1        0.0005   80.080000   99.960000   \n",
       "2        0.0010   61.041501  109.479250   \n",
       "3        0.0015   50.082265  114.958868   \n",
       "4        0.0020   42.787483  118.606259   \n",
       "5        0.0025   37.532389  121.233805   \n",
       "6        0.0030   33.548816  123.225592   \n",
       "7        0.0035   30.418698  124.790651   \n",
       "8        0.0040   27.892388  126.053806   \n",
       "9        0.0045   25.810540  127.094730   \n",
       "10       0.0050   24.066177  127.966911   \n",
       "11       0.0055   22.584568  128.707716   \n",
       "12       0.0060   21.311796  129.344102   \n",
       "13       0.0065   20.207906  129.896047   \n",
       "14       0.0070   19.242620  130.378690   \n",
       "15       0.0075   18.392542  130.803729   \n",
       "16       0.0080   17.639292  131.180354   \n",
       "17       0.0085   16.968219  131.515890   \n",
       "18       0.0090   16.367490  131.816255   \n",
       "19       0.0095   15.827438  132.086281   \n",
       "20       0.0100   15.340087  132.329956   \n",
       "21       0.0105   14.898792  132.550604   \n",
       "22       0.0110   14.497971  132.751014   \n",
       "23       0.0115   14.132900  132.933550   \n",
       "24       0.0120   13.799550  133.100225   \n",
       "25       0.0125   13.494468  133.252766   \n",
       "26       0.0130   13.214672  133.392664   \n",
       "27       0.0135   12.957574  133.521213   \n",
       "28       0.0140   12.720921  133.639540   \n",
       "29       0.0145   12.502734  133.748633   \n",
       "30       0.0150   12.301276  133.849362   \n",
       "31       0.0155   12.115011  133.942495   \n",
       "32       0.0160   11.942575  134.028712   \n",
       "33       0.0165   11.782758  134.108621   \n",
       "34       0.0170   11.634475  134.182763   \n",
       "35       0.0175   11.496757  134.251621   \n",
       "36       0.0180   11.368734  134.315633   \n",
       "37       0.0200   10.892282  134.553859   \n",
       "38       0.0220   10.545011  134.727494   \n",
       "39       0.0240   10.288464  134.855768   \n",
       "40       0.0260   10.097080  134.951460   \n",
       "41       0.0280    9.953280  135.023360   \n",
       "42       0.0300    9.844653  135.077673   \n",
       "43       0.0320    9.762268  135.118866   \n",
       "44       0.0340    9.699597  135.150202   \n",
       "45       0.0360    9.651812  135.174094   \n",
       "46       0.0380    9.615315  135.192342   \n",
       "47       0.0400    9.587402  135.206299   \n",
       "\n",
       "                                    caption  \n",
       "0                             Initial state  \n",
       "1   Interm. step, due to the fast rxns: [0]  \n",
       "2   Interm. step, due to the fast rxns: [0]  \n",
       "3   Interm. step, due to the fast rxns: [0]  \n",
       "4                         1st reaction step  \n",
       "5   Interm. step, due to the fast rxns: [0]  \n",
       "6   Interm. step, due to the fast rxns: [0]  \n",
       "7   Interm. step, due to the fast rxns: [0]  \n",
       "8                                            \n",
       "9   Interm. step, due to the fast rxns: [0]  \n",
       "10  Interm. step, due to the fast rxns: [0]  \n",
       "11  Interm. step, due to the fast rxns: [0]  \n",
       "12                                           \n",
       "13  Interm. step, due to the fast rxns: [0]  \n",
       "14  Interm. step, due to the fast rxns: [0]  \n",
       "15  Interm. step, due to the fast rxns: [0]  \n",
       "16                                           \n",
       "17  Interm. step, due to the fast rxns: [0]  \n",
       "18  Interm. step, due to the fast rxns: [0]  \n",
       "19  Interm. step, due to the fast rxns: [0]  \n",
       "20                                           \n",
       "21  Interm. step, due to the fast rxns: [0]  \n",
       "22  Interm. step, due to the fast rxns: [0]  \n",
       "23  Interm. step, due to the fast rxns: [0]  \n",
       "24                                           \n",
       "25  Interm. step, due to the fast rxns: [0]  \n",
       "26  Interm. step, due to the fast rxns: [0]  \n",
       "27  Interm. step, due to the fast rxns: [0]  \n",
       "28                                           \n",
       "29  Interm. step, due to the fast rxns: [0]  \n",
       "30  Interm. step, due to the fast rxns: [0]  \n",
       "31  Interm. step, due to the fast rxns: [0]  \n",
       "32                                           \n",
       "33  Interm. step, due to the fast rxns: [0]  \n",
       "34  Interm. step, due to the fast rxns: [0]  \n",
       "35  Interm. step, due to the fast rxns: [0]  \n",
       "36                                           \n",
       "37                                           \n",
       "38                                           \n",
       "39                                           \n",
       "40                                           \n",
       "41                                           \n",
       "42                                           \n",
       "43                                           \n",
       "44                                           \n",
       "45                                           \n",
       "46                                           \n",
       "47                       last reaction step  "
      ]
     },
     "execution_count": 12,
     "metadata": {},
     "output_type": "execute_result"
    }
   ],
   "source": [
    "df = dynamics.get_history()\n",
    "df"
   ]
  },
  {
   "cell_type": "code",
   "execution_count": 13,
   "id": "071a9544-639a-40f7-92bc-3a20050c9c00",
   "metadata": {},
   "outputs": [
    {
     "name": "stdout",
     "output_type": "stream",
     "text": [
      "From time 0 to 0.018, in 36 substeps of 0.0005 (each 1/4 of full step)\n",
      "From time 0.018 to 0.04, in 11 FULL steps of 0.002\n"
     ]
    }
   ],
   "source": [
    "dynamics.explain_time_advance()"
   ]
  },
  {
   "cell_type": "markdown",
   "id": "9fb5f6b8-dde3-415d-9e90-b8d102bfd748",
   "metadata": {},
   "source": [
    "### Notice how the reaction proceeds in smaller steps in the early times, when the concentrations are changing much more rapidly"
   ]
  },
  {
   "cell_type": "code",
   "execution_count": 14,
   "id": "12118fdd-5e81-42e5-b271-818f8d686b79",
   "metadata": {},
   "outputs": [
    {
     "data": {
      "text/plain": [
       "(array([200.0, 40.0], dtype=object),\n",
       " array([80.08, 99.96000000000001], dtype=object))"
      ]
     },
     "execution_count": 14,
     "metadata": {},
     "output_type": "execute_result"
    }
   ],
   "source": [
    "# Let's look at the first two arrays of concentrations, from the run's history\n",
    "arr0 = dynamics.get_historical_concentrations(0)\n",
    "arr1 = dynamics.get_historical_concentrations(1)\n",
    "arr0, arr1"
   ]
  },
  {
   "cell_type": "code",
   "execution_count": 15,
   "id": "a2450ae8-e342-4adf-9330-ce86a1dfcbeb",
   "metadata": {},
   "outputs": [
    {
     "data": {
      "text/plain": [
       "True"
      ]
     },
     "execution_count": 15,
     "metadata": {},
     "output_type": "execute_result"
    }
   ],
   "source": [
    "# Let's verify that the stoichiometry is being respected\n",
    "dynamics.stoichiometry_checker(rxn_index=0, \n",
    "                               conc_arr_before = arr0, \n",
    "                               conc_arr_after = arr1)"
   ]
  },
  {
   "cell_type": "markdown",
   "id": "bf6dc3ed-5999-4379-8ae1-05f73e2a670d",
   "metadata": {},
   "source": [
    "#### Indeed, it can be easy checked that the drop in [A] is -119.920000 , twice the 59.96 increase in [C], as dictated by the stoichiometry"
   ]
  },
  {
   "cell_type": "code",
   "execution_count": 16,
   "id": "4ccfa79c-0bd4-40f0-be82-2da19523cd40",
   "metadata": {},
   "outputs": [
    {
     "data": {
      "text/plain": [
       "TIME                   0.0\n",
       "Delta A            -119.92\n",
       "Delta C              59.96\n",
       "reaction                 0\n",
       "substep                  0\n",
       "time_subdivision         4\n",
       "delta_time          0.0005\n",
       "caption                   \n",
       "Name: 0, dtype: object"
      ]
     },
     "execution_count": 16,
     "metadata": {},
     "output_type": "execute_result"
    }
   ],
   "source": [
    "dynamics.diagnostic_rxn_data[0].get().loc[0]    # Conveniently seen in the diagnostic data"
   ]
  },
  {
   "cell_type": "markdown",
   "id": "b1366038-2dea-4d69-a655-ae464ca22922",
   "metadata": {},
   "source": [
    "## Note: \"A\" (now largely depleted) is the limiting reagent"
   ]
  },
  {
   "cell_type": "markdown",
   "id": "c02a8f55-a671-4771-86c9-fc4d1b126bf8",
   "metadata": {},
   "source": [
    "### Check the final equilibrium"
   ]
  },
  {
   "cell_type": "code",
   "execution_count": 17,
   "id": "765f6f39-4b2e-4a86-b6a9-ace9d1941663",
   "metadata": {},
   "outputs": [
    {
     "name": "stdout",
     "output_type": "stream",
     "text": [
      "2 A <-> C\n",
      "Final concentrations:  [C] = 135.2 ; [A] = 9.587\n",
      "1. Ratio of reactant/product concentrations, adjusted for reaction orders: 1.47094\n",
      "    Formula used:  [C] / [A]^2 \n",
      "2. Ratio of forward/reverse reaction rates: 1.5\n",
      "Discrepancy between the two values: 1.937 %\n",
      "Reaction IS in equilibrium (within 2% tolerance)\n",
      "\n"
     ]
    },
    {
     "data": {
      "text/plain": [
       "True"
      ]
     },
     "execution_count": 17,
     "metadata": {},
     "output_type": "execute_result"
    }
   ],
   "source": [
    "# Verify that the reaction has reached equilibrium\n",
    "dynamics.is_in_equilibrium(tolerance=2)"
   ]
  },
  {
   "cell_type": "markdown",
   "id": "6ac3dd4e-9dd0-4d3a-aa83-76102bd79524",
   "metadata": {
    "tags": []
   },
   "source": [
    "## Plots of changes of concentration with time"
   ]
  },
  {
   "cell_type": "code",
   "execution_count": 21,
   "id": "21e4814e-5603-4d38-acc8-549b1d59ec93",
   "metadata": {},
   "outputs": [
    {
     "data": {
      "application/vnd.plotly.v1+json": {
       "config": {
        "plotlyServerURL": "https://plot.ly"
       },
       "data": [
        {
         "hovertemplate": "Chemical=A<br>SYSTEM TIME=%{x}<br>concentration=%{y}<extra></extra>",
         "legendgroup": "A",
         "line": {
          "color": "red",
          "dash": "solid"
         },
         "marker": {
          "symbol": "circle"
         },
         "mode": "lines",
         "name": "A",
         "orientation": "v",
         "showlegend": true,
         "type": "scatter",
         "x": [
          0,
          0.0005,
          0.001,
          0.0015,
          0.002,
          0.0025,
          0.003,
          0.0035,
          0.004,
          0.0045000000000000005,
          0.005,
          0.0055,
          0.006,
          0.006500000000000001,
          0.007,
          0.0075,
          0.008,
          0.0085,
          0.009000000000000001,
          0.0095,
          0.01,
          0.0105,
          0.011,
          0.0115,
          0.012,
          0.0125,
          0.013000000000000001,
          0.0135,
          0.014,
          0.0145,
          0.015,
          0.0155,
          0.016,
          0.0165,
          0.017,
          0.0175,
          0.018000000000000002,
          0.020000000000000004,
          0.022000000000000006,
          0.024000000000000007,
          0.02600000000000001,
          0.02800000000000001,
          0.030000000000000013,
          0.032000000000000015,
          0.034000000000000016,
          0.03600000000000002,
          0.03800000000000002,
          0.04000000000000002
         ],
         "xaxis": "x",
         "y": [
          200,
          80.08,
          61.041500799999994,
          50.082264839450794,
          42.78748282026467,
          37.53238927916107,
          33.54881615487446,
          30.418698142538886,
          27.892387854335652,
          25.81053956583124,
          24.06617716822739,
          22.584568340581637,
          21.311795590849847,
          20.207905901340496,
          19.24261961268686,
          18.39254176439849,
          17.639292444968664,
          16.96821923864631,
          16.367489627015363,
          15.827437987316982,
          15.34008716960257,
          14.898792259319952,
          14.497971434701515,
          14.13289993610255,
          13.799550454354787,
          13.494468125673581,
          13.214671647563447,
          12.957574335657132,
          12.720920563329233,
          12.502734182830306,
          12.301276362507936,
          12.115010885705038,
          11.94257540853708,
          11.782757510962758,
          11.634474629765348,
          11.496757155403623,
          11.368734122977246,
          10.89228179977797,
          10.545011038909566,
          10.288463901025233,
          10.09708017210874,
          9.953279515396407,
          9.844653119995504,
          9.762268166879077,
          9.699596537066833,
          9.65181207513602,
          9.615315110830577,
          9.587402434220454
         ],
         "yaxis": "y"
        },
        {
         "hovertemplate": "Chemical=C<br>SYSTEM TIME=%{x}<br>concentration=%{y}<extra></extra>",
         "legendgroup": "C",
         "line": {
          "color": "green",
          "dash": "solid"
         },
         "marker": {
          "symbol": "circle"
         },
         "mode": "lines",
         "name": "C",
         "orientation": "v",
         "showlegend": true,
         "type": "scatter",
         "x": [
          0,
          0.0005,
          0.001,
          0.0015,
          0.002,
          0.0025,
          0.003,
          0.0035,
          0.004,
          0.0045000000000000005,
          0.005,
          0.0055,
          0.006,
          0.006500000000000001,
          0.007,
          0.0075,
          0.008,
          0.0085,
          0.009000000000000001,
          0.0095,
          0.01,
          0.0105,
          0.011,
          0.0115,
          0.012,
          0.0125,
          0.013000000000000001,
          0.0135,
          0.014,
          0.0145,
          0.015,
          0.0155,
          0.016,
          0.0165,
          0.017,
          0.0175,
          0.018000000000000002,
          0.020000000000000004,
          0.022000000000000006,
          0.024000000000000007,
          0.02600000000000001,
          0.02800000000000001,
          0.030000000000000013,
          0.032000000000000015,
          0.034000000000000016,
          0.03600000000000002,
          0.03800000000000002,
          0.04000000000000002
         ],
         "xaxis": "x",
         "y": [
          40,
          99.96000000000001,
          109.4792496,
          114.9588675802746,
          118.60625858986766,
          121.23380536041947,
          123.22559192256277,
          124.79065092873056,
          126.05380607283217,
          127.09473021708438,
          127.9669114158863,
          128.70771582970917,
          129.34410220457508,
          129.89604704932975,
          130.37869019365658,
          130.80372911780077,
          131.18035377751568,
          131.51589038067686,
          131.81625518649233,
          132.08628100634152,
          132.32995641519872,
          132.55060387034004,
          132.75101428264927,
          132.93355003194876,
          133.10022477282263,
          133.25276593716322,
          133.3926641762183,
          133.52121283217144,
          133.6395397183354,
          133.74863290858488,
          133.84936181874608,
          133.9424945571475,
          134.02871229573148,
          134.10862124451864,
          134.18276268511735,
          134.25162142229823,
          134.31563293851138,
          134.55385910011103,
          134.72749448054523,
          134.8557680494874,
          134.95145991394565,
          135.02336024230183,
          135.0776734400023,
          135.1188659165605,
          135.15020173146664,
          135.17409396243204,
          135.19234244458477,
          135.20629878288983
         ],
         "yaxis": "y"
        }
       ],
       "layout": {
        "autosize": true,
        "legend": {
         "title": {
          "text": "Chemical"
         },
         "tracegroupgap": 0
        },
        "template": {
         "data": {
          "bar": [
           {
            "error_x": {
             "color": "#2a3f5f"
            },
            "error_y": {
             "color": "#2a3f5f"
            },
            "marker": {
             "line": {
              "color": "#E5ECF6",
              "width": 0.5
             },
             "pattern": {
              "fillmode": "overlay",
              "size": 10,
              "solidity": 0.2
             }
            },
            "type": "bar"
           }
          ],
          "barpolar": [
           {
            "marker": {
             "line": {
              "color": "#E5ECF6",
              "width": 0.5
             },
             "pattern": {
              "fillmode": "overlay",
              "size": 10,
              "solidity": 0.2
             }
            },
            "type": "barpolar"
           }
          ],
          "carpet": [
           {
            "aaxis": {
             "endlinecolor": "#2a3f5f",
             "gridcolor": "white",
             "linecolor": "white",
             "minorgridcolor": "white",
             "startlinecolor": "#2a3f5f"
            },
            "baxis": {
             "endlinecolor": "#2a3f5f",
             "gridcolor": "white",
             "linecolor": "white",
             "minorgridcolor": "white",
             "startlinecolor": "#2a3f5f"
            },
            "type": "carpet"
           }
          ],
          "choropleth": [
           {
            "colorbar": {
             "outlinewidth": 0,
             "ticks": ""
            },
            "type": "choropleth"
           }
          ],
          "contour": [
           {
            "colorbar": {
             "outlinewidth": 0,
             "ticks": ""
            },
            "colorscale": [
             [
              0,
              "#0d0887"
             ],
             [
              0.1111111111111111,
              "#46039f"
             ],
             [
              0.2222222222222222,
              "#7201a8"
             ],
             [
              0.3333333333333333,
              "#9c179e"
             ],
             [
              0.4444444444444444,
              "#bd3786"
             ],
             [
              0.5555555555555556,
              "#d8576b"
             ],
             [
              0.6666666666666666,
              "#ed7953"
             ],
             [
              0.7777777777777778,
              "#fb9f3a"
             ],
             [
              0.8888888888888888,
              "#fdca26"
             ],
             [
              1,
              "#f0f921"
             ]
            ],
            "type": "contour"
           }
          ],
          "contourcarpet": [
           {
            "colorbar": {
             "outlinewidth": 0,
             "ticks": ""
            },
            "type": "contourcarpet"
           }
          ],
          "heatmap": [
           {
            "colorbar": {
             "outlinewidth": 0,
             "ticks": ""
            },
            "colorscale": [
             [
              0,
              "#0d0887"
             ],
             [
              0.1111111111111111,
              "#46039f"
             ],
             [
              0.2222222222222222,
              "#7201a8"
             ],
             [
              0.3333333333333333,
              "#9c179e"
             ],
             [
              0.4444444444444444,
              "#bd3786"
             ],
             [
              0.5555555555555556,
              "#d8576b"
             ],
             [
              0.6666666666666666,
              "#ed7953"
             ],
             [
              0.7777777777777778,
              "#fb9f3a"
             ],
             [
              0.8888888888888888,
              "#fdca26"
             ],
             [
              1,
              "#f0f921"
             ]
            ],
            "type": "heatmap"
           }
          ],
          "heatmapgl": [
           {
            "colorbar": {
             "outlinewidth": 0,
             "ticks": ""
            },
            "colorscale": [
             [
              0,
              "#0d0887"
             ],
             [
              0.1111111111111111,
              "#46039f"
             ],
             [
              0.2222222222222222,
              "#7201a8"
             ],
             [
              0.3333333333333333,
              "#9c179e"
             ],
             [
              0.4444444444444444,
              "#bd3786"
             ],
             [
              0.5555555555555556,
              "#d8576b"
             ],
             [
              0.6666666666666666,
              "#ed7953"
             ],
             [
              0.7777777777777778,
              "#fb9f3a"
             ],
             [
              0.8888888888888888,
              "#fdca26"
             ],
             [
              1,
              "#f0f921"
             ]
            ],
            "type": "heatmapgl"
           }
          ],
          "histogram": [
           {
            "marker": {
             "pattern": {
              "fillmode": "overlay",
              "size": 10,
              "solidity": 0.2
             }
            },
            "type": "histogram"
           }
          ],
          "histogram2d": [
           {
            "colorbar": {
             "outlinewidth": 0,
             "ticks": ""
            },
            "colorscale": [
             [
              0,
              "#0d0887"
             ],
             [
              0.1111111111111111,
              "#46039f"
             ],
             [
              0.2222222222222222,
              "#7201a8"
             ],
             [
              0.3333333333333333,
              "#9c179e"
             ],
             [
              0.4444444444444444,
              "#bd3786"
             ],
             [
              0.5555555555555556,
              "#d8576b"
             ],
             [
              0.6666666666666666,
              "#ed7953"
             ],
             [
              0.7777777777777778,
              "#fb9f3a"
             ],
             [
              0.8888888888888888,
              "#fdca26"
             ],
             [
              1,
              "#f0f921"
             ]
            ],
            "type": "histogram2d"
           }
          ],
          "histogram2dcontour": [
           {
            "colorbar": {
             "outlinewidth": 0,
             "ticks": ""
            },
            "colorscale": [
             [
              0,
              "#0d0887"
             ],
             [
              0.1111111111111111,
              "#46039f"
             ],
             [
              0.2222222222222222,
              "#7201a8"
             ],
             [
              0.3333333333333333,
              "#9c179e"
             ],
             [
              0.4444444444444444,
              "#bd3786"
             ],
             [
              0.5555555555555556,
              "#d8576b"
             ],
             [
              0.6666666666666666,
              "#ed7953"
             ],
             [
              0.7777777777777778,
              "#fb9f3a"
             ],
             [
              0.8888888888888888,
              "#fdca26"
             ],
             [
              1,
              "#f0f921"
             ]
            ],
            "type": "histogram2dcontour"
           }
          ],
          "mesh3d": [
           {
            "colorbar": {
             "outlinewidth": 0,
             "ticks": ""
            },
            "type": "mesh3d"
           }
          ],
          "parcoords": [
           {
            "line": {
             "colorbar": {
              "outlinewidth": 0,
              "ticks": ""
             }
            },
            "type": "parcoords"
           }
          ],
          "pie": [
           {
            "automargin": true,
            "type": "pie"
           }
          ],
          "scatter": [
           {
            "fillpattern": {
             "fillmode": "overlay",
             "size": 10,
             "solidity": 0.2
            },
            "type": "scatter"
           }
          ],
          "scatter3d": [
           {
            "line": {
             "colorbar": {
              "outlinewidth": 0,
              "ticks": ""
             }
            },
            "marker": {
             "colorbar": {
              "outlinewidth": 0,
              "ticks": ""
             }
            },
            "type": "scatter3d"
           }
          ],
          "scattercarpet": [
           {
            "marker": {
             "colorbar": {
              "outlinewidth": 0,
              "ticks": ""
             }
            },
            "type": "scattercarpet"
           }
          ],
          "scattergeo": [
           {
            "marker": {
             "colorbar": {
              "outlinewidth": 0,
              "ticks": ""
             }
            },
            "type": "scattergeo"
           }
          ],
          "scattergl": [
           {
            "marker": {
             "colorbar": {
              "outlinewidth": 0,
              "ticks": ""
             }
            },
            "type": "scattergl"
           }
          ],
          "scattermapbox": [
           {
            "marker": {
             "colorbar": {
              "outlinewidth": 0,
              "ticks": ""
             }
            },
            "type": "scattermapbox"
           }
          ],
          "scatterpolar": [
           {
            "marker": {
             "colorbar": {
              "outlinewidth": 0,
              "ticks": ""
             }
            },
            "type": "scatterpolar"
           }
          ],
          "scatterpolargl": [
           {
            "marker": {
             "colorbar": {
              "outlinewidth": 0,
              "ticks": ""
             }
            },
            "type": "scatterpolargl"
           }
          ],
          "scatterternary": [
           {
            "marker": {
             "colorbar": {
              "outlinewidth": 0,
              "ticks": ""
             }
            },
            "type": "scatterternary"
           }
          ],
          "surface": [
           {
            "colorbar": {
             "outlinewidth": 0,
             "ticks": ""
            },
            "colorscale": [
             [
              0,
              "#0d0887"
             ],
             [
              0.1111111111111111,
              "#46039f"
             ],
             [
              0.2222222222222222,
              "#7201a8"
             ],
             [
              0.3333333333333333,
              "#9c179e"
             ],
             [
              0.4444444444444444,
              "#bd3786"
             ],
             [
              0.5555555555555556,
              "#d8576b"
             ],
             [
              0.6666666666666666,
              "#ed7953"
             ],
             [
              0.7777777777777778,
              "#fb9f3a"
             ],
             [
              0.8888888888888888,
              "#fdca26"
             ],
             [
              1,
              "#f0f921"
             ]
            ],
            "type": "surface"
           }
          ],
          "table": [
           {
            "cells": {
             "fill": {
              "color": "#EBF0F8"
             },
             "line": {
              "color": "white"
             }
            },
            "header": {
             "fill": {
              "color": "#C8D4E3"
             },
             "line": {
              "color": "white"
             }
            },
            "type": "table"
           }
          ]
         },
         "layout": {
          "annotationdefaults": {
           "arrowcolor": "#2a3f5f",
           "arrowhead": 0,
           "arrowwidth": 1
          },
          "autotypenumbers": "strict",
          "coloraxis": {
           "colorbar": {
            "outlinewidth": 0,
            "ticks": ""
           }
          },
          "colorscale": {
           "diverging": [
            [
             0,
             "#8e0152"
            ],
            [
             0.1,
             "#c51b7d"
            ],
            [
             0.2,
             "#de77ae"
            ],
            [
             0.3,
             "#f1b6da"
            ],
            [
             0.4,
             "#fde0ef"
            ],
            [
             0.5,
             "#f7f7f7"
            ],
            [
             0.6,
             "#e6f5d0"
            ],
            [
             0.7,
             "#b8e186"
            ],
            [
             0.8,
             "#7fbc41"
            ],
            [
             0.9,
             "#4d9221"
            ],
            [
             1,
             "#276419"
            ]
           ],
           "sequential": [
            [
             0,
             "#0d0887"
            ],
            [
             0.1111111111111111,
             "#46039f"
            ],
            [
             0.2222222222222222,
             "#7201a8"
            ],
            [
             0.3333333333333333,
             "#9c179e"
            ],
            [
             0.4444444444444444,
             "#bd3786"
            ],
            [
             0.5555555555555556,
             "#d8576b"
            ],
            [
             0.6666666666666666,
             "#ed7953"
            ],
            [
             0.7777777777777778,
             "#fb9f3a"
            ],
            [
             0.8888888888888888,
             "#fdca26"
            ],
            [
             1,
             "#f0f921"
            ]
           ],
           "sequentialminus": [
            [
             0,
             "#0d0887"
            ],
            [
             0.1111111111111111,
             "#46039f"
            ],
            [
             0.2222222222222222,
             "#7201a8"
            ],
            [
             0.3333333333333333,
             "#9c179e"
            ],
            [
             0.4444444444444444,
             "#bd3786"
            ],
            [
             0.5555555555555556,
             "#d8576b"
            ],
            [
             0.6666666666666666,
             "#ed7953"
            ],
            [
             0.7777777777777778,
             "#fb9f3a"
            ],
            [
             0.8888888888888888,
             "#fdca26"
            ],
            [
             1,
             "#f0f921"
            ]
           ]
          },
          "colorway": [
           "#636efa",
           "#EF553B",
           "#00cc96",
           "#ab63fa",
           "#FFA15A",
           "#19d3f3",
           "#FF6692",
           "#B6E880",
           "#FF97FF",
           "#FECB52"
          ],
          "font": {
           "color": "#2a3f5f"
          },
          "geo": {
           "bgcolor": "white",
           "lakecolor": "white",
           "landcolor": "#E5ECF6",
           "showlakes": true,
           "showland": true,
           "subunitcolor": "white"
          },
          "hoverlabel": {
           "align": "left"
          },
          "hovermode": "closest",
          "mapbox": {
           "style": "light"
          },
          "paper_bgcolor": "white",
          "plot_bgcolor": "#E5ECF6",
          "polar": {
           "angularaxis": {
            "gridcolor": "white",
            "linecolor": "white",
            "ticks": ""
           },
           "bgcolor": "#E5ECF6",
           "radialaxis": {
            "gridcolor": "white",
            "linecolor": "white",
            "ticks": ""
           }
          },
          "scene": {
           "xaxis": {
            "backgroundcolor": "#E5ECF6",
            "gridcolor": "white",
            "gridwidth": 2,
            "linecolor": "white",
            "showbackground": true,
            "ticks": "",
            "zerolinecolor": "white"
           },
           "yaxis": {
            "backgroundcolor": "#E5ECF6",
            "gridcolor": "white",
            "gridwidth": 2,
            "linecolor": "white",
            "showbackground": true,
            "ticks": "",
            "zerolinecolor": "white"
           },
           "zaxis": {
            "backgroundcolor": "#E5ECF6",
            "gridcolor": "white",
            "gridwidth": 2,
            "linecolor": "white",
            "showbackground": true,
            "ticks": "",
            "zerolinecolor": "white"
           }
          },
          "shapedefaults": {
           "line": {
            "color": "#2a3f5f"
           }
          },
          "ternary": {
           "aaxis": {
            "gridcolor": "white",
            "linecolor": "white",
            "ticks": ""
           },
           "baxis": {
            "gridcolor": "white",
            "linecolor": "white",
            "ticks": ""
           },
           "bgcolor": "#E5ECF6",
           "caxis": {
            "gridcolor": "white",
            "linecolor": "white",
            "ticks": ""
           }
          },
          "title": {
           "x": 0.05
          },
          "xaxis": {
           "automargin": true,
           "gridcolor": "white",
           "linecolor": "white",
           "ticks": "",
           "title": {
            "standoff": 15
           },
           "zerolinecolor": "white",
           "zerolinewidth": 2
          },
          "yaxis": {
           "automargin": true,
           "gridcolor": "white",
           "linecolor": "white",
           "ticks": "",
           "title": {
            "standoff": 15
           },
           "zerolinecolor": "white",
           "zerolinewidth": 2
          }
         }
        },
        "title": {
         "text": "Reaction 2A <-> C  (2nd order in A).  Changes in concentrations with time"
        },
        "xaxis": {
         "anchor": "y",
         "autorange": true,
         "domain": [
          0,
          1
         ],
         "range": [
          0,
          0.04000000000000002
         ],
         "title": {
          "text": "SYSTEM TIME"
         },
         "type": "linear"
        },
        "yaxis": {
         "anchor": "x",
         "autorange": true,
         "domain": [
          0,
          1
         ],
         "range": [
          -0.9910752083228527,
          210.5784776425433
         ],
         "title": {
          "text": "concentration"
         },
         "type": "linear"
        }
       }
      },
      "image/png": "[encoded data removed]",
      "text/html": [
       "<div>                            <div id=\"34ce0382-ea61-4e3f-aac3-be90cfe42525\" class=\"plotly-graph-div\" style=\"height:525px; width:100%;\"></div>            <script type=\"text/javascript\">                require([\"plotly\"], function(Plotly) {                    window.PLOTLYENV=window.PLOTLYENV || {};                                    if (document.getElementById(\"34ce0382-ea61-4e3f-aac3-be90cfe42525\")) {                    Plotly.newPlot(                        \"34ce0382-ea61-4e3f-aac3-be90cfe42525\",                        [{\"hovertemplate\":\"Chemical=A<br>SYSTEM TIME=%{x}<br>concentration=%{y}<extra></extra>\",\"legendgroup\":\"A\",\"line\":{\"color\":\"red\",\"dash\":\"solid\"},\"marker\":{\"symbol\":\"circle\"},\"mode\":\"lines\",\"name\":\"A\",\"orientation\":\"v\",\"showlegend\":true,\"x\":[0.0,0.0005,0.001,0.0015,0.002,0.0025,0.003,0.0035,0.004,0.0045000000000000005,0.005,0.0055,0.006,0.006500000000000001,0.007,0.0075,0.008,0.0085,0.009000000000000001,0.0095,0.01,0.0105,0.011,0.0115,0.012,0.0125,0.013000000000000001,0.0135,0.014,0.0145,0.015,0.0155,0.016,0.0165,0.017,0.0175,0.018000000000000002,0.020000000000000004,0.022000000000000006,0.024000000000000007,0.02600000000000001,0.02800000000000001,0.030000000000000013,0.032000000000000015,0.034000000000000016,0.03600000000000002,0.03800000000000002,0.04000000000000002],\"xaxis\":\"x\",\"y\":[200.0,80.08,61.041500799999994,50.082264839450794,42.78748282026467,37.53238927916107,33.54881615487446,30.418698142538886,27.892387854335652,25.81053956583124,24.06617716822739,22.584568340581637,21.311795590849847,20.207905901340496,19.24261961268686,18.39254176439849,17.639292444968664,16.96821923864631,16.367489627015363,15.827437987316982,15.34008716960257,14.898792259319952,14.497971434701515,14.13289993610255,13.799550454354787,13.494468125673581,13.214671647563447,12.957574335657132,12.720920563329233,12.502734182830306,12.301276362507936,12.115010885705038,11.94257540853708,11.782757510962758,11.634474629765348,11.496757155403623,11.368734122977246,10.89228179977797,10.545011038909566,10.288463901025233,10.09708017210874,9.953279515396407,9.844653119995504,9.762268166879077,9.699596537066833,9.65181207513602,9.615315110830577,9.587402434220454],\"yaxis\":\"y\",\"type\":\"scatter\"},{\"hovertemplate\":\"Chemical=C<br>SYSTEM TIME=%{x}<br>concentration=%{y}<extra></extra>\",\"legendgroup\":\"C\",\"line\":{\"color\":\"green\",\"dash\":\"solid\"},\"marker\":{\"symbol\":\"circle\"},\"mode\":\"lines\",\"name\":\"C\",\"orientation\":\"v\",\"showlegend\":true,\"x\":[0.0,0.0005,0.001,0.0015,0.002,0.0025,0.003,0.0035,0.004,0.0045000000000000005,0.005,0.0055,0.006,0.006500000000000001,0.007,0.0075,0.008,0.0085,0.009000000000000001,0.0095,0.01,0.0105,0.011,0.0115,0.012,0.0125,0.013000000000000001,0.0135,0.014,0.0145,0.015,0.0155,0.016,0.0165,0.017,0.0175,0.018000000000000002,0.020000000000000004,0.022000000000000006,0.024000000000000007,0.02600000000000001,0.02800000000000001,0.030000000000000013,0.032000000000000015,0.034000000000000016,0.03600000000000002,0.03800000000000002,0.04000000000000002],\"xaxis\":\"x\",\"y\":[40.0,99.96000000000001,109.4792496,114.9588675802746,118.60625858986766,121.23380536041947,123.22559192256277,124.79065092873056,126.05380607283217,127.09473021708438,127.9669114158863,128.70771582970917,129.34410220457508,129.89604704932975,130.37869019365658,130.80372911780077,131.18035377751568,131.51589038067686,131.81625518649233,132.08628100634152,132.32995641519872,132.55060387034004,132.75101428264927,132.93355003194876,133.10022477282263,133.25276593716322,133.3926641762183,133.52121283217144,133.6395397183354,133.74863290858488,133.84936181874608,133.9424945571475,134.02871229573148,134.10862124451864,134.18276268511735,134.25162142229823,134.31563293851138,134.55385910011103,134.72749448054523,134.8557680494874,134.95145991394565,135.02336024230183,135.0776734400023,135.1188659165605,135.15020173146664,135.17409396243204,135.19234244458477,135.20629878288983],\"yaxis\":\"y\",\"type\":\"scatter\"}],                        {\"template\":{\"data\":{\"histogram2dcontour\":[{\"type\":\"histogram2dcontour\",\"colorbar\":{\"outlinewidth\":0,\"ticks\":\"\"},\"colorscale\":[[0.0,\"#0d0887\"],[0.1111111111111111,\"#46039f\"],[0.2222222222222222,\"#7201a8\"],[0.3333333333333333,\"#9c179e\"],[0.4444444444444444,\"#bd3786\"],[0.5555555555555556,\"#d8576b\"],[0.6666666666666666,\"#ed7953\"],[0.7777777777777778,\"#fb9f3a\"],[0.8888888888888888,\"#fdca26\"],[1.0,\"#f0f921\"]]}],\"choropleth\":[{\"type\":\"choropleth\",\"colorbar\":{\"outlinewidth\":0,\"ticks\":\"\"}}],\"histogram2d\":[{\"type\":\"histogram2d\",\"colorbar\":{\"outlinewidth\":0,\"ticks\":\"\"},\"colorscale\":[[0.0,\"#0d0887\"],[0.1111111111111111,\"#46039f\"],[0.2222222222222222,\"#7201a8\"],[0.3333333333333333,\"#9c179e\"],[0.4444444444444444,\"#bd3786\"],[0.5555555555555556,\"#d8576b\"],[0.6666666666666666,\"#ed7953\"],[0.7777777777777778,\"#fb9f3a\"],[0.8888888888888888,\"#fdca26\"],[1.0,\"#f0f921\"]]}],\"heatmap\":[{\"type\":\"heatmap\",\"colorbar\":{\"outlinewidth\":0,\"ticks\":\"\"},\"colorscale\":[[0.0,\"#0d0887\"],[0.1111111111111111,\"#46039f\"],[0.2222222222222222,\"#7201a8\"],[0.3333333333333333,\"#9c179e\"],[0.4444444444444444,\"#bd3786\"],[0.5555555555555556,\"#d8576b\"],[0.6666666666666666,\"#ed7953\"],[0.7777777777777778,\"#fb9f3a\"],[0.8888888888888888,\"#fdca26\"],[1.0,\"#f0f921\"]]}],\"heatmapgl\":[{\"type\":\"heatmapgl\",\"colorbar\":{\"outlinewidth\":0,\"ticks\":\"\"},\"colorscale\":[[0.0,\"#0d0887\"],[0.1111111111111111,\"#46039f\"],[0.2222222222222222,\"#7201a8\"],[0.3333333333333333,\"#9c179e\"],[0.4444444444444444,\"#bd3786\"],[0.5555555555555556,\"#d8576b\"],[0.6666666666666666,\"#ed7953\"],[0.7777777777777778,\"#fb9f3a\"],[0.8888888888888888,\"#fdca26\"],[1.0,\"#f0f921\"]]}],\"contourcarpet\":[{\"type\":\"contourcarpet\",\"colorbar\":{\"outlinewidth\":0,\"ticks\":\"\"}}],\"contour\":[{\"type\":\"contour\",\"colorbar\":{\"outlinewidth\":0,\"ticks\":\"\"},\"colorscale\":[[0.0,\"#0d0887\"],[0.1111111111111111,\"#46039f\"],[0.2222222222222222,\"#7201a8\"],[0.3333333333333333,\"#9c179e\"],[0.4444444444444444,\"#bd3786\"],[0.5555555555555556,\"#d8576b\"],[0.6666666666666666,\"#ed7953\"],[0.7777777777777778,\"#fb9f3a\"],[0.8888888888888888,\"#fdca26\"],[1.0,\"#f0f921\"]]}],\"surface\":[{\"type\":\"surface\",\"colorbar\":{\"outlinewidth\":0,\"ticks\":\"\"},\"colorscale\":[[0.0,\"#0d0887\"],[0.1111111111111111,\"#46039f\"],[0.2222222222222222,\"#7201a8\"],[0.3333333333333333,\"#9c179e\"],[0.4444444444444444,\"#bd3786\"],[0.5555555555555556,\"#d8576b\"],[0.6666666666666666,\"#ed7953\"],[0.7777777777777778,\"#fb9f3a\"],[0.8888888888888888,\"#fdca26\"],[1.0,\"#f0f921\"]]}],\"mesh3d\":[{\"type\":\"mesh3d\",\"colorbar\":{\"outlinewidth\":0,\"ticks\":\"\"}}],\"scatter\":[{\"fillpattern\":{\"fillmode\":\"overlay\",\"size\":10,\"solidity\":0.2},\"type\":\"scatter\"}],\"parcoords\":[{\"type\":\"parcoords\",\"line\":{\"colorbar\":{\"outlinewidth\":0,\"ticks\":\"\"}}}],\"scatterpolargl\":[{\"type\":\"scatterpolargl\",\"marker\":{\"colorbar\":{\"outlinewidth\":0,\"ticks\":\"\"}}}],\"bar\":[{\"error_x\":{\"color\":\"#2a3f5f\"},\"error_y\":{\"color\":\"#2a3f5f\"},\"marker\":{\"line\":{\"color\":\"#E5ECF6\",\"width\":0.5},\"pattern\":{\"fillmode\":\"overlay\",\"size\":10,\"solidity\":0.2}},\"type\":\"bar\"}],\"scattergeo\":[{\"type\":\"scattergeo\",\"marker\":{\"colorbar\":{\"outlinewidth\":0,\"ticks\":\"\"}}}],\"scatterpolar\":[{\"type\":\"scatterpolar\",\"marker\":{\"colorbar\":{\"outlinewidth\":0,\"ticks\":\"\"}}}],\"histogram\":[{\"marker\":{\"pattern\":{\"fillmode\":\"overlay\",\"size\":10,\"solidity\":0.2}},\"type\":\"histogram\"}],\"scattergl\":[{\"type\":\"scattergl\",\"marker\":{\"colorbar\":{\"outlinewidth\":0,\"ticks\":\"\"}}}],\"scatter3d\":[{\"type\":\"scatter3d\",\"line\":{\"colorbar\":{\"outlinewidth\":0,\"ticks\":\"\"}},\"marker\":{\"colorbar\":{\"outlinewidth\":0,\"ticks\":\"\"}}}],\"scattermapbox\":[{\"type\":\"scattermapbox\",\"marker\":{\"colorbar\":{\"outlinewidth\":0,\"ticks\":\"\"}}}],\"scatterternary\":[{\"type\":\"scatterternary\",\"marker\":{\"colorbar\":{\"outlinewidth\":0,\"ticks\":\"\"}}}],\"scattercarpet\":[{\"type\":\"scattercarpet\",\"marker\":{\"colorbar\":{\"outlinewidth\":0,\"ticks\":\"\"}}}],\"carpet\":[{\"aaxis\":{\"endlinecolor\":\"#2a3f5f\",\"gridcolor\":\"white\",\"linecolor\":\"white\",\"minorgridcolor\":\"white\",\"startlinecolor\":\"#2a3f5f\"},\"baxis\":{\"endlinecolor\":\"#2a3f5f\",\"gridcolor\":\"white\",\"linecolor\":\"white\",\"minorgridcolor\":\"white\",\"startlinecolor\":\"#2a3f5f\"},\"type\":\"carpet\"}],\"table\":[{\"cells\":{\"fill\":{\"color\":\"#EBF0F8\"},\"line\":{\"color\":\"white\"}},\"header\":{\"fill\":{\"color\":\"#C8D4E3\"},\"line\":{\"color\":\"white\"}},\"type\":\"table\"}],\"barpolar\":[{\"marker\":{\"line\":{\"color\":\"#E5ECF6\",\"width\":0.5},\"pattern\":{\"fillmode\":\"overlay\",\"size\":10,\"solidity\":0.2}},\"type\":\"barpolar\"}],\"pie\":[{\"automargin\":true,\"type\":\"pie\"}]},\"layout\":{\"autotypenumbers\":\"strict\",\"colorway\":[\"#636efa\",\"#EF553B\",\"#00cc96\",\"#ab63fa\",\"#FFA15A\",\"#19d3f3\",\"#FF6692\",\"#B6E880\",\"#FF97FF\",\"#FECB52\"],\"font\":{\"color\":\"#2a3f5f\"},\"hovermode\":\"closest\",\"hoverlabel\":{\"align\":\"left\"},\"paper_bgcolor\":\"white\",\"plot_bgcolor\":\"#E5ECF6\",\"polar\":{\"bgcolor\":\"#E5ECF6\",\"angularaxis\":{\"gridcolor\":\"white\",\"linecolor\":\"white\",\"ticks\":\"\"},\"radialaxis\":{\"gridcolor\":\"white\",\"linecolor\":\"white\",\"ticks\":\"\"}},\"ternary\":{\"bgcolor\":\"#E5ECF6\",\"aaxis\":{\"gridcolor\":\"white\",\"linecolor\":\"white\",\"ticks\":\"\"},\"baxis\":{\"gridcolor\":\"white\",\"linecolor\":\"white\",\"ticks\":\"\"},\"caxis\":{\"gridcolor\":\"white\",\"linecolor\":\"white\",\"ticks\":\"\"}},\"coloraxis\":{\"colorbar\":{\"outlinewidth\":0,\"ticks\":\"\"}},\"colorscale\":{\"sequential\":[[0.0,\"#0d0887\"],[0.1111111111111111,\"#46039f\"],[0.2222222222222222,\"#7201a8\"],[0.3333333333333333,\"#9c179e\"],[0.4444444444444444,\"#bd3786\"],[0.5555555555555556,\"#d8576b\"],[0.6666666666666666,\"#ed7953\"],[0.7777777777777778,\"#fb9f3a\"],[0.8888888888888888,\"#fdca26\"],[1.0,\"#f0f921\"]],\"sequentialminus\":[[0.0,\"#0d0887\"],[0.1111111111111111,\"#46039f\"],[0.2222222222222222,\"#7201a8\"],[0.3333333333333333,\"#9c179e\"],[0.4444444444444444,\"#bd3786\"],[0.5555555555555556,\"#d8576b\"],[0.6666666666666666,\"#ed7953\"],[0.7777777777777778,\"#fb9f3a\"],[0.8888888888888888,\"#fdca26\"],[1.0,\"#f0f921\"]],\"diverging\":[[0,\"#8e0152\"],[0.1,\"#c51b7d\"],[0.2,\"#de77ae\"],[0.3,\"#f1b6da\"],[0.4,\"#fde0ef\"],[0.5,\"#f7f7f7\"],[0.6,\"#e6f5d0\"],[0.7,\"#b8e186\"],[0.8,\"#7fbc41\"],[0.9,\"#4d9221\"],[1,\"#276419\"]]},\"xaxis\":{\"gridcolor\":\"white\",\"linecolor\":\"white\",\"ticks\":\"\",\"title\":{\"standoff\":15},\"zerolinecolor\":\"white\",\"automargin\":true,\"zerolinewidth\":2},\"yaxis\":{\"gridcolor\":\"white\",\"linecolor\":\"white\",\"ticks\":\"\",\"title\":{\"standoff\":15},\"zerolinecolor\":\"white\",\"automargin\":true,\"zerolinewidth\":2},\"scene\":{\"xaxis\":{\"backgroundcolor\":\"#E5ECF6\",\"gridcolor\":\"white\",\"linecolor\":\"white\",\"showbackground\":true,\"ticks\":\"\",\"zerolinecolor\":\"white\",\"gridwidth\":2},\"yaxis\":{\"backgroundcolor\":\"#E5ECF6\",\"gridcolor\":\"white\",\"linecolor\":\"white\",\"showbackground\":true,\"ticks\":\"\",\"zerolinecolor\":\"white\",\"gridwidth\":2},\"zaxis\":{\"backgroundcolor\":\"#E5ECF6\",\"gridcolor\":\"white\",\"linecolor\":\"white\",\"showbackground\":true,\"ticks\":\"\",\"zerolinecolor\":\"white\",\"gridwidth\":2}},\"shapedefaults\":{\"line\":{\"color\":\"#2a3f5f\"}},\"annotationdefaults\":{\"arrowcolor\":\"#2a3f5f\",\"arrowhead\":0,\"arrowwidth\":1},\"geo\":{\"bgcolor\":\"white\",\"landcolor\":\"#E5ECF6\",\"subunitcolor\":\"white\",\"showland\":true,\"showlakes\":true,\"lakecolor\":\"white\"},\"title\":{\"x\":0.05},\"mapbox\":{\"style\":\"light\"}}},\"xaxis\":{\"anchor\":\"y\",\"domain\":[0.0,1.0],\"title\":{\"text\":\"SYSTEM TIME\"}},\"yaxis\":{\"anchor\":\"x\",\"domain\":[0.0,1.0],\"title\":{\"text\":\"concentration\"}},\"legend\":{\"title\":{\"text\":\"Chemical\"},\"tracegroupgap\":0},\"title\":{\"text\":\"Reaction 2A <-> C  (2nd order in A).  Changes in concentrations with time\"}},                        {\"responsive\": true}                    ).then(function(){\n",
       "                            \n",
       "var gd = document.getElementById('34ce0382-ea61-4e3f-aac3-be90cfe42525');\n",
       "var x = new MutationObserver(function (mutations, observer) {{\n",
       "        var display = window.getComputedStyle(gd).display;\n",
       "        if (!display || display === 'none') {{\n",
       "            console.log([gd, 'removed!']);\n",
       "            Plotly.purge(gd);\n",
       "            observer.disconnect();\n",
       "        }}\n",
       "}});\n",
       "\n",
       "// Listen for the removal of the full notebook cells\n",
       "var notebookContainer = gd.closest('#notebook-container');\n",
       "if (notebookContainer) {{\n",
       "    x.observe(notebookContainer, {childList: true});\n",
       "}}\n",
       "\n",
       "// Listen for the clearing of the current output cell\n",
       "var outputEl = gd.closest('.output');\n",
       "if (outputEl) {{\n",
       "    x.observe(outputEl, {childList: true});\n",
       "}}\n",
       "\n",
       "                        })                };                });            </script>        </div>"
      ]
     },
     "metadata": {},
     "output_type": "display_data"
    }
   ],
   "source": [
    "dynamics.plot_curves(colors=['red', 'green'],\n",
    "                     title=\"Reaction 2A <-> C  (2nd order in A).  Changes in concentrations with time\")"
   ]
  },
  {
   "cell_type": "markdown",
   "id": "5c3f8b4f-3a75-4a21-8579-13550bcebb3c",
   "metadata": {},
   "source": [
    "#### For diagnostic insight, uncomment the following lines:"
   ]
  },
  {
   "cell_type": "code",
   "execution_count": 19,
   "id": "10af1095-a320-4fa4-a45e-e1f3f87203c9",
   "metadata": {},
   "outputs": [],
   "source": [
    "#dynamics.examine_run(df=df, time_step=0.002, rel_fast_threshold=60)\n",
    "# the time step MUST match the value used in call to single_compartment_react()\n",
    "\n",
    "#dynamics.diagnose_variable_time_steps()\n",
    "\n",
    "#dynamics.get_diagnostic_rxn_data(rxn_index=0)\n",
    "\n",
    "#dynamics.get_diagnostic_conc_data()"
   ]
  },
  {
   "cell_type": "code",
   "execution_count": null,
   "id": "3f0ceb35-42b5-4c06-8e5c-bd40088ab60b",
   "metadata": {},
   "outputs": [],
   "source": []
  }
 ],
 "metadata": {
  "kernelspec": {
   "display_name": "Python 3 (ipykernel)",
   "language": "python",
   "name": "python3"
  },
  "language_info": {
   "codemirror_mode": {
    "name": "ipython",
    "version": 3
   },
   "file_extension": ".py",
   "mimetype": "text/x-python",
   "name": "python",
   "nbconvert_exporter": "python",
   "pygments_lexer": "ipython3",
   "version": "3.8.10"
  }
 },
 "nbformat": 4,
 "nbformat_minor": 5
}
