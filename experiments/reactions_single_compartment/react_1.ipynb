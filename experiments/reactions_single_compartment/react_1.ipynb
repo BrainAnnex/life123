{
 "cells": [
  {
   "cell_type": "markdown",
   "id": "3bbe8002-bdf3-490c-bde0-80dd3713a3d0",
   "metadata": {},
   "source": [
    "### A simple A <-> B reaction between 2 species with initial uniform concentrations across 3 bins,\n",
    "with 1st-order kinetics in both directions, taken to equilibrium\n",
    "\n",
    "Based on the experiment _\"1D/reactions/reaction_1\"_ ; this is simply the \"single-compartment\" version of it.\n",
    "\n",
    "LAST REVISED: Nov. 28, 2022"
   ]
  },
  {
   "cell_type": "code",
   "execution_count": 1,
   "id": "13e55c1d-609f-4bf0-a004-6c45bcfcbc99",
   "metadata": {},
   "outputs": [
    {
     "name": "stdout",
     "output_type": "stream",
     "text": [
      "Added 'D:\\Docs\\- MY CODE\\BioSimulations\\life123-Win7' to sys.path\n"
     ]
    }
   ],
   "source": [
    "# Extend the sys.path variable, to contain the project's root directory\n",
    "import set_path\n",
    "set_path.add_ancestor_dir_to_syspath(2)  # The number of levels to go up \n",
    "                                         # to reach the project's home, from the folder containing this notebook"
   ]
  },
  {
   "cell_type": "code",
   "execution_count": 2,
   "id": "bdad128a-9214-46f5-aeb9-a7b77c81aa3e",
   "metadata": {
    "tags": []
   },
   "outputs": [],
   "source": [
    "from experiments.get_notebook_info import get_notebook_basename\n",
    "\n",
    "from modules.reactions.reaction_data import ReactionData as chem\n",
    "from modules.reactions.reaction_dynamics import ReactionDynamics\n",
    "\n",
    "import numpy as np\n",
    "import plotly.express as px"
   ]
  },
  {
   "cell_type": "code",
   "execution_count": 3,
   "id": "72b4245c-de4e-480d-a501-3495b7ed8bc4",
   "metadata": {
    "tags": []
   },
   "outputs": [
    {
     "name": "stdout",
     "output_type": "stream",
     "text": [
      "Number of reactions:  1\n"
     ]
    }
   ],
   "source": [
    "# Initialize the reaction\n",
    "chem_data = chem(names=[\"A\", \"B\"])\n",
    "\n",
    "# Reaction A <-> B , with 1st-order kinetics in both directions\n",
    "chem_data.add_reaction(reactants=[\"A\"], products=[\"B\"], forward_rate=3., reverse_rate=2.)\n",
    "\n",
    "print(\"Number of reactions: \", chem_data.number_of_reactions())"
   ]
  },
  {
   "cell_type": "code",
   "execution_count": 4,
   "id": "00ea560d-9a49-4041-b119-6de11bfcc7af",
   "metadata": {},
   "outputs": [
    {
     "name": "stdout",
     "output_type": "stream",
     "text": [
      "Number of reactions:  1\n",
      "0: A <-> B  (kF = 3.0 / kR = 2.0)\n"
     ]
    }
   ],
   "source": [
    "chem_data.describe_reactions()"
   ]
  },
  {
   "cell_type": "code",
   "execution_count": 5,
   "id": "c2f4a554-807b-49f9-8ca2-8d929fe6eeef",
   "metadata": {},
   "outputs": [],
   "source": [
    "dynamics = ReactionDynamics(reaction_data=chem_data)"
   ]
  },
  {
   "cell_type": "code",
   "execution_count": 6,
   "id": "ae304704-c8d9-4cef-9e0b-2587bb3909ef",
   "metadata": {},
   "outputs": [],
   "source": [
    "# Initial concentrations of all the chemicals, in index order\n",
    "conc = np.array([10., 50.])\n",
    "\n",
    "# First step of reaction\n",
    "dynamics.single_compartment_react(conc_array = conc,\n",
    "                                  time_step=0.1, n_steps=1,\n",
    "                                  snapshots=None)"
   ]
  },
  {
   "cell_type": "code",
   "execution_count": 7,
   "id": "2502cd11-0df9-4303-8895-98401a1df7b8",
   "metadata": {},
   "outputs": [],
   "source": [
    "# Numerous more steps\n",
    "dynamics.single_compartment_react(conc_array = conc,\n",
    "                                  time_step=0.1, n_steps=10,\n",
    "                                  snapshots=None)"
   ]
  },
  {
   "cell_type": "markdown",
   "id": "d25eedf3-89f8-4f8c-a49a-d2689103528b",
   "metadata": {},
   "source": [
    "NOTE: Consistent with the 3/2 ratio of forward/reverse rates (and the 1st order reactions),\n",
    " the systems settles in the following equilibrium:\n",
    "\n",
    "[A] = 23.99316406\n",
    " \n",
    "[B] = 36.00683594\n"
   ]
  },
  {
   "cell_type": "code",
   "execution_count": 8,
   "id": "c4e3e57e-78de-448c-8dc2-68c0249dbe4a",
   "metadata": {},
   "outputs": [
    {
     "name": "stdout",
     "output_type": "stream",
     "text": [
      "Ratio of forward/reverse reaction rates: 1.5\n",
      "Ratio of reactant/product concentrations, adjusted for reaction orders: 1.5007122797020636\n",
      "    [B] / [A]\n"
     ]
    },
    {
     "data": {
      "text/plain": [
       "True"
      ]
     },
     "execution_count": 8,
     "metadata": {},
     "output_type": "execute_result"
    }
   ],
   "source": [
    "dynamics.is_in_equilibrium(rxn_index=0, conc={\"A\": conc[0], \"B\": conc[1]})"
   ]
  },
  {
   "cell_type": "code",
   "execution_count": null,
   "id": "f0afbe6f-0477-4002-972b-26b75df132ae",
   "metadata": {},
   "outputs": [],
   "source": []
  }
 ],
 "metadata": {
  "kernelspec": {
   "display_name": "Python 3 (ipykernel)",
   "language": "python",
   "name": "python3"
  },
  "language_info": {
   "codemirror_mode": {
    "name": "ipython",
    "version": 3
   },
   "file_extension": ".py",
   "mimetype": "text/x-python",
   "name": "python",
   "nbconvert_exporter": "python",
   "pygments_lexer": "ipython3",
   "version": "3.8.10"
  }
 },
 "nbformat": 4,
 "nbformat_minor": 5
}
