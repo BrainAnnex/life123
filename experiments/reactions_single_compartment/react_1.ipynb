{
 "cells": [
  {
   "cell_type": "markdown",
   "id": "3bbe8002-bdf3-490c-bde0-80dd3713a3d0",
   "metadata": {},
   "source": [
    "### A simple A <-> B reaction between 2 species,\n",
    "with 1st-order kinetics in both directions, taken to equilibrium\n",
    "\n",
    "Based on the experiment _\"1D/reactions/reaction_1\"_ ; this is simply the \"single-compartment\" version of it.\n",
    "\n",
    "LAST REVISED: Dec. 4, 2022"
   ]
  },
  {
   "cell_type": "code",
   "execution_count": 1,
   "id": "13e55c1d-609f-4bf0-a004-6c45bcfcbc99",
   "metadata": {},
   "outputs": [
    {
     "name": "stdout",
     "output_type": "stream",
     "text": [
      "Added 'D:\\Docs\\- MY CODE\\BioSimulations\\life123-Win7' to sys.path\n"
     ]
    }
   ],
   "source": [
    "# Extend the sys.path variable, to contain the project's root directory\n",
    "import set_path\n",
    "set_path.add_ancestor_dir_to_syspath(2)  # The number of levels to go up \n",
    "                                         # to reach the project's home, from the folder containing this notebook"
   ]
  },
  {
   "cell_type": "code",
   "execution_count": 2,
   "id": "bdad128a-9214-46f5-aeb9-a7b77c81aa3e",
   "metadata": {
    "tags": []
   },
   "outputs": [],
   "source": [
    "from experiments.get_notebook_info import get_notebook_basename\n",
    "\n",
    "from modules.reactions.reaction_data import ReactionData as chem\n",
    "from modules.reactions.reaction_dynamics import ReactionDynamics\n",
    "\n",
    "import numpy as np\n",
    "import plotly.express as px"
   ]
  },
  {
   "cell_type": "code",
   "execution_count": 3,
   "id": "72b4245c-de4e-480d-a501-3495b7ed8bc4",
   "metadata": {
    "tags": []
   },
   "outputs": [
    {
     "name": "stdout",
     "output_type": "stream",
     "text": [
      "Number of reactions:  1\n"
     ]
    }
   ],
   "source": [
    "# Initialize the reaction\n",
    "chem_data = chem(names=[\"A\", \"B\"])\n",
    "\n",
    "# Reaction A <-> B , with 1st-order kinetics in both directions\n",
    "chem_data.add_reaction(reactants=[\"A\"], products=[\"B\"], forward_rate=3., reverse_rate=2.)\n",
    "\n",
    "print(\"Number of reactions: \", chem_data.number_of_reactions())"
   ]
  },
  {
   "cell_type": "code",
   "execution_count": 4,
   "id": "00ea560d-9a49-4041-b119-6de11bfcc7af",
   "metadata": {},
   "outputs": [
    {
     "name": "stdout",
     "output_type": "stream",
     "text": [
      "Number of reactions:  1\n",
      "0: A <-> B  (kF = 3.0 / kR = 2.0)\n"
     ]
    }
   ],
   "source": [
    "chem_data.describe_reactions()"
   ]
  },
  {
   "cell_type": "code",
   "execution_count": 5,
   "id": "c2f4a554-807b-49f9-8ca2-8d929fe6eeef",
   "metadata": {},
   "outputs": [],
   "source": [
    "dynamics = ReactionDynamics(reaction_data=chem_data)"
   ]
  },
  {
   "cell_type": "code",
   "execution_count": 6,
   "id": "ae304704-c8d9-4cef-9e0b-2587bb3909ef",
   "metadata": {},
   "outputs": [],
   "source": [
    "# Initial concentrations of all the chemicals, in index order\n",
    "dynamics.set_conc([10., 50.])"
   ]
  },
  {
   "cell_type": "code",
   "execution_count": 7,
   "id": "a605dacf-2c67-403e-9aa9-5be25fc9f481",
   "metadata": {},
   "outputs": [
    {
     "name": "stdout",
     "output_type": "stream",
     "text": [
      "SYSTEM STATE at Time t = 0.0:\n",
      "2 species:\n",
      "  Species 0 (A).Conc: 10.0\n",
      "  Species 1 (B).Conc: 50.0\n"
     ]
    }
   ],
   "source": [
    "dynamics.describe_state()"
   ]
  },
  {
   "cell_type": "code",
   "execution_count": 9,
   "id": "082997bb-9355-428a-88ab-0ee37b203218",
   "metadata": {},
   "outputs": [],
   "source": [
    "dynamics.add_snapshot(caption=\"Initial state\")"
   ]
  },
  {
   "cell_type": "code",
   "execution_count": 10,
   "id": "0ff2c242-a15b-456d-ad56-0ba1041c0b4c",
   "metadata": {},
   "outputs": [
    {
     "data": {
      "text/html": [
       "<div>\n",
       "<style scoped>\n",
       "    .dataframe tbody tr th:only-of-type {\n",
       "        vertical-align: middle;\n",
       "    }\n",
       "\n",
       "    .dataframe tbody tr th {\n",
       "        vertical-align: top;\n",
       "    }\n",
       "\n",
       "    .dataframe thead th {\n",
       "        text-align: right;\n",
       "    }\n",
       "</style>\n",
       "<table border=\"1\" class=\"dataframe\">\n",
       "  <thead>\n",
       "    <tr style=\"text-align: right;\">\n",
       "      <th></th>\n",
       "      <th>SYSTEM TIME</th>\n",
       "      <th>A</th>\n",
       "      <th>B</th>\n",
       "      <th>caption</th>\n",
       "    </tr>\n",
       "  </thead>\n",
       "  <tbody>\n",
       "    <tr>\n",
       "      <th>0</th>\n",
       "      <td>0.0</td>\n",
       "      <td>10.0</td>\n",
       "      <td>50.0</td>\n",
       "      <td>Initial state</td>\n",
       "    </tr>\n",
       "  </tbody>\n",
       "</table>\n",
       "</div>"
      ],
      "text/plain": [
       "   SYSTEM TIME     A     B        caption\n",
       "0          0.0  10.0  50.0  Initial state"
      ]
     },
     "execution_count": 10,
     "metadata": {},
     "output_type": "execute_result"
    }
   ],
   "source": [
    "dynamics.history.get()"
   ]
  },
  {
   "cell_type": "code",
   "execution_count": 6,
   "id": "50c7e478-ad0e-4aeb-9cea-dfed47cded21",
   "metadata": {},
   "outputs": [],
   "source": [
    "# First step of reaction\n",
    "dynamics.single_compartment_react(time_step=0.1, n_steps=1,\n",
    "                                  snapshots=None)"
   ]
  },
  {
   "cell_type": "code",
   "execution_count": 7,
   "id": "2502cd11-0df9-4303-8895-98401a1df7b8",
   "metadata": {},
   "outputs": [],
   "source": [
    "# Numerous more steps\n",
    "dynamics.single_compartment_react(time_step=0.1, n_steps=10,\n",
    "                                  snapshots=None)"
   ]
  },
  {
   "cell_type": "code",
   "execution_count": 8,
   "id": "b139f5e4-625f-4a5e-8f57-8f00244dced4",
   "metadata": {},
   "outputs": [
    {
     "data": {
      "text/plain": [
       "{'A': 23.9931640625, 'B': 36.0068359375}"
      ]
     },
     "execution_count": 8,
     "metadata": {},
     "output_type": "execute_result"
    }
   ],
   "source": [
    "dynamics.get_conc(form=\"DICT\")"
   ]
  },
  {
   "cell_type": "markdown",
   "id": "d25eedf3-89f8-4f8c-a49a-d2689103528b",
   "metadata": {},
   "source": [
    "NOTE: Consistent with the 3/2 ratio of forward/reverse rates (and the 1st order reactions),\n",
    " the systems settles in the following equilibrium:\n",
    "\n",
    "[A] = 23.99316406\n",
    " \n",
    "[B] = 36.00683594\n"
   ]
  },
  {
   "cell_type": "code",
   "execution_count": 9,
   "id": "765f6f39-4b2e-4a86-b6a9-ace9d1941663",
   "metadata": {},
   "outputs": [
    {
     "name": "stdout",
     "output_type": "stream",
     "text": [
      "Ratio of forward/reverse reaction rates: 1.5\n",
      "Ratio of reactant/product concentrations, adjusted for reaction orders: 1.5007122797020636\n",
      "    [B] / [A]\n"
     ]
    },
    {
     "data": {
      "text/plain": [
       "True"
      ]
     },
     "execution_count": 9,
     "metadata": {},
     "output_type": "execute_result"
    }
   ],
   "source": [
    "dynamics.is_in_equilibrium(rxn_index=0, conc=dynamics.get_conc(form=\"DICT\"))"
   ]
  },
  {
   "cell_type": "code",
   "execution_count": null,
   "id": "c78e828d-583a-45d0-b7d2-4fb979bdb586",
   "metadata": {},
   "outputs": [],
   "source": []
  }
 ],
 "metadata": {
  "kernelspec": {
   "display_name": "Python 3 (ipykernel)",
   "language": "python",
   "name": "python3"
  },
  "language_info": {
   "codemirror_mode": {
    "name": "ipython",
    "version": 3
   },
   "file_extension": ".py",
   "mimetype": "text/x-python",
   "name": "python",
   "nbconvert_exporter": "python",
   "pygments_lexer": "ipython3",
   "version": "3.8.10"
  }
 },
 "nbformat": 4,
 "nbformat_minor": 5
}
