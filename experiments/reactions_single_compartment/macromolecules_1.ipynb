{
 "cells": [
  {
   "cell_type": "markdown",
   "id": "49bcb5b0-f19d-4b96-a5f1-e0ae30f66d8f",
   "metadata": {},
   "source": [
    "## Macromolecules : Binding Affinity\n",
    "\n",
    "LAST REVISED: July 7, 2023"
   ]
  },
  {
   "cell_type": "code",
   "execution_count": 1,
   "id": "c1ac7763",
   "metadata": {
    "tags": []
   },
   "outputs": [],
   "source": [
    "from src.modules.chemicals.chem_data import ChemData\n",
    "from src.modules.reactions.reaction_dynamics import ReactionDynamics"
   ]
  },
  {
   "cell_type": "code",
   "execution_count": 2,
   "id": "23c15e66-52e4-495b-aa3d-ecddd8d16942",
   "metadata": {},
   "outputs": [],
   "source": [
    "# Initialize the system\n",
    "chem = ChemData(names=[\"A\", \"B\", \"C\"])\n"
   ]
  },
  {
   "cell_type": "markdown",
   "id": "83fd43d2-6a90-4b24-ae2c-5a65718e416d",
   "metadata": {},
   "source": [
    "### Explore methods to manage the data structure for macromolecules"
   ]
  },
  {
   "cell_type": "code",
   "execution_count": 3,
   "id": "e3aa4733-dd9d-485d-a899-a9a03ff40d87",
   "metadata": {},
   "outputs": [
    {
     "data": {
      "text/plain": [
       "['M1']"
      ]
     },
     "execution_count": 3,
     "metadata": {},
     "output_type": "execute_result"
    }
   ],
   "source": [
    "chem.add_macromolecules(\"M1\")\n",
    "chem.get_macromolecules()"
   ]
  },
  {
   "cell_type": "code",
   "execution_count": 4,
   "id": "acbd2b50-8bc1-4e23-8816-0da0ee85b461",
   "metadata": {},
   "outputs": [],
   "source": [
    "chem.set_binding_site_affinity(\"M1\", 3, \"A\", 3.7)\n",
    "chem.set_binding_site_affinity(\"M1\", 8, \"B\", 1.1)\n",
    "chem.set_binding_site_affinity(\"M1\", 15, \"A\", 9.2)\n",
    "\n",
    "chem.set_binding_site_affinity(\"M2\", 1, \"C\", 5.6)"
   ]
  },
  {
   "cell_type": "code",
   "execution_count": 5,
   "id": "fecbf8df-1e28-4b0b-99ec-d3d76923dfe4",
   "metadata": {},
   "outputs": [
    {
     "data": {
      "text/plain": [
       "[3, 8, 15]"
      ]
     },
     "execution_count": 5,
     "metadata": {},
     "output_type": "execute_result"
    }
   ],
   "source": [
    "chem.get_binding_sites(\"M1\")"
   ]
  },
  {
   "cell_type": "code",
   "execution_count": 6,
   "id": "0c805eec-10a2-44e1-b543-eeb8b39510a7",
   "metadata": {},
   "outputs": [
    {
     "data": {
      "text/plain": [
       "{3: 'A', 8: 'B', 15: 'A'}"
      ]
     },
     "execution_count": 6,
     "metadata": {},
     "output_type": "execute_result"
    }
   ],
   "source": [
    "chem.get_binding_sites_and_ligands(\"M1\")"
   ]
  },
  {
   "cell_type": "code",
   "execution_count": 7,
   "id": "db43fb3f-0f1f-4d46-8371-b23b1deab647",
   "metadata": {},
   "outputs": [
    {
     "data": {
      "text/plain": [
       "[1]"
      ]
     },
     "execution_count": 7,
     "metadata": {},
     "output_type": "execute_result"
    }
   ],
   "source": [
    "chem.get_binding_sites(\"M2\")"
   ]
  },
  {
   "cell_type": "code",
   "execution_count": 8,
   "id": "36a5710b-f3db-4478-a91d-2a3ad4a576da",
   "metadata": {},
   "outputs": [
    {
     "data": {
      "text/plain": [
       "{1: 'C'}"
      ]
     },
     "execution_count": 8,
     "metadata": {},
     "output_type": "execute_result"
    }
   ],
   "source": [
    "chem.get_binding_sites_and_ligands(\"M2\")"
   ]
  },
  {
   "cell_type": "code",
   "execution_count": 9,
   "id": "afae6257-830f-4636-898f-c5af9529ab78",
   "metadata": {},
   "outputs": [
    {
     "data": {
      "text/plain": [
       "ChemicalAffinity(chemical='A', affinity=3.7)"
      ]
     },
     "execution_count": 9,
     "metadata": {},
     "output_type": "execute_result"
    }
   ],
   "source": [
    "chem.get_binding_site_affinity(macromolecule=\"M1\", site_number=3)   # A \"NamedTuple\" gets returned"
   ]
  },
  {
   "cell_type": "code",
   "execution_count": 10,
   "id": "03111e83-7108-4e17-b257-235a5e0a7634",
   "metadata": {},
   "outputs": [
    {
     "data": {
      "text/plain": [
       "ChemicalAffinity(chemical='B', affinity=1.1)"
      ]
     },
     "execution_count": 10,
     "metadata": {},
     "output_type": "execute_result"
    }
   ],
   "source": [
    "aff = chem.get_binding_site_affinity(macromolecule=\"M1\", site_number=8)\n",
    "aff"
   ]
  },
  {
   "cell_type": "code",
   "execution_count": 11,
   "id": "4124f99a-e474-43cd-8854-ce71ad870987",
   "metadata": {},
   "outputs": [
    {
     "data": {
      "text/plain": [
       "'B'"
      ]
     },
     "execution_count": 11,
     "metadata": {},
     "output_type": "execute_result"
    }
   ],
   "source": [
    "aff.chemical"
   ]
  },
  {
   "cell_type": "code",
   "execution_count": 12,
   "id": "647ee66c-f7c7-4677-9c05-2b309d06fd89",
   "metadata": {},
   "outputs": [
    {
     "data": {
      "text/plain": [
       "1.1"
      ]
     },
     "execution_count": 12,
     "metadata": {},
     "output_type": "execute_result"
    }
   ],
   "source": [
    "aff.affinity"
   ]
  },
  {
   "cell_type": "markdown",
   "id": "0e771dda-1c0f-4fc0-ab21-049740643897",
   "metadata": {},
   "source": [
    "### Set the initial concentrations of all the chemicals"
   ]
  },
  {
   "cell_type": "code",
   "execution_count": 13,
   "id": "5563e467-a637-44fa-9ba1-d35ddd82c887",
   "metadata": {},
   "outputs": [
    {
     "name": "stdout",
     "output_type": "stream",
     "text": [
      "SYSTEM STATE at Time t = 0:\n",
      "3 species:\n",
      "  Species 0 (A). Conc: 20.0\n",
      "  Species 1 (B). Conc: 0.0\n",
      "  Species 2 (C). Conc: 10.0\n"
     ]
    }
   ],
   "source": [
    "dynamics = ReactionDynamics(chem_data=chem)\n",
    "dynamics.set_conc(conc={\"A\": 20., \"B\": 0., \"C\": 10.})\n",
    "dynamics.describe_state()"
   ]
  },
  {
   "cell_type": "code",
   "execution_count": 14,
   "id": "85d19965-4a82-4868-9a1f-cbf6fc29b6cd",
   "metadata": {},
   "outputs": [],
   "source": [
    "dynamics.set_macromolecules()      # By default, set counts to 1 for all the registered macromolecules"
   ]
  },
  {
   "cell_type": "markdown",
   "id": "9c712242-7dca-4a90-b743-df1e4e3fbc6e",
   "metadata": {},
   "source": [
    "### Inspect some class attributes"
   ]
  },
  {
   "cell_type": "code",
   "execution_count": 15,
   "id": "71326536-e56b-4499-a78a-7149ccc9b727",
   "metadata": {},
   "outputs": [
    {
     "data": {
      "text/plain": [
       "{'M1': 1, 'M2': 1}"
      ]
     },
     "execution_count": 15,
     "metadata": {},
     "output_type": "execute_result"
    }
   ],
   "source": [
    "dynamics.macro_system"
   ]
  },
  {
   "cell_type": "code",
   "execution_count": 16,
   "id": "5ffd0c72-67cd-4150-ad8e-89382622c591",
   "metadata": {},
   "outputs": [
    {
     "data": {
      "text/plain": [
       "{'M1': {3: ('A', 0.0), 8: ('B', 0.0), 15: ('A', 0.0)}, 'M2': {1: ('C', 0.0)}}"
      ]
     },
     "execution_count": 16,
     "metadata": {},
     "output_type": "execute_result"
    }
   ],
   "source": [
    "dynamics.macro_system_state"
   ]
  },
  {
   "cell_type": "code",
   "execution_count": 17,
   "id": "ccd16fb4-f5de-474c-b85d-28a3f64e815b",
   "metadata": {},
   "outputs": [
    {
     "name": "stdout",
     "output_type": "stream",
     "text": [
      "SYSTEM STATE at Time t = 0:\n",
      "3 species:\n",
      "  Species 0 (A). Conc: 20.0\n",
      "  Species 1 (B). Conc: 0.0\n",
      "  Species 2 (C). Conc: 10.0\n",
      "Macro-molecules present, with their counts:  {'M1': 1, 'M2': 1}\n",
      "Binding Occupancy fractions at the various binding-sites for each of the macro-molecules:\n",
      "     M1 | 3: 0.0 (A), 8: 0.0 (B), 15: 0.0 (A)\n",
      "     M2 | 1: 0.0 (C)\n"
     ]
    }
   ],
   "source": [
    "dynamics.describe_state()"
   ]
  },
  {
   "cell_type": "code",
   "execution_count": null,
   "id": "6c1dc8cb",
   "metadata": {},
   "outputs": [],
   "source": []
  }
 ],
 "metadata": {
  "jupytext": {
   "formats": "ipynb,py:percent"
  },
  "kernelspec": {
   "display_name": "Python 3 (ipykernel)",
   "language": "python",
   "name": "python3"
  },
  "language_info": {
   "codemirror_mode": {
    "name": "ipython",
    "version": 3
   },
   "file_extension": ".py",
   "mimetype": "text/x-python",
   "name": "python",
   "nbconvert_exporter": "python",
   "pygments_lexer": "ipython3",
   "version": "3.8.10"
  }
 },
 "nbformat": 4,
 "nbformat_minor": 5
}
