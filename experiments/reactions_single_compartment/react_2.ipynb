{
 "cells": [
  {
   "cell_type": "markdown",
   "id": "5cbc8640",
   "metadata": {},
   "source": [
    "### Adaptive time steps (variable time resolution) for reaction `A <-> B`,\n",
    "with 1st-order kinetics in both directions, taken to equilibrium\n",
    "\n",
    "Same as the experiment _\"react_1\"_ , but with adaptive variable time steps\n",
    "\n",
    "LAST REVISED: Mar. 11, 2023"
   ]
  },
  {
   "cell_type": "code",
   "execution_count": 1,
   "id": "b01eafc2",
   "metadata": {},
   "outputs": [
    {
     "name": "stdout",
     "output_type": "stream",
     "text": [
      "Added 'D:\\Docs\\- MY CODE\\BioSimulations\\life123-Win7' to sys.path\n"
     ]
    }
   ],
   "source": [
    "# Extend the sys.path variable, to contain the project's root directory\n",
    "import set_path\n",
    "set_path.add_ancestor_dir_to_syspath(2)  # The number of levels to go up \n",
    "                                         # to reach the project's home, from the folder containing this notebook"
   ]
  },
  {
   "cell_type": "code",
   "execution_count": 2,
   "id": "85b2f63e",
   "metadata": {
    "tags": []
   },
   "outputs": [],
   "source": [
    "from experiments.get_notebook_info import get_notebook_basename\n",
    "\n",
    "from src.modules.reactions.reaction_data import ReactionData as chem\n",
    "from src.modules.reactions.reaction_dynamics import ReactionDynamics\n",
    "\n",
    "import numpy as np\n",
    "import plotly.express as px\n",
    "from src.modules.visualization.graphic_log import GraphicLog"
   ]
  },
  {
   "cell_type": "code",
   "execution_count": 3,
   "id": "121fdfdd",
   "metadata": {
    "tags": []
   },
   "outputs": [
    {
     "name": "stdout",
     "output_type": "stream",
     "text": [
      "-> Output will be LOGGED into the file 'react_2.log.htm'\n"
     ]
    }
   ],
   "source": [
    "# Initialize the HTML logging (for the graphics)\n",
    "log_file = get_notebook_basename() + \".log.htm\"    # Use the notebook base filename for the log file\n",
    "\n",
    "# Set up the use of some specified graphic (Vue) components\n",
    "GraphicLog.config(filename=log_file,\n",
    "                  components=[\"vue_cytoscape_1\"],\n",
    "                  extra_js=\"https://cdnjs.cloudflare.com/ajax/libs/cytoscape/3.21.2/cytoscape.umd.js\")"
   ]
  },
  {
   "cell_type": "markdown",
   "id": "10c710ac",
   "metadata": {},
   "source": [
    "# Initialize the System\n",
    "Specify the chemicals and the reactions"
   ]
  },
  {
   "cell_type": "code",
   "execution_count": 4,
   "id": "78077d8c",
   "metadata": {
    "tags": []
   },
   "outputs": [
    {
     "name": "stdout",
     "output_type": "stream",
     "text": [
      "Number of reactions:  1\n"
     ]
    }
   ],
   "source": [
    "# Specify the chemicals\n",
    "chem_data = chem(names=[\"A\", \"B\"])\n",
    "\n",
    "# Reaction A <-> B , with 1st-order kinetics in both directions\n",
    "chem_data.add_reaction(reactants=[\"A\"], products=[\"B\"], \n",
    "                       forward_rate=3., reverse_rate=2.)\n",
    "\n",
    "print(\"Number of reactions: \", chem_data.number_of_reactions())"
   ]
  },
  {
   "cell_type": "code",
   "execution_count": 5,
   "id": "58433072",
   "metadata": {},
   "outputs": [
    {
     "name": "stdout",
     "output_type": "stream",
     "text": [
      "Number of reactions: 1 (at temp. 25 C)\n",
      "0: A <-> B  (kF = 3 / kR = 2 / Delta_G = -1,005.13 / K = 1.5) | 1st order in all reactants & products\n"
     ]
    }
   ],
   "source": [
    "chem_data.describe_reactions()"
   ]
  },
  {
   "cell_type": "code",
   "execution_count": 6,
   "id": "373afeb1",
   "metadata": {},
   "outputs": [
    {
     "name": "stdout",
     "output_type": "stream",
     "text": [
      "[GRAPHIC ELEMENT SENT TO LOG FILE `react_2.log.htm`]\n"
     ]
    }
   ],
   "source": [
    "# Send a plot of the network of reactions to the HTML log file\n",
    "graph_data = chem_data.prepare_graph_network()\n",
    "GraphicLog.export_plot(graph_data, \"vue_cytoscape_1\")"
   ]
  },
  {
   "cell_type": "markdown",
   "id": "e0529a0c",
   "metadata": {},
   "source": [
    "# Start the simulation"
   ]
  },
  {
   "cell_type": "code",
   "execution_count": 7,
   "id": "f9736433",
   "metadata": {},
   "outputs": [],
   "source": [
    "dynamics = ReactionDynamics(reaction_data=chem_data)"
   ]
  },
  {
   "cell_type": "code",
   "execution_count": 8,
   "id": "9fc3948d",
   "metadata": {},
   "outputs": [
    {
     "name": "stdout",
     "output_type": "stream",
     "text": [
      "SYSTEM STATE at Time t = 0:\n",
      "2 species:\n",
      "  Species 0 (A). Conc: 10.0\n",
      "  Species 1 (B). Conc: 50.0\n"
     ]
    }
   ],
   "source": [
    "# Initial concentrations of all the chemicals, in index order\n",
    "dynamics.set_conc([10., 50.])\n",
    "\n",
    "dynamics.describe_state()"
   ]
  },
  {
   "cell_type": "code",
   "execution_count": 9,
   "id": "0cc938cc",
   "metadata": {},
   "outputs": [
    {
     "data": {
      "text/html": [
       "<div>\n",
       "<style scoped>\n",
       "    .dataframe tbody tr th:only-of-type {\n",
       "        vertical-align: middle;\n",
       "    }\n",
       "\n",
       "    .dataframe tbody tr th {\n",
       "        vertical-align: top;\n",
       "    }\n",
       "\n",
       "    .dataframe thead th {\n",
       "        text-align: right;\n",
       "    }\n",
       "</style>\n",
       "<table border=\"1\" class=\"dataframe\">\n",
       "  <thead>\n",
       "    <tr style=\"text-align: right;\">\n",
       "      <th></th>\n",
       "      <th>SYSTEM TIME</th>\n",
       "      <th>A</th>\n",
       "      <th>B</th>\n",
       "      <th>caption</th>\n",
       "    </tr>\n",
       "  </thead>\n",
       "  <tbody>\n",
       "    <tr>\n",
       "      <th>0</th>\n",
       "      <td>0.0</td>\n",
       "      <td>10.0</td>\n",
       "      <td>50.0</td>\n",
       "      <td>Initial state</td>\n",
       "    </tr>\n",
       "  </tbody>\n",
       "</table>\n",
       "</div>"
      ],
      "text/plain": [
       "   SYSTEM TIME     A     B        caption\n",
       "0          0.0  10.0  50.0  Initial state"
      ]
     },
     "execution_count": 9,
     "metadata": {},
     "output_type": "execute_result"
    }
   ],
   "source": [
    "dynamics.history.get()"
   ]
  },
  {
   "cell_type": "markdown",
   "id": "987af2c5",
   "metadata": {
    "tags": []
   },
   "source": [
    "## Run the reaction"
   ]
  },
  {
   "cell_type": "code",
   "execution_count": 10,
   "id": "ad665050",
   "metadata": {},
   "outputs": [
    {
     "name": "stdout",
     "output_type": "stream",
     "text": [
      "INFO: The current time step (0.1) leads to an 'adjusted L2 rate' (24.5) > HIGH threshold (1.44):\n",
      "      -> will backtrack, and re-do step with a SMALLER delta time of 0.05 [Step started at t=0, and will rewind there]\n",
      "INFO: The current time step (0.05) leads to an 'adjusted L2 rate' (6.125) > HIGH threshold (1.44):\n",
      "      -> will backtrack, and re-do step with a SMALLER delta time of 0.025 [Step started at t=0, and will rewind there]\n",
      "INFO: The current time step (0.025) leads to an 'adjusted L2 rate' (1.531) > HIGH threshold (1.44):\n",
      "      -> will backtrack, and re-do step with a SMALLER delta time of 0.0125 [Step started at t=0, and will rewind there]\n",
      "Some steps were backtracked and re-done, to prevent negative concentrations or excessively large concentration changes\n",
      "16 total step(s) taken\n"
     ]
    }
   ],
   "source": [
    "dynamics.set_diagnostics()       # To save diagnostic information about the call to single_compartment_react()\n",
    "\n",
    "dynamics.single_compartment_react(initial_step=0.1, target_end_time=1.2,\n",
    "                                  variable_steps=True, thresholds={\"low\": 0.5, \"high\": 0.8},\n",
    "                                  snapshots={\"initial_caption\": \"1st reaction step\",\n",
    "                                             \"final_caption\": \"last reaction step\"},\n",
    "                                  )\n",
    "# Note: we are accepting the default variable_steps_threshold_abort = 1.44 and abort_step_reduction_factor = 2."
   ]
  },
  {
   "cell_type": "markdown",
   "id": "2169c3b3",
   "metadata": {},
   "source": [
    "## The flag _variable_steps_ automatically adjusts up or down the time step,  whenever the changes of concentrations are, respectively, \"slow\" or \"fast\" (as determined using the specified _thresholds_ )"
   ]
  },
  {
   "cell_type": "code",
   "execution_count": 11,
   "id": "2d5df59c",
   "metadata": {},
   "outputs": [
    {
     "data": {
      "text/html": [
       "<div>\n",
       "<style scoped>\n",
       "    .dataframe tbody tr th:only-of-type {\n",
       "        vertical-align: middle;\n",
       "    }\n",
       "\n",
       "    .dataframe tbody tr th {\n",
       "        vertical-align: top;\n",
       "    }\n",
       "\n",
       "    .dataframe thead th {\n",
       "        text-align: right;\n",
       "    }\n",
       "</style>\n",
       "<table border=\"1\" class=\"dataframe\">\n",
       "  <thead>\n",
       "    <tr style=\"text-align: right;\">\n",
       "      <th></th>\n",
       "      <th>SYSTEM TIME</th>\n",
       "      <th>A</th>\n",
       "      <th>B</th>\n",
       "      <th>caption</th>\n",
       "    </tr>\n",
       "  </thead>\n",
       "  <tbody>\n",
       "    <tr>\n",
       "      <th>0</th>\n",
       "      <td>0.0000</td>\n",
       "      <td>10.000000</td>\n",
       "      <td>50.000000</td>\n",
       "      <td>Initial state</td>\n",
       "    </tr>\n",
       "    <tr>\n",
       "      <th>1</th>\n",
       "      <td>0.0125</td>\n",
       "      <td>10.875000</td>\n",
       "      <td>49.125000</td>\n",
       "      <td>1st reaction step</td>\n",
       "    </tr>\n",
       "    <tr>\n",
       "      <th>2</th>\n",
       "      <td>0.0375</td>\n",
       "      <td>12.515625</td>\n",
       "      <td>47.484375</td>\n",
       "      <td></td>\n",
       "    </tr>\n",
       "    <tr>\n",
       "      <th>3</th>\n",
       "      <td>0.0500</td>\n",
       "      <td>13.233398</td>\n",
       "      <td>46.766602</td>\n",
       "      <td></td>\n",
       "    </tr>\n",
       "    <tr>\n",
       "      <th>4</th>\n",
       "      <td>0.0750</td>\n",
       "      <td>14.579224</td>\n",
       "      <td>45.420776</td>\n",
       "      <td></td>\n",
       "    </tr>\n",
       "    <tr>\n",
       "      <th>5</th>\n",
       "      <td>0.0875</td>\n",
       "      <td>15.168022</td>\n",
       "      <td>44.831978</td>\n",
       "      <td></td>\n",
       "    </tr>\n",
       "    <tr>\n",
       "      <th>6</th>\n",
       "      <td>0.1125</td>\n",
       "      <td>16.272019</td>\n",
       "      <td>43.727981</td>\n",
       "      <td></td>\n",
       "    </tr>\n",
       "    <tr>\n",
       "      <th>7</th>\n",
       "      <td>0.1375</td>\n",
       "      <td>17.238017</td>\n",
       "      <td>42.761983</td>\n",
       "      <td></td>\n",
       "    </tr>\n",
       "    <tr>\n",
       "      <th>8</th>\n",
       "      <td>0.1875</td>\n",
       "      <td>18.928513</td>\n",
       "      <td>41.071487</td>\n",
       "      <td></td>\n",
       "    </tr>\n",
       "    <tr>\n",
       "      <th>9</th>\n",
       "      <td>0.2125</td>\n",
       "      <td>19.562449</td>\n",
       "      <td>40.437551</td>\n",
       "      <td></td>\n",
       "    </tr>\n",
       "    <tr>\n",
       "      <th>10</th>\n",
       "      <td>0.2625</td>\n",
       "      <td>20.671836</td>\n",
       "      <td>39.328164</td>\n",
       "      <td></td>\n",
       "    </tr>\n",
       "    <tr>\n",
       "      <th>11</th>\n",
       "      <td>0.3125</td>\n",
       "      <td>21.503877</td>\n",
       "      <td>38.496123</td>\n",
       "      <td></td>\n",
       "    </tr>\n",
       "    <tr>\n",
       "      <th>12</th>\n",
       "      <td>0.4125</td>\n",
       "      <td>22.751939</td>\n",
       "      <td>37.248061</td>\n",
       "      <td></td>\n",
       "    </tr>\n",
       "    <tr>\n",
       "      <th>13</th>\n",
       "      <td>0.5125</td>\n",
       "      <td>23.375969</td>\n",
       "      <td>36.624031</td>\n",
       "      <td></td>\n",
       "    </tr>\n",
       "    <tr>\n",
       "      <th>14</th>\n",
       "      <td>0.7125</td>\n",
       "      <td>24.000000</td>\n",
       "      <td>36.000000</td>\n",
       "      <td></td>\n",
       "    </tr>\n",
       "    <tr>\n",
       "      <th>15</th>\n",
       "      <td>1.1125</td>\n",
       "      <td>24.000000</td>\n",
       "      <td>36.000000</td>\n",
       "      <td></td>\n",
       "    </tr>\n",
       "    <tr>\n",
       "      <th>16</th>\n",
       "      <td>1.9125</td>\n",
       "      <td>24.000000</td>\n",
       "      <td>36.000000</td>\n",
       "      <td>last reaction step</td>\n",
       "    </tr>\n",
       "  </tbody>\n",
       "</table>\n",
       "</div>"
      ],
      "text/plain": [
       "    SYSTEM TIME          A          B             caption\n",
       "0        0.0000  10.000000  50.000000       Initial state\n",
       "1        0.0125  10.875000  49.125000   1st reaction step\n",
       "2        0.0375  12.515625  47.484375                    \n",
       "3        0.0500  13.233398  46.766602                    \n",
       "4        0.0750  14.579224  45.420776                    \n",
       "5        0.0875  15.168022  44.831978                    \n",
       "6        0.1125  16.272019  43.727981                    \n",
       "7        0.1375  17.238017  42.761983                    \n",
       "8        0.1875  18.928513  41.071487                    \n",
       "9        0.2125  19.562449  40.437551                    \n",
       "10       0.2625  20.671836  39.328164                    \n",
       "11       0.3125  21.503877  38.496123                    \n",
       "12       0.4125  22.751939  37.248061                    \n",
       "13       0.5125  23.375969  36.624031                    \n",
       "14       0.7125  24.000000  36.000000                    \n",
       "15       1.1125  24.000000  36.000000                    \n",
       "16       1.9125  24.000000  36.000000  last reaction step"
      ]
     },
     "execution_count": 11,
     "metadata": {},
     "output_type": "execute_result"
    }
   ],
   "source": [
    "df = dynamics.get_history()   # The system's history, saved during the run of single_compartment_react()\n",
    "df"
   ]
  },
  {
   "cell_type": "code",
   "execution_count": 12,
   "id": "1092029f",
   "metadata": {},
   "outputs": [
    {
     "name": "stdout",
     "output_type": "stream",
     "text": [
      "From time 0 to 0.0125, in 1 reduced step of 0.0125 (1/8 of requested step)\n",
      "From time 0.0125 to 0.0375, in 1 FULL step of 0.025\n",
      "From time 0.0375 to 0.05, in 1 FULL step of 0.0125\n",
      "From time 0.05 to 0.075, in 1 FULL step of 0.025\n",
      "From time 0.075 to 0.0875, in 1 FULL step of 0.0125\n",
      "From time 0.0875 to 0.1375, in 2 FULL steps of 0.025\n",
      "From time 0.1375 to 0.1875, in 1 FULL step of 0.05\n",
      "From time 0.1875 to 0.2125, in 1 FULL step of 0.025\n",
      "From time 0.2125 to 0.3125, in 2 FULL steps of 0.05\n",
      "From time 0.3125 to 0.5125, in 2 FULL steps of 0.1\n",
      "From time 0.5125 to 0.7125, in 1 FULL step of 0.2\n",
      "From time 0.7125 to 1.112, in 1 FULL step of 0.4\n",
      "From time 1.112 to 1.912, in 1 FULL step of 0.8\n"
     ]
    }
   ],
   "source": [
    "dynamics.explain_time_advance()"
   ]
  },
  {
   "cell_type": "markdown",
   "id": "edb7c015",
   "metadata": {
    "tags": []
   },
   "source": [
    "## Notice how the reaction proceeds in smaller steps in the early times, when [A] and [B] are changing much more rapidly\n",
    "### That resulted from passing the flag _variable_steps_ to single_compartment_react()"
   ]
  },
  {
   "cell_type": "markdown",
   "id": "6047485b",
   "metadata": {
    "tags": []
   },
   "source": [
    "## Detailed Example 1: **going from 0.1375 to 0.1875**    "
   ]
  },
  {
   "cell_type": "code",
   "execution_count": 116,
   "id": "2270ca3e-d1da-445c-a16c-a0d770f05db3",
   "metadata": {},
   "outputs": [
    {
     "data": {
      "text/html": [
       "<div>\n",
       "<style scoped>\n",
       "    .dataframe tbody tr th:only-of-type {\n",
       "        vertical-align: middle;\n",
       "    }\n",
       "\n",
       "    .dataframe tbody tr th {\n",
       "        vertical-align: top;\n",
       "    }\n",
       "\n",
       "    .dataframe thead th {\n",
       "        text-align: right;\n",
       "    }\n",
       "</style>\n",
       "<table border=\"1\" class=\"dataframe\">\n",
       "  <thead>\n",
       "    <tr style=\"text-align: right;\">\n",
       "      <th></th>\n",
       "      <th>lookup</th>\n",
       "      <th>SYSTEM TIME</th>\n",
       "      <th>A</th>\n",
       "      <th>B</th>\n",
       "      <th>caption</th>\n",
       "    </tr>\n",
       "  </thead>\n",
       "  <tbody>\n",
       "    <tr>\n",
       "      <th>0</th>\n",
       "      <td>0.1375</td>\n",
       "      <td>0.1375</td>\n",
       "      <td>17.238017</td>\n",
       "      <td>42.761983</td>\n",
       "      <td></td>\n",
       "    </tr>\n",
       "    <tr>\n",
       "      <th>1</th>\n",
       "      <td>0.1875</td>\n",
       "      <td>0.1875</td>\n",
       "      <td>18.928513</td>\n",
       "      <td>41.071487</td>\n",
       "      <td></td>\n",
       "    </tr>\n",
       "  </tbody>\n",
       "</table>\n",
       "</div>"
      ],
      "text/plain": [
       "   lookup  SYSTEM TIME          A          B caption\n",
       "0  0.1375       0.1375  17.238017  42.761983        \n",
       "1  0.1875       0.1875  18.928513  41.071487        "
      ]
     },
     "execution_count": 116,
     "metadata": {},
     "output_type": "execute_result"
    }
   ],
   "source": [
    "lookup = pd.merge_asof(pd.DataFrame({'lookup':[0.1375, 0.1875]}), df,\n",
    "              right_on='SYSTEM TIME', left_on='lookup',\n",
    "              direction='nearest')\n",
    "lookup"
   ]
  },
  {
   "cell_type": "code",
   "execution_count": 117,
   "id": "9d67dd2e-44e2-4860-8414-a600f104109e",
   "metadata": {},
   "outputs": [
    {
     "data": {
      "text/plain": [
       "array([1.6904957592487335, -1.6904957592487335], dtype=object)"
      ]
     },
     "execution_count": 117,
     "metadata": {},
     "output_type": "execute_result"
    }
   ],
   "source": [
    "delta_concentrations = (lookup.iloc[1][['A', 'B']] - \n",
    "                        lookup.iloc[0][['A', 'B']]).to_numpy()\n",
    "delta_concentrations"
   ]
  },
  {
   "cell_type": "markdown",
   "id": "2127ef7d",
   "metadata": {},
   "source": [
    "As expected by the 1:1 stoichiometry, delta_A = - delta_B\n",
    "\n",
    "The above values coud also be looked up from the diagnostic data, since we only have 1 reaction:"
   ]
  },
  {
   "cell_type": "code",
   "execution_count": 124,
   "id": "0ffe1206-5528-4f6e-8dc8-8a8bc450a8e5",
   "metadata": {},
   "outputs": [
    {
     "name": "stdout",
     "output_type": "stream",
     "text": [
      "Reaction:  A <-> B\n"
     ]
    }
   ],
   "source": [
    "rxn_data = dynamics.get_diagnostic_rxn_data(rxn_index=0)"
   ]
  },
  {
   "cell_type": "code",
   "execution_count": 129,
   "id": "8e245671-84e5-4e20-92f1-cd28191c6343",
   "metadata": {},
   "outputs": [
    {
     "data": {
      "text/html": [
       "<div>\n",
       "<style scoped>\n",
       "    .dataframe tbody tr th:only-of-type {\n",
       "        vertical-align: middle;\n",
       "    }\n",
       "\n",
       "    .dataframe tbody tr th {\n",
       "        vertical-align: top;\n",
       "    }\n",
       "\n",
       "    .dataframe thead th {\n",
       "        text-align: right;\n",
       "    }\n",
       "</style>\n",
       "<table border=\"1\" class=\"dataframe\">\n",
       "  <thead>\n",
       "    <tr style=\"text-align: right;\">\n",
       "      <th></th>\n",
       "      <th>TIME</th>\n",
       "      <th>Delta A</th>\n",
       "      <th>Delta B</th>\n",
       "      <th>reaction</th>\n",
       "      <th>delta_time</th>\n",
       "      <th>caption</th>\n",
       "    </tr>\n",
       "  </thead>\n",
       "  <tbody>\n",
       "    <tr>\n",
       "      <th>0</th>\n",
       "      <td>0.0000</td>\n",
       "      <td>7.000000</td>\n",
       "      <td>-7.000000</td>\n",
       "      <td>0</td>\n",
       "      <td>0.1000</td>\n",
       "      <td></td>\n",
       "    </tr>\n",
       "    <tr>\n",
       "      <th>1</th>\n",
       "      <td>0.0000</td>\n",
       "      <td>3.500000</td>\n",
       "      <td>-3.500000</td>\n",
       "      <td>0</td>\n",
       "      <td>0.0500</td>\n",
       "      <td></td>\n",
       "    </tr>\n",
       "    <tr>\n",
       "      <th>2</th>\n",
       "      <td>0.0000</td>\n",
       "      <td>1.750000</td>\n",
       "      <td>-1.750000</td>\n",
       "      <td>0</td>\n",
       "      <td>0.0250</td>\n",
       "      <td></td>\n",
       "    </tr>\n",
       "    <tr>\n",
       "      <th>3</th>\n",
       "      <td>0.0000</td>\n",
       "      <td>0.875000</td>\n",
       "      <td>-0.875000</td>\n",
       "      <td>0</td>\n",
       "      <td>0.0125</td>\n",
       "      <td></td>\n",
       "    </tr>\n",
       "    <tr>\n",
       "      <th>4</th>\n",
       "      <td>0.0125</td>\n",
       "      <td>1.640625</td>\n",
       "      <td>-1.640625</td>\n",
       "      <td>0</td>\n",
       "      <td>0.0250</td>\n",
       "      <td></td>\n",
       "    </tr>\n",
       "    <tr>\n",
       "      <th>5</th>\n",
       "      <td>0.0375</td>\n",
       "      <td>0.717773</td>\n",
       "      <td>-0.717773</td>\n",
       "      <td>0</td>\n",
       "      <td>0.0125</td>\n",
       "      <td></td>\n",
       "    </tr>\n",
       "    <tr>\n",
       "      <th>6</th>\n",
       "      <td>0.0500</td>\n",
       "      <td>1.345825</td>\n",
       "      <td>-1.345825</td>\n",
       "      <td>0</td>\n",
       "      <td>0.0250</td>\n",
       "      <td></td>\n",
       "    </tr>\n",
       "    <tr>\n",
       "      <th>7</th>\n",
       "      <td>0.0750</td>\n",
       "      <td>0.588799</td>\n",
       "      <td>-0.588799</td>\n",
       "      <td>0</td>\n",
       "      <td>0.0125</td>\n",
       "      <td></td>\n",
       "    </tr>\n",
       "    <tr>\n",
       "      <th>8</th>\n",
       "      <td>0.0875</td>\n",
       "      <td>1.103997</td>\n",
       "      <td>-1.103997</td>\n",
       "      <td>0</td>\n",
       "      <td>0.0250</td>\n",
       "      <td></td>\n",
       "    </tr>\n",
       "    <tr>\n",
       "      <th>9</th>\n",
       "      <td>0.1125</td>\n",
       "      <td>0.965998</td>\n",
       "      <td>-0.965998</td>\n",
       "      <td>0</td>\n",
       "      <td>0.0250</td>\n",
       "      <td></td>\n",
       "    </tr>\n",
       "    <tr>\n",
       "      <th>10</th>\n",
       "      <td>0.1375</td>\n",
       "      <td>1.690496</td>\n",
       "      <td>-1.690496</td>\n",
       "      <td>0</td>\n",
       "      <td>0.0500</td>\n",
       "      <td></td>\n",
       "    </tr>\n",
       "    <tr>\n",
       "      <th>11</th>\n",
       "      <td>0.1875</td>\n",
       "      <td>0.633936</td>\n",
       "      <td>-0.633936</td>\n",
       "      <td>0</td>\n",
       "      <td>0.0250</td>\n",
       "      <td></td>\n",
       "    </tr>\n",
       "  </tbody>\n",
       "</table>\n",
       "</div>"
      ],
      "text/plain": [
       "      TIME   Delta A   Delta B  reaction  delta_time caption\n",
       "0   0.0000  7.000000 -7.000000         0      0.1000        \n",
       "1   0.0000  3.500000 -3.500000         0      0.0500        \n",
       "2   0.0000  1.750000 -1.750000         0      0.0250        \n",
       "3   0.0000  0.875000 -0.875000         0      0.0125        \n",
       "4   0.0125  1.640625 -1.640625         0      0.0250        \n",
       "5   0.0375  0.717773 -0.717773         0      0.0125        \n",
       "6   0.0500  1.345825 -1.345825         0      0.0250        \n",
       "7   0.0750  0.588799 -0.588799         0      0.0125        \n",
       "8   0.0875  1.103997 -1.103997         0      0.0250        \n",
       "9   0.1125  0.965998 -0.965998         0      0.0250        \n",
       "10  0.1375  1.690496 -1.690496         0      0.0500        \n",
       "11  0.1875  0.633936 -0.633936         0      0.0250        "
      ]
     },
     "execution_count": 129,
     "metadata": {},
     "output_type": "execute_result"
    }
   ],
   "source": [
    "rxn_data[0:12]"
   ]
  },
  {
   "cell_type": "code",
   "execution_count": 130,
   "id": "9a0d47b2-084a-426e-8501-6b1dc9fbd214",
   "metadata": {},
   "outputs": [
    {
     "data": {
      "text/plain": [
       "TIME            0.1375\n",
       "Delta A       1.690496\n",
       "Delta B      -1.690496\n",
       "reaction             0\n",
       "delta_time        0.05\n",
       "caption               \n",
       "Name: 10, dtype: object"
      ]
     },
     "execution_count": 130,
     "metadata": {},
     "output_type": "execute_result"
    }
   ],
   "source": [
    "delta_row = rxn_data.iloc[rxn_data['TIME'].sub(0.1375).abs().idxmin()] # Locate the interval's start time\n",
    "delta_row"
   ]
  },
  {
   "cell_type": "code",
   "execution_count": 133,
   "id": "dce0fe06-3f2d-4397-aeb1-40528ba5c53f",
   "metadata": {},
   "outputs": [
    {
     "data": {
      "text/plain": [
       "array([1.6904957592487335, -1.6904957592487335], dtype=object)"
      ]
     },
     "execution_count": 133,
     "metadata": {},
     "output_type": "execute_result"
    }
   ],
   "source": [
    "delta_row[[\"Delta A\", \"Delta B\"]].to_numpy()   # Gives same value as delta_concentrations, above"
   ]
  },
  {
   "cell_type": "code",
   "execution_count": 21,
   "id": "f33671d5-0380-44cf-adbd-480a3f9c66d4",
   "metadata": {},
   "outputs": [
    {
     "data": {
      "text/plain": [
       "1.428887956018976"
      ]
     },
     "execution_count": 21,
     "metadata": {},
     "output_type": "execute_result"
    }
   ],
   "source": [
    "adjusted_L2_rate = dynamics.norm_A(delta_concentrations)  # A measure of how large delta_concentrations is\n",
    "adjusted_L2_rate"
   ]
  },
  {
   "cell_type": "code",
   "execution_count": 22,
   "id": "5b1a9eed-21e0-4896-ad01-b710fcd7a720",
   "metadata": {},
   "outputs": [
    {
     "data": {
      "text/plain": [
       "0.5"
      ]
     },
     "execution_count": 22,
     "metadata": {},
     "output_type": "execute_result"
    }
   ],
   "source": [
    "dynamics.step_determiner_A(adjusted_L2_rate)"
   ]
  },
  {
   "cell_type": "markdown",
   "id": "cc004982-4c9e-43c9-883d-05827e1b02e8",
   "metadata": {},
   "source": [
    "#### The above conclusion is that the step will be **HALVED** at the next round : that's because the adjusted_L2_rate > the \"high\" value given in the argument _thresholds={\"low\": 0.5, \"high\": 0.8}_"
   ]
  },
  {
   "cell_type": "markdown",
   "id": "1dac7bdd-63fe-4a5d-95ad-12ae178610ca",
   "metadata": {
    "tags": []
   },
   "source": [
    "## Detailed Example 2: **going from 0.1875 to 0.2125**   "
   ]
  },
  {
   "cell_type": "code",
   "execution_count": 131,
   "id": "9eeaa645-00e5-4924-aab4-bc9c7dc2a06c",
   "metadata": {},
   "outputs": [
    {
     "data": {
      "text/html": [
       "<div>\n",
       "<style scoped>\n",
       "    .dataframe tbody tr th:only-of-type {\n",
       "        vertical-align: middle;\n",
       "    }\n",
       "\n",
       "    .dataframe tbody tr th {\n",
       "        vertical-align: top;\n",
       "    }\n",
       "\n",
       "    .dataframe thead th {\n",
       "        text-align: right;\n",
       "    }\n",
       "</style>\n",
       "<table border=\"1\" class=\"dataframe\">\n",
       "  <thead>\n",
       "    <tr style=\"text-align: right;\">\n",
       "      <th></th>\n",
       "      <th>lookup</th>\n",
       "      <th>SYSTEM TIME</th>\n",
       "      <th>A</th>\n",
       "      <th>B</th>\n",
       "      <th>caption</th>\n",
       "    </tr>\n",
       "  </thead>\n",
       "  <tbody>\n",
       "    <tr>\n",
       "      <th>0</th>\n",
       "      <td>0.1875</td>\n",
       "      <td>0.1875</td>\n",
       "      <td>18.928513</td>\n",
       "      <td>41.071487</td>\n",
       "      <td></td>\n",
       "    </tr>\n",
       "    <tr>\n",
       "      <th>1</th>\n",
       "      <td>0.2125</td>\n",
       "      <td>0.2125</td>\n",
       "      <td>19.562449</td>\n",
       "      <td>40.437551</td>\n",
       "      <td></td>\n",
       "    </tr>\n",
       "  </tbody>\n",
       "</table>\n",
       "</div>"
      ],
      "text/plain": [
       "   lookup  SYSTEM TIME          A          B caption\n",
       "0  0.1875       0.1875  18.928513  41.071487        \n",
       "1  0.2125       0.2125  19.562449  40.437551        "
      ]
     },
     "execution_count": 131,
     "metadata": {},
     "output_type": "execute_result"
    }
   ],
   "source": [
    "lookup = pd.merge_asof(pd.DataFrame({'lookup':[0.1875, 0.2125]}), df,\n",
    "              right_on='SYSTEM TIME', left_on='lookup',\n",
    "              direction='nearest')\n",
    "lookup"
   ]
  },
  {
   "cell_type": "code",
   "execution_count": 132,
   "id": "fa93dd6e-ae37-4f27-a08e-282862896b50",
   "metadata": {},
   "outputs": [
    {
     "data": {
      "text/plain": [
       "array([0.6339359097182751, -0.6339359097182751], dtype=object)"
      ]
     },
     "execution_count": 132,
     "metadata": {},
     "output_type": "execute_result"
    }
   ],
   "source": [
    "delta_concentrations = (lookup.iloc[1][['A', 'B']] - \n",
    "                        lookup.iloc[0][['A', 'B']]).to_numpy()\n",
    "delta_concentrations"
   ]
  },
  {
   "cell_type": "markdown",
   "id": "fe0d44a2-6aa3-433d-9e4c-94084d43a0cf",
   "metadata": {},
   "source": [
    "Note how substantially smaller _delta_concentrations_ is, compared to the previous example"
   ]
  },
  {
   "cell_type": "code",
   "execution_count": 134,
   "id": "955cd624-9c5f-43e2-af00-341a6c26dbb7",
   "metadata": {},
   "outputs": [
    {
     "data": {
      "text/plain": [
       "0.2009373688151685"
      ]
     },
     "execution_count": 134,
     "metadata": {},
     "output_type": "execute_result"
    }
   ],
   "source": [
    "adjusted_L2_rate = dynamics.norm_A(delta_concentrations)  # A measure of how large delta_concentrations is\n",
    "adjusted_L2_rate"
   ]
  },
  {
   "cell_type": "code",
   "execution_count": 135,
   "id": "7c80b15c-0567-412f-9a9c-2197c63405a7",
   "metadata": {},
   "outputs": [
    {
     "data": {
      "text/plain": [
       "2"
      ]
     },
     "execution_count": 135,
     "metadata": {},
     "output_type": "execute_result"
    }
   ],
   "source": [
    "dynamics.step_determiner_A(adjusted_L2_rate)"
   ]
  },
  {
   "cell_type": "markdown",
   "id": "751da240-c410-4bed-8d1f-4847d42aba4a",
   "metadata": {},
   "source": [
    "#### The above conclusion is that the step will be **DOUBLED** at the next round : that's because the adjusted_L2_rate < the \"low\" value given in the argument _thresholds={\"low\": 0.5, \"high\": 0.8}_"
   ]
  },
  {
   "cell_type": "markdown",
   "id": "6deca814",
   "metadata": {},
   "source": [
    "# Check the final equilibrium"
   ]
  },
  {
   "cell_type": "code",
   "execution_count": 28,
   "id": "23c4b3ba",
   "metadata": {},
   "outputs": [
    {
     "name": "stdout",
     "output_type": "stream",
     "text": [
      "A <-> B\n",
      "Final concentrations:  [B] = 36 ; [A] = 24\n",
      "1. Ratio of reactant/product concentrations, adjusted for reaction orders: 1.5\n",
      "    Formula used:  [B] / [A]\n",
      "2. Ratio of forward/reverse reaction rates: 1.5\n",
      "Discrepancy between the two values: 0 %\n",
      "Reaction IS in equilibrium (within 1% tolerance)\n",
      "\n"
     ]
    },
    {
     "data": {
      "text/plain": [
       "True"
      ]
     },
     "execution_count": 28,
     "metadata": {},
     "output_type": "execute_result"
    }
   ],
   "source": [
    "# Verify that the reaction has reached equilibrium\n",
    "dynamics.is_in_equilibrium()"
   ]
  },
  {
   "cell_type": "markdown",
   "id": "03866901",
   "metadata": {
    "tags": []
   },
   "source": [
    "# Plots of changes of concentration with time"
   ]
  },
  {
   "cell_type": "code",
   "execution_count": 136,
   "id": "4aa218e3-e8de-4762-9a60-b727a833f2d4",
   "metadata": {},
   "outputs": [
    {
     "data": {
      "application/vnd.plotly.v1+json": {
       "config": {
        "plotlyServerURL": "https://plot.ly"
       },
       "data": [
        {
         "hovertemplate": "Chemical=A<br>SYSTEM TIME=%{x}<br>concentration=%{y}<extra></extra>",
         "legendgroup": "A",
         "line": {
          "color": "blue",
          "dash": "solid"
         },
         "marker": {
          "symbol": "circle"
         },
         "mode": "lines",
         "name": "A",
         "orientation": "v",
         "showlegend": true,
         "type": "scatter",
         "x": [
          0,
          0.0125,
          0.037500000000000006,
          0.05,
          0.07500000000000001,
          0.08750000000000001,
          0.11250000000000002,
          0.1375,
          0.1875,
          0.2125,
          0.2625,
          0.3125,
          0.4125,
          0.5125,
          0.7124999999999999,
          1.1124999999999998,
          1.9124999999999999
         ],
         "xaxis": "x",
         "y": [
          10,
          10.875,
          12.515625,
          13.2333984375,
          14.5792236328125,
          15.168022155761719,
          16.272019386291504,
          17.238016963005066,
          18.9285127222538,
          19.562448631972075,
          20.671836473979056,
          21.503877355484292,
          22.751938677742146,
          23.375969338871073,
          24,
          24,
          24
         ],
         "yaxis": "y"
        },
        {
         "hovertemplate": "Chemical=B<br>SYSTEM TIME=%{x}<br>concentration=%{y}<extra></extra>",
         "legendgroup": "B",
         "line": {
          "color": "orange",
          "dash": "solid"
         },
         "marker": {
          "symbol": "circle"
         },
         "mode": "lines",
         "name": "B",
         "orientation": "v",
         "showlegend": true,
         "type": "scatter",
         "x": [
          0,
          0.0125,
          0.037500000000000006,
          0.05,
          0.07500000000000001,
          0.08750000000000001,
          0.11250000000000002,
          0.1375,
          0.1875,
          0.2125,
          0.2625,
          0.3125,
          0.4125,
          0.5125,
          0.7124999999999999,
          1.1124999999999998,
          1.9124999999999999
         ],
         "xaxis": "x",
         "y": [
          50,
          49.125,
          47.484375,
          46.7666015625,
          45.4207763671875,
          44.83197784423828,
          43.727980613708496,
          42.761983036994934,
          41.0714872777462,
          40.437551368027925,
          39.328163526020944,
          38.49612264451571,
          37.248061322257854,
          36.62403066112893,
          36,
          36,
          36
         ],
         "yaxis": "y"
        }
       ],
       "layout": {
        "autosize": true,
        "legend": {
         "title": {
          "text": "Chemical"
         },
         "tracegroupgap": 0
        },
        "template": {
         "data": {
          "bar": [
           {
            "error_x": {
             "color": "#2a3f5f"
            },
            "error_y": {
             "color": "#2a3f5f"
            },
            "marker": {
             "line": {
              "color": "#E5ECF6",
              "width": 0.5
             },
             "pattern": {
              "fillmode": "overlay",
              "size": 10,
              "solidity": 0.2
             }
            },
            "type": "bar"
           }
          ],
          "barpolar": [
           {
            "marker": {
             "line": {
              "color": "#E5ECF6",
              "width": 0.5
             },
             "pattern": {
              "fillmode": "overlay",
              "size": 10,
              "solidity": 0.2
             }
            },
            "type": "barpolar"
           }
          ],
          "carpet": [
           {
            "aaxis": {
             "endlinecolor": "#2a3f5f",
             "gridcolor": "white",
             "linecolor": "white",
             "minorgridcolor": "white",
             "startlinecolor": "#2a3f5f"
            },
            "baxis": {
             "endlinecolor": "#2a3f5f",
             "gridcolor": "white",
             "linecolor": "white",
             "minorgridcolor": "white",
             "startlinecolor": "#2a3f5f"
            },
            "type": "carpet"
           }
          ],
          "choropleth": [
           {
            "colorbar": {
             "outlinewidth": 0,
             "ticks": ""
            },
            "type": "choropleth"
           }
          ],
          "contour": [
           {
            "colorbar": {
             "outlinewidth": 0,
             "ticks": ""
            },
            "colorscale": [
             [
              0,
              "#0d0887"
             ],
             [
              0.1111111111111111,
              "#46039f"
             ],
             [
              0.2222222222222222,
              "#7201a8"
             ],
             [
              0.3333333333333333,
              "#9c179e"
             ],
             [
              0.4444444444444444,
              "#bd3786"
             ],
             [
              0.5555555555555556,
              "#d8576b"
             ],
             [
              0.6666666666666666,
              "#ed7953"
             ],
             [
              0.7777777777777778,
              "#fb9f3a"
             ],
             [
              0.8888888888888888,
              "#fdca26"
             ],
             [
              1,
              "#f0f921"
             ]
            ],
            "type": "contour"
           }
          ],
          "contourcarpet": [
           {
            "colorbar": {
             "outlinewidth": 0,
             "ticks": ""
            },
            "type": "contourcarpet"
           }
          ],
          "heatmap": [
           {
            "colorbar": {
             "outlinewidth": 0,
             "ticks": ""
            },
            "colorscale": [
             [
              0,
              "#0d0887"
             ],
             [
              0.1111111111111111,
              "#46039f"
             ],
             [
              0.2222222222222222,
              "#7201a8"
             ],
             [
              0.3333333333333333,
              "#9c179e"
             ],
             [
              0.4444444444444444,
              "#bd3786"
             ],
             [
              0.5555555555555556,
              "#d8576b"
             ],
             [
              0.6666666666666666,
              "#ed7953"
             ],
             [
              0.7777777777777778,
              "#fb9f3a"
             ],
             [
              0.8888888888888888,
              "#fdca26"
             ],
             [
              1,
              "#f0f921"
             ]
            ],
            "type": "heatmap"
           }
          ],
          "heatmapgl": [
           {
            "colorbar": {
             "outlinewidth": 0,
             "ticks": ""
            },
            "colorscale": [
             [
              0,
              "#0d0887"
             ],
             [
              0.1111111111111111,
              "#46039f"
             ],
             [
              0.2222222222222222,
              "#7201a8"
             ],
             [
              0.3333333333333333,
              "#9c179e"
             ],
             [
              0.4444444444444444,
              "#bd3786"
             ],
             [
              0.5555555555555556,
              "#d8576b"
             ],
             [
              0.6666666666666666,
              "#ed7953"
             ],
             [
              0.7777777777777778,
              "#fb9f3a"
             ],
             [
              0.8888888888888888,
              "#fdca26"
             ],
             [
              1,
              "#f0f921"
             ]
            ],
            "type": "heatmapgl"
           }
          ],
          "histogram": [
           {
            "marker": {
             "pattern": {
              "fillmode": "overlay",
              "size": 10,
              "solidity": 0.2
             }
            },
            "type": "histogram"
           }
          ],
          "histogram2d": [
           {
            "colorbar": {
             "outlinewidth": 0,
             "ticks": ""
            },
            "colorscale": [
             [
              0,
              "#0d0887"
             ],
             [
              0.1111111111111111,
              "#46039f"
             ],
             [
              0.2222222222222222,
              "#7201a8"
             ],
             [
              0.3333333333333333,
              "#9c179e"
             ],
             [
              0.4444444444444444,
              "#bd3786"
             ],
             [
              0.5555555555555556,
              "#d8576b"
             ],
             [
              0.6666666666666666,
              "#ed7953"
             ],
             [
              0.7777777777777778,
              "#fb9f3a"
             ],
             [
              0.8888888888888888,
              "#fdca26"
             ],
             [
              1,
              "#f0f921"
             ]
            ],
            "type": "histogram2d"
           }
          ],
          "histogram2dcontour": [
           {
            "colorbar": {
             "outlinewidth": 0,
             "ticks": ""
            },
            "colorscale": [
             [
              0,
              "#0d0887"
             ],
             [
              0.1111111111111111,
              "#46039f"
             ],
             [
              0.2222222222222222,
              "#7201a8"
             ],
             [
              0.3333333333333333,
              "#9c179e"
             ],
             [
              0.4444444444444444,
              "#bd3786"
             ],
             [
              0.5555555555555556,
              "#d8576b"
             ],
             [
              0.6666666666666666,
              "#ed7953"
             ],
             [
              0.7777777777777778,
              "#fb9f3a"
             ],
             [
              0.8888888888888888,
              "#fdca26"
             ],
             [
              1,
              "#f0f921"
             ]
            ],
            "type": "histogram2dcontour"
           }
          ],
          "mesh3d": [
           {
            "colorbar": {
             "outlinewidth": 0,
             "ticks": ""
            },
            "type": "mesh3d"
           }
          ],
          "parcoords": [
           {
            "line": {
             "colorbar": {
              "outlinewidth": 0,
              "ticks": ""
             }
            },
            "type": "parcoords"
           }
          ],
          "pie": [
           {
            "automargin": true,
            "type": "pie"
           }
          ],
          "scatter": [
           {
            "fillpattern": {
             "fillmode": "overlay",
             "size": 10,
             "solidity": 0.2
            },
            "type": "scatter"
           }
          ],
          "scatter3d": [
           {
            "line": {
             "colorbar": {
              "outlinewidth": 0,
              "ticks": ""
             }
            },
            "marker": {
             "colorbar": {
              "outlinewidth": 0,
              "ticks": ""
             }
            },
            "type": "scatter3d"
           }
          ],
          "scattercarpet": [
           {
            "marker": {
             "colorbar": {
              "outlinewidth": 0,
              "ticks": ""
             }
            },
            "type": "scattercarpet"
           }
          ],
          "scattergeo": [
           {
            "marker": {
             "colorbar": {
              "outlinewidth": 0,
              "ticks": ""
             }
            },
            "type": "scattergeo"
           }
          ],
          "scattergl": [
           {
            "marker": {
             "colorbar": {
              "outlinewidth": 0,
              "ticks": ""
             }
            },
            "type": "scattergl"
           }
          ],
          "scattermapbox": [
           {
            "marker": {
             "colorbar": {
              "outlinewidth": 0,
              "ticks": ""
             }
            },
            "type": "scattermapbox"
           }
          ],
          "scatterpolar": [
           {
            "marker": {
             "colorbar": {
              "outlinewidth": 0,
              "ticks": ""
             }
            },
            "type": "scatterpolar"
           }
          ],
          "scatterpolargl": [
           {
            "marker": {
             "colorbar": {
              "outlinewidth": 0,
              "ticks": ""
             }
            },
            "type": "scatterpolargl"
           }
          ],
          "scatterternary": [
           {
            "marker": {
             "colorbar": {
              "outlinewidth": 0,
              "ticks": ""
             }
            },
            "type": "scatterternary"
           }
          ],
          "surface": [
           {
            "colorbar": {
             "outlinewidth": 0,
             "ticks": ""
            },
            "colorscale": [
             [
              0,
              "#0d0887"
             ],
             [
              0.1111111111111111,
              "#46039f"
             ],
             [
              0.2222222222222222,
              "#7201a8"
             ],
             [
              0.3333333333333333,
              "#9c179e"
             ],
             [
              0.4444444444444444,
              "#bd3786"
             ],
             [
              0.5555555555555556,
              "#d8576b"
             ],
             [
              0.6666666666666666,
              "#ed7953"
             ],
             [
              0.7777777777777778,
              "#fb9f3a"
             ],
             [
              0.8888888888888888,
              "#fdca26"
             ],
             [
              1,
              "#f0f921"
             ]
            ],
            "type": "surface"
           }
          ],
          "table": [
           {
            "cells": {
             "fill": {
              "color": "#EBF0F8"
             },
             "line": {
              "color": "white"
             }
            },
            "header": {
             "fill": {
              "color": "#C8D4E3"
             },
             "line": {
              "color": "white"
             }
            },
            "type": "table"
           }
          ]
         },
         "layout": {
          "annotationdefaults": {
           "arrowcolor": "#2a3f5f",
           "arrowhead": 0,
           "arrowwidth": 1
          },
          "autotypenumbers": "strict",
          "coloraxis": {
           "colorbar": {
            "outlinewidth": 0,
            "ticks": ""
           }
          },
          "colorscale": {
           "diverging": [
            [
             0,
             "#8e0152"
            ],
            [
             0.1,
             "#c51b7d"
            ],
            [
             0.2,
             "#de77ae"
            ],
            [
             0.3,
             "#f1b6da"
            ],
            [
             0.4,
             "#fde0ef"
            ],
            [
             0.5,
             "#f7f7f7"
            ],
            [
             0.6,
             "#e6f5d0"
            ],
            [
             0.7,
             "#b8e186"
            ],
            [
             0.8,
             "#7fbc41"
            ],
            [
             0.9,
             "#4d9221"
            ],
            [
             1,
             "#276419"
            ]
           ],
           "sequential": [
            [
             0,
             "#0d0887"
            ],
            [
             0.1111111111111111,
             "#46039f"
            ],
            [
             0.2222222222222222,
             "#7201a8"
            ],
            [
             0.3333333333333333,
             "#9c179e"
            ],
            [
             0.4444444444444444,
             "#bd3786"
            ],
            [
             0.5555555555555556,
             "#d8576b"
            ],
            [
             0.6666666666666666,
             "#ed7953"
            ],
            [
             0.7777777777777778,
             "#fb9f3a"
            ],
            [
             0.8888888888888888,
             "#fdca26"
            ],
            [
             1,
             "#f0f921"
            ]
           ],
           "sequentialminus": [
            [
             0,
             "#0d0887"
            ],
            [
             0.1111111111111111,
             "#46039f"
            ],
            [
             0.2222222222222222,
             "#7201a8"
            ],
            [
             0.3333333333333333,
             "#9c179e"
            ],
            [
             0.4444444444444444,
             "#bd3786"
            ],
            [
             0.5555555555555556,
             "#d8576b"
            ],
            [
             0.6666666666666666,
             "#ed7953"
            ],
            [
             0.7777777777777778,
             "#fb9f3a"
            ],
            [
             0.8888888888888888,
             "#fdca26"
            ],
            [
             1,
             "#f0f921"
            ]
           ]
          },
          "colorway": [
           "#636efa",
           "#EF553B",
           "#00cc96",
           "#ab63fa",
           "#FFA15A",
           "#19d3f3",
           "#FF6692",
           "#B6E880",
           "#FF97FF",
           "#FECB52"
          ],
          "font": {
           "color": "#2a3f5f"
          },
          "geo": {
           "bgcolor": "white",
           "lakecolor": "white",
           "landcolor": "#E5ECF6",
           "showlakes": true,
           "showland": true,
           "subunitcolor": "white"
          },
          "hoverlabel": {
           "align": "left"
          },
          "hovermode": "closest",
          "mapbox": {
           "style": "light"
          },
          "paper_bgcolor": "white",
          "plot_bgcolor": "#E5ECF6",
          "polar": {
           "angularaxis": {
            "gridcolor": "white",
            "linecolor": "white",
            "ticks": ""
           },
           "bgcolor": "#E5ECF6",
           "radialaxis": {
            "gridcolor": "white",
            "linecolor": "white",
            "ticks": ""
           }
          },
          "scene": {
           "xaxis": {
            "backgroundcolor": "#E5ECF6",
            "gridcolor": "white",
            "gridwidth": 2,
            "linecolor": "white",
            "showbackground": true,
            "ticks": "",
            "zerolinecolor": "white"
           },
           "yaxis": {
            "backgroundcolor": "#E5ECF6",
            "gridcolor": "white",
            "gridwidth": 2,
            "linecolor": "white",
            "showbackground": true,
            "ticks": "",
            "zerolinecolor": "white"
           },
           "zaxis": {
            "backgroundcolor": "#E5ECF6",
            "gridcolor": "white",
            "gridwidth": 2,
            "linecolor": "white",
            "showbackground": true,
            "ticks": "",
            "zerolinecolor": "white"
           }
          },
          "shapedefaults": {
           "line": {
            "color": "#2a3f5f"
           }
          },
          "ternary": {
           "aaxis": {
            "gridcolor": "white",
            "linecolor": "white",
            "ticks": ""
           },
           "baxis": {
            "gridcolor": "white",
            "linecolor": "white",
            "ticks": ""
           },
           "bgcolor": "#E5ECF6",
           "caxis": {
            "gridcolor": "white",
            "linecolor": "white",
            "ticks": ""
           }
          },
          "title": {
           "x": 0.05
          },
          "xaxis": {
           "automargin": true,
           "gridcolor": "white",
           "linecolor": "white",
           "ticks": "",
           "title": {
            "standoff": 15
           },
           "zerolinecolor": "white",
           "zerolinewidth": 2
          },
          "yaxis": {
           "automargin": true,
           "gridcolor": "white",
           "linecolor": "white",
           "ticks": "",
           "title": {
            "standoff": 15
           },
           "zerolinecolor": "white",
           "zerolinewidth": 2
          }
         }
        },
        "title": {
         "text": "Reaction `A <-> B` .  Changes in concentrations with time"
        },
        "xaxis": {
         "anchor": "y",
         "autorange": true,
         "domain": [
          0,
          1
         ],
         "range": [
          0,
          1.9124999999999999
         ],
         "title": {
          "text": "SYSTEM TIME"
         },
         "type": "linear"
        },
        "yaxis": {
         "anchor": "x",
         "autorange": true,
         "domain": [
          0,
          1
         ],
         "range": [
          7.777777777777778,
          52.22222222222222
         ],
         "title": {
          "text": "concentration"
         },
         "type": "linear"
        }
       }
      },
      "image/png": "[encoded data removed]",
      "text/html": [
       "<div>                            <div id=\"ef74f653-e3ad-4a94-9b54-aa7e3688e24a\" class=\"plotly-graph-div\" style=\"height:525px; width:100%;\"></div>            <script type=\"text/javascript\">                require([\"plotly\"], function(Plotly) {                    window.PLOTLYENV=window.PLOTLYENV || {};                                    if (document.getElementById(\"ef74f653-e3ad-4a94-9b54-aa7e3688e24a\")) {                    Plotly.newPlot(                        \"ef74f653-e3ad-4a94-9b54-aa7e3688e24a\",                        [{\"hovertemplate\":\"Chemical=A<br>SYSTEM TIME=%{x}<br>concentration=%{y}<extra></extra>\",\"legendgroup\":\"A\",\"line\":{\"color\":\"blue\",\"dash\":\"solid\"},\"marker\":{\"symbol\":\"circle\"},\"mode\":\"lines\",\"name\":\"A\",\"orientation\":\"v\",\"showlegend\":true,\"x\":[0.0,0.0125,0.037500000000000006,0.05,0.07500000000000001,0.08750000000000001,0.11250000000000002,0.1375,0.1875,0.2125,0.2625,0.3125,0.4125,0.5125,0.7124999999999999,1.1124999999999998,1.9124999999999999],\"xaxis\":\"x\",\"y\":[10.0,10.875,12.515625,13.2333984375,14.5792236328125,15.168022155761719,16.272019386291504,17.238016963005066,18.9285127222538,19.562448631972075,20.671836473979056,21.503877355484292,22.751938677742146,23.375969338871073,24.0,24.0,24.0],\"yaxis\":\"y\",\"type\":\"scatter\"},{\"hovertemplate\":\"Chemical=B<br>SYSTEM TIME=%{x}<br>concentration=%{y}<extra></extra>\",\"legendgroup\":\"B\",\"line\":{\"color\":\"orange\",\"dash\":\"solid\"},\"marker\":{\"symbol\":\"circle\"},\"mode\":\"lines\",\"name\":\"B\",\"orientation\":\"v\",\"showlegend\":true,\"x\":[0.0,0.0125,0.037500000000000006,0.05,0.07500000000000001,0.08750000000000001,0.11250000000000002,0.1375,0.1875,0.2125,0.2625,0.3125,0.4125,0.5125,0.7124999999999999,1.1124999999999998,1.9124999999999999],\"xaxis\":\"x\",\"y\":[50.0,49.125,47.484375,46.7666015625,45.4207763671875,44.83197784423828,43.727980613708496,42.761983036994934,41.0714872777462,40.437551368027925,39.328163526020944,38.49612264451571,37.248061322257854,36.62403066112893,36.0,36.0,36.0],\"yaxis\":\"y\",\"type\":\"scatter\"}],                        {\"template\":{\"data\":{\"histogram2dcontour\":[{\"type\":\"histogram2dcontour\",\"colorbar\":{\"outlinewidth\":0,\"ticks\":\"\"},\"colorscale\":[[0.0,\"#0d0887\"],[0.1111111111111111,\"#46039f\"],[0.2222222222222222,\"#7201a8\"],[0.3333333333333333,\"#9c179e\"],[0.4444444444444444,\"#bd3786\"],[0.5555555555555556,\"#d8576b\"],[0.6666666666666666,\"#ed7953\"],[0.7777777777777778,\"#fb9f3a\"],[0.8888888888888888,\"#fdca26\"],[1.0,\"#f0f921\"]]}],\"choropleth\":[{\"type\":\"choropleth\",\"colorbar\":{\"outlinewidth\":0,\"ticks\":\"\"}}],\"histogram2d\":[{\"type\":\"histogram2d\",\"colorbar\":{\"outlinewidth\":0,\"ticks\":\"\"},\"colorscale\":[[0.0,\"#0d0887\"],[0.1111111111111111,\"#46039f\"],[0.2222222222222222,\"#7201a8\"],[0.3333333333333333,\"#9c179e\"],[0.4444444444444444,\"#bd3786\"],[0.5555555555555556,\"#d8576b\"],[0.6666666666666666,\"#ed7953\"],[0.7777777777777778,\"#fb9f3a\"],[0.8888888888888888,\"#fdca26\"],[1.0,\"#f0f921\"]]}],\"heatmap\":[{\"type\":\"heatmap\",\"colorbar\":{\"outlinewidth\":0,\"ticks\":\"\"},\"colorscale\":[[0.0,\"#0d0887\"],[0.1111111111111111,\"#46039f\"],[0.2222222222222222,\"#7201a8\"],[0.3333333333333333,\"#9c179e\"],[0.4444444444444444,\"#bd3786\"],[0.5555555555555556,\"#d8576b\"],[0.6666666666666666,\"#ed7953\"],[0.7777777777777778,\"#fb9f3a\"],[0.8888888888888888,\"#fdca26\"],[1.0,\"#f0f921\"]]}],\"heatmapgl\":[{\"type\":\"heatmapgl\",\"colorbar\":{\"outlinewidth\":0,\"ticks\":\"\"},\"colorscale\":[[0.0,\"#0d0887\"],[0.1111111111111111,\"#46039f\"],[0.2222222222222222,\"#7201a8\"],[0.3333333333333333,\"#9c179e\"],[0.4444444444444444,\"#bd3786\"],[0.5555555555555556,\"#d8576b\"],[0.6666666666666666,\"#ed7953\"],[0.7777777777777778,\"#fb9f3a\"],[0.8888888888888888,\"#fdca26\"],[1.0,\"#f0f921\"]]}],\"contourcarpet\":[{\"type\":\"contourcarpet\",\"colorbar\":{\"outlinewidth\":0,\"ticks\":\"\"}}],\"contour\":[{\"type\":\"contour\",\"colorbar\":{\"outlinewidth\":0,\"ticks\":\"\"},\"colorscale\":[[0.0,\"#0d0887\"],[0.1111111111111111,\"#46039f\"],[0.2222222222222222,\"#7201a8\"],[0.3333333333333333,\"#9c179e\"],[0.4444444444444444,\"#bd3786\"],[0.5555555555555556,\"#d8576b\"],[0.6666666666666666,\"#ed7953\"],[0.7777777777777778,\"#fb9f3a\"],[0.8888888888888888,\"#fdca26\"],[1.0,\"#f0f921\"]]}],\"surface\":[{\"type\":\"surface\",\"colorbar\":{\"outlinewidth\":0,\"ticks\":\"\"},\"colorscale\":[[0.0,\"#0d0887\"],[0.1111111111111111,\"#46039f\"],[0.2222222222222222,\"#7201a8\"],[0.3333333333333333,\"#9c179e\"],[0.4444444444444444,\"#bd3786\"],[0.5555555555555556,\"#d8576b\"],[0.6666666666666666,\"#ed7953\"],[0.7777777777777778,\"#fb9f3a\"],[0.8888888888888888,\"#fdca26\"],[1.0,\"#f0f921\"]]}],\"mesh3d\":[{\"type\":\"mesh3d\",\"colorbar\":{\"outlinewidth\":0,\"ticks\":\"\"}}],\"scatter\":[{\"fillpattern\":{\"fillmode\":\"overlay\",\"size\":10,\"solidity\":0.2},\"type\":\"scatter\"}],\"parcoords\":[{\"type\":\"parcoords\",\"line\":{\"colorbar\":{\"outlinewidth\":0,\"ticks\":\"\"}}}],\"scatterpolargl\":[{\"type\":\"scatterpolargl\",\"marker\":{\"colorbar\":{\"outlinewidth\":0,\"ticks\":\"\"}}}],\"bar\":[{\"error_x\":{\"color\":\"#2a3f5f\"},\"error_y\":{\"color\":\"#2a3f5f\"},\"marker\":{\"line\":{\"color\":\"#E5ECF6\",\"width\":0.5},\"pattern\":{\"fillmode\":\"overlay\",\"size\":10,\"solidity\":0.2}},\"type\":\"bar\"}],\"scattergeo\":[{\"type\":\"scattergeo\",\"marker\":{\"colorbar\":{\"outlinewidth\":0,\"ticks\":\"\"}}}],\"scatterpolar\":[{\"type\":\"scatterpolar\",\"marker\":{\"colorbar\":{\"outlinewidth\":0,\"ticks\":\"\"}}}],\"histogram\":[{\"marker\":{\"pattern\":{\"fillmode\":\"overlay\",\"size\":10,\"solidity\":0.2}},\"type\":\"histogram\"}],\"scattergl\":[{\"type\":\"scattergl\",\"marker\":{\"colorbar\":{\"outlinewidth\":0,\"ticks\":\"\"}}}],\"scatter3d\":[{\"type\":\"scatter3d\",\"line\":{\"colorbar\":{\"outlinewidth\":0,\"ticks\":\"\"}},\"marker\":{\"colorbar\":{\"outlinewidth\":0,\"ticks\":\"\"}}}],\"scattermapbox\":[{\"type\":\"scattermapbox\",\"marker\":{\"colorbar\":{\"outlinewidth\":0,\"ticks\":\"\"}}}],\"scatterternary\":[{\"type\":\"scatterternary\",\"marker\":{\"colorbar\":{\"outlinewidth\":0,\"ticks\":\"\"}}}],\"scattercarpet\":[{\"type\":\"scattercarpet\",\"marker\":{\"colorbar\":{\"outlinewidth\":0,\"ticks\":\"\"}}}],\"carpet\":[{\"aaxis\":{\"endlinecolor\":\"#2a3f5f\",\"gridcolor\":\"white\",\"linecolor\":\"white\",\"minorgridcolor\":\"white\",\"startlinecolor\":\"#2a3f5f\"},\"baxis\":{\"endlinecolor\":\"#2a3f5f\",\"gridcolor\":\"white\",\"linecolor\":\"white\",\"minorgridcolor\":\"white\",\"startlinecolor\":\"#2a3f5f\"},\"type\":\"carpet\"}],\"table\":[{\"cells\":{\"fill\":{\"color\":\"#EBF0F8\"},\"line\":{\"color\":\"white\"}},\"header\":{\"fill\":{\"color\":\"#C8D4E3\"},\"line\":{\"color\":\"white\"}},\"type\":\"table\"}],\"barpolar\":[{\"marker\":{\"line\":{\"color\":\"#E5ECF6\",\"width\":0.5},\"pattern\":{\"fillmode\":\"overlay\",\"size\":10,\"solidity\":0.2}},\"type\":\"barpolar\"}],\"pie\":[{\"automargin\":true,\"type\":\"pie\"}]},\"layout\":{\"autotypenumbers\":\"strict\",\"colorway\":[\"#636efa\",\"#EF553B\",\"#00cc96\",\"#ab63fa\",\"#FFA15A\",\"#19d3f3\",\"#FF6692\",\"#B6E880\",\"#FF97FF\",\"#FECB52\"],\"font\":{\"color\":\"#2a3f5f\"},\"hovermode\":\"closest\",\"hoverlabel\":{\"align\":\"left\"},\"paper_bgcolor\":\"white\",\"plot_bgcolor\":\"#E5ECF6\",\"polar\":{\"bgcolor\":\"#E5ECF6\",\"angularaxis\":{\"gridcolor\":\"white\",\"linecolor\":\"white\",\"ticks\":\"\"},\"radialaxis\":{\"gridcolor\":\"white\",\"linecolor\":\"white\",\"ticks\":\"\"}},\"ternary\":{\"bgcolor\":\"#E5ECF6\",\"aaxis\":{\"gridcolor\":\"white\",\"linecolor\":\"white\",\"ticks\":\"\"},\"baxis\":{\"gridcolor\":\"white\",\"linecolor\":\"white\",\"ticks\":\"\"},\"caxis\":{\"gridcolor\":\"white\",\"linecolor\":\"white\",\"ticks\":\"\"}},\"coloraxis\":{\"colorbar\":{\"outlinewidth\":0,\"ticks\":\"\"}},\"colorscale\":{\"sequential\":[[0.0,\"#0d0887\"],[0.1111111111111111,\"#46039f\"],[0.2222222222222222,\"#7201a8\"],[0.3333333333333333,\"#9c179e\"],[0.4444444444444444,\"#bd3786\"],[0.5555555555555556,\"#d8576b\"],[0.6666666666666666,\"#ed7953\"],[0.7777777777777778,\"#fb9f3a\"],[0.8888888888888888,\"#fdca26\"],[1.0,\"#f0f921\"]],\"sequentialminus\":[[0.0,\"#0d0887\"],[0.1111111111111111,\"#46039f\"],[0.2222222222222222,\"#7201a8\"],[0.3333333333333333,\"#9c179e\"],[0.4444444444444444,\"#bd3786\"],[0.5555555555555556,\"#d8576b\"],[0.6666666666666666,\"#ed7953\"],[0.7777777777777778,\"#fb9f3a\"],[0.8888888888888888,\"#fdca26\"],[1.0,\"#f0f921\"]],\"diverging\":[[0,\"#8e0152\"],[0.1,\"#c51b7d\"],[0.2,\"#de77ae\"],[0.3,\"#f1b6da\"],[0.4,\"#fde0ef\"],[0.5,\"#f7f7f7\"],[0.6,\"#e6f5d0\"],[0.7,\"#b8e186\"],[0.8,\"#7fbc41\"],[0.9,\"#4d9221\"],[1,\"#276419\"]]},\"xaxis\":{\"gridcolor\":\"white\",\"linecolor\":\"white\",\"ticks\":\"\",\"title\":{\"standoff\":15},\"zerolinecolor\":\"white\",\"automargin\":true,\"zerolinewidth\":2},\"yaxis\":{\"gridcolor\":\"white\",\"linecolor\":\"white\",\"ticks\":\"\",\"title\":{\"standoff\":15},\"zerolinecolor\":\"white\",\"automargin\":true,\"zerolinewidth\":2},\"scene\":{\"xaxis\":{\"backgroundcolor\":\"#E5ECF6\",\"gridcolor\":\"white\",\"linecolor\":\"white\",\"showbackground\":true,\"ticks\":\"\",\"zerolinecolor\":\"white\",\"gridwidth\":2},\"yaxis\":{\"backgroundcolor\":\"#E5ECF6\",\"gridcolor\":\"white\",\"linecolor\":\"white\",\"showbackground\":true,\"ticks\":\"\",\"zerolinecolor\":\"white\",\"gridwidth\":2},\"zaxis\":{\"backgroundcolor\":\"#E5ECF6\",\"gridcolor\":\"white\",\"linecolor\":\"white\",\"showbackground\":true,\"ticks\":\"\",\"zerolinecolor\":\"white\",\"gridwidth\":2}},\"shapedefaults\":{\"line\":{\"color\":\"#2a3f5f\"}},\"annotationdefaults\":{\"arrowcolor\":\"#2a3f5f\",\"arrowhead\":0,\"arrowwidth\":1},\"geo\":{\"bgcolor\":\"white\",\"landcolor\":\"#E5ECF6\",\"subunitcolor\":\"white\",\"showland\":true,\"showlakes\":true,\"lakecolor\":\"white\"},\"title\":{\"x\":0.05},\"mapbox\":{\"style\":\"light\"}}},\"xaxis\":{\"anchor\":\"y\",\"domain\":[0.0,1.0],\"title\":{\"text\":\"SYSTEM TIME\"}},\"yaxis\":{\"anchor\":\"x\",\"domain\":[0.0,1.0],\"title\":{\"text\":\"concentration\"}},\"legend\":{\"title\":{\"text\":\"Chemical\"},\"tracegroupgap\":0},\"title\":{\"text\":\"Reaction `A <-> B` .  Changes in concentrations with time\"}},                        {\"responsive\": true}                    ).then(function(){\n",
       "                            \n",
       "var gd = document.getElementById('ef74f653-e3ad-4a94-9b54-aa7e3688e24a');\n",
       "var x = new MutationObserver(function (mutations, observer) {{\n",
       "        var display = window.getComputedStyle(gd).display;\n",
       "        if (!display || display === 'none') {{\n",
       "            console.log([gd, 'removed!']);\n",
       "            Plotly.purge(gd);\n",
       "            observer.disconnect();\n",
       "        }}\n",
       "}});\n",
       "\n",
       "// Listen for the removal of the full notebook cells\n",
       "var notebookContainer = gd.closest('#notebook-container');\n",
       "if (notebookContainer) {{\n",
       "    x.observe(notebookContainer, {childList: true});\n",
       "}}\n",
       "\n",
       "// Listen for the clearing of the current output cell\n",
       "var outputEl = gd.closest('.output');\n",
       "if (outputEl) {{\n",
       "    x.observe(outputEl, {childList: true});\n",
       "}}\n",
       "\n",
       "                        })                };                });            </script>        </div>"
      ]
     },
     "metadata": {},
     "output_type": "display_data"
    }
   ],
   "source": [
    "dynamics.plot_curves(colors=['blue', 'orange'])"
   ]
  },
  {
   "cell_type": "markdown",
   "id": "306e3db7",
   "metadata": {},
   "source": [
    "## Note how the left-hand side of this plot is much smoother than it was in experiment `react_1`, where no adaptive time steps were used!"
   ]
  },
  {
   "cell_type": "code",
   "execution_count": 137,
   "id": "6b033cc7-078f-4b94-a466-1aa91e2fca4d",
   "metadata": {},
   "outputs": [
    {
     "data": {
      "application/vnd.plotly.v1+json": {
       "config": {
        "plotlyServerURL": "https://plot.ly"
       },
       "data": [
        {
         "hovertemplate": "Chemical=A<br>SYSTEM TIME=%{x}<br>concentration=%{y}<extra></extra>",
         "legendgroup": "A",
         "line": {
          "color": "blue",
          "dash": "solid"
         },
         "marker": {
          "symbol": "circle"
         },
         "mode": "lines",
         "name": "A",
         "orientation": "v",
         "showlegend": true,
         "type": "scatter",
         "x": [
          0,
          0.0125,
          0.037500000000000006,
          0.05,
          0.07500000000000001,
          0.08750000000000001,
          0.11250000000000002,
          0.1375,
          0.1875,
          0.2125,
          0.2625,
          0.3125,
          0.4125,
          0.5125,
          0.7124999999999999,
          1.1124999999999998,
          1.9124999999999999
         ],
         "xaxis": "x",
         "y": [
          10,
          10.875,
          12.515625,
          13.2333984375,
          14.5792236328125,
          15.168022155761719,
          16.272019386291504,
          17.238016963005066,
          18.9285127222538,
          19.562448631972075,
          20.671836473979056,
          21.503877355484292,
          22.751938677742146,
          23.375969338871073,
          24,
          24,
          24
         ],
         "yaxis": "y"
        },
        {
         "hovertemplate": "Chemical=B<br>SYSTEM TIME=%{x}<br>concentration=%{y}<extra></extra>",
         "legendgroup": "B",
         "line": {
          "color": "orange",
          "dash": "solid"
         },
         "marker": {
          "symbol": "circle"
         },
         "mode": "lines",
         "name": "B",
         "orientation": "v",
         "showlegend": true,
         "type": "scatter",
         "x": [
          0,
          0.0125,
          0.037500000000000006,
          0.05,
          0.07500000000000001,
          0.08750000000000001,
          0.11250000000000002,
          0.1375,
          0.1875,
          0.2125,
          0.2625,
          0.3125,
          0.4125,
          0.5125,
          0.7124999999999999,
          1.1124999999999998,
          1.9124999999999999
         ],
         "xaxis": "x",
         "y": [
          50,
          49.125,
          47.484375,
          46.7666015625,
          45.4207763671875,
          44.83197784423828,
          43.727980613708496,
          42.761983036994934,
          41.0714872777462,
          40.437551368027925,
          39.328163526020944,
          38.49612264451571,
          37.248061322257854,
          36.62403066112893,
          36,
          36,
          36
         ],
         "yaxis": "y"
        }
       ],
       "layout": {
        "autosize": true,
        "legend": {
         "title": {
          "text": "Chemical"
         },
         "tracegroupgap": 0
        },
        "shapes": [
         {
          "line": {
           "color": "gray",
           "dash": "dot",
           "width": 1
          },
          "type": "line",
          "x0": 0,
          "x1": 0,
          "xref": "x",
          "y0": 0,
          "y1": 1,
          "yref": "y domain"
         },
         {
          "line": {
           "color": "gray",
           "dash": "dot",
           "width": 1
          },
          "type": "line",
          "x0": 0.0125,
          "x1": 0.0125,
          "xref": "x",
          "y0": 0,
          "y1": 1,
          "yref": "y domain"
         },
         {
          "line": {
           "color": "gray",
           "dash": "dot",
           "width": 1
          },
          "type": "line",
          "x0": 0.037500000000000006,
          "x1": 0.037500000000000006,
          "xref": "x",
          "y0": 0,
          "y1": 1,
          "yref": "y domain"
         },
         {
          "line": {
           "color": "gray",
           "dash": "dot",
           "width": 1
          },
          "type": "line",
          "x0": 0.05,
          "x1": 0.05,
          "xref": "x",
          "y0": 0,
          "y1": 1,
          "yref": "y domain"
         },
         {
          "line": {
           "color": "gray",
           "dash": "dot",
           "width": 1
          },
          "type": "line",
          "x0": 0.07500000000000001,
          "x1": 0.07500000000000001,
          "xref": "x",
          "y0": 0,
          "y1": 1,
          "yref": "y domain"
         },
         {
          "line": {
           "color": "gray",
           "dash": "dot",
           "width": 1
          },
          "type": "line",
          "x0": 0.08750000000000001,
          "x1": 0.08750000000000001,
          "xref": "x",
          "y0": 0,
          "y1": 1,
          "yref": "y domain"
         },
         {
          "line": {
           "color": "gray",
           "dash": "dot",
           "width": 1
          },
          "type": "line",
          "x0": 0.11250000000000002,
          "x1": 0.11250000000000002,
          "xref": "x",
          "y0": 0,
          "y1": 1,
          "yref": "y domain"
         },
         {
          "line": {
           "color": "gray",
           "dash": "dot",
           "width": 1
          },
          "type": "line",
          "x0": 0.1375,
          "x1": 0.1375,
          "xref": "x",
          "y0": 0,
          "y1": 1,
          "yref": "y domain"
         },
         {
          "line": {
           "color": "gray",
           "dash": "dot",
           "width": 1
          },
          "type": "line",
          "x0": 0.1875,
          "x1": 0.1875,
          "xref": "x",
          "y0": 0,
          "y1": 1,
          "yref": "y domain"
         },
         {
          "line": {
           "color": "gray",
           "dash": "dot",
           "width": 1
          },
          "type": "line",
          "x0": 0.2125,
          "x1": 0.2125,
          "xref": "x",
          "y0": 0,
          "y1": 1,
          "yref": "y domain"
         },
         {
          "line": {
           "color": "gray",
           "dash": "dot",
           "width": 1
          },
          "type": "line",
          "x0": 0.2625,
          "x1": 0.2625,
          "xref": "x",
          "y0": 0,
          "y1": 1,
          "yref": "y domain"
         },
         {
          "line": {
           "color": "gray",
           "dash": "dot",
           "width": 1
          },
          "type": "line",
          "x0": 0.3125,
          "x1": 0.3125,
          "xref": "x",
          "y0": 0,
          "y1": 1,
          "yref": "y domain"
         },
         {
          "line": {
           "color": "gray",
           "dash": "dot",
           "width": 1
          },
          "type": "line",
          "x0": 0.4125,
          "x1": 0.4125,
          "xref": "x",
          "y0": 0,
          "y1": 1,
          "yref": "y domain"
         },
         {
          "line": {
           "color": "gray",
           "dash": "dot",
           "width": 1
          },
          "type": "line",
          "x0": 0.5125,
          "x1": 0.5125,
          "xref": "x",
          "y0": 0,
          "y1": 1,
          "yref": "y domain"
         },
         {
          "line": {
           "color": "gray",
           "dash": "dot",
           "width": 1
          },
          "type": "line",
          "x0": 0.7124999999999999,
          "x1": 0.7124999999999999,
          "xref": "x",
          "y0": 0,
          "y1": 1,
          "yref": "y domain"
         },
         {
          "line": {
           "color": "gray",
           "dash": "dot",
           "width": 1
          },
          "type": "line",
          "x0": 1.1124999999999998,
          "x1": 1.1124999999999998,
          "xref": "x",
          "y0": 0,
          "y1": 1,
          "yref": "y domain"
         },
         {
          "line": {
           "color": "gray",
           "dash": "dot",
           "width": 1
          },
          "type": "line",
          "x0": 1.9124999999999999,
          "x1": 1.9124999999999999,
          "xref": "x",
          "y0": 0,
          "y1": 1,
          "yref": "y domain"
         }
        ],
        "template": {
         "data": {
          "bar": [
           {
            "error_x": {
             "color": "#2a3f5f"
            },
            "error_y": {
             "color": "#2a3f5f"
            },
            "marker": {
             "line": {
              "color": "#E5ECF6",
              "width": 0.5
             },
             "pattern": {
              "fillmode": "overlay",
              "size": 10,
              "solidity": 0.2
             }
            },
            "type": "bar"
           }
          ],
          "barpolar": [
           {
            "marker": {
             "line": {
              "color": "#E5ECF6",
              "width": 0.5
             },
             "pattern": {
              "fillmode": "overlay",
              "size": 10,
              "solidity": 0.2
             }
            },
            "type": "barpolar"
           }
          ],
          "carpet": [
           {
            "aaxis": {
             "endlinecolor": "#2a3f5f",
             "gridcolor": "white",
             "linecolor": "white",
             "minorgridcolor": "white",
             "startlinecolor": "#2a3f5f"
            },
            "baxis": {
             "endlinecolor": "#2a3f5f",
             "gridcolor": "white",
             "linecolor": "white",
             "minorgridcolor": "white",
             "startlinecolor": "#2a3f5f"
            },
            "type": "carpet"
           }
          ],
          "choropleth": [
           {
            "colorbar": {
             "outlinewidth": 0,
             "ticks": ""
            },
            "type": "choropleth"
           }
          ],
          "contour": [
           {
            "colorbar": {
             "outlinewidth": 0,
             "ticks": ""
            },
            "colorscale": [
             [
              0,
              "#0d0887"
             ],
             [
              0.1111111111111111,
              "#46039f"
             ],
             [
              0.2222222222222222,
              "#7201a8"
             ],
             [
              0.3333333333333333,
              "#9c179e"
             ],
             [
              0.4444444444444444,
              "#bd3786"
             ],
             [
              0.5555555555555556,
              "#d8576b"
             ],
             [
              0.6666666666666666,
              "#ed7953"
             ],
             [
              0.7777777777777778,
              "#fb9f3a"
             ],
             [
              0.8888888888888888,
              "#fdca26"
             ],
             [
              1,
              "#f0f921"
             ]
            ],
            "type": "contour"
           }
          ],
          "contourcarpet": [
           {
            "colorbar": {
             "outlinewidth": 0,
             "ticks": ""
            },
            "type": "contourcarpet"
           }
          ],
          "heatmap": [
           {
            "colorbar": {
             "outlinewidth": 0,
             "ticks": ""
            },
            "colorscale": [
             [
              0,
              "#0d0887"
             ],
             [
              0.1111111111111111,
              "#46039f"
             ],
             [
              0.2222222222222222,
              "#7201a8"
             ],
             [
              0.3333333333333333,
              "#9c179e"
             ],
             [
              0.4444444444444444,
              "#bd3786"
             ],
             [
              0.5555555555555556,
              "#d8576b"
             ],
             [
              0.6666666666666666,
              "#ed7953"
             ],
             [
              0.7777777777777778,
              "#fb9f3a"
             ],
             [
              0.8888888888888888,
              "#fdca26"
             ],
             [
              1,
              "#f0f921"
             ]
            ],
            "type": "heatmap"
           }
          ],
          "heatmapgl": [
           {
            "colorbar": {
             "outlinewidth": 0,
             "ticks": ""
            },
            "colorscale": [
             [
              0,
              "#0d0887"
             ],
             [
              0.1111111111111111,
              "#46039f"
             ],
             [
              0.2222222222222222,
              "#7201a8"
             ],
             [
              0.3333333333333333,
              "#9c179e"
             ],
             [
              0.4444444444444444,
              "#bd3786"
             ],
             [
              0.5555555555555556,
              "#d8576b"
             ],
             [
              0.6666666666666666,
              "#ed7953"
             ],
             [
              0.7777777777777778,
              "#fb9f3a"
             ],
             [
              0.8888888888888888,
              "#fdca26"
             ],
             [
              1,
              "#f0f921"
             ]
            ],
            "type": "heatmapgl"
           }
          ],
          "histogram": [
           {
            "marker": {
             "pattern": {
              "fillmode": "overlay",
              "size": 10,
              "solidity": 0.2
             }
            },
            "type": "histogram"
           }
          ],
          "histogram2d": [
           {
            "colorbar": {
             "outlinewidth": 0,
             "ticks": ""
            },
            "colorscale": [
             [
              0,
              "#0d0887"
             ],
             [
              0.1111111111111111,
              "#46039f"
             ],
             [
              0.2222222222222222,
              "#7201a8"
             ],
             [
              0.3333333333333333,
              "#9c179e"
             ],
             [
              0.4444444444444444,
              "#bd3786"
             ],
             [
              0.5555555555555556,
              "#d8576b"
             ],
             [
              0.6666666666666666,
              "#ed7953"
             ],
             [
              0.7777777777777778,
              "#fb9f3a"
             ],
             [
              0.8888888888888888,
              "#fdca26"
             ],
             [
              1,
              "#f0f921"
             ]
            ],
            "type": "histogram2d"
           }
          ],
          "histogram2dcontour": [
           {
            "colorbar": {
             "outlinewidth": 0,
             "ticks": ""
            },
            "colorscale": [
             [
              0,
              "#0d0887"
             ],
             [
              0.1111111111111111,
              "#46039f"
             ],
             [
              0.2222222222222222,
              "#7201a8"
             ],
             [
              0.3333333333333333,
              "#9c179e"
             ],
             [
              0.4444444444444444,
              "#bd3786"
             ],
             [
              0.5555555555555556,
              "#d8576b"
             ],
             [
              0.6666666666666666,
              "#ed7953"
             ],
             [
              0.7777777777777778,
              "#fb9f3a"
             ],
             [
              0.8888888888888888,
              "#fdca26"
             ],
             [
              1,
              "#f0f921"
             ]
            ],
            "type": "histogram2dcontour"
           }
          ],
          "mesh3d": [
           {
            "colorbar": {
             "outlinewidth": 0,
             "ticks": ""
            },
            "type": "mesh3d"
           }
          ],
          "parcoords": [
           {
            "line": {
             "colorbar": {
              "outlinewidth": 0,
              "ticks": ""
             }
            },
            "type": "parcoords"
           }
          ],
          "pie": [
           {
            "automargin": true,
            "type": "pie"
           }
          ],
          "scatter": [
           {
            "fillpattern": {
             "fillmode": "overlay",
             "size": 10,
             "solidity": 0.2
            },
            "type": "scatter"
           }
          ],
          "scatter3d": [
           {
            "line": {
             "colorbar": {
              "outlinewidth": 0,
              "ticks": ""
             }
            },
            "marker": {
             "colorbar": {
              "outlinewidth": 0,
              "ticks": ""
             }
            },
            "type": "scatter3d"
           }
          ],
          "scattercarpet": [
           {
            "marker": {
             "colorbar": {
              "outlinewidth": 0,
              "ticks": ""
             }
            },
            "type": "scattercarpet"
           }
          ],
          "scattergeo": [
           {
            "marker": {
             "colorbar": {
              "outlinewidth": 0,
              "ticks": ""
             }
            },
            "type": "scattergeo"
           }
          ],
          "scattergl": [
           {
            "marker": {
             "colorbar": {
              "outlinewidth": 0,
              "ticks": ""
             }
            },
            "type": "scattergl"
           }
          ],
          "scattermapbox": [
           {
            "marker": {
             "colorbar": {
              "outlinewidth": 0,
              "ticks": ""
             }
            },
            "type": "scattermapbox"
           }
          ],
          "scatterpolar": [
           {
            "marker": {
             "colorbar": {
              "outlinewidth": 0,
              "ticks": ""
             }
            },
            "type": "scatterpolar"
           }
          ],
          "scatterpolargl": [
           {
            "marker": {
             "colorbar": {
              "outlinewidth": 0,
              "ticks": ""
             }
            },
            "type": "scatterpolargl"
           }
          ],
          "scatterternary": [
           {
            "marker": {
             "colorbar": {
              "outlinewidth": 0,
              "ticks": ""
             }
            },
            "type": "scatterternary"
           }
          ],
          "surface": [
           {
            "colorbar": {
             "outlinewidth": 0,
             "ticks": ""
            },
            "colorscale": [
             [
              0,
              "#0d0887"
             ],
             [
              0.1111111111111111,
              "#46039f"
             ],
             [
              0.2222222222222222,
              "#7201a8"
             ],
             [
              0.3333333333333333,
              "#9c179e"
             ],
             [
              0.4444444444444444,
              "#bd3786"
             ],
             [
              0.5555555555555556,
              "#d8576b"
             ],
             [
              0.6666666666666666,
              "#ed7953"
             ],
             [
              0.7777777777777778,
              "#fb9f3a"
             ],
             [
              0.8888888888888888,
              "#fdca26"
             ],
             [
              1,
              "#f0f921"
             ]
            ],
            "type": "surface"
           }
          ],
          "table": [
           {
            "cells": {
             "fill": {
              "color": "#EBF0F8"
             },
             "line": {
              "color": "white"
             }
            },
            "header": {
             "fill": {
              "color": "#C8D4E3"
             },
             "line": {
              "color": "white"
             }
            },
            "type": "table"
           }
          ]
         },
         "layout": {
          "annotationdefaults": {
           "arrowcolor": "#2a3f5f",
           "arrowhead": 0,
           "arrowwidth": 1
          },
          "autotypenumbers": "strict",
          "coloraxis": {
           "colorbar": {
            "outlinewidth": 0,
            "ticks": ""
           }
          },
          "colorscale": {
           "diverging": [
            [
             0,
             "#8e0152"
            ],
            [
             0.1,
             "#c51b7d"
            ],
            [
             0.2,
             "#de77ae"
            ],
            [
             0.3,
             "#f1b6da"
            ],
            [
             0.4,
             "#fde0ef"
            ],
            [
             0.5,
             "#f7f7f7"
            ],
            [
             0.6,
             "#e6f5d0"
            ],
            [
             0.7,
             "#b8e186"
            ],
            [
             0.8,
             "#7fbc41"
            ],
            [
             0.9,
             "#4d9221"
            ],
            [
             1,
             "#276419"
            ]
           ],
           "sequential": [
            [
             0,
             "#0d0887"
            ],
            [
             0.1111111111111111,
             "#46039f"
            ],
            [
             0.2222222222222222,
             "#7201a8"
            ],
            [
             0.3333333333333333,
             "#9c179e"
            ],
            [
             0.4444444444444444,
             "#bd3786"
            ],
            [
             0.5555555555555556,
             "#d8576b"
            ],
            [
             0.6666666666666666,
             "#ed7953"
            ],
            [
             0.7777777777777778,
             "#fb9f3a"
            ],
            [
             0.8888888888888888,
             "#fdca26"
            ],
            [
             1,
             "#f0f921"
            ]
           ],
           "sequentialminus": [
            [
             0,
             "#0d0887"
            ],
            [
             0.1111111111111111,
             "#46039f"
            ],
            [
             0.2222222222222222,
             "#7201a8"
            ],
            [
             0.3333333333333333,
             "#9c179e"
            ],
            [
             0.4444444444444444,
             "#bd3786"
            ],
            [
             0.5555555555555556,
             "#d8576b"
            ],
            [
             0.6666666666666666,
             "#ed7953"
            ],
            [
             0.7777777777777778,
             "#fb9f3a"
            ],
            [
             0.8888888888888888,
             "#fdca26"
            ],
            [
             1,
             "#f0f921"
            ]
           ]
          },
          "colorway": [
           "#636efa",
           "#EF553B",
           "#00cc96",
           "#ab63fa",
           "#FFA15A",
           "#19d3f3",
           "#FF6692",
           "#B6E880",
           "#FF97FF",
           "#FECB52"
          ],
          "font": {
           "color": "#2a3f5f"
          },
          "geo": {
           "bgcolor": "white",
           "lakecolor": "white",
           "landcolor": "#E5ECF6",
           "showlakes": true,
           "showland": true,
           "subunitcolor": "white"
          },
          "hoverlabel": {
           "align": "left"
          },
          "hovermode": "closest",
          "mapbox": {
           "style": "light"
          },
          "paper_bgcolor": "white",
          "plot_bgcolor": "#E5ECF6",
          "polar": {
           "angularaxis": {
            "gridcolor": "white",
            "linecolor": "white",
            "ticks": ""
           },
           "bgcolor": "#E5ECF6",
           "radialaxis": {
            "gridcolor": "white",
            "linecolor": "white",
            "ticks": ""
           }
          },
          "scene": {
           "xaxis": {
            "backgroundcolor": "#E5ECF6",
            "gridcolor": "white",
            "gridwidth": 2,
            "linecolor": "white",
            "showbackground": true,
            "ticks": "",
            "zerolinecolor": "white"
           },
           "yaxis": {
            "backgroundcolor": "#E5ECF6",
            "gridcolor": "white",
            "gridwidth": 2,
            "linecolor": "white",
            "showbackground": true,
            "ticks": "",
            "zerolinecolor": "white"
           },
           "zaxis": {
            "backgroundcolor": "#E5ECF6",
            "gridcolor": "white",
            "gridwidth": 2,
            "linecolor": "white",
            "showbackground": true,
            "ticks": "",
            "zerolinecolor": "white"
           }
          },
          "shapedefaults": {
           "line": {
            "color": "#2a3f5f"
           }
          },
          "ternary": {
           "aaxis": {
            "gridcolor": "white",
            "linecolor": "white",
            "ticks": ""
           },
           "baxis": {
            "gridcolor": "white",
            "linecolor": "white",
            "ticks": ""
           },
           "bgcolor": "#E5ECF6",
           "caxis": {
            "gridcolor": "white",
            "linecolor": "white",
            "ticks": ""
           }
          },
          "title": {
           "x": 0.05
          },
          "xaxis": {
           "automargin": true,
           "gridcolor": "white",
           "linecolor": "white",
           "ticks": "",
           "title": {
            "standoff": 15
           },
           "zerolinecolor": "white",
           "zerolinewidth": 2
          },
          "yaxis": {
           "automargin": true,
           "gridcolor": "white",
           "linecolor": "white",
           "ticks": "",
           "title": {
            "standoff": 15
           },
           "zerolinecolor": "white",
           "zerolinewidth": 2
          }
         }
        },
        "title": {
         "text": "Reaction `A <-> B` .  Changes in concentrations with time (time steps shown in dashed lines)"
        },
        "xaxis": {
         "anchor": "y",
         "autorange": true,
         "domain": [
          0,
          1
         ],
         "range": [
          -0.0017075892857142856,
          1.9142075892857142
         ],
         "title": {
          "text": "SYSTEM TIME"
         },
         "type": "linear"
        },
        "yaxis": {
         "anchor": "x",
         "autorange": true,
         "domain": [
          0,
          1
         ],
         "range": [
          7.777777777777778,
          52.22222222222222
         ],
         "title": {
          "text": "concentration"
         },
         "type": "linear"
        }
       }
      },
      "image/png": "[encoded data removed]",
      "text/html": [
       "<div>                            <div id=\"74200051-0e92-4975-ab4b-832e8daf839e\" class=\"plotly-graph-div\" style=\"height:525px; width:100%;\"></div>            <script type=\"text/javascript\">                require([\"plotly\"], function(Plotly) {                    window.PLOTLYENV=window.PLOTLYENV || {};                                    if (document.getElementById(\"74200051-0e92-4975-ab4b-832e8daf839e\")) {                    Plotly.newPlot(                        \"74200051-0e92-4975-ab4b-832e8daf839e\",                        [{\"hovertemplate\":\"Chemical=A<br>SYSTEM TIME=%{x}<br>concentration=%{y}<extra></extra>\",\"legendgroup\":\"A\",\"line\":{\"color\":\"blue\",\"dash\":\"solid\"},\"marker\":{\"symbol\":\"circle\"},\"mode\":\"lines\",\"name\":\"A\",\"orientation\":\"v\",\"showlegend\":true,\"x\":[0.0,0.0125,0.037500000000000006,0.05,0.07500000000000001,0.08750000000000001,0.11250000000000002,0.1375,0.1875,0.2125,0.2625,0.3125,0.4125,0.5125,0.7124999999999999,1.1124999999999998,1.9124999999999999],\"xaxis\":\"x\",\"y\":[10.0,10.875,12.515625,13.2333984375,14.5792236328125,15.168022155761719,16.272019386291504,17.238016963005066,18.9285127222538,19.562448631972075,20.671836473979056,21.503877355484292,22.751938677742146,23.375969338871073,24.0,24.0,24.0],\"yaxis\":\"y\",\"type\":\"scatter\"},{\"hovertemplate\":\"Chemical=B<br>SYSTEM TIME=%{x}<br>concentration=%{y}<extra></extra>\",\"legendgroup\":\"B\",\"line\":{\"color\":\"orange\",\"dash\":\"solid\"},\"marker\":{\"symbol\":\"circle\"},\"mode\":\"lines\",\"name\":\"B\",\"orientation\":\"v\",\"showlegend\":true,\"x\":[0.0,0.0125,0.037500000000000006,0.05,0.07500000000000001,0.08750000000000001,0.11250000000000002,0.1375,0.1875,0.2125,0.2625,0.3125,0.4125,0.5125,0.7124999999999999,1.1124999999999998,1.9124999999999999],\"xaxis\":\"x\",\"y\":[50.0,49.125,47.484375,46.7666015625,45.4207763671875,44.83197784423828,43.727980613708496,42.761983036994934,41.0714872777462,40.437551368027925,39.328163526020944,38.49612264451571,37.248061322257854,36.62403066112893,36.0,36.0,36.0],\"yaxis\":\"y\",\"type\":\"scatter\"}],                        {\"template\":{\"data\":{\"histogram2dcontour\":[{\"type\":\"histogram2dcontour\",\"colorbar\":{\"outlinewidth\":0,\"ticks\":\"\"},\"colorscale\":[[0.0,\"#0d0887\"],[0.1111111111111111,\"#46039f\"],[0.2222222222222222,\"#7201a8\"],[0.3333333333333333,\"#9c179e\"],[0.4444444444444444,\"#bd3786\"],[0.5555555555555556,\"#d8576b\"],[0.6666666666666666,\"#ed7953\"],[0.7777777777777778,\"#fb9f3a\"],[0.8888888888888888,\"#fdca26\"],[1.0,\"#f0f921\"]]}],\"choropleth\":[{\"type\":\"choropleth\",\"colorbar\":{\"outlinewidth\":0,\"ticks\":\"\"}}],\"histogram2d\":[{\"type\":\"histogram2d\",\"colorbar\":{\"outlinewidth\":0,\"ticks\":\"\"},\"colorscale\":[[0.0,\"#0d0887\"],[0.1111111111111111,\"#46039f\"],[0.2222222222222222,\"#7201a8\"],[0.3333333333333333,\"#9c179e\"],[0.4444444444444444,\"#bd3786\"],[0.5555555555555556,\"#d8576b\"],[0.6666666666666666,\"#ed7953\"],[0.7777777777777778,\"#fb9f3a\"],[0.8888888888888888,\"#fdca26\"],[1.0,\"#f0f921\"]]}],\"heatmap\":[{\"type\":\"heatmap\",\"colorbar\":{\"outlinewidth\":0,\"ticks\":\"\"},\"colorscale\":[[0.0,\"#0d0887\"],[0.1111111111111111,\"#46039f\"],[0.2222222222222222,\"#7201a8\"],[0.3333333333333333,\"#9c179e\"],[0.4444444444444444,\"#bd3786\"],[0.5555555555555556,\"#d8576b\"],[0.6666666666666666,\"#ed7953\"],[0.7777777777777778,\"#fb9f3a\"],[0.8888888888888888,\"#fdca26\"],[1.0,\"#f0f921\"]]}],\"heatmapgl\":[{\"type\":\"heatmapgl\",\"colorbar\":{\"outlinewidth\":0,\"ticks\":\"\"},\"colorscale\":[[0.0,\"#0d0887\"],[0.1111111111111111,\"#46039f\"],[0.2222222222222222,\"#7201a8\"],[0.3333333333333333,\"#9c179e\"],[0.4444444444444444,\"#bd3786\"],[0.5555555555555556,\"#d8576b\"],[0.6666666666666666,\"#ed7953\"],[0.7777777777777778,\"#fb9f3a\"],[0.8888888888888888,\"#fdca26\"],[1.0,\"#f0f921\"]]}],\"contourcarpet\":[{\"type\":\"contourcarpet\",\"colorbar\":{\"outlinewidth\":0,\"ticks\":\"\"}}],\"contour\":[{\"type\":\"contour\",\"colorbar\":{\"outlinewidth\":0,\"ticks\":\"\"},\"colorscale\":[[0.0,\"#0d0887\"],[0.1111111111111111,\"#46039f\"],[0.2222222222222222,\"#7201a8\"],[0.3333333333333333,\"#9c179e\"],[0.4444444444444444,\"#bd3786\"],[0.5555555555555556,\"#d8576b\"],[0.6666666666666666,\"#ed7953\"],[0.7777777777777778,\"#fb9f3a\"],[0.8888888888888888,\"#fdca26\"],[1.0,\"#f0f921\"]]}],\"surface\":[{\"type\":\"surface\",\"colorbar\":{\"outlinewidth\":0,\"ticks\":\"\"},\"colorscale\":[[0.0,\"#0d0887\"],[0.1111111111111111,\"#46039f\"],[0.2222222222222222,\"#7201a8\"],[0.3333333333333333,\"#9c179e\"],[0.4444444444444444,\"#bd3786\"],[0.5555555555555556,\"#d8576b\"],[0.6666666666666666,\"#ed7953\"],[0.7777777777777778,\"#fb9f3a\"],[0.8888888888888888,\"#fdca26\"],[1.0,\"#f0f921\"]]}],\"mesh3d\":[{\"type\":\"mesh3d\",\"colorbar\":{\"outlinewidth\":0,\"ticks\":\"\"}}],\"scatter\":[{\"fillpattern\":{\"fillmode\":\"overlay\",\"size\":10,\"solidity\":0.2},\"type\":\"scatter\"}],\"parcoords\":[{\"type\":\"parcoords\",\"line\":{\"colorbar\":{\"outlinewidth\":0,\"ticks\":\"\"}}}],\"scatterpolargl\":[{\"type\":\"scatterpolargl\",\"marker\":{\"colorbar\":{\"outlinewidth\":0,\"ticks\":\"\"}}}],\"bar\":[{\"error_x\":{\"color\":\"#2a3f5f\"},\"error_y\":{\"color\":\"#2a3f5f\"},\"marker\":{\"line\":{\"color\":\"#E5ECF6\",\"width\":0.5},\"pattern\":{\"fillmode\":\"overlay\",\"size\":10,\"solidity\":0.2}},\"type\":\"bar\"}],\"scattergeo\":[{\"type\":\"scattergeo\",\"marker\":{\"colorbar\":{\"outlinewidth\":0,\"ticks\":\"\"}}}],\"scatterpolar\":[{\"type\":\"scatterpolar\",\"marker\":{\"colorbar\":{\"outlinewidth\":0,\"ticks\":\"\"}}}],\"histogram\":[{\"marker\":{\"pattern\":{\"fillmode\":\"overlay\",\"size\":10,\"solidity\":0.2}},\"type\":\"histogram\"}],\"scattergl\":[{\"type\":\"scattergl\",\"marker\":{\"colorbar\":{\"outlinewidth\":0,\"ticks\":\"\"}}}],\"scatter3d\":[{\"type\":\"scatter3d\",\"line\":{\"colorbar\":{\"outlinewidth\":0,\"ticks\":\"\"}},\"marker\":{\"colorbar\":{\"outlinewidth\":0,\"ticks\":\"\"}}}],\"scattermapbox\":[{\"type\":\"scattermapbox\",\"marker\":{\"colorbar\":{\"outlinewidth\":0,\"ticks\":\"\"}}}],\"scatterternary\":[{\"type\":\"scatterternary\",\"marker\":{\"colorbar\":{\"outlinewidth\":0,\"ticks\":\"\"}}}],\"scattercarpet\":[{\"type\":\"scattercarpet\",\"marker\":{\"colorbar\":{\"outlinewidth\":0,\"ticks\":\"\"}}}],\"carpet\":[{\"aaxis\":{\"endlinecolor\":\"#2a3f5f\",\"gridcolor\":\"white\",\"linecolor\":\"white\",\"minorgridcolor\":\"white\",\"startlinecolor\":\"#2a3f5f\"},\"baxis\":{\"endlinecolor\":\"#2a3f5f\",\"gridcolor\":\"white\",\"linecolor\":\"white\",\"minorgridcolor\":\"white\",\"startlinecolor\":\"#2a3f5f\"},\"type\":\"carpet\"}],\"table\":[{\"cells\":{\"fill\":{\"color\":\"#EBF0F8\"},\"line\":{\"color\":\"white\"}},\"header\":{\"fill\":{\"color\":\"#C8D4E3\"},\"line\":{\"color\":\"white\"}},\"type\":\"table\"}],\"barpolar\":[{\"marker\":{\"line\":{\"color\":\"#E5ECF6\",\"width\":0.5},\"pattern\":{\"fillmode\":\"overlay\",\"size\":10,\"solidity\":0.2}},\"type\":\"barpolar\"}],\"pie\":[{\"automargin\":true,\"type\":\"pie\"}]},\"layout\":{\"autotypenumbers\":\"strict\",\"colorway\":[\"#636efa\",\"#EF553B\",\"#00cc96\",\"#ab63fa\",\"#FFA15A\",\"#19d3f3\",\"#FF6692\",\"#B6E880\",\"#FF97FF\",\"#FECB52\"],\"font\":{\"color\":\"#2a3f5f\"},\"hovermode\":\"closest\",\"hoverlabel\":{\"align\":\"left\"},\"paper_bgcolor\":\"white\",\"plot_bgcolor\":\"#E5ECF6\",\"polar\":{\"bgcolor\":\"#E5ECF6\",\"angularaxis\":{\"gridcolor\":\"white\",\"linecolor\":\"white\",\"ticks\":\"\"},\"radialaxis\":{\"gridcolor\":\"white\",\"linecolor\":\"white\",\"ticks\":\"\"}},\"ternary\":{\"bgcolor\":\"#E5ECF6\",\"aaxis\":{\"gridcolor\":\"white\",\"linecolor\":\"white\",\"ticks\":\"\"},\"baxis\":{\"gridcolor\":\"white\",\"linecolor\":\"white\",\"ticks\":\"\"},\"caxis\":{\"gridcolor\":\"white\",\"linecolor\":\"white\",\"ticks\":\"\"}},\"coloraxis\":{\"colorbar\":{\"outlinewidth\":0,\"ticks\":\"\"}},\"colorscale\":{\"sequential\":[[0.0,\"#0d0887\"],[0.1111111111111111,\"#46039f\"],[0.2222222222222222,\"#7201a8\"],[0.3333333333333333,\"#9c179e\"],[0.4444444444444444,\"#bd3786\"],[0.5555555555555556,\"#d8576b\"],[0.6666666666666666,\"#ed7953\"],[0.7777777777777778,\"#fb9f3a\"],[0.8888888888888888,\"#fdca26\"],[1.0,\"#f0f921\"]],\"sequentialminus\":[[0.0,\"#0d0887\"],[0.1111111111111111,\"#46039f\"],[0.2222222222222222,\"#7201a8\"],[0.3333333333333333,\"#9c179e\"],[0.4444444444444444,\"#bd3786\"],[0.5555555555555556,\"#d8576b\"],[0.6666666666666666,\"#ed7953\"],[0.7777777777777778,\"#fb9f3a\"],[0.8888888888888888,\"#fdca26\"],[1.0,\"#f0f921\"]],\"diverging\":[[0,\"#8e0152\"],[0.1,\"#c51b7d\"],[0.2,\"#de77ae\"],[0.3,\"#f1b6da\"],[0.4,\"#fde0ef\"],[0.5,\"#f7f7f7\"],[0.6,\"#e6f5d0\"],[0.7,\"#b8e186\"],[0.8,\"#7fbc41\"],[0.9,\"#4d9221\"],[1,\"#276419\"]]},\"xaxis\":{\"gridcolor\":\"white\",\"linecolor\":\"white\",\"ticks\":\"\",\"title\":{\"standoff\":15},\"zerolinecolor\":\"white\",\"automargin\":true,\"zerolinewidth\":2},\"yaxis\":{\"gridcolor\":\"white\",\"linecolor\":\"white\",\"ticks\":\"\",\"title\":{\"standoff\":15},\"zerolinecolor\":\"white\",\"automargin\":true,\"zerolinewidth\":2},\"scene\":{\"xaxis\":{\"backgroundcolor\":\"#E5ECF6\",\"gridcolor\":\"white\",\"linecolor\":\"white\",\"showbackground\":true,\"ticks\":\"\",\"zerolinecolor\":\"white\",\"gridwidth\":2},\"yaxis\":{\"backgroundcolor\":\"#E5ECF6\",\"gridcolor\":\"white\",\"linecolor\":\"white\",\"showbackground\":true,\"ticks\":\"\",\"zerolinecolor\":\"white\",\"gridwidth\":2},\"zaxis\":{\"backgroundcolor\":\"#E5ECF6\",\"gridcolor\":\"white\",\"linecolor\":\"white\",\"showbackground\":true,\"ticks\":\"\",\"zerolinecolor\":\"white\",\"gridwidth\":2}},\"shapedefaults\":{\"line\":{\"color\":\"#2a3f5f\"}},\"annotationdefaults\":{\"arrowcolor\":\"#2a3f5f\",\"arrowhead\":0,\"arrowwidth\":1},\"geo\":{\"bgcolor\":\"white\",\"landcolor\":\"#E5ECF6\",\"subunitcolor\":\"white\",\"showland\":true,\"showlakes\":true,\"lakecolor\":\"white\"},\"title\":{\"x\":0.05},\"mapbox\":{\"style\":\"light\"}}},\"xaxis\":{\"anchor\":\"y\",\"domain\":[0.0,1.0],\"title\":{\"text\":\"SYSTEM TIME\"}},\"yaxis\":{\"anchor\":\"x\",\"domain\":[0.0,1.0],\"title\":{\"text\":\"concentration\"}},\"legend\":{\"title\":{\"text\":\"Chemical\"},\"tracegroupgap\":0},\"title\":{\"text\":\"Reaction `A <-> B` .  Changes in concentrations with time (time steps shown in dashed lines)\"},\"shapes\":[{\"line\":{\"color\":\"gray\",\"dash\":\"dot\",\"width\":1},\"type\":\"line\",\"x0\":0.0,\"x1\":0.0,\"xref\":\"x\",\"y0\":0,\"y1\":1,\"yref\":\"y domain\"},{\"line\":{\"color\":\"gray\",\"dash\":\"dot\",\"width\":1},\"type\":\"line\",\"x0\":0.0125,\"x1\":0.0125,\"xref\":\"x\",\"y0\":0,\"y1\":1,\"yref\":\"y domain\"},{\"line\":{\"color\":\"gray\",\"dash\":\"dot\",\"width\":1},\"type\":\"line\",\"x0\":0.037500000000000006,\"x1\":0.037500000000000006,\"xref\":\"x\",\"y0\":0,\"y1\":1,\"yref\":\"y domain\"},{\"line\":{\"color\":\"gray\",\"dash\":\"dot\",\"width\":1},\"type\":\"line\",\"x0\":0.05,\"x1\":0.05,\"xref\":\"x\",\"y0\":0,\"y1\":1,\"yref\":\"y domain\"},{\"line\":{\"color\":\"gray\",\"dash\":\"dot\",\"width\":1},\"type\":\"line\",\"x0\":0.07500000000000001,\"x1\":0.07500000000000001,\"xref\":\"x\",\"y0\":0,\"y1\":1,\"yref\":\"y domain\"},{\"line\":{\"color\":\"gray\",\"dash\":\"dot\",\"width\":1},\"type\":\"line\",\"x0\":0.08750000000000001,\"x1\":0.08750000000000001,\"xref\":\"x\",\"y0\":0,\"y1\":1,\"yref\":\"y domain\"},{\"line\":{\"color\":\"gray\",\"dash\":\"dot\",\"width\":1},\"type\":\"line\",\"x0\":0.11250000000000002,\"x1\":0.11250000000000002,\"xref\":\"x\",\"y0\":0,\"y1\":1,\"yref\":\"y domain\"},{\"line\":{\"color\":\"gray\",\"dash\":\"dot\",\"width\":1},\"type\":\"line\",\"x0\":0.1375,\"x1\":0.1375,\"xref\":\"x\",\"y0\":0,\"y1\":1,\"yref\":\"y domain\"},{\"line\":{\"color\":\"gray\",\"dash\":\"dot\",\"width\":1},\"type\":\"line\",\"x0\":0.1875,\"x1\":0.1875,\"xref\":\"x\",\"y0\":0,\"y1\":1,\"yref\":\"y domain\"},{\"line\":{\"color\":\"gray\",\"dash\":\"dot\",\"width\":1},\"type\":\"line\",\"x0\":0.2125,\"x1\":0.2125,\"xref\":\"x\",\"y0\":0,\"y1\":1,\"yref\":\"y domain\"},{\"line\":{\"color\":\"gray\",\"dash\":\"dot\",\"width\":1},\"type\":\"line\",\"x0\":0.2625,\"x1\":0.2625,\"xref\":\"x\",\"y0\":0,\"y1\":1,\"yref\":\"y domain\"},{\"line\":{\"color\":\"gray\",\"dash\":\"dot\",\"width\":1},\"type\":\"line\",\"x0\":0.3125,\"x1\":0.3125,\"xref\":\"x\",\"y0\":0,\"y1\":1,\"yref\":\"y domain\"},{\"line\":{\"color\":\"gray\",\"dash\":\"dot\",\"width\":1},\"type\":\"line\",\"x0\":0.4125,\"x1\":0.4125,\"xref\":\"x\",\"y0\":0,\"y1\":1,\"yref\":\"y domain\"},{\"line\":{\"color\":\"gray\",\"dash\":\"dot\",\"width\":1},\"type\":\"line\",\"x0\":0.5125,\"x1\":0.5125,\"xref\":\"x\",\"y0\":0,\"y1\":1,\"yref\":\"y domain\"},{\"line\":{\"color\":\"gray\",\"dash\":\"dot\",\"width\":1},\"type\":\"line\",\"x0\":0.7124999999999999,\"x1\":0.7124999999999999,\"xref\":\"x\",\"y0\":0,\"y1\":1,\"yref\":\"y domain\"},{\"line\":{\"color\":\"gray\",\"dash\":\"dot\",\"width\":1},\"type\":\"line\",\"x0\":1.1124999999999998,\"x1\":1.1124999999999998,\"xref\":\"x\",\"y0\":0,\"y1\":1,\"yref\":\"y domain\"},{\"line\":{\"color\":\"gray\",\"dash\":\"dot\",\"width\":1},\"type\":\"line\",\"x0\":1.9124999999999999,\"x1\":1.9124999999999999,\"xref\":\"x\",\"y0\":0,\"y1\":1,\"yref\":\"y domain\"}]},                        {\"responsive\": true}                    ).then(function(){\n",
       "                            \n",
       "var gd = document.getElementById('74200051-0e92-4975-ab4b-832e8daf839e');\n",
       "var x = new MutationObserver(function (mutations, observer) {{\n",
       "        var display = window.getComputedStyle(gd).display;\n",
       "        if (!display || display === 'none') {{\n",
       "            console.log([gd, 'removed!']);\n",
       "            Plotly.purge(gd);\n",
       "            observer.disconnect();\n",
       "        }}\n",
       "}});\n",
       "\n",
       "// Listen for the removal of the full notebook cells\n",
       "var notebookContainer = gd.closest('#notebook-container');\n",
       "if (notebookContainer) {{\n",
       "    x.observe(notebookContainer, {childList: true});\n",
       "}}\n",
       "\n",
       "// Listen for the clearing of the current output cell\n",
       "var outputEl = gd.closest('.output');\n",
       "if (outputEl) {{\n",
       "    x.observe(outputEl, {childList: true});\n",
       "}}\n",
       "\n",
       "                        })                };                });            </script>        </div>"
      ]
     },
     "metadata": {},
     "output_type": "display_data"
    }
   ],
   "source": [
    "dynamics.plot_curves(colors=['blue', 'orange'], show_intervals=True)"
   ]
  },
  {
   "cell_type": "code",
   "execution_count": 138,
   "id": "039e5eab-53bf-4bfb-b68b-e83f399490c5",
   "metadata": {},
   "outputs": [
    {
     "data": {
      "application/vnd.plotly.v1+json": {
       "config": {
        "plotlyServerURL": "https://plot.ly"
       },
       "data": [
        {
         "hovertemplate": "x=%{x}<br>y=%{y}<extra></extra>",
         "legendgroup": "",
         "line": {
          "color": "#636efa",
          "dash": "solid"
         },
         "marker": {
          "symbol": "circle"
         },
         "mode": "lines",
         "name": "",
         "orientation": "v",
         "showlegend": false,
         "type": "scatter",
         "x": [
          0,
          0.0125,
          0.0125,
          0.037500000000000006,
          0.037500000000000006,
          0.05,
          0.05,
          0.07500000000000001,
          0.07500000000000001,
          0.08750000000000001,
          0.08750000000000001,
          0.1375,
          0.1375,
          0.1875,
          0.1875,
          0.2125,
          0.2125,
          0.3125,
          0.3125,
          0.5125,
          0.5125,
          0.7124999999999999,
          0.7124999999999999,
          1.1124999999999998,
          1.1124999999999998,
          1.9124999999999999
         ],
         "xaxis": "x",
         "y": [
          0.0125,
          0.0125,
          0.025000000000000005,
          0.025000000000000005,
          0.012499999999999997,
          0.012499999999999997,
          0.02500000000000001,
          0.02500000000000001,
          0.012499999999999997,
          0.012499999999999997,
          0.024999999999999994,
          0.024999999999999994,
          0.04999999999999999,
          0.04999999999999999,
          0.024999999999999994,
          0.024999999999999994,
          0.04999999999999999,
          0.04999999999999999,
          0.09999999999999998,
          0.09999999999999998,
          0.19999999999999996,
          0.19999999999999996,
          0.3999999999999999,
          0.3999999999999999,
          0.8,
          0.8
         ],
         "yaxis": "y"
        }
       ],
       "layout": {
        "autosize": true,
        "legend": {
         "tracegroupgap": 0
        },
        "margin": {
         "t": 60
        },
        "shapes": [
         {
          "line": {
           "color": "gray",
           "dash": "dot",
           "width": 1
          },
          "type": "line",
          "x0": 0,
          "x1": 0,
          "xref": "x",
          "y0": 0,
          "y1": 1,
          "yref": "y domain"
         },
         {
          "line": {
           "color": "gray",
           "dash": "dot",
           "width": 1
          },
          "type": "line",
          "x0": 0.0125,
          "x1": 0.0125,
          "xref": "x",
          "y0": 0,
          "y1": 1,
          "yref": "y domain"
         },
         {
          "line": {
           "color": "gray",
           "dash": "dot",
           "width": 1
          },
          "type": "line",
          "x0": 0.037500000000000006,
          "x1": 0.037500000000000006,
          "xref": "x",
          "y0": 0,
          "y1": 1,
          "yref": "y domain"
         },
         {
          "line": {
           "color": "gray",
           "dash": "dot",
           "width": 1
          },
          "type": "line",
          "x0": 0.05,
          "x1": 0.05,
          "xref": "x",
          "y0": 0,
          "y1": 1,
          "yref": "y domain"
         },
         {
          "line": {
           "color": "gray",
           "dash": "dot",
           "width": 1
          },
          "type": "line",
          "x0": 0.07500000000000001,
          "x1": 0.07500000000000001,
          "xref": "x",
          "y0": 0,
          "y1": 1,
          "yref": "y domain"
         },
         {
          "line": {
           "color": "gray",
           "dash": "dot",
           "width": 1
          },
          "type": "line",
          "x0": 0.08750000000000001,
          "x1": 0.08750000000000001,
          "xref": "x",
          "y0": 0,
          "y1": 1,
          "yref": "y domain"
         },
         {
          "line": {
           "color": "gray",
           "dash": "dot",
           "width": 1
          },
          "type": "line",
          "x0": 0.11250000000000002,
          "x1": 0.11250000000000002,
          "xref": "x",
          "y0": 0,
          "y1": 1,
          "yref": "y domain"
         },
         {
          "line": {
           "color": "gray",
           "dash": "dot",
           "width": 1
          },
          "type": "line",
          "x0": 0.1375,
          "x1": 0.1375,
          "xref": "x",
          "y0": 0,
          "y1": 1,
          "yref": "y domain"
         },
         {
          "line": {
           "color": "gray",
           "dash": "dot",
           "width": 1
          },
          "type": "line",
          "x0": 0.1875,
          "x1": 0.1875,
          "xref": "x",
          "y0": 0,
          "y1": 1,
          "yref": "y domain"
         },
         {
          "line": {
           "color": "gray",
           "dash": "dot",
           "width": 1
          },
          "type": "line",
          "x0": 0.2125,
          "x1": 0.2125,
          "xref": "x",
          "y0": 0,
          "y1": 1,
          "yref": "y domain"
         },
         {
          "line": {
           "color": "gray",
           "dash": "dot",
           "width": 1
          },
          "type": "line",
          "x0": 0.2625,
          "x1": 0.2625,
          "xref": "x",
          "y0": 0,
          "y1": 1,
          "yref": "y domain"
         },
         {
          "line": {
           "color": "gray",
           "dash": "dot",
           "width": 1
          },
          "type": "line",
          "x0": 0.3125,
          "x1": 0.3125,
          "xref": "x",
          "y0": 0,
          "y1": 1,
          "yref": "y domain"
         },
         {
          "line": {
           "color": "gray",
           "dash": "dot",
           "width": 1
          },
          "type": "line",
          "x0": 0.4125,
          "x1": 0.4125,
          "xref": "x",
          "y0": 0,
          "y1": 1,
          "yref": "y domain"
         },
         {
          "line": {
           "color": "gray",
           "dash": "dot",
           "width": 1
          },
          "type": "line",
          "x0": 0.5125,
          "x1": 0.5125,
          "xref": "x",
          "y0": 0,
          "y1": 1,
          "yref": "y domain"
         },
         {
          "line": {
           "color": "gray",
           "dash": "dot",
           "width": 1
          },
          "type": "line",
          "x0": 0.7124999999999999,
          "x1": 0.7124999999999999,
          "xref": "x",
          "y0": 0,
          "y1": 1,
          "yref": "y domain"
         },
         {
          "line": {
           "color": "gray",
           "dash": "dot",
           "width": 1
          },
          "type": "line",
          "x0": 1.1124999999999998,
          "x1": 1.1124999999999998,
          "xref": "x",
          "y0": 0,
          "y1": 1,
          "yref": "y domain"
         },
         {
          "line": {
           "color": "gray",
           "dash": "dot",
           "width": 1
          },
          "type": "line",
          "x0": 1.9124999999999999,
          "x1": 1.9124999999999999,
          "xref": "x",
          "y0": 0,
          "y1": 1,
          "yref": "y domain"
         }
        ],
        "template": {
         "data": {
          "bar": [
           {
            "error_x": {
             "color": "#2a3f5f"
            },
            "error_y": {
             "color": "#2a3f5f"
            },
            "marker": {
             "line": {
              "color": "#E5ECF6",
              "width": 0.5
             },
             "pattern": {
              "fillmode": "overlay",
              "size": 10,
              "solidity": 0.2
             }
            },
            "type": "bar"
           }
          ],
          "barpolar": [
           {
            "marker": {
             "line": {
              "color": "#E5ECF6",
              "width": 0.5
             },
             "pattern": {
              "fillmode": "overlay",
              "size": 10,
              "solidity": 0.2
             }
            },
            "type": "barpolar"
           }
          ],
          "carpet": [
           {
            "aaxis": {
             "endlinecolor": "#2a3f5f",
             "gridcolor": "white",
             "linecolor": "white",
             "minorgridcolor": "white",
             "startlinecolor": "#2a3f5f"
            },
            "baxis": {
             "endlinecolor": "#2a3f5f",
             "gridcolor": "white",
             "linecolor": "white",
             "minorgridcolor": "white",
             "startlinecolor": "#2a3f5f"
            },
            "type": "carpet"
           }
          ],
          "choropleth": [
           {
            "colorbar": {
             "outlinewidth": 0,
             "ticks": ""
            },
            "type": "choropleth"
           }
          ],
          "contour": [
           {
            "colorbar": {
             "outlinewidth": 0,
             "ticks": ""
            },
            "colorscale": [
             [
              0,
              "#0d0887"
             ],
             [
              0.1111111111111111,
              "#46039f"
             ],
             [
              0.2222222222222222,
              "#7201a8"
             ],
             [
              0.3333333333333333,
              "#9c179e"
             ],
             [
              0.4444444444444444,
              "#bd3786"
             ],
             [
              0.5555555555555556,
              "#d8576b"
             ],
             [
              0.6666666666666666,
              "#ed7953"
             ],
             [
              0.7777777777777778,
              "#fb9f3a"
             ],
             [
              0.8888888888888888,
              "#fdca26"
             ],
             [
              1,
              "#f0f921"
             ]
            ],
            "type": "contour"
           }
          ],
          "contourcarpet": [
           {
            "colorbar": {
             "outlinewidth": 0,
             "ticks": ""
            },
            "type": "contourcarpet"
           }
          ],
          "heatmap": [
           {
            "colorbar": {
             "outlinewidth": 0,
             "ticks": ""
            },
            "colorscale": [
             [
              0,
              "#0d0887"
             ],
             [
              0.1111111111111111,
              "#46039f"
             ],
             [
              0.2222222222222222,
              "#7201a8"
             ],
             [
              0.3333333333333333,
              "#9c179e"
             ],
             [
              0.4444444444444444,
              "#bd3786"
             ],
             [
              0.5555555555555556,
              "#d8576b"
             ],
             [
              0.6666666666666666,
              "#ed7953"
             ],
             [
              0.7777777777777778,
              "#fb9f3a"
             ],
             [
              0.8888888888888888,
              "#fdca26"
             ],
             [
              1,
              "#f0f921"
             ]
            ],
            "type": "heatmap"
           }
          ],
          "heatmapgl": [
           {
            "colorbar": {
             "outlinewidth": 0,
             "ticks": ""
            },
            "colorscale": [
             [
              0,
              "#0d0887"
             ],
             [
              0.1111111111111111,
              "#46039f"
             ],
             [
              0.2222222222222222,
              "#7201a8"
             ],
             [
              0.3333333333333333,
              "#9c179e"
             ],
             [
              0.4444444444444444,
              "#bd3786"
             ],
             [
              0.5555555555555556,
              "#d8576b"
             ],
             [
              0.6666666666666666,
              "#ed7953"
             ],
             [
              0.7777777777777778,
              "#fb9f3a"
             ],
             [
              0.8888888888888888,
              "#fdca26"
             ],
             [
              1,
              "#f0f921"
             ]
            ],
            "type": "heatmapgl"
           }
          ],
          "histogram": [
           {
            "marker": {
             "pattern": {
              "fillmode": "overlay",
              "size": 10,
              "solidity": 0.2
             }
            },
            "type": "histogram"
           }
          ],
          "histogram2d": [
           {
            "colorbar": {
             "outlinewidth": 0,
             "ticks": ""
            },
            "colorscale": [
             [
              0,
              "#0d0887"
             ],
             [
              0.1111111111111111,
              "#46039f"
             ],
             [
              0.2222222222222222,
              "#7201a8"
             ],
             [
              0.3333333333333333,
              "#9c179e"
             ],
             [
              0.4444444444444444,
              "#bd3786"
             ],
             [
              0.5555555555555556,
              "#d8576b"
             ],
             [
              0.6666666666666666,
              "#ed7953"
             ],
             [
              0.7777777777777778,
              "#fb9f3a"
             ],
             [
              0.8888888888888888,
              "#fdca26"
             ],
             [
              1,
              "#f0f921"
             ]
            ],
            "type": "histogram2d"
           }
          ],
          "histogram2dcontour": [
           {
            "colorbar": {
             "outlinewidth": 0,
             "ticks": ""
            },
            "colorscale": [
             [
              0,
              "#0d0887"
             ],
             [
              0.1111111111111111,
              "#46039f"
             ],
             [
              0.2222222222222222,
              "#7201a8"
             ],
             [
              0.3333333333333333,
              "#9c179e"
             ],
             [
              0.4444444444444444,
              "#bd3786"
             ],
             [
              0.5555555555555556,
              "#d8576b"
             ],
             [
              0.6666666666666666,
              "#ed7953"
             ],
             [
              0.7777777777777778,
              "#fb9f3a"
             ],
             [
              0.8888888888888888,
              "#fdca26"
             ],
             [
              1,
              "#f0f921"
             ]
            ],
            "type": "histogram2dcontour"
           }
          ],
          "mesh3d": [
           {
            "colorbar": {
             "outlinewidth": 0,
             "ticks": ""
            },
            "type": "mesh3d"
           }
          ],
          "parcoords": [
           {
            "line": {
             "colorbar": {
              "outlinewidth": 0,
              "ticks": ""
             }
            },
            "type": "parcoords"
           }
          ],
          "pie": [
           {
            "automargin": true,
            "type": "pie"
           }
          ],
          "scatter": [
           {
            "fillpattern": {
             "fillmode": "overlay",
             "size": 10,
             "solidity": 0.2
            },
            "type": "scatter"
           }
          ],
          "scatter3d": [
           {
            "line": {
             "colorbar": {
              "outlinewidth": 0,
              "ticks": ""
             }
            },
            "marker": {
             "colorbar": {
              "outlinewidth": 0,
              "ticks": ""
             }
            },
            "type": "scatter3d"
           }
          ],
          "scattercarpet": [
           {
            "marker": {
             "colorbar": {
              "outlinewidth": 0,
              "ticks": ""
             }
            },
            "type": "scattercarpet"
           }
          ],
          "scattergeo": [
           {
            "marker": {
             "colorbar": {
              "outlinewidth": 0,
              "ticks": ""
             }
            },
            "type": "scattergeo"
           }
          ],
          "scattergl": [
           {
            "marker": {
             "colorbar": {
              "outlinewidth": 0,
              "ticks": ""
             }
            },
            "type": "scattergl"
           }
          ],
          "scattermapbox": [
           {
            "marker": {
             "colorbar": {
              "outlinewidth": 0,
              "ticks": ""
             }
            },
            "type": "scattermapbox"
           }
          ],
          "scatterpolar": [
           {
            "marker": {
             "colorbar": {
              "outlinewidth": 0,
              "ticks": ""
             }
            },
            "type": "scatterpolar"
           }
          ],
          "scatterpolargl": [
           {
            "marker": {
             "colorbar": {
              "outlinewidth": 0,
              "ticks": ""
             }
            },
            "type": "scatterpolargl"
           }
          ],
          "scatterternary": [
           {
            "marker": {
             "colorbar": {
              "outlinewidth": 0,
              "ticks": ""
             }
            },
            "type": "scatterternary"
           }
          ],
          "surface": [
           {
            "colorbar": {
             "outlinewidth": 0,
             "ticks": ""
            },
            "colorscale": [
             [
              0,
              "#0d0887"
             ],
             [
              0.1111111111111111,
              "#46039f"
             ],
             [
              0.2222222222222222,
              "#7201a8"
             ],
             [
              0.3333333333333333,
              "#9c179e"
             ],
             [
              0.4444444444444444,
              "#bd3786"
             ],
             [
              0.5555555555555556,
              "#d8576b"
             ],
             [
              0.6666666666666666,
              "#ed7953"
             ],
             [
              0.7777777777777778,
              "#fb9f3a"
             ],
             [
              0.8888888888888888,
              "#fdca26"
             ],
             [
              1,
              "#f0f921"
             ]
            ],
            "type": "surface"
           }
          ],
          "table": [
           {
            "cells": {
             "fill": {
              "color": "#EBF0F8"
             },
             "line": {
              "color": "white"
             }
            },
            "header": {
             "fill": {
              "color": "#C8D4E3"
             },
             "line": {
              "color": "white"
             }
            },
            "type": "table"
           }
          ]
         },
         "layout": {
          "annotationdefaults": {
           "arrowcolor": "#2a3f5f",
           "arrowhead": 0,
           "arrowwidth": 1
          },
          "autotypenumbers": "strict",
          "coloraxis": {
           "colorbar": {
            "outlinewidth": 0,
            "ticks": ""
           }
          },
          "colorscale": {
           "diverging": [
            [
             0,
             "#8e0152"
            ],
            [
             0.1,
             "#c51b7d"
            ],
            [
             0.2,
             "#de77ae"
            ],
            [
             0.3,
             "#f1b6da"
            ],
            [
             0.4,
             "#fde0ef"
            ],
            [
             0.5,
             "#f7f7f7"
            ],
            [
             0.6,
             "#e6f5d0"
            ],
            [
             0.7,
             "#b8e186"
            ],
            [
             0.8,
             "#7fbc41"
            ],
            [
             0.9,
             "#4d9221"
            ],
            [
             1,
             "#276419"
            ]
           ],
           "sequential": [
            [
             0,
             "#0d0887"
            ],
            [
             0.1111111111111111,
             "#46039f"
            ],
            [
             0.2222222222222222,
             "#7201a8"
            ],
            [
             0.3333333333333333,
             "#9c179e"
            ],
            [
             0.4444444444444444,
             "#bd3786"
            ],
            [
             0.5555555555555556,
             "#d8576b"
            ],
            [
             0.6666666666666666,
             "#ed7953"
            ],
            [
             0.7777777777777778,
             "#fb9f3a"
            ],
            [
             0.8888888888888888,
             "#fdca26"
            ],
            [
             1,
             "#f0f921"
            ]
           ],
           "sequentialminus": [
            [
             0,
             "#0d0887"
            ],
            [
             0.1111111111111111,
             "#46039f"
            ],
            [
             0.2222222222222222,
             "#7201a8"
            ],
            [
             0.3333333333333333,
             "#9c179e"
            ],
            [
             0.4444444444444444,
             "#bd3786"
            ],
            [
             0.5555555555555556,
             "#d8576b"
            ],
            [
             0.6666666666666666,
             "#ed7953"
            ],
            [
             0.7777777777777778,
             "#fb9f3a"
            ],
            [
             0.8888888888888888,
             "#fdca26"
            ],
            [
             1,
             "#f0f921"
            ]
           ]
          },
          "colorway": [
           "#636efa",
           "#EF553B",
           "#00cc96",
           "#ab63fa",
           "#FFA15A",
           "#19d3f3",
           "#FF6692",
           "#B6E880",
           "#FF97FF",
           "#FECB52"
          ],
          "font": {
           "color": "#2a3f5f"
          },
          "geo": {
           "bgcolor": "white",
           "lakecolor": "white",
           "landcolor": "#E5ECF6",
           "showlakes": true,
           "showland": true,
           "subunitcolor": "white"
          },
          "hoverlabel": {
           "align": "left"
          },
          "hovermode": "closest",
          "mapbox": {
           "style": "light"
          },
          "paper_bgcolor": "white",
          "plot_bgcolor": "#E5ECF6",
          "polar": {
           "angularaxis": {
            "gridcolor": "white",
            "linecolor": "white",
            "ticks": ""
           },
           "bgcolor": "#E5ECF6",
           "radialaxis": {
            "gridcolor": "white",
            "linecolor": "white",
            "ticks": ""
           }
          },
          "scene": {
           "xaxis": {
            "backgroundcolor": "#E5ECF6",
            "gridcolor": "white",
            "gridwidth": 2,
            "linecolor": "white",
            "showbackground": true,
            "ticks": "",
            "zerolinecolor": "white"
           },
           "yaxis": {
            "backgroundcolor": "#E5ECF6",
            "gridcolor": "white",
            "gridwidth": 2,
            "linecolor": "white",
            "showbackground": true,
            "ticks": "",
            "zerolinecolor": "white"
           },
           "zaxis": {
            "backgroundcolor": "#E5ECF6",
            "gridcolor": "white",
            "gridwidth": 2,
            "linecolor": "white",
            "showbackground": true,
            "ticks": "",
            "zerolinecolor": "white"
           }
          },
          "shapedefaults": {
           "line": {
            "color": "#2a3f5f"
           }
          },
          "ternary": {
           "aaxis": {
            "gridcolor": "white",
            "linecolor": "white",
            "ticks": ""
           },
           "baxis": {
            "gridcolor": "white",
            "linecolor": "white",
            "ticks": ""
           },
           "bgcolor": "#E5ECF6",
           "caxis": {
            "gridcolor": "white",
            "linecolor": "white",
            "ticks": ""
           }
          },
          "title": {
           "x": 0.05
          },
          "xaxis": {
           "automargin": true,
           "gridcolor": "white",
           "linecolor": "white",
           "ticks": "",
           "title": {
            "standoff": 15
           },
           "zerolinecolor": "white",
           "zerolinewidth": 2
          },
          "yaxis": {
           "automargin": true,
           "gridcolor": "white",
           "linecolor": "white",
           "ticks": "",
           "title": {
            "standoff": 15
           },
           "zerolinecolor": "white",
           "zerolinewidth": 2
          }
         }
        },
        "title": {
         "text": "Simulation step sizes"
        },
        "xaxis": {
         "anchor": "y",
         "autorange": true,
         "domain": [
          0,
          1
         ],
         "range": [
          -0.0016688481675392669,
          1.9141688481675392
         ],
         "title": {
          "text": "SYSTEM TIME"
         },
         "type": "linear"
        },
        "yaxis": {
         "anchor": "x",
         "autorange": true,
         "domain": [
          0,
          1
         ],
         "range": [
          -0.03125000000000001,
          0.84375
         ],
         "title": {
          "text": "Step size"
         },
         "type": "linear"
        }
       }
      },
      "image/png": "[encoded data removed]",
      "text/html": [
       "<div>                            <div id=\"4e60e9b0-a0e4-4aad-b9f9-bf90899f9395\" class=\"plotly-graph-div\" style=\"height:525px; width:100%;\"></div>            <script type=\"text/javascript\">                require([\"plotly\"], function(Plotly) {                    window.PLOTLYENV=window.PLOTLYENV || {};                                    if (document.getElementById(\"4e60e9b0-a0e4-4aad-b9f9-bf90899f9395\")) {                    Plotly.newPlot(                        \"4e60e9b0-a0e4-4aad-b9f9-bf90899f9395\",                        [{\"hovertemplate\":\"x=%{x}<br>y=%{y}<extra></extra>\",\"legendgroup\":\"\",\"line\":{\"color\":\"#636efa\",\"dash\":\"solid\"},\"marker\":{\"symbol\":\"circle\"},\"mode\":\"lines\",\"name\":\"\",\"orientation\":\"v\",\"showlegend\":false,\"x\":[0.0,0.0125,0.0125,0.037500000000000006,0.037500000000000006,0.05,0.05,0.07500000000000001,0.07500000000000001,0.08750000000000001,0.08750000000000001,0.1375,0.1375,0.1875,0.1875,0.2125,0.2125,0.3125,0.3125,0.5125,0.5125,0.7124999999999999,0.7124999999999999,1.1124999999999998,1.1124999999999998,1.9124999999999999],\"xaxis\":\"x\",\"y\":[0.0125,0.0125,0.025000000000000005,0.025000000000000005,0.012499999999999997,0.012499999999999997,0.02500000000000001,0.02500000000000001,0.012499999999999997,0.012499999999999997,0.024999999999999994,0.024999999999999994,0.04999999999999999,0.04999999999999999,0.024999999999999994,0.024999999999999994,0.04999999999999999,0.04999999999999999,0.09999999999999998,0.09999999999999998,0.19999999999999996,0.19999999999999996,0.3999999999999999,0.3999999999999999,0.8,0.8],\"yaxis\":\"y\",\"type\":\"scatter\"}],                        {\"template\":{\"data\":{\"histogram2dcontour\":[{\"type\":\"histogram2dcontour\",\"colorbar\":{\"outlinewidth\":0,\"ticks\":\"\"},\"colorscale\":[[0.0,\"#0d0887\"],[0.1111111111111111,\"#46039f\"],[0.2222222222222222,\"#7201a8\"],[0.3333333333333333,\"#9c179e\"],[0.4444444444444444,\"#bd3786\"],[0.5555555555555556,\"#d8576b\"],[0.6666666666666666,\"#ed7953\"],[0.7777777777777778,\"#fb9f3a\"],[0.8888888888888888,\"#fdca26\"],[1.0,\"#f0f921\"]]}],\"choropleth\":[{\"type\":\"choropleth\",\"colorbar\":{\"outlinewidth\":0,\"ticks\":\"\"}}],\"histogram2d\":[{\"type\":\"histogram2d\",\"colorbar\":{\"outlinewidth\":0,\"ticks\":\"\"},\"colorscale\":[[0.0,\"#0d0887\"],[0.1111111111111111,\"#46039f\"],[0.2222222222222222,\"#7201a8\"],[0.3333333333333333,\"#9c179e\"],[0.4444444444444444,\"#bd3786\"],[0.5555555555555556,\"#d8576b\"],[0.6666666666666666,\"#ed7953\"],[0.7777777777777778,\"#fb9f3a\"],[0.8888888888888888,\"#fdca26\"],[1.0,\"#f0f921\"]]}],\"heatmap\":[{\"type\":\"heatmap\",\"colorbar\":{\"outlinewidth\":0,\"ticks\":\"\"},\"colorscale\":[[0.0,\"#0d0887\"],[0.1111111111111111,\"#46039f\"],[0.2222222222222222,\"#7201a8\"],[0.3333333333333333,\"#9c179e\"],[0.4444444444444444,\"#bd3786\"],[0.5555555555555556,\"#d8576b\"],[0.6666666666666666,\"#ed7953\"],[0.7777777777777778,\"#fb9f3a\"],[0.8888888888888888,\"#fdca26\"],[1.0,\"#f0f921\"]]}],\"heatmapgl\":[{\"type\":\"heatmapgl\",\"colorbar\":{\"outlinewidth\":0,\"ticks\":\"\"},\"colorscale\":[[0.0,\"#0d0887\"],[0.1111111111111111,\"#46039f\"],[0.2222222222222222,\"#7201a8\"],[0.3333333333333333,\"#9c179e\"],[0.4444444444444444,\"#bd3786\"],[0.5555555555555556,\"#d8576b\"],[0.6666666666666666,\"#ed7953\"],[0.7777777777777778,\"#fb9f3a\"],[0.8888888888888888,\"#fdca26\"],[1.0,\"#f0f921\"]]}],\"contourcarpet\":[{\"type\":\"contourcarpet\",\"colorbar\":{\"outlinewidth\":0,\"ticks\":\"\"}}],\"contour\":[{\"type\":\"contour\",\"colorbar\":{\"outlinewidth\":0,\"ticks\":\"\"},\"colorscale\":[[0.0,\"#0d0887\"],[0.1111111111111111,\"#46039f\"],[0.2222222222222222,\"#7201a8\"],[0.3333333333333333,\"#9c179e\"],[0.4444444444444444,\"#bd3786\"],[0.5555555555555556,\"#d8576b\"],[0.6666666666666666,\"#ed7953\"],[0.7777777777777778,\"#fb9f3a\"],[0.8888888888888888,\"#fdca26\"],[1.0,\"#f0f921\"]]}],\"surface\":[{\"type\":\"surface\",\"colorbar\":{\"outlinewidth\":0,\"ticks\":\"\"},\"colorscale\":[[0.0,\"#0d0887\"],[0.1111111111111111,\"#46039f\"],[0.2222222222222222,\"#7201a8\"],[0.3333333333333333,\"#9c179e\"],[0.4444444444444444,\"#bd3786\"],[0.5555555555555556,\"#d8576b\"],[0.6666666666666666,\"#ed7953\"],[0.7777777777777778,\"#fb9f3a\"],[0.8888888888888888,\"#fdca26\"],[1.0,\"#f0f921\"]]}],\"mesh3d\":[{\"type\":\"mesh3d\",\"colorbar\":{\"outlinewidth\":0,\"ticks\":\"\"}}],\"scatter\":[{\"fillpattern\":{\"fillmode\":\"overlay\",\"size\":10,\"solidity\":0.2},\"type\":\"scatter\"}],\"parcoords\":[{\"type\":\"parcoords\",\"line\":{\"colorbar\":{\"outlinewidth\":0,\"ticks\":\"\"}}}],\"scatterpolargl\":[{\"type\":\"scatterpolargl\",\"marker\":{\"colorbar\":{\"outlinewidth\":0,\"ticks\":\"\"}}}],\"bar\":[{\"error_x\":{\"color\":\"#2a3f5f\"},\"error_y\":{\"color\":\"#2a3f5f\"},\"marker\":{\"line\":{\"color\":\"#E5ECF6\",\"width\":0.5},\"pattern\":{\"fillmode\":\"overlay\",\"size\":10,\"solidity\":0.2}},\"type\":\"bar\"}],\"scattergeo\":[{\"type\":\"scattergeo\",\"marker\":{\"colorbar\":{\"outlinewidth\":0,\"ticks\":\"\"}}}],\"scatterpolar\":[{\"type\":\"scatterpolar\",\"marker\":{\"colorbar\":{\"outlinewidth\":0,\"ticks\":\"\"}}}],\"histogram\":[{\"marker\":{\"pattern\":{\"fillmode\":\"overlay\",\"size\":10,\"solidity\":0.2}},\"type\":\"histogram\"}],\"scattergl\":[{\"type\":\"scattergl\",\"marker\":{\"colorbar\":{\"outlinewidth\":0,\"ticks\":\"\"}}}],\"scatter3d\":[{\"type\":\"scatter3d\",\"line\":{\"colorbar\":{\"outlinewidth\":0,\"ticks\":\"\"}},\"marker\":{\"colorbar\":{\"outlinewidth\":0,\"ticks\":\"\"}}}],\"scattermapbox\":[{\"type\":\"scattermapbox\",\"marker\":{\"colorbar\":{\"outlinewidth\":0,\"ticks\":\"\"}}}],\"scatterternary\":[{\"type\":\"scatterternary\",\"marker\":{\"colorbar\":{\"outlinewidth\":0,\"ticks\":\"\"}}}],\"scattercarpet\":[{\"type\":\"scattercarpet\",\"marker\":{\"colorbar\":{\"outlinewidth\":0,\"ticks\":\"\"}}}],\"carpet\":[{\"aaxis\":{\"endlinecolor\":\"#2a3f5f\",\"gridcolor\":\"white\",\"linecolor\":\"white\",\"minorgridcolor\":\"white\",\"startlinecolor\":\"#2a3f5f\"},\"baxis\":{\"endlinecolor\":\"#2a3f5f\",\"gridcolor\":\"white\",\"linecolor\":\"white\",\"minorgridcolor\":\"white\",\"startlinecolor\":\"#2a3f5f\"},\"type\":\"carpet\"}],\"table\":[{\"cells\":{\"fill\":{\"color\":\"#EBF0F8\"},\"line\":{\"color\":\"white\"}},\"header\":{\"fill\":{\"color\":\"#C8D4E3\"},\"line\":{\"color\":\"white\"}},\"type\":\"table\"}],\"barpolar\":[{\"marker\":{\"line\":{\"color\":\"#E5ECF6\",\"width\":0.5},\"pattern\":{\"fillmode\":\"overlay\",\"size\":10,\"solidity\":0.2}},\"type\":\"barpolar\"}],\"pie\":[{\"automargin\":true,\"type\":\"pie\"}]},\"layout\":{\"autotypenumbers\":\"strict\",\"colorway\":[\"#636efa\",\"#EF553B\",\"#00cc96\",\"#ab63fa\",\"#FFA15A\",\"#19d3f3\",\"#FF6692\",\"#B6E880\",\"#FF97FF\",\"#FECB52\"],\"font\":{\"color\":\"#2a3f5f\"},\"hovermode\":\"closest\",\"hoverlabel\":{\"align\":\"left\"},\"paper_bgcolor\":\"white\",\"plot_bgcolor\":\"#E5ECF6\",\"polar\":{\"bgcolor\":\"#E5ECF6\",\"angularaxis\":{\"gridcolor\":\"white\",\"linecolor\":\"white\",\"ticks\":\"\"},\"radialaxis\":{\"gridcolor\":\"white\",\"linecolor\":\"white\",\"ticks\":\"\"}},\"ternary\":{\"bgcolor\":\"#E5ECF6\",\"aaxis\":{\"gridcolor\":\"white\",\"linecolor\":\"white\",\"ticks\":\"\"},\"baxis\":{\"gridcolor\":\"white\",\"linecolor\":\"white\",\"ticks\":\"\"},\"caxis\":{\"gridcolor\":\"white\",\"linecolor\":\"white\",\"ticks\":\"\"}},\"coloraxis\":{\"colorbar\":{\"outlinewidth\":0,\"ticks\":\"\"}},\"colorscale\":{\"sequential\":[[0.0,\"#0d0887\"],[0.1111111111111111,\"#46039f\"],[0.2222222222222222,\"#7201a8\"],[0.3333333333333333,\"#9c179e\"],[0.4444444444444444,\"#bd3786\"],[0.5555555555555556,\"#d8576b\"],[0.6666666666666666,\"#ed7953\"],[0.7777777777777778,\"#fb9f3a\"],[0.8888888888888888,\"#fdca26\"],[1.0,\"#f0f921\"]],\"sequentialminus\":[[0.0,\"#0d0887\"],[0.1111111111111111,\"#46039f\"],[0.2222222222222222,\"#7201a8\"],[0.3333333333333333,\"#9c179e\"],[0.4444444444444444,\"#bd3786\"],[0.5555555555555556,\"#d8576b\"],[0.6666666666666666,\"#ed7953\"],[0.7777777777777778,\"#fb9f3a\"],[0.8888888888888888,\"#fdca26\"],[1.0,\"#f0f921\"]],\"diverging\":[[0,\"#8e0152\"],[0.1,\"#c51b7d\"],[0.2,\"#de77ae\"],[0.3,\"#f1b6da\"],[0.4,\"#fde0ef\"],[0.5,\"#f7f7f7\"],[0.6,\"#e6f5d0\"],[0.7,\"#b8e186\"],[0.8,\"#7fbc41\"],[0.9,\"#4d9221\"],[1,\"#276419\"]]},\"xaxis\":{\"gridcolor\":\"white\",\"linecolor\":\"white\",\"ticks\":\"\",\"title\":{\"standoff\":15},\"zerolinecolor\":\"white\",\"automargin\":true,\"zerolinewidth\":2},\"yaxis\":{\"gridcolor\":\"white\",\"linecolor\":\"white\",\"ticks\":\"\",\"title\":{\"standoff\":15},\"zerolinecolor\":\"white\",\"automargin\":true,\"zerolinewidth\":2},\"scene\":{\"xaxis\":{\"backgroundcolor\":\"#E5ECF6\",\"gridcolor\":\"white\",\"linecolor\":\"white\",\"showbackground\":true,\"ticks\":\"\",\"zerolinecolor\":\"white\",\"gridwidth\":2},\"yaxis\":{\"backgroundcolor\":\"#E5ECF6\",\"gridcolor\":\"white\",\"linecolor\":\"white\",\"showbackground\":true,\"ticks\":\"\",\"zerolinecolor\":\"white\",\"gridwidth\":2},\"zaxis\":{\"backgroundcolor\":\"#E5ECF6\",\"gridcolor\":\"white\",\"linecolor\":\"white\",\"showbackground\":true,\"ticks\":\"\",\"zerolinecolor\":\"white\",\"gridwidth\":2}},\"shapedefaults\":{\"line\":{\"color\":\"#2a3f5f\"}},\"annotationdefaults\":{\"arrowcolor\":\"#2a3f5f\",\"arrowhead\":0,\"arrowwidth\":1},\"geo\":{\"bgcolor\":\"white\",\"landcolor\":\"#E5ECF6\",\"subunitcolor\":\"white\",\"showland\":true,\"showlakes\":true,\"lakecolor\":\"white\"},\"title\":{\"x\":0.05},\"mapbox\":{\"style\":\"light\"}}},\"xaxis\":{\"anchor\":\"y\",\"domain\":[0.0,1.0],\"title\":{\"text\":\"SYSTEM TIME\"}},\"yaxis\":{\"anchor\":\"x\",\"domain\":[0.0,1.0],\"title\":{\"text\":\"Step size\"}},\"legend\":{\"tracegroupgap\":0},\"margin\":{\"t\":60},\"shapes\":[{\"line\":{\"color\":\"gray\",\"dash\":\"dot\",\"width\":1},\"type\":\"line\",\"x0\":0.0,\"x1\":0.0,\"xref\":\"x\",\"y0\":0,\"y1\":1,\"yref\":\"y domain\"},{\"line\":{\"color\":\"gray\",\"dash\":\"dot\",\"width\":1},\"type\":\"line\",\"x0\":0.0125,\"x1\":0.0125,\"xref\":\"x\",\"y0\":0,\"y1\":1,\"yref\":\"y domain\"},{\"line\":{\"color\":\"gray\",\"dash\":\"dot\",\"width\":1},\"type\":\"line\",\"x0\":0.037500000000000006,\"x1\":0.037500000000000006,\"xref\":\"x\",\"y0\":0,\"y1\":1,\"yref\":\"y domain\"},{\"line\":{\"color\":\"gray\",\"dash\":\"dot\",\"width\":1},\"type\":\"line\",\"x0\":0.05,\"x1\":0.05,\"xref\":\"x\",\"y0\":0,\"y1\":1,\"yref\":\"y domain\"},{\"line\":{\"color\":\"gray\",\"dash\":\"dot\",\"width\":1},\"type\":\"line\",\"x0\":0.07500000000000001,\"x1\":0.07500000000000001,\"xref\":\"x\",\"y0\":0,\"y1\":1,\"yref\":\"y domain\"},{\"line\":{\"color\":\"gray\",\"dash\":\"dot\",\"width\":1},\"type\":\"line\",\"x0\":0.08750000000000001,\"x1\":0.08750000000000001,\"xref\":\"x\",\"y0\":0,\"y1\":1,\"yref\":\"y domain\"},{\"line\":{\"color\":\"gray\",\"dash\":\"dot\",\"width\":1},\"type\":\"line\",\"x0\":0.11250000000000002,\"x1\":0.11250000000000002,\"xref\":\"x\",\"y0\":0,\"y1\":1,\"yref\":\"y domain\"},{\"line\":{\"color\":\"gray\",\"dash\":\"dot\",\"width\":1},\"type\":\"line\",\"x0\":0.1375,\"x1\":0.1375,\"xref\":\"x\",\"y0\":0,\"y1\":1,\"yref\":\"y domain\"},{\"line\":{\"color\":\"gray\",\"dash\":\"dot\",\"width\":1},\"type\":\"line\",\"x0\":0.1875,\"x1\":0.1875,\"xref\":\"x\",\"y0\":0,\"y1\":1,\"yref\":\"y domain\"},{\"line\":{\"color\":\"gray\",\"dash\":\"dot\",\"width\":1},\"type\":\"line\",\"x0\":0.2125,\"x1\":0.2125,\"xref\":\"x\",\"y0\":0,\"y1\":1,\"yref\":\"y domain\"},{\"line\":{\"color\":\"gray\",\"dash\":\"dot\",\"width\":1},\"type\":\"line\",\"x0\":0.2625,\"x1\":0.2625,\"xref\":\"x\",\"y0\":0,\"y1\":1,\"yref\":\"y domain\"},{\"line\":{\"color\":\"gray\",\"dash\":\"dot\",\"width\":1},\"type\":\"line\",\"x0\":0.3125,\"x1\":0.3125,\"xref\":\"x\",\"y0\":0,\"y1\":1,\"yref\":\"y domain\"},{\"line\":{\"color\":\"gray\",\"dash\":\"dot\",\"width\":1},\"type\":\"line\",\"x0\":0.4125,\"x1\":0.4125,\"xref\":\"x\",\"y0\":0,\"y1\":1,\"yref\":\"y domain\"},{\"line\":{\"color\":\"gray\",\"dash\":\"dot\",\"width\":1},\"type\":\"line\",\"x0\":0.5125,\"x1\":0.5125,\"xref\":\"x\",\"y0\":0,\"y1\":1,\"yref\":\"y domain\"},{\"line\":{\"color\":\"gray\",\"dash\":\"dot\",\"width\":1},\"type\":\"line\",\"x0\":0.7124999999999999,\"x1\":0.7124999999999999,\"xref\":\"x\",\"y0\":0,\"y1\":1,\"yref\":\"y domain\"},{\"line\":{\"color\":\"gray\",\"dash\":\"dot\",\"width\":1},\"type\":\"line\",\"x0\":1.1124999999999998,\"x1\":1.1124999999999998,\"xref\":\"x\",\"y0\":0,\"y1\":1,\"yref\":\"y domain\"},{\"line\":{\"color\":\"gray\",\"dash\":\"dot\",\"width\":1},\"type\":\"line\",\"x0\":1.9124999999999999,\"x1\":1.9124999999999999,\"xref\":\"x\",\"y0\":0,\"y1\":1,\"yref\":\"y domain\"}],\"title\":{\"text\":\"Simulation step sizes\"}},                        {\"responsive\": true}                    ).then(function(){\n",
       "                            \n",
       "var gd = document.getElementById('4e60e9b0-a0e4-4aad-b9f9-bf90899f9395');\n",
       "var x = new MutationObserver(function (mutations, observer) {{\n",
       "        var display = window.getComputedStyle(gd).display;\n",
       "        if (!display || display === 'none') {{\n",
       "            console.log([gd, 'removed!']);\n",
       "            Plotly.purge(gd);\n",
       "            observer.disconnect();\n",
       "        }}\n",
       "}});\n",
       "\n",
       "// Listen for the removal of the full notebook cells\n",
       "var notebookContainer = gd.closest('#notebook-container');\n",
       "if (notebookContainer) {{\n",
       "    x.observe(notebookContainer, {childList: true});\n",
       "}}\n",
       "\n",
       "// Listen for the clearing of the current output cell\n",
       "var outputEl = gd.closest('.output');\n",
       "if (outputEl) {{\n",
       "    x.observe(outputEl, {childList: true});\n",
       "}}\n",
       "\n",
       "                        })                };                });            </script>        </div>"
      ]
     },
     "metadata": {},
     "output_type": "display_data"
    }
   ],
   "source": [
    "dynamics.plot_step_sizes(show_intervals=True)"
   ]
  },
  {
   "cell_type": "markdown",
   "id": "317b8747",
   "metadata": {},
   "source": [
    "# Diagnostics of the run may be investigated as follows:  \n",
    "_(note - this is possible because we make a call to set_diagnostics() prior to running the simulation)_"
   ]
  },
  {
   "cell_type": "code",
   "execution_count": 30,
   "id": "04c04327",
   "metadata": {},
   "outputs": [
    {
     "data": {
      "text/html": [
       "<div>\n",
       "<style scoped>\n",
       "    .dataframe tbody tr th:only-of-type {\n",
       "        vertical-align: middle;\n",
       "    }\n",
       "\n",
       "    .dataframe tbody tr th {\n",
       "        vertical-align: top;\n",
       "    }\n",
       "\n",
       "    .dataframe thead th {\n",
       "        text-align: right;\n",
       "    }\n",
       "</style>\n",
       "<table border=\"1\" class=\"dataframe\">\n",
       "  <thead>\n",
       "    <tr style=\"text-align: right;\">\n",
       "      <th></th>\n",
       "      <th>TIME</th>\n",
       "      <th>A</th>\n",
       "      <th>B</th>\n",
       "      <th>primary_timestep</th>\n",
       "      <th>caption</th>\n",
       "    </tr>\n",
       "  </thead>\n",
       "  <tbody>\n",
       "    <tr>\n",
       "      <th>0</th>\n",
       "      <td>0.0000</td>\n",
       "      <td>10.000000</td>\n",
       "      <td>50.000000</td>\n",
       "      <td>0.1000</td>\n",
       "      <td></td>\n",
       "    </tr>\n",
       "    <tr>\n",
       "      <th>1</th>\n",
       "      <td>0.0125</td>\n",
       "      <td>10.875000</td>\n",
       "      <td>49.125000</td>\n",
       "      <td>0.1000</td>\n",
       "      <td></td>\n",
       "    </tr>\n",
       "    <tr>\n",
       "      <th>2</th>\n",
       "      <td>0.0375</td>\n",
       "      <td>12.515625</td>\n",
       "      <td>47.484375</td>\n",
       "      <td>0.0250</td>\n",
       "      <td></td>\n",
       "    </tr>\n",
       "    <tr>\n",
       "      <th>3</th>\n",
       "      <td>0.0500</td>\n",
       "      <td>13.233398</td>\n",
       "      <td>46.766602</td>\n",
       "      <td>0.0125</td>\n",
       "      <td></td>\n",
       "    </tr>\n",
       "    <tr>\n",
       "      <th>4</th>\n",
       "      <td>0.0750</td>\n",
       "      <td>14.579224</td>\n",
       "      <td>45.420776</td>\n",
       "      <td>0.0250</td>\n",
       "      <td></td>\n",
       "    </tr>\n",
       "    <tr>\n",
       "      <th>5</th>\n",
       "      <td>0.0875</td>\n",
       "      <td>15.168022</td>\n",
       "      <td>44.831978</td>\n",
       "      <td>0.0125</td>\n",
       "      <td></td>\n",
       "    </tr>\n",
       "    <tr>\n",
       "      <th>6</th>\n",
       "      <td>0.1125</td>\n",
       "      <td>16.272019</td>\n",
       "      <td>43.727981</td>\n",
       "      <td>0.0250</td>\n",
       "      <td></td>\n",
       "    </tr>\n",
       "    <tr>\n",
       "      <th>7</th>\n",
       "      <td>0.1375</td>\n",
       "      <td>17.238017</td>\n",
       "      <td>42.761983</td>\n",
       "      <td>0.0250</td>\n",
       "      <td></td>\n",
       "    </tr>\n",
       "    <tr>\n",
       "      <th>8</th>\n",
       "      <td>0.1875</td>\n",
       "      <td>18.928513</td>\n",
       "      <td>41.071487</td>\n",
       "      <td>0.0500</td>\n",
       "      <td></td>\n",
       "    </tr>\n",
       "    <tr>\n",
       "      <th>9</th>\n",
       "      <td>0.2125</td>\n",
       "      <td>19.562449</td>\n",
       "      <td>40.437551</td>\n",
       "      <td>0.0250</td>\n",
       "      <td></td>\n",
       "    </tr>\n",
       "    <tr>\n",
       "      <th>10</th>\n",
       "      <td>0.2625</td>\n",
       "      <td>20.671836</td>\n",
       "      <td>39.328164</td>\n",
       "      <td>0.0500</td>\n",
       "      <td></td>\n",
       "    </tr>\n",
       "    <tr>\n",
       "      <th>11</th>\n",
       "      <td>0.3125</td>\n",
       "      <td>21.503877</td>\n",
       "      <td>38.496123</td>\n",
       "      <td>0.0500</td>\n",
       "      <td></td>\n",
       "    </tr>\n",
       "    <tr>\n",
       "      <th>12</th>\n",
       "      <td>0.4125</td>\n",
       "      <td>22.751939</td>\n",
       "      <td>37.248061</td>\n",
       "      <td>0.1000</td>\n",
       "      <td></td>\n",
       "    </tr>\n",
       "    <tr>\n",
       "      <th>13</th>\n",
       "      <td>0.5125</td>\n",
       "      <td>23.375969</td>\n",
       "      <td>36.624031</td>\n",
       "      <td>0.1000</td>\n",
       "      <td></td>\n",
       "    </tr>\n",
       "    <tr>\n",
       "      <th>14</th>\n",
       "      <td>0.7125</td>\n",
       "      <td>24.000000</td>\n",
       "      <td>36.000000</td>\n",
       "      <td>0.2000</td>\n",
       "      <td></td>\n",
       "    </tr>\n",
       "    <tr>\n",
       "      <th>15</th>\n",
       "      <td>1.1125</td>\n",
       "      <td>24.000000</td>\n",
       "      <td>36.000000</td>\n",
       "      <td>0.4000</td>\n",
       "      <td></td>\n",
       "    </tr>\n",
       "    <tr>\n",
       "      <th>16</th>\n",
       "      <td>1.9125</td>\n",
       "      <td>24.000000</td>\n",
       "      <td>36.000000</td>\n",
       "      <td>0.8000</td>\n",
       "      <td></td>\n",
       "    </tr>\n",
       "  </tbody>\n",
       "</table>\n",
       "</div>"
      ],
      "text/plain": [
       "      TIME          A          B  primary_timestep caption\n",
       "0   0.0000  10.000000  50.000000            0.1000        \n",
       "1   0.0125  10.875000  49.125000            0.1000        \n",
       "2   0.0375  12.515625  47.484375            0.0250        \n",
       "3   0.0500  13.233398  46.766602            0.0125        \n",
       "4   0.0750  14.579224  45.420776            0.0250        \n",
       "5   0.0875  15.168022  44.831978            0.0125        \n",
       "6   0.1125  16.272019  43.727981            0.0250        \n",
       "7   0.1375  17.238017  42.761983            0.0250        \n",
       "8   0.1875  18.928513  41.071487            0.0500        \n",
       "9   0.2125  19.562449  40.437551            0.0250        \n",
       "10  0.2625  20.671836  39.328164            0.0500        \n",
       "11  0.3125  21.503877  38.496123            0.0500        \n",
       "12  0.4125  22.751939  37.248061            0.1000        \n",
       "13  0.5125  23.375969  36.624031            0.1000        \n",
       "14  0.7125  24.000000  36.000000            0.2000        \n",
       "15  1.1125  24.000000  36.000000            0.4000        \n",
       "16  1.9125  24.000000  36.000000            0.8000        "
      ]
     },
     "execution_count": 30,
     "metadata": {},
     "output_type": "execute_result"
    }
   ],
   "source": [
    "dynamics.get_diagnostic_conc_data()"
   ]
  },
  {
   "cell_type": "code",
   "execution_count": 31,
   "id": "2144da8f-498a-4954-8a51-a0e606055979",
   "metadata": {},
   "outputs": [
    {
     "name": "stdout",
     "output_type": "stream",
     "text": [
      "Reaction:  A <-> B\n"
     ]
    },
    {
     "data": {
      "text/html": [
       "<div>\n",
       "<style scoped>\n",
       "    .dataframe tbody tr th:only-of-type {\n",
       "        vertical-align: middle;\n",
       "    }\n",
       "\n",
       "    .dataframe tbody tr th {\n",
       "        vertical-align: top;\n",
       "    }\n",
       "\n",
       "    .dataframe thead th {\n",
       "        text-align: right;\n",
       "    }\n",
       "</style>\n",
       "<table border=\"1\" class=\"dataframe\">\n",
       "  <thead>\n",
       "    <tr style=\"text-align: right;\">\n",
       "      <th></th>\n",
       "      <th>TIME</th>\n",
       "      <th>Delta A</th>\n",
       "      <th>Delta B</th>\n",
       "      <th>reaction</th>\n",
       "      <th>delta_time</th>\n",
       "      <th>caption</th>\n",
       "    </tr>\n",
       "  </thead>\n",
       "  <tbody>\n",
       "    <tr>\n",
       "      <th>0</th>\n",
       "      <td>0.0000</td>\n",
       "      <td>7.000000</td>\n",
       "      <td>-7.000000</td>\n",
       "      <td>0</td>\n",
       "      <td>0.1000</td>\n",
       "      <td></td>\n",
       "    </tr>\n",
       "    <tr>\n",
       "      <th>1</th>\n",
       "      <td>0.0000</td>\n",
       "      <td>3.500000</td>\n",
       "      <td>-3.500000</td>\n",
       "      <td>0</td>\n",
       "      <td>0.0500</td>\n",
       "      <td></td>\n",
       "    </tr>\n",
       "    <tr>\n",
       "      <th>2</th>\n",
       "      <td>0.0000</td>\n",
       "      <td>1.750000</td>\n",
       "      <td>-1.750000</td>\n",
       "      <td>0</td>\n",
       "      <td>0.0250</td>\n",
       "      <td></td>\n",
       "    </tr>\n",
       "    <tr>\n",
       "      <th>3</th>\n",
       "      <td>0.0000</td>\n",
       "      <td>0.875000</td>\n",
       "      <td>-0.875000</td>\n",
       "      <td>0</td>\n",
       "      <td>0.0125</td>\n",
       "      <td></td>\n",
       "    </tr>\n",
       "    <tr>\n",
       "      <th>4</th>\n",
       "      <td>0.0125</td>\n",
       "      <td>1.640625</td>\n",
       "      <td>-1.640625</td>\n",
       "      <td>0</td>\n",
       "      <td>0.0250</td>\n",
       "      <td></td>\n",
       "    </tr>\n",
       "    <tr>\n",
       "      <th>5</th>\n",
       "      <td>0.0375</td>\n",
       "      <td>0.717773</td>\n",
       "      <td>-0.717773</td>\n",
       "      <td>0</td>\n",
       "      <td>0.0125</td>\n",
       "      <td></td>\n",
       "    </tr>\n",
       "    <tr>\n",
       "      <th>6</th>\n",
       "      <td>0.0500</td>\n",
       "      <td>1.345825</td>\n",
       "      <td>-1.345825</td>\n",
       "      <td>0</td>\n",
       "      <td>0.0250</td>\n",
       "      <td></td>\n",
       "    </tr>\n",
       "    <tr>\n",
       "      <th>7</th>\n",
       "      <td>0.0750</td>\n",
       "      <td>0.588799</td>\n",
       "      <td>-0.588799</td>\n",
       "      <td>0</td>\n",
       "      <td>0.0125</td>\n",
       "      <td></td>\n",
       "    </tr>\n",
       "    <tr>\n",
       "      <th>8</th>\n",
       "      <td>0.0875</td>\n",
       "      <td>1.103997</td>\n",
       "      <td>-1.103997</td>\n",
       "      <td>0</td>\n",
       "      <td>0.0250</td>\n",
       "      <td></td>\n",
       "    </tr>\n",
       "    <tr>\n",
       "      <th>9</th>\n",
       "      <td>0.1125</td>\n",
       "      <td>0.965998</td>\n",
       "      <td>-0.965998</td>\n",
       "      <td>0</td>\n",
       "      <td>0.0250</td>\n",
       "      <td></td>\n",
       "    </tr>\n",
       "    <tr>\n",
       "      <th>10</th>\n",
       "      <td>0.1375</td>\n",
       "      <td>1.690496</td>\n",
       "      <td>-1.690496</td>\n",
       "      <td>0</td>\n",
       "      <td>0.0500</td>\n",
       "      <td></td>\n",
       "    </tr>\n",
       "    <tr>\n",
       "      <th>11</th>\n",
       "      <td>0.1875</td>\n",
       "      <td>0.633936</td>\n",
       "      <td>-0.633936</td>\n",
       "      <td>0</td>\n",
       "      <td>0.0250</td>\n",
       "      <td></td>\n",
       "    </tr>\n",
       "    <tr>\n",
       "      <th>12</th>\n",
       "      <td>0.2125</td>\n",
       "      <td>1.109388</td>\n",
       "      <td>-1.109388</td>\n",
       "      <td>0</td>\n",
       "      <td>0.0500</td>\n",
       "      <td></td>\n",
       "    </tr>\n",
       "    <tr>\n",
       "      <th>13</th>\n",
       "      <td>0.2625</td>\n",
       "      <td>0.832041</td>\n",
       "      <td>-0.832041</td>\n",
       "      <td>0</td>\n",
       "      <td>0.0500</td>\n",
       "      <td></td>\n",
       "    </tr>\n",
       "    <tr>\n",
       "      <th>14</th>\n",
       "      <td>0.3125</td>\n",
       "      <td>1.248061</td>\n",
       "      <td>-1.248061</td>\n",
       "      <td>0</td>\n",
       "      <td>0.1000</td>\n",
       "      <td></td>\n",
       "    </tr>\n",
       "    <tr>\n",
       "      <th>15</th>\n",
       "      <td>0.4125</td>\n",
       "      <td>0.624031</td>\n",
       "      <td>-0.624031</td>\n",
       "      <td>0</td>\n",
       "      <td>0.1000</td>\n",
       "      <td></td>\n",
       "    </tr>\n",
       "    <tr>\n",
       "      <th>16</th>\n",
       "      <td>0.5125</td>\n",
       "      <td>0.624031</td>\n",
       "      <td>-0.624031</td>\n",
       "      <td>0</td>\n",
       "      <td>0.2000</td>\n",
       "      <td></td>\n",
       "    </tr>\n",
       "    <tr>\n",
       "      <th>17</th>\n",
       "      <td>0.7125</td>\n",
       "      <td>0.000000</td>\n",
       "      <td>0.000000</td>\n",
       "      <td>0</td>\n",
       "      <td>0.4000</td>\n",
       "      <td></td>\n",
       "    </tr>\n",
       "    <tr>\n",
       "      <th>18</th>\n",
       "      <td>1.1125</td>\n",
       "      <td>0.000000</td>\n",
       "      <td>0.000000</td>\n",
       "      <td>0</td>\n",
       "      <td>0.8000</td>\n",
       "      <td></td>\n",
       "    </tr>\n",
       "  </tbody>\n",
       "</table>\n",
       "</div>"
      ],
      "text/plain": [
       "      TIME   Delta A   Delta B  reaction  delta_time caption\n",
       "0   0.0000  7.000000 -7.000000         0      0.1000        \n",
       "1   0.0000  3.500000 -3.500000         0      0.0500        \n",
       "2   0.0000  1.750000 -1.750000         0      0.0250        \n",
       "3   0.0000  0.875000 -0.875000         0      0.0125        \n",
       "4   0.0125  1.640625 -1.640625         0      0.0250        \n",
       "5   0.0375  0.717773 -0.717773         0      0.0125        \n",
       "6   0.0500  1.345825 -1.345825         0      0.0250        \n",
       "7   0.0750  0.588799 -0.588799         0      0.0125        \n",
       "8   0.0875  1.103997 -1.103997         0      0.0250        \n",
       "9   0.1125  0.965998 -0.965998         0      0.0250        \n",
       "10  0.1375  1.690496 -1.690496         0      0.0500        \n",
       "11  0.1875  0.633936 -0.633936         0      0.0250        \n",
       "12  0.2125  1.109388 -1.109388         0      0.0500        \n",
       "13  0.2625  0.832041 -0.832041         0      0.0500        \n",
       "14  0.3125  1.248061 -1.248061         0      0.1000        \n",
       "15  0.4125  0.624031 -0.624031         0      0.1000        \n",
       "16  0.5125  0.624031 -0.624031         0      0.2000        \n",
       "17  0.7125  0.000000  0.000000         0      0.4000        \n",
       "18  1.1125  0.000000  0.000000         0      0.8000        "
      ]
     },
     "execution_count": 31,
     "metadata": {},
     "output_type": "execute_result"
    }
   ],
   "source": [
    "dynamics.get_diagnostic_rxn_data(rxn_index=0)      # For the 0-th reaction (the only reaction in our case)"
   ]
  },
  {
   "cell_type": "code",
   "execution_count": null,
   "id": "98515b8d",
   "metadata": {},
   "outputs": [],
   "source": []
  }
 ],
 "metadata": {
  "kernelspec": {
   "display_name": "Python 3 (ipykernel)",
   "language": "python",
   "name": "python3"
  },
  "language_info": {
   "codemirror_mode": {
    "name": "ipython",
    "version": 3
   },
   "file_extension": ".py",
   "mimetype": "text/x-python",
   "name": "python",
   "nbconvert_exporter": "python",
   "pygments_lexer": "ipython3",
   "version": "3.8.10"
  }
 },
 "nbformat": 4,
 "nbformat_minor": 5
}
