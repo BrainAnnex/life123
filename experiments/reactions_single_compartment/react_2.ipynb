{
 "cells": [
  {
   "cell_type": "markdown",
   "id": "5cbc8640",
   "metadata": {},
   "source": [
    "### Adaptive time steps (variable time resolution) for reaction `A <-> B`,\n",
    "with 1st-order kinetics in both directions, taken to equilibrium\n",
    "\n",
    "Same as the experiment _\"react_1\"_ , but with adaptive variable time steps\n",
    "\n",
    "LAST REVISED: May 16, 2023"
   ]
  },
  {
   "cell_type": "code",
   "execution_count": 1,
   "id": "b01eafc2",
   "metadata": {},
   "outputs": [
    {
     "name": "stdout",
     "output_type": "stream",
     "text": [
      "Added 'D:\\Docs\\- MY CODE\\BioSimulations\\life123-Win7' to sys.path\n"
     ]
    }
   ],
   "source": [
    "import set_path      # Importing this module will add the project's home directory +to sys.path"
   ]
  },
  {
   "cell_type": "code",
   "execution_count": 2,
   "id": "85b2f63e",
   "metadata": {
    "tags": []
   },
   "outputs": [],
   "source": [
    "from experiments.get_notebook_info import get_notebook_basename\n",
    "\n",
    "from src.modules.reactions.reaction_data import ReactionData as chem\n",
    "from src.modules.reactions.reaction_dynamics import ReactionDynamics\n",
    "\n",
    "import numpy as np\n",
    "import pandas as pd\n",
    "import plotly.express as px\n",
    "from src.modules.visualization.graphic_log import GraphicLog"
   ]
  },
  {
   "cell_type": "code",
   "execution_count": 3,
   "id": "121fdfdd",
   "metadata": {
    "tags": []
   },
   "outputs": [
    {
     "name": "stdout",
     "output_type": "stream",
     "text": [
      "-> Output will be LOGGED into the file 'react_2.log.htm'\n"
     ]
    }
   ],
   "source": [
    "# Initialize the HTML logging (for the graphics)\n",
    "log_file = get_notebook_basename() + \".log.htm\"    # Use the notebook base filename for the log file\n",
    "\n",
    "# Set up the use of some specified graphic (Vue) components\n",
    "GraphicLog.config(filename=log_file,\n",
    "                  components=[\"vue_cytoscape_1\"],\n",
    "                  extra_js=\"https://cdnjs.cloudflare.com/ajax/libs/cytoscape/3.21.2/cytoscape.umd.js\")"
   ]
  },
  {
   "cell_type": "markdown",
   "id": "10c710ac",
   "metadata": {},
   "source": [
    "# Initialize the System\n",
    "Specify the chemicals and the reactions"
   ]
  },
  {
   "cell_type": "code",
   "execution_count": 4,
   "id": "78077d8c",
   "metadata": {
    "tags": []
   },
   "outputs": [],
   "source": [
    "# Specify the chemicals\n",
    "chem_data = chem(names=[\"A\", \"B\"])\n",
    "\n",
    "# Reaction A <-> B , with 1st-order kinetics in both directions\n",
    "chem_data.add_reaction(reactants=[\"A\"], products=[\"B\"], \n",
    "                       forward_rate=3., reverse_rate=2.)"
   ]
  },
  {
   "cell_type": "code",
   "execution_count": 5,
   "id": "58433072",
   "metadata": {},
   "outputs": [
    {
     "name": "stdout",
     "output_type": "stream",
     "text": [
      "Number of reactions: 1 (at temp. 25 C)\n",
      "0: A <-> B  (kF = 3 / kR = 2 / Delta_G = -1,005.13 / K = 1.5) | 1st order in all reactants & products\n"
     ]
    }
   ],
   "source": [
    "chem_data.describe_reactions()"
   ]
  },
  {
   "cell_type": "code",
   "execution_count": 6,
   "id": "373afeb1",
   "metadata": {},
   "outputs": [
    {
     "name": "stdout",
     "output_type": "stream",
     "text": [
      "[GRAPHIC ELEMENT SENT TO LOG FILE `react_2.log.htm`]\n"
     ]
    }
   ],
   "source": [
    "# Send a plot of the network of reactions to the HTML log file\n",
    "graph_data = chem_data.prepare_graph_network()\n",
    "GraphicLog.export_plot(graph_data, \"vue_cytoscape_1\")"
   ]
  },
  {
   "cell_type": "markdown",
   "id": "e0529a0c",
   "metadata": {},
   "source": [
    "# Start the simulation"
   ]
  },
  {
   "cell_type": "code",
   "execution_count": 7,
   "id": "f9736433",
   "metadata": {},
   "outputs": [],
   "source": [
    "dynamics = ReactionDynamics(reaction_data=chem_data)"
   ]
  },
  {
   "cell_type": "code",
   "execution_count": 8,
   "id": "9fc3948d",
   "metadata": {},
   "outputs": [
    {
     "name": "stdout",
     "output_type": "stream",
     "text": [
      "SYSTEM STATE at Time t = 0:\n",
      "2 species:\n",
      "  Species 0 (A). Conc: 10.0\n",
      "  Species 1 (B). Conc: 50.0\n"
     ]
    }
   ],
   "source": [
    "# Initial concentrations of all the chemicals, in index order\n",
    "dynamics.set_conc([10., 50.])\n",
    "\n",
    "dynamics.describe_state()"
   ]
  },
  {
   "cell_type": "code",
   "execution_count": 9,
   "id": "0cc938cc",
   "metadata": {},
   "outputs": [
    {
     "data": {
      "text/html": [
       "<div>\n",
       "<style scoped>\n",
       "    .dataframe tbody tr th:only-of-type {\n",
       "        vertical-align: middle;\n",
       "    }\n",
       "\n",
       "    .dataframe tbody tr th {\n",
       "        vertical-align: top;\n",
       "    }\n",
       "\n",
       "    .dataframe thead th {\n",
       "        text-align: right;\n",
       "    }\n",
       "</style>\n",
       "<table border=\"1\" class=\"dataframe\">\n",
       "  <thead>\n",
       "    <tr style=\"text-align: right;\">\n",
       "      <th></th>\n",
       "      <th>SYSTEM TIME</th>\n",
       "      <th>A</th>\n",
       "      <th>B</th>\n",
       "      <th>caption</th>\n",
       "    </tr>\n",
       "  </thead>\n",
       "  <tbody>\n",
       "    <tr>\n",
       "      <th>0</th>\n",
       "      <td>0.0</td>\n",
       "      <td>10.0</td>\n",
       "      <td>50.0</td>\n",
       "      <td>Initial state</td>\n",
       "    </tr>\n",
       "  </tbody>\n",
       "</table>\n",
       "</div>"
      ],
      "text/plain": [
       "   SYSTEM TIME     A     B        caption\n",
       "0          0.0  10.0  50.0  Initial state"
      ]
     },
     "execution_count": 9,
     "metadata": {},
     "output_type": "execute_result"
    }
   ],
   "source": [
    "dynamics.get_history()"
   ]
  },
  {
   "cell_type": "markdown",
   "id": "987af2c5",
   "metadata": {
    "tags": []
   },
   "source": [
    "## Run the reaction"
   ]
  },
  {
   "cell_type": "code",
   "execution_count": 10,
   "id": "ad665050",
   "metadata": {},
   "outputs": [
    {
     "name": "stdout",
     "output_type": "stream",
     "text": [
      "INFO: the tentative time step (0.1) leads to a least one norm value > its ABORT threshold:\n",
      "      -> will backtrack, and re-do step with a SMALLER delta time of 0.05 [Step started at t=0, and will rewind there]\n",
      "INFO: the tentative time step (0.05) leads to a least one norm value > its ABORT threshold:\n",
      "      -> will backtrack, and re-do step with a SMALLER delta time of 0.025 [Step started at t=0, and will rewind there]\n",
      "INFO: the tentative time step (0.025) leads to a least one norm value > its ABORT threshold:\n",
      "      -> will backtrack, and re-do step with a SMALLER delta time of 0.0125 [Step started at t=0, and will rewind there]\n",
      "Some steps were backtracked and re-done, to prevent negative concentrations or excessively large concentration changes\n",
      "17 total step(s) taken\n"
     ]
    }
   ],
   "source": [
    "dynamics.set_diagnostics()       # To save diagnostic information about the call to single_compartment_react()\n",
    "\n",
    "# All of these are the currently the default values, but subject to change\n",
    "dynamics.set_thresholds(thresholds={\"low\": 0.5, \"high\": 0.8, \"abort\": 1.44, \"reduction_factor\": 2.})\n",
    "\n",
    "dynamics.single_compartment_react(initial_step=0.1, target_end_time=1.2,\n",
    "                                  variable_steps=True, \n",
    "                                  snapshots={\"initial_caption\": \"1st reaction step\",\n",
    "                                             \"final_caption\": \"last reaction step\"}\n",
    "                                  )"
   ]
  },
  {
   "cell_type": "markdown",
   "id": "2169c3b3",
   "metadata": {},
   "source": [
    "## The flag _variable_steps_ automatically adjusts up or down the time step,  whenever the changes of concentrations are, respectively, \"slow\" or \"fast\" (as determined using the specified _thresholds_ )"
   ]
  },
  {
   "cell_type": "code",
   "execution_count": 11,
   "id": "2d5df59c",
   "metadata": {},
   "outputs": [
    {
     "data": {
      "text/html": [
       "<div>\n",
       "<style scoped>\n",
       "    .dataframe tbody tr th:only-of-type {\n",
       "        vertical-align: middle;\n",
       "    }\n",
       "\n",
       "    .dataframe tbody tr th {\n",
       "        vertical-align: top;\n",
       "    }\n",
       "\n",
       "    .dataframe thead th {\n",
       "        text-align: right;\n",
       "    }\n",
       "</style>\n",
       "<table border=\"1\" class=\"dataframe\">\n",
       "  <thead>\n",
       "    <tr style=\"text-align: right;\">\n",
       "      <th></th>\n",
       "      <th>SYSTEM TIME</th>\n",
       "      <th>A</th>\n",
       "      <th>B</th>\n",
       "      <th>caption</th>\n",
       "    </tr>\n",
       "  </thead>\n",
       "  <tbody>\n",
       "    <tr>\n",
       "      <th>0</th>\n",
       "      <td>0.000000</td>\n",
       "      <td>10.000000</td>\n",
       "      <td>50.000000</td>\n",
       "      <td>Initial state</td>\n",
       "    </tr>\n",
       "    <tr>\n",
       "      <th>1</th>\n",
       "      <td>0.012500</td>\n",
       "      <td>10.875000</td>\n",
       "      <td>49.125000</td>\n",
       "      <td>1st reaction step</td>\n",
       "    </tr>\n",
       "    <tr>\n",
       "      <th>2</th>\n",
       "      <td>0.025000</td>\n",
       "      <td>11.695312</td>\n",
       "      <td>48.304688</td>\n",
       "      <td></td>\n",
       "    </tr>\n",
       "    <tr>\n",
       "      <th>3</th>\n",
       "      <td>0.043750</td>\n",
       "      <td>12.848877</td>\n",
       "      <td>47.151123</td>\n",
       "      <td></td>\n",
       "    </tr>\n",
       "    <tr>\n",
       "      <th>4</th>\n",
       "      <td>0.062500</td>\n",
       "      <td>13.894295</td>\n",
       "      <td>46.105705</td>\n",
       "      <td></td>\n",
       "    </tr>\n",
       "    <tr>\n",
       "      <th>5</th>\n",
       "      <td>0.081250</td>\n",
       "      <td>14.841705</td>\n",
       "      <td>45.158295</td>\n",
       "      <td></td>\n",
       "    </tr>\n",
       "    <tr>\n",
       "      <th>6</th>\n",
       "      <td>0.109375</td>\n",
       "      <td>16.129590</td>\n",
       "      <td>43.870410</td>\n",
       "      <td></td>\n",
       "    </tr>\n",
       "    <tr>\n",
       "      <th>7</th>\n",
       "      <td>0.123438</td>\n",
       "      <td>16.682978</td>\n",
       "      <td>43.317022</td>\n",
       "      <td></td>\n",
       "    </tr>\n",
       "    <tr>\n",
       "      <th>8</th>\n",
       "      <td>0.144531</td>\n",
       "      <td>17.454695</td>\n",
       "      <td>42.545305</td>\n",
       "      <td></td>\n",
       "    </tr>\n",
       "    <tr>\n",
       "      <th>9</th>\n",
       "      <td>0.176172</td>\n",
       "      <td>18.490183</td>\n",
       "      <td>41.509817</td>\n",
       "      <td></td>\n",
       "    </tr>\n",
       "    <tr>\n",
       "      <th>10</th>\n",
       "      <td>0.207813</td>\n",
       "      <td>19.361853</td>\n",
       "      <td>40.638147</td>\n",
       "      <td></td>\n",
       "    </tr>\n",
       "    <tr>\n",
       "      <th>11</th>\n",
       "      <td>0.255273</td>\n",
       "      <td>20.462507</td>\n",
       "      <td>39.537493</td>\n",
       "      <td></td>\n",
       "    </tr>\n",
       "    <tr>\n",
       "      <th>12</th>\n",
       "      <td>0.302734</td>\n",
       "      <td>21.301971</td>\n",
       "      <td>38.698029</td>\n",
       "      <td></td>\n",
       "    </tr>\n",
       "    <tr>\n",
       "      <th>13</th>\n",
       "      <td>0.373926</td>\n",
       "      <td>22.262353</td>\n",
       "      <td>37.737647</td>\n",
       "      <td></td>\n",
       "    </tr>\n",
       "    <tr>\n",
       "      <th>14</th>\n",
       "      <td>0.480713</td>\n",
       "      <td>23.190145</td>\n",
       "      <td>36.809855</td>\n",
       "      <td></td>\n",
       "    </tr>\n",
       "    <tr>\n",
       "      <th>15</th>\n",
       "      <td>0.640894</td>\n",
       "      <td>23.838760</td>\n",
       "      <td>36.161240</td>\n",
       "      <td></td>\n",
       "    </tr>\n",
       "    <tr>\n",
       "      <th>16</th>\n",
       "      <td>0.881165</td>\n",
       "      <td>24.032466</td>\n",
       "      <td>35.967534</td>\n",
       "      <td></td>\n",
       "    </tr>\n",
       "    <tr>\n",
       "      <th>17</th>\n",
       "      <td>1.241571</td>\n",
       "      <td>23.973961</td>\n",
       "      <td>36.026039</td>\n",
       "      <td>last reaction step</td>\n",
       "    </tr>\n",
       "  </tbody>\n",
       "</table>\n",
       "</div>"
      ],
      "text/plain": [
       "    SYSTEM TIME          A          B             caption\n",
       "0      0.000000  10.000000  50.000000       Initial state\n",
       "1      0.012500  10.875000  49.125000   1st reaction step\n",
       "2      0.025000  11.695312  48.304688                    \n",
       "3      0.043750  12.848877  47.151123                    \n",
       "4      0.062500  13.894295  46.105705                    \n",
       "5      0.081250  14.841705  45.158295                    \n",
       "6      0.109375  16.129590  43.870410                    \n",
       "7      0.123438  16.682978  43.317022                    \n",
       "8      0.144531  17.454695  42.545305                    \n",
       "9      0.176172  18.490183  41.509817                    \n",
       "10     0.207813  19.361853  40.638147                    \n",
       "11     0.255273  20.462507  39.537493                    \n",
       "12     0.302734  21.301971  38.698029                    \n",
       "13     0.373926  22.262353  37.737647                    \n",
       "14     0.480713  23.190145  36.809855                    \n",
       "15     0.640894  23.838760  36.161240                    \n",
       "16     0.881165  24.032466  35.967534                    \n",
       "17     1.241571  23.973961  36.026039  last reaction step"
      ]
     },
     "execution_count": 11,
     "metadata": {},
     "output_type": "execute_result"
    }
   ],
   "source": [
    "df = dynamics.get_history()   # The system's history, saved during the run of single_compartment_react()\n",
    "df"
   ]
  },
  {
   "cell_type": "code",
   "execution_count": 12,
   "id": "1092029f",
   "metadata": {},
   "outputs": [
    {
     "name": "stdout",
     "output_type": "stream",
     "text": [
      "From time 0 to 0.025, in 2 steps of 0.0125\n",
      "From time 0.025 to 0.08125, in 3 steps of 0.0188\n",
      "From time 0.08125 to 0.1094, in 1 step of 0.0281\n",
      "From time 0.1094 to 0.1234, in 1 step of 0.0141\n",
      "From time 0.1234 to 0.1445, in 1 step of 0.0211\n",
      "From time 0.1445 to 0.2078, in 2 steps of 0.0316\n",
      "From time 0.2078 to 0.3027, in 2 steps of 0.0475\n",
      "From time 0.3027 to 0.3739, in 1 step of 0.0712\n",
      "From time 0.3739 to 0.4807, in 1 step of 0.107\n",
      "From time 0.4807 to 0.6409, in 1 step of 0.16\n",
      "From time 0.6409 to 0.8812, in 1 step of 0.24\n",
      "From time 0.8812 to 1.242, in 1 step of 0.36\n"
     ]
    }
   ],
   "source": [
    "dynamics.explain_time_advance()"
   ]
  },
  {
   "cell_type": "markdown",
   "id": "edb7c015",
   "metadata": {
    "tags": []
   },
   "source": [
    "## Notice how the reaction proceeds in smaller steps in the early times, when [A] and [B] are changing much more rapidly\n",
    "### That resulted from passing the flag _variable_steps=True_ to single_compartment_react()"
   ]
  },
  {
   "cell_type": "markdown",
   "id": "766e8bba-3a15-461e-9bf6-9daf509197d5",
   "metadata": {
    "tags": []
   },
   "source": [
    "## Scrutinizing some instances of step-size changes"
   ]
  },
  {
   "cell_type": "markdown",
   "id": "6047485b",
   "metadata": {
    "tags": []
   },
   "source": [
    "### Detailed Example 1: **going from 0.1375 to 0.1875**    "
   ]
  },
  {
   "cell_type": "code",
   "execution_count": 13,
   "id": "d13ebde0-4f12-47f2-b5f0-28e0f7a8f6c0",
   "metadata": {},
   "outputs": [
    {
     "data": {
      "text/html": [
       "<div>\n",
       "<style scoped>\n",
       "    .dataframe tbody tr th:only-of-type {\n",
       "        vertical-align: middle;\n",
       "    }\n",
       "\n",
       "    .dataframe tbody tr th {\n",
       "        vertical-align: top;\n",
       "    }\n",
       "\n",
       "    .dataframe thead th {\n",
       "        text-align: right;\n",
       "    }\n",
       "</style>\n",
       "<table border=\"1\" class=\"dataframe\">\n",
       "  <thead>\n",
       "    <tr style=\"text-align: right;\">\n",
       "      <th></th>\n",
       "      <th>SYSTEM TIME</th>\n",
       "      <th>A</th>\n",
       "      <th>B</th>\n",
       "      <th>caption</th>\n",
       "    </tr>\n",
       "  </thead>\n",
       "  <tbody>\n",
       "    <tr>\n",
       "      <th>8</th>\n",
       "      <td>0.144531</td>\n",
       "      <td>17.454695</td>\n",
       "      <td>42.545305</td>\n",
       "      <td></td>\n",
       "    </tr>\n",
       "    <tr>\n",
       "      <th>9</th>\n",
       "      <td>0.176172</td>\n",
       "      <td>18.490183</td>\n",
       "      <td>41.509817</td>\n",
       "      <td></td>\n",
       "    </tr>\n",
       "  </tbody>\n",
       "</table>\n",
       "</div>"
      ],
      "text/plain": [
       "   SYSTEM TIME          A          B caption\n",
       "8     0.144531  17.454695  42.545305        \n",
       "9     0.176172  18.490183  41.509817        "
      ]
     },
     "execution_count": 13,
     "metadata": {},
     "output_type": "execute_result"
    }
   ],
   "source": [
    "lookup = dynamics.get_history(t_start=0.1375, t_end=0.1875)\n",
    "lookup"
   ]
  },
  {
   "cell_type": "code",
   "execution_count": 14,
   "id": "d7c7164a-0350-4549-874a-5084a04160a5",
   "metadata": {},
   "outputs": [
    {
     "ename": "KeyError",
     "evalue": "7",
     "output_type": "error",
     "traceback": [
      "\u001b[1;31m---------------------------------------------------------------------------\u001b[0m",
      "\u001b[1;31mKeyError\u001b[0m                                  Traceback (most recent call last)",
      "File \u001b[1;32mD:\\Docs\\- MY CODE\\BioSimulations\\life123-Win7\\venv\\lib\\site-packages\\pandas\\core\\indexes\\base.py:3621\u001b[0m, in \u001b[0;36mIndex.get_loc\u001b[1;34m(self, key, method, tolerance)\u001b[0m\n\u001b[0;32m   3620\u001b[0m \u001b[38;5;28;01mtry\u001b[39;00m:\n\u001b[1;32m-> 3621\u001b[0m     \u001b[38;5;28;01mreturn\u001b[39;00m \u001b[38;5;28;43mself\u001b[39;49m\u001b[38;5;241;43m.\u001b[39;49m\u001b[43m_engine\u001b[49m\u001b[38;5;241;43m.\u001b[39;49m\u001b[43mget_loc\u001b[49m\u001b[43m(\u001b[49m\u001b[43mcasted_key\u001b[49m\u001b[43m)\u001b[49m\n\u001b[0;32m   3622\u001b[0m \u001b[38;5;28;01mexcept\u001b[39;00m \u001b[38;5;167;01mKeyError\u001b[39;00m \u001b[38;5;28;01mas\u001b[39;00m err:\n",
      "File \u001b[1;32mD:\\Docs\\- MY CODE\\BioSimulations\\life123-Win7\\venv\\lib\\site-packages\\pandas\\_libs\\index.pyx:136\u001b[0m, in \u001b[0;36mpandas._libs.index.IndexEngine.get_loc\u001b[1;34m()\u001b[0m\n",
      "File \u001b[1;32mD:\\Docs\\- MY CODE\\BioSimulations\\life123-Win7\\venv\\lib\\site-packages\\pandas\\_libs\\index.pyx:163\u001b[0m, in \u001b[0;36mpandas._libs.index.IndexEngine.get_loc\u001b[1;34m()\u001b[0m\n",
      "File \u001b[1;32mpandas\\_libs\\hashtable_class_helper.pxi:2131\u001b[0m, in \u001b[0;36mpandas._libs.hashtable.Int64HashTable.get_item\u001b[1;34m()\u001b[0m\n",
      "File \u001b[1;32mpandas\\_libs\\hashtable_class_helper.pxi:2140\u001b[0m, in \u001b[0;36mpandas._libs.hashtable.Int64HashTable.get_item\u001b[1;34m()\u001b[0m\n",
      "\u001b[1;31mKeyError\u001b[0m: 7",
      "\nThe above exception was the direct cause of the following exception:\n",
      "\u001b[1;31mKeyError\u001b[0m                                  Traceback (most recent call last)",
      "Input \u001b[1;32mIn [14]\u001b[0m, in \u001b[0;36m<cell line: 1>\u001b[1;34m()\u001b[0m\n\u001b[1;32m----> 1\u001b[0m delta_concentrations \u001b[38;5;241m=\u001b[39m \u001b[43mdynamics\u001b[49m\u001b[38;5;241;43m.\u001b[39;49m\u001b[43mextract_delta_concentrations\u001b[49m\u001b[43m(\u001b[49m\u001b[43mlookup\u001b[49m\u001b[43m,\u001b[49m\u001b[43m \u001b[49m\u001b[38;5;241;43m7\u001b[39;49m\u001b[43m,\u001b[49m\u001b[43m \u001b[49m\u001b[38;5;241;43m8\u001b[39;49m\u001b[43m,\u001b[49m\u001b[43m \u001b[49m\u001b[43m[\u001b[49m\u001b[38;5;124;43m'\u001b[39;49m\u001b[38;5;124;43mA\u001b[39;49m\u001b[38;5;124;43m'\u001b[39;49m\u001b[43m,\u001b[49m\u001b[43m \u001b[49m\u001b[38;5;124;43m'\u001b[39;49m\u001b[38;5;124;43mB\u001b[39;49m\u001b[38;5;124;43m'\u001b[39;49m\u001b[43m]\u001b[49m\u001b[43m)\u001b[49m\n\u001b[0;32m      2\u001b[0m delta_concentrations\n",
      "File \u001b[1;32mD:\\Docs\\- MY CODE\\BioSimulations\\life123-Win7\\src\\modules\\reactions\\reaction_dynamics.py:2353\u001b[0m, in \u001b[0;36mReactionDynamics.extract_delta_concentrations\u001b[1;34m(self, df, row_from, row_to, chem_list)\u001b[0m\n\u001b[0;32m   2340\u001b[0m \u001b[38;5;28;01mdef\u001b[39;00m \u001b[38;5;21mextract_delta_concentrations\u001b[39m(\u001b[38;5;28mself\u001b[39m, df, row_from: \u001b[38;5;28mint\u001b[39m, row_to: \u001b[38;5;28mint\u001b[39m, chem_list: [\u001b[38;5;28mstr\u001b[39m]) \u001b[38;5;241m-\u001b[39m\u001b[38;5;241m>\u001b[39m np\u001b[38;5;241m.\u001b[39marray:\n\u001b[0;32m   2341\u001b[0m     \u001b[38;5;124;03m\"\"\"\u001b[39;00m\n\u001b[0;32m   2342\u001b[0m \u001b[38;5;124;03m    Extract the concentration changes of the specified chemical species from a Pandas dataframe\u001b[39;00m\n\u001b[0;32m   2343\u001b[0m \u001b[38;5;124;03m    of concentration values\u001b[39;00m\n\u001b[1;32m   (...)\u001b[0m\n\u001b[0;32m   2351\u001b[0m \u001b[38;5;124;03m    :return:\u001b[39;00m\n\u001b[0;32m   2352\u001b[0m \u001b[38;5;124;03m    \"\"\"\u001b[39;00m\n\u001b[1;32m-> 2353\u001b[0m     from_values \u001b[38;5;241m=\u001b[39m \u001b[43mdf\u001b[49m\u001b[38;5;241;43m.\u001b[39;49m\u001b[43mloc\u001b[49m\u001b[43m[\u001b[49m\u001b[43mrow_from\u001b[49m\u001b[43m]\u001b[49m[chem_list]\n\u001b[0;32m   2354\u001b[0m     to_values \u001b[38;5;241m=\u001b[39m df\u001b[38;5;241m.\u001b[39mloc[row_to][chem_list]\n\u001b[0;32m   2355\u001b[0m     \u001b[38;5;28;01mreturn\u001b[39;00m (to_values \u001b[38;5;241m-\u001b[39m from_values)\u001b[38;5;241m.\u001b[39mastype(\u001b[38;5;28mfloat\u001b[39m)\u001b[38;5;241m.\u001b[39mto_numpy()\n",
      "File \u001b[1;32mD:\\Docs\\- MY CODE\\BioSimulations\\life123-Win7\\venv\\lib\\site-packages\\pandas\\core\\indexing.py:967\u001b[0m, in \u001b[0;36m_LocationIndexer.__getitem__\u001b[1;34m(self, key)\u001b[0m\n\u001b[0;32m    964\u001b[0m axis \u001b[38;5;241m=\u001b[39m \u001b[38;5;28mself\u001b[39m\u001b[38;5;241m.\u001b[39maxis \u001b[38;5;129;01mor\u001b[39;00m \u001b[38;5;241m0\u001b[39m\n\u001b[0;32m    966\u001b[0m maybe_callable \u001b[38;5;241m=\u001b[39m com\u001b[38;5;241m.\u001b[39mapply_if_callable(key, \u001b[38;5;28mself\u001b[39m\u001b[38;5;241m.\u001b[39mobj)\n\u001b[1;32m--> 967\u001b[0m \u001b[38;5;28;01mreturn\u001b[39;00m \u001b[38;5;28;43mself\u001b[39;49m\u001b[38;5;241;43m.\u001b[39;49m\u001b[43m_getitem_axis\u001b[49m\u001b[43m(\u001b[49m\u001b[43mmaybe_callable\u001b[49m\u001b[43m,\u001b[49m\u001b[43m \u001b[49m\u001b[43maxis\u001b[49m\u001b[38;5;241;43m=\u001b[39;49m\u001b[43maxis\u001b[49m\u001b[43m)\u001b[49m\n",
      "File \u001b[1;32mD:\\Docs\\- MY CODE\\BioSimulations\\life123-Win7\\venv\\lib\\site-packages\\pandas\\core\\indexing.py:1202\u001b[0m, in \u001b[0;36m_LocIndexer._getitem_axis\u001b[1;34m(self, key, axis)\u001b[0m\n\u001b[0;32m   1200\u001b[0m \u001b[38;5;66;03m# fall thru to straight lookup\u001b[39;00m\n\u001b[0;32m   1201\u001b[0m \u001b[38;5;28mself\u001b[39m\u001b[38;5;241m.\u001b[39m_validate_key(key, axis)\n\u001b[1;32m-> 1202\u001b[0m \u001b[38;5;28;01mreturn\u001b[39;00m \u001b[38;5;28;43mself\u001b[39;49m\u001b[38;5;241;43m.\u001b[39;49m\u001b[43m_get_label\u001b[49m\u001b[43m(\u001b[49m\u001b[43mkey\u001b[49m\u001b[43m,\u001b[49m\u001b[43m \u001b[49m\u001b[43maxis\u001b[49m\u001b[38;5;241;43m=\u001b[39;49m\u001b[43maxis\u001b[49m\u001b[43m)\u001b[49m\n",
      "File \u001b[1;32mD:\\Docs\\- MY CODE\\BioSimulations\\life123-Win7\\venv\\lib\\site-packages\\pandas\\core\\indexing.py:1153\u001b[0m, in \u001b[0;36m_LocIndexer._get_label\u001b[1;34m(self, label, axis)\u001b[0m\n\u001b[0;32m   1151\u001b[0m \u001b[38;5;28;01mdef\u001b[39;00m \u001b[38;5;21m_get_label\u001b[39m(\u001b[38;5;28mself\u001b[39m, label, axis: \u001b[38;5;28mint\u001b[39m):\n\u001b[0;32m   1152\u001b[0m     \u001b[38;5;66;03m# GH#5667 this will fail if the label is not present in the axis.\u001b[39;00m\n\u001b[1;32m-> 1153\u001b[0m     \u001b[38;5;28;01mreturn\u001b[39;00m \u001b[38;5;28;43mself\u001b[39;49m\u001b[38;5;241;43m.\u001b[39;49m\u001b[43mobj\u001b[49m\u001b[38;5;241;43m.\u001b[39;49m\u001b[43mxs\u001b[49m\u001b[43m(\u001b[49m\u001b[43mlabel\u001b[49m\u001b[43m,\u001b[49m\u001b[43m \u001b[49m\u001b[43maxis\u001b[49m\u001b[38;5;241;43m=\u001b[39;49m\u001b[43maxis\u001b[49m\u001b[43m)\u001b[49m\n",
      "File \u001b[1;32mD:\\Docs\\- MY CODE\\BioSimulations\\life123-Win7\\venv\\lib\\site-packages\\pandas\\core\\generic.py:3864\u001b[0m, in \u001b[0;36mNDFrame.xs\u001b[1;34m(self, key, axis, level, drop_level)\u001b[0m\n\u001b[0;32m   3862\u001b[0m             new_index \u001b[38;5;241m=\u001b[39m index[loc]\n\u001b[0;32m   3863\u001b[0m \u001b[38;5;28;01melse\u001b[39;00m:\n\u001b[1;32m-> 3864\u001b[0m     loc \u001b[38;5;241m=\u001b[39m \u001b[43mindex\u001b[49m\u001b[38;5;241;43m.\u001b[39;49m\u001b[43mget_loc\u001b[49m\u001b[43m(\u001b[49m\u001b[43mkey\u001b[49m\u001b[43m)\u001b[49m\n\u001b[0;32m   3866\u001b[0m     \u001b[38;5;28;01mif\u001b[39;00m \u001b[38;5;28misinstance\u001b[39m(loc, np\u001b[38;5;241m.\u001b[39mndarray):\n\u001b[0;32m   3867\u001b[0m         \u001b[38;5;28;01mif\u001b[39;00m loc\u001b[38;5;241m.\u001b[39mdtype \u001b[38;5;241m==\u001b[39m np\u001b[38;5;241m.\u001b[39mbool_:\n",
      "File \u001b[1;32mD:\\Docs\\- MY CODE\\BioSimulations\\life123-Win7\\venv\\lib\\site-packages\\pandas\\core\\indexes\\base.py:3623\u001b[0m, in \u001b[0;36mIndex.get_loc\u001b[1;34m(self, key, method, tolerance)\u001b[0m\n\u001b[0;32m   3621\u001b[0m     \u001b[38;5;28;01mreturn\u001b[39;00m \u001b[38;5;28mself\u001b[39m\u001b[38;5;241m.\u001b[39m_engine\u001b[38;5;241m.\u001b[39mget_loc(casted_key)\n\u001b[0;32m   3622\u001b[0m \u001b[38;5;28;01mexcept\u001b[39;00m \u001b[38;5;167;01mKeyError\u001b[39;00m \u001b[38;5;28;01mas\u001b[39;00m err:\n\u001b[1;32m-> 3623\u001b[0m     \u001b[38;5;28;01mraise\u001b[39;00m \u001b[38;5;167;01mKeyError\u001b[39;00m(key) \u001b[38;5;28;01mfrom\u001b[39;00m \u001b[38;5;21;01merr\u001b[39;00m\n\u001b[0;32m   3624\u001b[0m \u001b[38;5;28;01mexcept\u001b[39;00m \u001b[38;5;167;01mTypeError\u001b[39;00m:\n\u001b[0;32m   3625\u001b[0m     \u001b[38;5;66;03m# If we have a listlike key, _check_indexing_error will raise\u001b[39;00m\n\u001b[0;32m   3626\u001b[0m     \u001b[38;5;66;03m#  InvalidIndexError. Otherwise we fall through and re-raise\u001b[39;00m\n\u001b[0;32m   3627\u001b[0m     \u001b[38;5;66;03m#  the TypeError.\u001b[39;00m\n\u001b[0;32m   3628\u001b[0m     \u001b[38;5;28mself\u001b[39m\u001b[38;5;241m.\u001b[39m_check_indexing_error(key)\n",
      "\u001b[1;31mKeyError\u001b[0m: 7"
     ]
    }
   ],
   "source": [
    "delta_concentrations = dynamics.extract_delta_concentrations(lookup, 7, 8, ['A', 'B'])\n",
    "delta_concentrations"
   ]
  },
  {
   "cell_type": "markdown",
   "id": "2127ef7d",
   "metadata": {},
   "source": [
    "As expected by the 1:1 stoichiometry, delta_A = - delta_B\n",
    "\n",
    "The above values coud also be looked up from the diagnostic data, since we only have 1 reaction:"
   ]
  },
  {
   "cell_type": "code",
   "execution_count": null,
   "id": "0ffe1206-5528-4f6e-8dc8-8a8bc450a8e5",
   "metadata": {},
   "outputs": [],
   "source": [
    "rxn_data = dynamics.get_diagnostic_rxn_data(rxn_index=0)"
   ]
  },
  {
   "cell_type": "code",
   "execution_count": null,
   "id": "8e245671-84e5-4e20-92f1-cd28191c6343",
   "metadata": {},
   "outputs": [],
   "source": [
    "rxn_data[0:12]"
   ]
  },
  {
   "cell_type": "code",
   "execution_count": null,
   "id": "b9294929-9096-4e7a-84c6-3ff492e334fe",
   "metadata": {},
   "outputs": [],
   "source": [
    "delta_row = dynamics.get_diagnostic_rxn_data(rxn_index=0, t=0.1375) # Locate the row with the interval's start time\n",
    "delta_row"
   ]
  },
  {
   "cell_type": "code",
   "execution_count": null,
   "id": "53e62512-9865-4d65-a547-4e719d54033f",
   "metadata": {},
   "outputs": [],
   "source": [
    "delta_row[[\"Delta A\", \"Delta B\"]].to_numpy()   # Gives same value as delta_concentrations, above"
   ]
  },
  {
   "cell_type": "code",
   "execution_count": null,
   "id": "f33671d5-0380-44cf-adbd-480a3f9c66d4",
   "metadata": {},
   "outputs": [],
   "source": [
    "adjusted_L2_rate = dynamics.norm_A(delta_concentrations)  # A measure of how large delta_concentrations is\n",
    "adjusted_L2_rate"
   ]
  },
  {
   "cell_type": "code",
   "execution_count": null,
   "id": "5b1a9eed-21e0-4896-ad01-b710fcd7a720",
   "metadata": {},
   "outputs": [],
   "source": [
    "dynamics.adjust_speed(delta_concentrations)"
   ]
  },
  {
   "cell_type": "markdown",
   "id": "cc004982-4c9e-43c9-883d-05827e1b02e8",
   "metadata": {},
   "source": [
    "#### The above conclusion is that the step will be **HALVED** at the next round : that's because the adjusted_L2_rate > the \"high\" value given in the argument _thresholds={\"low\": 0.5, \"high\": 0.8, \"abort\": 1.44, \"reduction_factor\": 2.}_ , and the and the step_determiner() function returned 0.5"
   ]
  },
  {
   "cell_type": "markdown",
   "id": "1dac7bdd-63fe-4a5d-95ad-12ae178610ca",
   "metadata": {
    "tags": []
   },
   "source": [
    "### Detailed Example 2: **going from 0.1875 to 0.2125**   "
   ]
  },
  {
   "cell_type": "code",
   "execution_count": null,
   "id": "546deb76-bd51-41a0-b082-5ef671d565c9",
   "metadata": {},
   "outputs": [],
   "source": [
    "lookup = dynamics.get_history(t_start=0.1875, t_end=0.2125)\n",
    "lookup"
   ]
  },
  {
   "cell_type": "code",
   "execution_count": null,
   "id": "5c78a7c7-573d-4d8a-a737-8a6ba475f17c",
   "metadata": {},
   "outputs": [],
   "source": [
    "delta_concentrations = dynamics.extract_delta_concentrations(lookup, 8, 9, ['A', 'B'])\n",
    "delta_concentrations"
   ]
  },
  {
   "cell_type": "markdown",
   "id": "fe0d44a2-6aa3-433d-9e4c-94084d43a0cf",
   "metadata": {},
   "source": [
    "Note how substantially smaller _delta_concentrations_ is, compared to the previous example"
   ]
  },
  {
   "cell_type": "code",
   "execution_count": null,
   "id": "955cd624-9c5f-43e2-af00-341a6c26dbb7",
   "metadata": {},
   "outputs": [],
   "source": [
    "adjusted_L2_rate = dynamics.norm_A(delta_concentrations)  # A measure of how large delta_concentrations is\n",
    "adjusted_L2_rate"
   ]
  },
  {
   "cell_type": "code",
   "execution_count": null,
   "id": "7c80b15c-0567-412f-9a9c-2197c63405a7",
   "metadata": {},
   "outputs": [],
   "source": [
    "dynamics.adjust_speed(delta_concentrations)"
   ]
  },
  {
   "cell_type": "markdown",
   "id": "751da240-c410-4bed-8d1f-4847d42aba4a",
   "metadata": {},
   "source": [
    "#### The above conclusion is that the step will be **DOUBLED** at the next round : that's because the adjusted_L2_rate < the \"low\" value given in the argument _thresholds={\"low\": 0.5}_ , and the step_determiner() function returned 2"
   ]
  },
  {
   "cell_type": "markdown",
   "id": "6deca814",
   "metadata": {},
   "source": [
    "# Check the final equilibrium"
   ]
  },
  {
   "cell_type": "code",
   "execution_count": null,
   "id": "23c4b3ba",
   "metadata": {},
   "outputs": [],
   "source": [
    "# Verify that the reaction has reached equilibrium\n",
    "dynamics.is_in_equilibrium()"
   ]
  },
  {
   "cell_type": "markdown",
   "id": "03866901",
   "metadata": {
    "tags": []
   },
   "source": [
    "# Plots of changes of concentration with time"
   ]
  },
  {
   "cell_type": "code",
   "execution_count": null,
   "id": "4aa218e3-e8de-4762-9a60-b727a833f2d4",
   "metadata": {},
   "outputs": [],
   "source": [
    "dynamics.plot_curves(colors=['blue', 'orange'])"
   ]
  },
  {
   "cell_type": "markdown",
   "id": "306e3db7",
   "metadata": {},
   "source": [
    "## Note how the left-hand side of this plot is much smoother than it was in experiment `react_1`, where no adaptive time steps were used!"
   ]
  },
  {
   "cell_type": "code",
   "execution_count": null,
   "id": "6b033cc7-078f-4b94-a466-1aa91e2fca4d",
   "metadata": {},
   "outputs": [],
   "source": [
    "dynamics.plot_curves(colors=['blue', 'orange'], show_intervals=True)"
   ]
  },
  {
   "cell_type": "markdown",
   "id": "6b96283e-20d8-4256-b857-2e328923e942",
   "metadata": {},
   "source": [
    "#### Compare the above with the fixed step sizes (always 0.1) of experiment `react_1`"
   ]
  },
  {
   "cell_type": "code",
   "execution_count": null,
   "id": "039e5eab-53bf-4bfb-b68b-e83f399490c5",
   "metadata": {},
   "outputs": [],
   "source": [
    "dynamics.plot_step_sizes(show_intervals=True)"
   ]
  },
  {
   "cell_type": "markdown",
   "id": "317b8747",
   "metadata": {},
   "source": [
    "# Diagnostics of the run may be investigated as follows:  \n",
    "_(note - this is possible because we make a call to set_diagnostics() prior to running the simulation)_"
   ]
  },
  {
   "cell_type": "code",
   "execution_count": null,
   "id": "04c04327",
   "metadata": {},
   "outputs": [],
   "source": [
    "dynamics.get_diagnostic_conc_data()   # This will be complete, even if we only saved part of the history during the run"
   ]
  },
  {
   "cell_type": "code",
   "execution_count": null,
   "id": "2144da8f-498a-4954-8a51-a0e606055979",
   "metadata": {},
   "outputs": [],
   "source": [
    "dynamics.get_diagnostic_rxn_data(rxn_index=0)      # For the 0-th reaction (the only reaction in our case)"
   ]
  },
  {
   "cell_type": "markdown",
   "id": "3712a55c-f0a7-4084-81ba-04cff117799b",
   "metadata": {},
   "source": [
    "### Note that diagnostic data with the DELTA Concentrations - above and below - also record the values that were considered (but not actually used) during ABORTED steps"
   ]
  },
  {
   "cell_type": "code",
   "execution_count": null,
   "id": "98515b8d",
   "metadata": {},
   "outputs": [],
   "source": [
    "dynamics.get_diagnostic_decisions_data()"
   ]
  },
  {
   "cell_type": "code",
   "execution_count": null,
   "id": "3792d78d-7429-4221-a263-57b07d77b5bc",
   "metadata": {},
   "outputs": [],
   "source": []
  }
 ],
 "metadata": {
  "kernelspec": {
   "display_name": "Python 3 (ipykernel)",
   "language": "python",
   "name": "python3"
  },
  "language_info": {
   "codemirror_mode": {
    "name": "ipython",
    "version": 3
   },
   "file_extension": ".py",
   "mimetype": "text/x-python",
   "name": "python",
   "nbconvert_exporter": "python",
   "pygments_lexer": "ipython3",
   "version": "3.8.10"
  }
 },
 "nbformat": 4,
 "nbformat_minor": 5
}
