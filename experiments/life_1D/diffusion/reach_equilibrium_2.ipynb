{
 "cells": [
  {
   "cell_type": "markdown",
   "id": "a40f6857",
   "metadata": {},
   "source": [
    "**Exploring reaching equilibrium, including a heatmap depiction of some of the steps**\n",
    "\n",
    "The system starts out with a pulse in bins near the *left* and the *right* endpoints\n",
    "\n",
    "**OUTPUT (incl. graphics):** overwritten into the file 'reach_equilibrium_2.htm'"
   ]
  },
  {
   "cell_type": "code",
   "execution_count": 1,
   "id": "99ab76d6",
   "metadata": {},
   "outputs": [
    {
     "name": "stdout",
     "output_type": "stream",
     "text": [
      "9 bins and 1 species: \n",
      "  Species 0. Diff rate: 0.1. Conc:  [ 0.  0. 10.  0.  0.  0. 10.  0.  0.]\n"
     ]
    }
   ],
   "source": [
    "from modules.chemicals.chemicals import Chemicals as chem\n",
    "from life_1D.bio_sim_1d import BioSim1D as bio\n",
    "from modules.html_log.html_log import HtmlLog as log\n",
    "\n",
    "\n",
    "# Initialize the system\n",
    "chem_data = chem(diffusion_rates=[0.1])\n",
    "bio.initialize_system(n_bins=9, chem_data=chem_data)\n",
    "\n",
    "bio.set_uniform_concentration(species_index=0, conc=0.)\n",
    "\n",
    "bio.inject_conc_to_bin(species_index=0, bin=2, delta_conc=10.)\n",
    "bio.inject_conc_to_bin(species_index=0, bin=6, delta_conc=10.)\n",
    "\n",
    "bio.describe_state(show_diffusion_rates=True)"
   ]
  },
  {
   "cell_type": "code",
   "execution_count": 2,
   "id": "f0620eb0",
   "metadata": {},
   "outputs": [
    {
     "name": "stdout",
     "output_type": "stream",
     "text": [
      "-> Output will be LOGGED into the file 'reach_equilibrium_2.htm'\n"
     ]
    }
   ],
   "source": [
    "# Note: paths are relative to the desired location of THE LOG FILE\n",
    "log.config(filename=\"reach_equilibrium_2.htm\", mode='overwrite',\n",
    "           use_D3=True,\n",
    "           Vue_lib = \"../../../modules/Vue2_lib/vue2.js\",\n",
    "           js = \"../../../modules/SVG_helper/svg_helper.js\",\n",
    "           css=\"../../../modules/visualization/D3_heatmap.css\")"
   ]
  },
  {
   "cell_type": "code",
   "execution_count": 3,
   "id": "972cbe64",
   "metadata": {},
   "outputs": [
    {
     "name": "stdout",
     "output_type": "stream",
     "text": [
      "\n",
      "\n",
      "1-D diffusion to equilibrium of a single species, with Diffusion rate 0.1. Time steps of 0.1\n",
      "Heatmap with linear scale in domain [1.5, 3.5]\n"
     ]
    }
   ],
   "source": [
    "delta_time = 3.\n",
    "\n",
    "total_time = 0.\n",
    "\n",
    "heatmap_pars = {\"range\": [1.5, 3.5],\n",
    "                \"outer_width\": 850, \"outer_height\": 50,\n",
    "                \"margins\": {\"top\": 10, \"right\": 30, \"bottom\": 18, \"left\": 30}\n",
    "                }\n",
    "\n",
    "log.write(\"1-D diffusion to equilibrium of a single species, with Diffusion rate 0.1. Time steps of 0.1\",\n",
    "          style=log.bold, blanks_before=2)\n",
    "log.write(f\"Heatmap with linear scale in domain {heatmap_pars['range']}\", style=log.color, style_par='#BBB')"
   ]
  },
  {
   "cell_type": "code",
   "execution_count": 4,
   "id": "ace251be",
   "metadata": {
    "scrolled": true
   },
   "outputs": [
    {
     "name": "stdout",
     "output_type": "stream",
     "text": [
      "Time 0.0\n",
      "After Delta time 3.0.  TOTAL TIME 3.0  (30 steps taken):\n",
      "[[0.27757451 1.74303541 5.96050983 1.76527256 0.5072154  1.76527256\n",
      "  5.96050983 1.74303541 0.27757451]]\n",
      "[[0.27757451 1.74303541 5.96050983 1.76527256 0.5072154  1.76527256\n",
      "  5.96050983 1.74303541 0.27757451]]\n",
      "Time 3.0\n",
      "After Delta time 3.0.  TOTAL TIME 6.0  (30 steps taken):\n",
      "[[0.73152765 2.1834153  4.18877184 2.28238941 1.22779161 2.28238941\n",
      "  4.18877184 2.1834153  0.73152765]]\n",
      "[[0.73152765 2.1834153  4.18877184 2.28238941 1.22779161 2.28238941\n",
      "  4.18877184 2.1834153  0.73152765]]\n",
      "Time 6.0\n",
      "After Delta time 3.0.  TOTAL TIME 9.0  (30 steps taken):\n",
      "[[1.12120196 2.24355388 3.33164561 2.4287678  1.7496615  2.4287678\n",
      "  3.33164561 2.24355388 1.12120196]]\n",
      "[[1.12120196 2.24355388 3.33164561 2.4287678  1.7496615  2.4287678\n",
      "  3.33164561 2.24355388 1.12120196]]\n",
      "Time 9.0\n",
      "After Delta time 3.0.  TOTAL TIME 12.0  (30 steps taken):\n",
      "[[1.40992642 2.21285813 2.88112821 2.46180799 2.06855851 2.46180799\n",
      "  2.88112821 2.21285813 1.40992642]]\n",
      "[[1.40992642 2.21285813 2.88112821 2.46180799 2.06855851 2.46180799\n",
      "  2.88112821 2.21285813 1.40992642]]\n",
      "Time 12.0\n",
      "After Delta time 3.0.  TOTAL TIME 15.0  (30 steps taken):\n",
      "[[1.61375804 2.17517282 2.62918072 2.4582931  2.24719065 2.4582931\n",
      "  2.62918072 2.17517282 1.61375804]]\n",
      "[[1.61375804 2.17517282 2.62918072 2.4582931  2.24719065 2.4582931\n",
      "  2.62918072 2.17517282 1.61375804]]\n",
      "Time 15.0\n",
      "After Delta time 3.0.  TOTAL TIME 18.0  (30 steps taken):\n",
      "[[1.75622069 2.14971234 2.4820061  2.44230075 2.33952022 2.44230075\n",
      "  2.4820061  2.14971234 1.75622069]]\n",
      "[[1.75622069 2.14971234 2.4820061  2.44230075 2.33952022 2.44230075\n",
      "  2.4820061  2.14971234 1.75622069]]\n",
      "Time 18.0\n",
      "After Delta time 3.0.  TOTAL TIME 21.0  (30 steps taken):\n",
      "[[1.8567287  2.13705992 2.39331754 2.42217874 2.38143019 2.42217874\n",
      "  2.39331754 2.13705992 1.8567287 ]]\n",
      "[[1.8567287  2.13705992 2.39331754 2.42217874 2.38143019 2.42217874\n",
      "  2.39331754 2.13705992 1.8567287 ]]\n",
      "Time 21.0\n",
      "After Delta time 3.0.  TOTAL TIME 24.0  (30 steps taken):\n",
      "[[1.92909045 2.13366871 2.33854991 2.40125523 2.39487141 2.40125523\n",
      "  2.33854991 2.13366871 1.92909045]]\n",
      "[[1.92909045 2.13366871 2.33854991 2.40125523 2.39487141 2.40125523\n",
      "  2.33854991 2.13366871 1.92909045]]\n",
      "Time 24.0\n",
      "After Delta time 3.0.  TOTAL TIME 27.0  (30 steps taken):\n",
      "[[1.98256145 2.13602714 2.30397039 2.38102863 2.39282476 2.38102863\n",
      "  2.30397039 2.13602714 1.98256145]]\n",
      "[[1.98256145 2.13602714 2.30397039 2.38102863 2.39282476 2.38102863\n",
      "  2.30397039 2.13602714 1.98256145]]\n",
      "Time 27.0\n",
      "After Delta time 3.0.  TOTAL TIME 30.0  (30 steps taken):\n",
      "[[2.0231929  2.14155643 2.28163209 2.3622001  2.38283695 2.3622001\n",
      "  2.28163209 2.14155643 2.0231929 ]]\n",
      "[[2.0231929  2.14155643 2.28163209 2.3622001  2.38283695 2.3622001\n",
      "  2.28163209 2.14155643 2.0231929 ]]\n",
      "Time 30.0\n",
      "After Delta time 3.0.  TOTAL TIME 33.0  (30 steps taken):\n",
      "[[2.05491235 2.14857175 2.26683188 2.34506617 2.36923571 2.34506617\n",
      "  2.26683188 2.14857175 2.05491235]]\n",
      "[[2.05491235 2.14857175 2.26683188 2.34506617 2.36923571 2.34506617\n",
      "  2.26683188 2.14857175 2.05491235]]\n",
      "Time 33.0\n",
      "After Delta time 3.0.  TOTAL TIME 36.0  (30 steps taken):\n",
      "[[2.0802789  2.15604676 2.2567439  2.32970151 2.35445786 2.32970151\n",
      "  2.2567439  2.15604676 2.0802789 ]]\n",
      "[[2.0802789  2.15604676 2.2567439  2.32970151 2.35445786 2.32970151\n",
      "  2.2567439  2.15604676 2.0802789 ]]\n",
      "Time 36.0\n",
      "After Delta time 3.0.  TOTAL TIME 39.0  (30 steps taken):\n",
      "[[2.1009805  2.16339318 2.24965092 2.31605836 2.33983408 2.31605836\n",
      "  2.24965092 2.16339318 2.1009805 ]]\n",
      "[[2.1009805  2.16339318 2.24965092 2.31605836 2.33983408 2.31605836\n",
      "  2.24965092 2.16339318 2.1009805 ]]\n",
      "Time 39.0\n",
      "After Delta time 3.0.  TOTAL TIME 42.0  (30 steps taken):\n",
      "[[2.11815199 2.1702984  2.24449902 2.30402493 2.32605132 2.30402493\n",
      "  2.24449902 2.1702984  2.11815199]]\n",
      "[[2.11815199 2.1702984  2.24449902 2.30402493 2.32605132 2.30402493\n",
      "  2.24449902 2.1702984  2.11815199]]\n",
      "Time 42.0\n",
      "After Delta time 3.0.  TOTAL TIME 45.0  (30 steps taken):\n",
      "[[2.13257541 2.1766169  2.24063469 2.29346029 2.31342543 2.29346029\n",
      "  2.24063469 2.1766169  2.13257541]]\n",
      "[[2.13257541 2.1766169  2.24063469 2.29346029 2.31342543 2.29346029\n",
      "  2.24063469 2.1766169  2.13257541]]\n",
      "Time 45.0"
     ]
    }
   ],
   "source": [
    "bio.single_species_heatmap(species_index=0, heatmap_pars=heatmap_pars, header=f\"Time {total_time}\")\n",
    "\n",
    "for i in range(15):\n",
    "    status = bio.diffuse(time_duration=delta_time, time_step=0.1)\n",
    "    total_time += delta_time\n",
    "\n",
    "    print(f\"\\nAfter Delta time {delta_time}.  TOTAL TIME {total_time}  ({status['steps']} steps taken):\")\n",
    "    bio.describe_state(concise=True)\n",
    "\n",
    "    #if i<2 or i==6 or i>=14:\n",
    "    #    visualize_state(total_time)\n",
    "    bio.single_species_heatmap(species_index=0, heatmap_pars=heatmap_pars, header=f\"Time {total_time}\")\n"
   ]
  },
  {
   "cell_type": "code",
   "execution_count": null,
   "id": "6ade8189",
   "metadata": {},
   "outputs": [],
   "source": []
  }
 ],
 "metadata": {
  "kernelspec": {
   "display_name": "Python 3 (ipykernel)",
   "language": "python",
   "name": "python3"
  },
  "language_info": {
   "codemirror_mode": {
    "name": "ipython",
    "version": 3
   },
   "file_extension": ".py",
   "mimetype": "text/x-python",
   "name": "python",
   "nbconvert_exporter": "python",
   "pygments_lexer": "ipython3",
   "version": "3.7.3"
  },
  "toc-autonumbering": false,
  "toc-showcode": true,
  "toc-showmarkdowntxt": false
 },
 "nbformat": 4,
 "nbformat_minor": 5
}
