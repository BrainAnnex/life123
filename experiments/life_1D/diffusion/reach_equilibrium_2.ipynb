{
 "cells": [
  {
   "cell_type": "markdown",
   "id": "a40f6857",
   "metadata": {},
   "source": [
    "**Exploring reaching equilibrium**\n",
    "\n",
    "The system starts out with a pulse in bins near the *left* and the *right* endpoints\n",
    "\n",
    "OUTPUT (incl. graphics): overwritten into the .htm file with the same base name. Visualized with heatmaps and line curves.\n",
    "\n",
    "LAST REVISED: June 13, 2022"
   ]
  },
  {
   "cell_type": "code",
   "execution_count": 1,
   "id": "d142d450-f2af-42fa-9026-2b44919c5b40",
   "metadata": {},
   "outputs": [
    {
     "name": "stdout",
     "output_type": "stream",
     "text": [
      "Added 'D:\\Docs\\- MY CODE\\BioSimulations\\life123-Win7' to sys.path\n"
     ]
    }
   ],
   "source": [
    "import set_path\n",
    "set_path.add_ancestor_dir_to_syspath(3)  # The number of levels to go up \n",
    "                                         # to reach the project's home from the folder containing this notebook"
   ]
  },
  {
   "cell_type": "code",
   "execution_count": 2,
   "id": "9897632a-191c-4cdc-9bc2-a1143c2f0d36",
   "metadata": {},
   "outputs": [],
   "source": [
    "from life_1D.bio_sim_1d import BioSim1D as bio\n",
    "\n",
    "from experiments.get_notebook_info import get_notebook_basename\n",
    "\n",
    "from modules.chemicals.chemicals import Chemicals as chem\n",
    "from modules.html_log.html_log import HtmlLog as log\n",
    "from modules.visualization.graphic_log import GraphicLog"
   ]
  },
  {
   "cell_type": "code",
   "execution_count": 3,
   "id": "56c2a43d-d531-414e-921c-bf746c2ba991",
   "metadata": {},
   "outputs": [
    {
     "name": "stdout",
     "output_type": "stream",
     "text": [
      "-> Output will be LOGGED into the file 'reach_equilibrium_2.htm'\n"
     ]
    }
   ],
   "source": [
    "# Initialize the HTML logging\n",
    "log_file = get_notebook_basename() + \".htm\"    # Use the notebook base filename for the log file\n",
    "GraphicLog.config(filename=log_file,\n",
    "                  components=[\"vue_heatmap_11\", \"vue_curves_3\"],\n",
    "                  home_rel_path=\"../../..\")    # relative path is from the location of THE LOG FILE to the project's home"
   ]
  },
  {
   "cell_type": "code",
   "execution_count": 4,
   "id": "99ab76d6",
   "metadata": {},
   "outputs": [
    {
     "name": "stdout",
     "output_type": "stream",
     "text": [
      "9 bins and 1 species: \n",
      "  Species 0. Diff rate: 0.1. Conc:  [ 0.  0. 10.  0.  0.  0. 10.  0.  0.]\n",
      "1-D diffusion to equilibrium of a single species, with Diffusion rate 0.1. Time steps of 0.1\n"
     ]
    }
   ],
   "source": [
    "# Initialize the system\n",
    "chem_data = chem(diffusion_rates=[0.1])\n",
    "bio.initialize_system(n_bins=9, chem_data=chem_data)\n",
    "\n",
    "bio.set_uniform_concentration(species_index=0, conc=0.)\n",
    "\n",
    "bio.inject_conc_to_bin(species_index=0, bin=2, delta_conc=10.)\n",
    "bio.inject_conc_to_bin(species_index=0, bin=6, delta_conc=10.)\n",
    "\n",
    "bio.describe_state(show_diffusion_rates=True)\n",
    "\n",
    "log.write(\"1-D diffusion to equilibrium of a single species, with Diffusion rate 0.1. Time steps of 0.1\",\n",
    "          style=log.h2)"
   ]
  },
  {
   "cell_type": "code",
   "execution_count": 5,
   "id": "f14a35e1-83a5-42da-9258-89d9af0ffe31",
   "metadata": {},
   "outputs": [],
   "source": [
    "# Set the heatmap parameters\n",
    "heatmap_pars = {\"range\": [0, 2.5],\n",
    "                \"outer_width\": 850, \"outer_height\": 150,\n",
    "                \"margins\": {\"top\": 30, \"right\": 30, \"bottom\": 30, \"left\": 55}\n",
    "                }\n",
    "\n",
    "# Set the parameters of the line plots\n",
    "lineplot_pars = {\"range\": [0, 10],\n",
    "                \"outer_width\": 850, \"outer_height\": 250,\n",
    "                \"margins\": {\"top\": 30, \"right\": 30, \"bottom\": 30, \"left\": 55}\n",
    "                }"
   ]
  },
  {
   "cell_type": "code",
   "execution_count": 6,
   "id": "972cbe64",
   "metadata": {},
   "outputs": [],
   "source": [
    "delta_time = 3.\n",
    "\n",
    "total_time = 0."
   ]
  },
  {
   "cell_type": "code",
   "execution_count": 7,
   "id": "ace251be",
   "metadata": {
    "scrolled": true
   },
   "outputs": [
    {
     "name": "stdout",
     "output_type": "stream",
     "text": [
      "Time 0.0 :\n",
      "\n",
      "After Delta time 3.0.  TOTAL TIME 3.0  (30 steps taken):\n",
      "[[0.27757451 1.74303541 5.96050983 1.76527256 0.5072154  1.76527256\n",
      "  5.96050983 1.74303541 0.27757451]]\n",
      "Time 3.0\n",
      "\n",
      "After Delta time 3.0.  TOTAL TIME 6.0  (30 steps taken):\n",
      "[[0.73152765 2.1834153  4.18877184 2.28238941 1.22779161 2.28238941\n",
      "  4.18877184 2.1834153  0.73152765]]\n",
      "Time 6.0\n",
      "\n",
      "After Delta time 3.0.  TOTAL TIME 9.0  (30 steps taken):\n",
      "[[1.12120196 2.24355388 3.33164561 2.4287678  1.7496615  2.4287678\n",
      "  3.33164561 2.24355388 1.12120196]]\n",
      "Time 9.0\n",
      "\n",
      "After Delta time 3.0.  TOTAL TIME 12.0  (30 steps taken):\n",
      "[[1.40992642 2.21285813 2.88112821 2.46180799 2.06855851 2.46180799\n",
      "  2.88112821 2.21285813 1.40992642]]\n",
      "Time 12.0\n",
      "\n",
      "After Delta time 3.0.  TOTAL TIME 15.0  (30 steps taken):\n",
      "[[1.61375804 2.17517282 2.62918072 2.4582931  2.24719065 2.4582931\n",
      "  2.62918072 2.17517282 1.61375804]]\n",
      "Time 15.0\n",
      "\n",
      "After Delta time 3.0.  TOTAL TIME 18.0  (30 steps taken):\n",
      "[[1.75622069 2.14971234 2.4820061  2.44230075 2.33952022 2.44230075\n",
      "  2.4820061  2.14971234 1.75622069]]\n",
      "Time 18.0\n",
      "\n",
      "After Delta time 3.0.  TOTAL TIME 21.0  (30 steps taken):\n",
      "[[1.8567287  2.13705992 2.39331754 2.42217874 2.38143019 2.42217874\n",
      "  2.39331754 2.13705992 1.8567287 ]]\n",
      "Time 21.0\n",
      "\n",
      "After Delta time 3.0.  TOTAL TIME 24.0  (30 steps taken):\n",
      "[[1.92909045 2.13366871 2.33854991 2.40125523 2.39487141 2.40125523\n",
      "  2.33854991 2.13366871 1.92909045]]\n",
      "Time 24.0\n",
      "\n",
      "After Delta time 3.0.  TOTAL TIME 27.0  (30 steps taken):\n",
      "[[1.98256145 2.13602714 2.30397039 2.38102863 2.39282476 2.38102863\n",
      "  2.30397039 2.13602714 1.98256145]]\n",
      "Time 27.0\n",
      "\n",
      "After Delta time 3.0.  TOTAL TIME 30.0  (30 steps taken):\n",
      "[[2.0231929  2.14155643 2.28163209 2.3622001  2.38283695 2.3622001\n",
      "  2.28163209 2.14155643 2.0231929 ]]\n",
      "Time 30.0\n",
      "\n",
      "After Delta time 3.0.  TOTAL TIME 33.0  (30 steps taken):\n",
      "[[2.05491235 2.14857175 2.26683188 2.34506617 2.36923571 2.34506617\n",
      "  2.26683188 2.14857175 2.05491235]]\n",
      "Time 33.0\n",
      "\n",
      "After Delta time 3.0.  TOTAL TIME 36.0  (30 steps taken):\n",
      "[[2.0802789  2.15604676 2.2567439  2.32970151 2.35445786 2.32970151\n",
      "  2.2567439  2.15604676 2.0802789 ]]\n",
      "Time 36.0\n",
      "\n",
      "After Delta time 3.0.  TOTAL TIME 39.0  (30 steps taken):\n",
      "[[2.1009805  2.16339318 2.24965092 2.31605836 2.33983408 2.31605836\n",
      "  2.24965092 2.16339318 2.1009805 ]]\n",
      "Time 39.0\n",
      "\n",
      "After Delta time 3.0.  TOTAL TIME 42.0  (30 steps taken):\n",
      "[[2.11815199 2.1702984  2.24449902 2.30402493 2.32605132 2.30402493\n",
      "  2.24449902 2.1702984  2.11815199]]\n",
      "Time 42.0\n",
      "\n",
      "After Delta time 3.0.  TOTAL TIME 45.0  (30 steps taken):\n",
      "[[2.13257541 2.1766169  2.24063469 2.29346029 2.31342543 2.29346029\n",
      "  2.24063469 2.1766169  2.13257541]]\n",
      "Time 45.0\n"
     ]
    }
   ],
   "source": [
    "# Output a heatmap to the log file\n",
    "bio.single_species_heatmap(species_index=0, heatmap_pars=heatmap_pars, header=f\"Time {total_time} :\\n\", graphic_component=\"vue_heatmap_11\")\n",
    "# Output a line plot the log file\n",
    "bio.single_species_line_plot(species_index=0, plot_pars=lineplot_pars, graphic_component=\"vue_curves_3\")\n",
    "\n",
    "for i in range(15):\n",
    "    status = bio.diffuse(time_duration=delta_time, time_step=0.1)\n",
    "    total_time += delta_time\n",
    "\n",
    "    print(f\"\\nAfter Delta time {delta_time}.  TOTAL TIME {total_time}  ({status['steps']} steps taken):\")\n",
    "    bio.describe_state(concise=True)\n",
    "\n",
    "    #if i<2 or i==6 or i>=14:\n",
    "    bio.single_species_heatmap(species_index=0, heatmap_pars=heatmap_pars, header=f\"Time {total_time}\\n\", graphic_component=\"vue_heatmap_11\")\n",
    "    # Output a line plot the log file\n",
    "    bio.single_species_line_plot(species_index=0, plot_pars=lineplot_pars, graphic_component=\"vue_curves_3\")\n"
   ]
  },
  {
   "cell_type": "markdown",
   "id": "9470f6cb-6337-4219-8b7a-7f09273a944f",
   "metadata": {
    "tags": []
   },
   "source": [
    "**All cells now have essentially uniform concentration**"
   ]
  }
 ],
 "metadata": {
  "kernelspec": {
   "display_name": "Python 3 (ipykernel)",
   "language": "python",
   "name": "python3"
  },
  "language_info": {
   "codemirror_mode": {
    "name": "ipython",
    "version": 3
   },
   "file_extension": ".py",
   "mimetype": "text/x-python",
   "name": "python",
   "nbconvert_exporter": "python",
   "pygments_lexer": "ipython3",
   "version": "3.7.3"
  },
  "toc-autonumbering": false,
  "toc-showcode": true,
  "toc-showmarkdowntxt": false
 },
 "nbformat": 4,
 "nbformat_minor": 5
}
