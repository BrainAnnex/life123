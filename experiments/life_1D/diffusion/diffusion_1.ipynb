{
 "cells": [
  {
   "cell_type": "markdown",
   "id": "8382e30e-2fac-41f1-ae50-baf0fc9f4f22",
   "metadata": {},
   "source": [
    "**An initial concentration pulse (near the left edge of the system) moving towards equilibrium**\n",
    "\n",
    "The system starts out with a \"concentration pulse\" in bin 2 (the 3rd bin from the left) - i.e. that bin is initially the only one with a non-zero concentration of the only chemical species.\n",
    "Then the system is left undisturbed, and followed to equilibrium.\n",
    "\n",
    "**OUTPUT (incl. graphics):** overwritten into the .htm file with the same base name.  Visualized with heatmaps and line curves.\n",
    "\n",
    "LAST REVISED: July 13, 2022"
   ]
  },
  {
   "cell_type": "code",
   "execution_count": 1,
   "id": "24779840-3fd8-4bae-97f5-98c3891449b3",
   "metadata": {},
   "outputs": [
    {
     "name": "stdout",
     "output_type": "stream",
     "text": [
      "Added 'D:\\Docs\\- MY CODE\\BioSimulations\\life123-Win7' to sys.path\n"
     ]
    }
   ],
   "source": [
    "import set_path\n",
    "set_path.add_ancestor_dir_to_syspath(3)  # The number of levels to go up \n",
    "                                         # to reach the project's home from the folder containing this notebook"
   ]
  },
  {
   "cell_type": "code",
   "execution_count": 2,
   "id": "f56dee37-4187-410b-8daf-1f45f4587f14",
   "metadata": {},
   "outputs": [],
   "source": [
    "from life_1D.bio_sim_1d import BioSim1D as bio\n",
    "\n",
    "from experiments.get_notebook_info import get_notebook_basename\n",
    "\n",
    "from modules.chemicals.chemicals import Chemicals as chem\n",
    "from modules.html_log.html_log import HtmlLog as log\n",
    "from modules.visualization.graphic_log import GraphicLog"
   ]
  },
  {
   "cell_type": "code",
   "execution_count": 3,
   "id": "7a4dd331-d083-4929-b7f1-089f44776f85",
   "metadata": {},
   "outputs": [
    {
     "name": "stdout",
     "output_type": "stream",
     "text": [
      "-> Output will be LOGGED into the file 'diffusion_1.log.htm'\n"
     ]
    }
   ],
   "source": [
    "# Initialize the HTML logging\n",
    "log_file = get_notebook_basename() + \".log.htm\"    # Use the notebook base filename for the log file\n",
    "\n",
    "# Set up the use of some specified graphic (Vue) components\n",
    "GraphicLog.config(filename=log_file,\n",
    "                  components=[\"vue_heatmap_11\", \"vue_curves_3\"],\n",
    "                  home_rel_path=\"../../..\")    # relative path is from the location of THE LOG FILE to the project's home"
   ]
  },
  {
   "cell_type": "code",
   "execution_count": 4,
   "id": "01b3a969-5122-4c25-900b-ad6fba315553",
   "metadata": {},
   "outputs": [
    {
     "name": "stdout",
     "output_type": "stream",
     "text": [
      "1-D diffusion to equilibrium of a single species, with Diffusion rate 0.1\n"
     ]
    }
   ],
   "source": [
    "# Prepare the initial system\n",
    "chem_data = chem(diffusion_rates=[0.1])\n",
    "bio.initialize_system(n_bins=10, chem_data=chem_data)\n",
    "\n",
    "log.write(\"1-D diffusion to equilibrium of a single species, with Diffusion rate 0.1\",\n",
    "          style=log.h2)"
   ]
  },
  {
   "cell_type": "code",
   "execution_count": 5,
   "id": "8545be79-685e-4772-95fb-74e12321e27a",
   "metadata": {},
   "outputs": [
    {
     "name": "stdout",
     "output_type": "stream",
     "text": [
      "10 bins and 1 species:\n",
      "  Species 0. Diff rate: 0.1. Conc:  [ 0.  0. 10.  0.  0.  0.  0.  0.  0.  0.]\n"
     ]
    }
   ],
   "source": [
    "bio.set_uniform_concentration(species_index=0, conc=0.)\n",
    "bio.inject_conc_to_bin(bin=2, species_index=0, delta_conc=10.)\n",
    "\n",
    "bio.describe_state()"
   ]
  },
  {
   "cell_type": "code",
   "execution_count": 6,
   "id": "14b4a1c2-9854-41c6-b407-6008bb4738be",
   "metadata": {},
   "outputs": [],
   "source": [
    "# Set the heatmap parameters\n",
    "heatmap_pars = {\"range\": [0, 2.5],\n",
    "                \"outer_width\": 850, \"outer_height\": 150,\n",
    "                \"margins\": {\"top\": 30, \"right\": 30, \"bottom\": 30, \"left\": 55}\n",
    "                }\n",
    "\n",
    "# Set the parameters of the line plots\n",
    "lineplot_pars = {\"range\": [0, 10],\n",
    "                \"outer_width\": 850, \"outer_height\": 250,\n",
    "                \"margins\": {\"top\": 30, \"right\": 30, \"bottom\": 30, \"left\": 55}\n",
    "                }"
   ]
  },
  {
   "cell_type": "code",
   "execution_count": 7,
   "id": "d3097f06-8871-4379-8434-84b207d24b1a",
   "metadata": {},
   "outputs": [
    {
     "name": "stdout",
     "output_type": "stream",
     "text": [
      "\n",
      "\n",
      "Initial system state at time t=0:\n",
      "[Graphic element sent to log file]\n",
      "[Graphic element sent to log file]\n"
     ]
    }
   ],
   "source": [
    "log.write(\"Initial system state at time t=0:\", blanks_before=2, style=log.bold)\n",
    "\n",
    "# Output a heatmap to the log file\n",
    "bio.single_species_heatmap(species_index=0, heatmap_pars=heatmap_pars, graphic_component=\"vue_heatmap_11\")\n",
    "\n",
    "# Output a line plot the log file\n",
    "bio.single_species_line_plot(species_index=0, plot_pars=lineplot_pars, graphic_component=\"vue_curves_3\")"
   ]
  },
  {
   "cell_type": "code",
   "execution_count": 8,
   "id": "6e4f2edf-97e0-47dc-9640-2d7c4bca8a3b",
   "metadata": {},
   "outputs": [
    {
     "name": "stdout",
     "output_type": "stream",
     "text": [
      "\n",
      "\n",
      "Advancing to time t=10, with time steps of 0.1 ... "
     ]
    }
   ],
   "source": [
    "log.write(\"Advancing to time t=10, with time steps of 0.1 ... \", blanks_before=2, newline=False)"
   ]
  },
  {
   "cell_type": "code",
   "execution_count": 9,
   "id": "89cde412-b19a-429b-9d23-785df3e8c85f",
   "metadata": {},
   "outputs": [
    {
     "name": "stdout",
     "output_type": "stream",
     "text": [
      "\n",
      " {'steps': 100}\n",
      "After delta time 10.0.  TOTAL TIME 10.0  (100 steps taken):\n",
      "[[1.22598070e+00 2.22414009e+00 3.08221111e+00 2.15823525e+00\n",
      "  9.37782076e-01 2.88503658e-01 6.79378836e-02 1.28711509e-02\n",
      "  2.03304706e-03 3.05037621e-04]]\n"
     ]
    }
   ],
   "source": [
    "total_time = 0.\n",
    "delta_time = 10.\n",
    "\n",
    "status = bio.diffuse(time_duration=delta_time, time_step=0.1)\n",
    "print(\"\\n\", status)\n",
    "total_time += delta_time\n",
    "\n",
    "log.write(f\"After delta time {delta_time}.  TOTAL TIME {total_time}  ({status['steps']} steps taken):\")\n",
    "bio.describe_state(concise=True)"
   ]
  },
  {
   "cell_type": "code",
   "execution_count": 10,
   "id": "a5007d92-b757-4769-ad73-8849486ed244",
   "metadata": {},
   "outputs": [
    {
     "name": "stdout",
     "output_type": "stream",
     "text": [
      "[Graphic element sent to log file]\n",
      "[Graphic element sent to log file]\n"
     ]
    }
   ],
   "source": [
    "# Output a heatmap into the log file\n",
    "bio.single_species_heatmap(species_index=0, heatmap_pars=heatmap_pars, graphic_component=\"vue_heatmap_11\")\n",
    "\n",
    "# Output a line plot the log file\n",
    "bio.single_species_line_plot(species_index=0, plot_pars=lineplot_pars, graphic_component=\"vue_curves_3\")"
   ]
  },
  {
   "cell_type": "markdown",
   "id": "e7e88e5a-fc8b-4126-8649-d929f1d01c93",
   "metadata": {},
   "source": [
    "_Note: this is still an early stage in the diffusion process; let's advance it more... (Results at selected times plotted to log file)_\n",
    "---"
   ]
  },
  {
   "cell_type": "code",
   "execution_count": 11,
   "id": "28bfd5d1-39ab-4008-afb5-2de8390642a8",
   "metadata": {
    "tags": []
   },
   "outputs": [
    {
     "name": "stdout",
     "output_type": "stream",
     "text": [
      "\n",
      "After Delta time 10.0.  TOTAL TIME 20.0  (100 steps taken):\n",
      "[[1.79154498 2.04604996 2.15752876 1.81408657 1.18572897 0.61493163\n",
      "  0.26031377 0.09234937 0.02835038 0.00911562]]\n",
      "Time 20.0 :\n",
      "[Graphic element sent to log file]\n",
      "[Graphic element sent to log file]\n",
      "\n",
      "After Delta time 10.0.  TOTAL TIME 30.0  (100 steps taken):\n",
      "[[1.908894   1.93254508 1.86205856 1.60230147 1.1912129  0.75904212\n",
      "  0.41665574 0.19951697 0.08641213 0.04136102]]\n",
      "Time 30.0 :\n",
      "[Graphic element sent to log file]\n",
      "[Graphic element sent to log file]\n",
      "\n",
      "After Delta time 10.0.  TOTAL TIME 40.0  (100 steps taken):\n",
      "[[1.89162641 1.84625985 1.72030668 1.48693078 1.1664388  0.82118645\n",
      "  0.51779486 0.29499154 0.15846579 0.09599884]]\n",
      "\n",
      "After Delta time 10.0.  TOTAL TIME 50.0  (100 steps taken):\n",
      "[[1.83433746 1.76930884 1.63070397 1.41626323 1.14422761 0.85269498\n",
      "  0.58491221 0.37309998 0.2318666  0.16258513]]\n",
      "\n",
      "After Delta time 10.0.  TOTAL TIME 60.0  (100 steps taken):\n",
      "[[1.76697624 1.69877596 1.56309588 1.36661912 1.12701103 0.87222369\n",
      "  0.63367319 0.43785006 0.30151635 0.23225847]]\n",
      "\n",
      "After Delta time 10.0.  TOTAL TIME 70.0  (100 steps taken):\n",
      "[[1.69980096 1.63420894 1.50697719 1.32775575 1.11331789 0.8864918\n",
      "  0.67231694 0.49325804 0.36586375 0.30000873]]\n",
      "\n",
      "After Delta time 10.0.  TOTAL TIME 80.0  (100 steps taken):\n",
      "[[1.63637931 1.57533401 1.45817295 1.29515888 1.10189171 0.89806096\n",
      "  0.7048592  0.54188555 0.42468407 0.36357336]]\n",
      "Time 80.0 :\n",
      "[Graphic element sent to log file]\n",
      "[Graphic element sent to log file]\n",
      "\n",
      "After Delta time 10.0.  TOTAL TIME 90.0  (100 steps taken):\n",
      "[[1.57781285 1.52179206 1.41478512 1.26674457 1.09200065 0.90798758\n",
      "  0.73325992 0.58522943 0.47821243 0.42217538]]\n",
      "\n",
      "After Delta time 10.0.  TOTAL TIME 100.0  (100 steps taken):\n",
      "[[1.5242553  1.47317189 1.37581121 1.2414767  1.08324636 0.91675072\n",
      "  0.75852442 0.6241924  0.52682923 0.47574177]]\n",
      "\n",
      "After Delta time 10.0.  TOTAL TIME 110.0  (100 steps taken):\n",
      "[[1.47549769 1.42905472 1.34063054 1.21878187 1.07540452 0.92459475\n",
      "  0.78121841 0.65937036 0.57094556 0.52450158]]\n",
      "\n",
      "After Delta time 10.0.  TOTAL TIME 120.0  (100 steps taken):\n",
      "[[1.43120344 1.38903875 1.30879999 1.19829836 1.06833665 0.93166317\n",
      "  0.80170171 0.69120023 0.61096132 0.56879638]]\n",
      "\n",
      "After Delta time 10.0.  TOTAL TIME 130.0  (100 steps taken):\n",
      "[[1.39100434 1.35274953 1.27996855 1.17976686 1.06194682 0.93805314\n",
      "  0.82023316 0.72003151 0.64725048 0.60899562]]\n",
      "\n",
      "After Delta time 10.0.  TOTAL TIME 140.0  (100 steps taken):\n",
      "[[1.35453928 1.31984299 1.25383973 1.16298212 1.05616129 0.94383869\n",
      "  0.83701788 0.74616029 0.68015701 0.6454607 ]]\n",
      "\n",
      "After Delta time 10.0.  TOTAL TIME 150.0  (100 steps taken):\n",
      "[[1.32146906 1.29000514 1.23015414 1.14777111 1.0509191  0.9490809\n",
      "  0.8522289  0.76984587 0.70999486 0.67853094]]\n",
      "\n",
      "After Delta time 10.0.  TOTAL TIME 160.0  (100 steps taken):\n",
      "[[1.29148094 1.26295037 1.20868068 1.13398258 1.04616753 0.95383247\n",
      "  0.86601742 0.79131932 0.73704963 0.70851906]]\n",
      "\n",
      "After Delta time 10.0.  TOTAL TIME 170.0  (100 steps taken):\n",
      "[[1.26428912 1.23841937 1.18921159 1.1214819  1.04185994 0.95814006\n",
      "  0.8785181  0.81078841 0.76158063 0.73571088]]\n",
      "\n",
      "After Delta time 10.0.  TOTAL TIME 180.0  (100 steps taken):\n",
      "[[1.2396335  1.21617681 1.17155929 1.1101481  1.0379545  0.9620455\n",
      "  0.8898519  0.82844071 0.78382319 0.7603665 ]]\n",
      "\n",
      "After Delta time 10.0.  TOTAL TIME 190.0  (100 steps taken):\n",
      "[[1.21727779 1.19600926 1.15555401 1.09987193 1.03441355 0.96558645\n",
      "  0.90012807 0.84444599 0.80399074 0.78272221]]\n",
      "\n",
      "After Delta time 10.0.  TOTAL TIME 200.0  (100 steps taken):\n",
      "[[1.19700758 1.17772317 1.14104198 1.09055457 1.03120299 0.96879701\n",
      "  0.90944543 0.85895802 0.82227683 0.80299242]]\n",
      "\n",
      "After Delta time 10.0.  TOTAL TIME 210.0  (100 steps taken):\n",
      "[[1.17862837 1.16114301 1.12788385 1.08210651 1.02829198 0.97170802\n",
      "  0.91789349 0.87211615 0.83885699 0.82137163]]\n",
      "\n",
      "After Delta time 10.0.  TOTAL TIME 220.0  (100 steps taken):\n",
      "[[1.16196378 1.14610965 1.11595329 1.0744466  1.02565255 0.97434745\n",
      "  0.9255534  0.88404671 0.85389035 0.83803622]]\n",
      "\n",
      "After Delta time 10.0.  TOTAL TIME 230.0  (100 steps taken):\n",
      "[[1.14685385 1.13247878 1.10513576 1.06750132 1.02325937 0.97674063\n",
      "  0.93249868 0.89486424 0.86752122 0.85314615]]\n",
      "\n",
      "After Delta time 10.0.  TOTAL TIME 240.0  (100 steps taken):\n",
      "[[1.13315355 1.12011956 1.09532742 1.06120397 1.02108945 0.97891055\n",
      "  0.93879603 0.90467258 0.87988044 0.86684645]]\n",
      "\n",
      "After Delta time 10.0.  TOTAL TIME 250.0  (100 steps taken):\n",
      "[[1.12073138 1.10891335 1.08643413 1.05549413 1.01912197 0.98087803\n",
      "  0.94450587 0.91356587 0.89108665 0.87926862]]\n",
      "\n",
      "After Delta time 10.0.  TOTAL TIME 260.0  (100 steps taken):\n",
      "[[1.1094681  1.0987526  1.07837051 1.05031696 1.01733804 0.98266196\n",
      "  0.94968304 0.92162949 0.9012474  0.8905319 ]]\n",
      "\n",
      "After Delta time 10.0.  TOTAL TIME 270.0  (100 steps taken):\n",
      "[[1.09925559 1.08953976 1.07105916 1.04562279 1.01572054 0.98427946\n",
      "  0.95437721 0.92894084 0.91046024 0.90074441]]\n",
      "\n",
      "After Delta time 10.0.  TOTAL TIME 280.0  (100 steps taken):\n",
      "[[1.08999583 1.08118641 1.0644299  1.04136654 1.01425394 0.98574606\n",
      "  0.95863346 0.9355701  0.91881359 0.91000417]]\n",
      "\n",
      "After Delta time 10.0.  TOTAL TIME 290.0  (100 steps taken):\n",
      "[[1.08159993 1.07361236 1.0584191  1.03750737 1.01292416 0.98707584\n",
      "  0.96249263 0.9415809  0.92638764 0.91840007]]\n",
      "\n",
      "After Delta time 10.0.  TOTAL TIME 300.0  (100 steps taken):\n",
      "[[1.07398731 1.06674491 1.05296906 1.03400823 1.01171844 0.98828156\n",
      "  0.96599177 0.94703094 0.93325509 0.92601269]]\n",
      "\n",
      "After Delta time 10.0.  TOTAL TIME 310.0  (100 steps taken):\n",
      "[[1.06708488 1.06051814 1.04802747 1.03083553 1.0106252  0.9893748\n",
      "  0.96916447 0.95197253 0.93948186 0.93291512]]\n",
      "\n",
      "After Delta time 10.0.  TOTAL TIME 320.0  (100 steps taken):\n",
      "[[1.06082639 1.05487228 1.04354689 1.02795882 1.00963395 0.99036605\n",
      "  0.97204118 0.95645311 0.94512772 0.93917361]]\n",
      "\n",
      "After Delta time 10.0.  TOTAL TIME 330.0  (100 steps taken):\n",
      "[[1.05515177 1.04975313 1.03948431 1.02535049 1.00873518 0.99126482\n",
      "  0.97464951 0.96051569 0.95024687 0.94484823]]\n",
      "\n",
      "After Delta time 10.0.  TOTAL TIME 340.0  (100 steps taken):\n",
      "[[1.05000655 1.04511156 1.03580073 1.02298549 1.00792026 0.99207974\n",
      "  0.97701451 0.96419927 0.95488844 0.94999345]]\n",
      "\n",
      "After Delta time 10.0.  TOTAL TIME 350.0  (100 steps taken):\n",
      "[[1.04534133 1.04090301 1.03246081 1.02084112 1.00718136 0.99281864\n",
      "  0.97915888 0.96753919 0.95909699 0.95465867]]\n",
      "\n",
      "After Delta time 10.0.  TOTAL TIME 360.0  (100 steps taken):\n",
      "[[1.04111134 1.03708708 1.02943247 1.01889681 1.0065114  0.9934886\n",
      "  0.98110319 0.97056753 0.96291292 0.95888866]]\n",
      "\n",
      "After Delta time 10.0.  TOTAL TIME 370.0  (100 steps taken):\n",
      "[[1.03727598 1.03362715 1.02668666 1.01713389 1.00590394 0.99409606\n",
      "  0.98286611 0.97331334 0.96637285 0.96272402]]\n",
      "\n",
      "After Delta time 10.0.  TOTAL TIME 380.0  (100 steps taken):\n",
      "[[1.03379843 1.03049    1.024197   1.01553543 1.00535315 0.99464685\n",
      "  0.98446457 0.975803   0.96951    0.96620157]]\n",
      "\n",
      "After Delta time 10.0.  TOTAL TIME 390.0  (100 steps taken):\n",
      "[[1.0306453  1.02764553 1.02193961 1.0140861  1.00485374 0.99514626\n",
      "  0.9859139  0.97806039 0.97235447 0.9693547 ]]\n",
      "\n",
      "After Delta time 10.0.  TOTAL TIME 400.0  (100 steps taken):\n",
      "[[1.02778634 1.02506642 1.01989282 1.01277198 1.00440092 0.99559908\n",
      "  0.98722802 0.98010718 0.97493358 0.97221366]]\n",
      "\n",
      "After Delta time 10.0.  TOTAL TIME 410.0  (100 steps taken):\n",
      "[[1.02519409 1.02272792 1.01803698 1.01158045 1.00399035 0.99600965\n",
      "  0.98841955 0.98196302 0.97727208 0.97480591]]\n",
      "\n",
      "After Delta time 10.0.  TOTAL TIME 420.0  (100 steps taken):\n",
      "[[1.02284368 1.02060758 1.01635427 1.01050009 1.00361808 0.99638192\n",
      "  0.98949991 0.98364573 0.97939242 0.97715632]]\n",
      "\n",
      "After Delta time 10.0.  TOTAL TIME 430.0  (100 steps taken):\n",
      "[[1.02071255 1.01868506 1.01482855 1.00952051 1.00328055 0.99671945\n",
      "  0.99047949 0.98517145 0.98131494 0.97928745]]\n",
      "\n",
      "After Delta time 10.0.  TOTAL TIME 440.0  (100 steps taken):\n",
      "[[1.01878023 1.01694189 1.01344516 1.00863233 1.0029745  0.9970255\n",
      "  0.99136767 0.98655484 0.98305811 0.98121977]]\n",
      "\n",
      "After Delta time 10.0.  TOTAL TIME 450.0  (100 steps taken):\n",
      "[[1.01702819 1.01536135 1.01219083 1.007827   1.002697   0.997303\n",
      "  0.992173   0.98780917 0.98463865 0.98297181]]\n",
      "\n",
      "After Delta time 10.0.  TOTAL TIME 460.0  (100 steps taken):\n",
      "[[1.01543959 1.01392826 1.01105353 1.0070968  1.00244539 0.99755461\n",
      "  0.9929032  0.98894647 0.98607174 0.98456041]]\n",
      "\n",
      "After Delta time 10.0.  TOTAL TIME 470.0  (100 steps taken):\n",
      "[[1.0139992  1.01262886 1.01002232 1.00643473 1.00221726 0.99778274\n",
      "  0.99356527 0.98997768 0.98737114 0.9860008 ]]\n",
      "\n",
      "After Delta time 10.0.  TOTAL TIME 480.0  (100 steps taken):\n",
      "[[1.01269318 1.01145069 1.00908732 1.00583442 1.0020104  0.9979896\n",
      "  0.99416558 0.99091268 0.98854931 0.98730682]]\n",
      "\n",
      "After Delta time 10.0.  TOTAL TIME 490.0  (100 steps taken):\n",
      "[[1.01150901 1.01038243 1.00823954 1.00529011 1.00182285 0.99817715\n",
      "  0.99470989 0.99176046 0.98961757 0.98849099]]\n",
      "\n",
      "After Delta time 10.0.  TOTAL TIME 500.0  (100 steps taken):\n",
      "[[1.01043531 1.00941383 1.00747086 1.00479659 1.00165279 0.99834721\n",
      "  0.99520341 0.99252914 0.99058617 0.98956469]]\n",
      "\n",
      "After Delta time 10.0.  TOTAL TIME 510.0  (100 steps taken):\n",
      "[[1.00946178 1.00853559 1.00677389 1.0043491  1.0014986  0.9985014\n",
      "  0.9956509  0.99322611 0.99146441 0.99053822]]\n",
      "Time 510.0 :\n",
      "[Graphic element sent to log file]\n",
      "[Graphic element sent to log file]\n"
     ]
    }
   ],
   "source": [
    "for i in range(50):\n",
    "    status = bio.diffuse(time_duration=delta_time, time_step=0.1)\n",
    "    total_time += delta_time\n",
    "\n",
    "    print(f\"\\nAfter Delta time {delta_time}.  TOTAL TIME {total_time}  ({status['steps']} steps taken):\")\n",
    "    bio.describe_state(concise=True)\n",
    "\n",
    "    if i<2 or i==6 or i>=49:\n",
    "        # Output a heatmap to the log file\n",
    "        bio.single_species_heatmap(species_index=0, heatmap_pars=heatmap_pars, header=f\"Time {total_time} :\\n\", graphic_component=\"vue_heatmap_11\")\n",
    "        # Output a line plot the log file\n",
    "        bio.single_species_line_plot(species_index=0, plot_pars=lineplot_pars, graphic_component=\"vue_curves_3\")\n"
   ]
  }
 ],
 "metadata": {
  "kernelspec": {
   "display_name": "Python 3 (ipykernel)",
   "language": "python",
   "name": "python3"
  },
  "language_info": {
   "codemirror_mode": {
    "name": "ipython",
    "version": 3
   },
   "file_extension": ".py",
   "mimetype": "text/x-python",
   "name": "python",
   "nbconvert_exporter": "python",
   "pygments_lexer": "ipython3",
   "version": "3.8.10"
  }
 },
 "nbformat": 4,
 "nbformat_minor": 5
}
