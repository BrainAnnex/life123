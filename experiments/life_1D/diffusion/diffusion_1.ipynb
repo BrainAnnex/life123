{
 "cells": [
  {
   "cell_type": "markdown",
   "id": "8382e30e-2fac-41f1-ae50-baf0fc9f4f22",
   "metadata": {},
   "source": [
    "**An initial concentration pulse (near the left edge of the system) moving towards equilibrium.  Visualized with heatmaps and line curves at different stages**\n",
    "\n",
    "The system starts out with a \"concentration pulse\" in bin 2 (the 3rd bin from the left) - i.e. that bin is initially the only one with a non-zero concentration of the only chemical species.\n",
    "Then the system is left undisturbed, and followed to equilibrium.\n",
    "\n",
    "LAST REVISED: June 3, 2022"
   ]
  },
  {
   "cell_type": "code",
   "execution_count": 1,
   "id": "f56dee37-4187-410b-8daf-1f45f4587f14",
   "metadata": {},
   "outputs": [
    {
     "name": "stdout",
     "output_type": "stream",
     "text": [
      "10 bins and 1 species: \n",
      "  Species 0. Diff rate: 0.1. Conc:  [ 0.  0. 10.  0.  0.  0.  0.  0.  0.  0.]\n"
     ]
    }
   ],
   "source": [
    "from life_1D.bio_sim_1d import BioSim1D as bio\n",
    "\n",
    "from modules.chemicals.chemicals import Chemicals as chem\n",
    "from modules.html_log.html_log import HtmlLog as log\n",
    "from modules.visualization.graphic_log import GraphicLog\n",
    "\n",
    "\n",
    "# Prepare the initial system\n",
    "chem_data = chem(diffusion_rates=[0.1])\n",
    "bio.initialize_system(n_bins=10, chem_data=chem_data)\n",
    "\n",
    "bio.set_uniform_concentration(species_index=0, conc=0.)\n",
    "bio.inject_conc_to_bin(bin=2, species_index=0, delta_conc=10.)\n",
    "\n",
    "bio.describe_state(show_diffusion_rates=True)"
   ]
  },
  {
   "cell_type": "code",
   "execution_count": 2,
   "id": "32c08e76-22c8-41ec-acc9-68c4e5887598",
   "metadata": {},
   "outputs": [
    {
     "name": "stdout",
     "output_type": "stream",
     "text": [
      "-> Output will be LOGGED into the file 'diffusion_1.htm'\n"
     ]
    }
   ],
   "source": [
    "# Initialize the HTML logging\n",
    "GraphicLog.config(filename=\"diffusion_1.htm\",\n",
    "                  components=[\"vue_heatmap_11\", \"vue_curves_1\"],\n",
    "                  home_rel_path=\"../../..\")    # relative path is from the location of THE LOG FILE to the project's home"
   ]
  },
  {
   "cell_type": "code",
   "execution_count": 3,
   "id": "14b4a1c2-9854-41c6-b407-6008bb4738be",
   "metadata": {},
   "outputs": [],
   "source": [
    "# Set the heatmap parameters\n",
    "heatmap_pars = {\"range\": [0, 2.5],\n",
    "                \"outer_width\": 850, \"outer_height\": 150,\n",
    "                \"margins\": {\"top\": 30, \"right\": 30, \"bottom\": 30, \"left\": 55}\n",
    "                }\n",
    "\n",
    "# Set the parameters of the line plots\n",
    "lineplot_pars = {\"range\": [0, 10],\n",
    "                \"outer_width\": 850, \"outer_height\": 250,\n",
    "                \"margins\": {\"top\": 30, \"right\": 30, \"bottom\": 30, \"left\": 55}\n",
    "                }"
   ]
  },
  {
   "cell_type": "code",
   "execution_count": 4,
   "id": "d3097f06-8871-4379-8434-84b207d24b1a",
   "metadata": {},
   "outputs": [
    {
     "name": "stdout",
     "output_type": "stream",
     "text": [
      "\n",
      "\n",
      "Initial system state at time t=0:\n"
     ]
    }
   ],
   "source": [
    "log.write(\"Initial system state at time t=0:\", blanks_before=2)\n",
    "\n",
    "# Output a heatmap into the log file\n",
    "bio.single_species_heatmap(species_index=0, heatmap_pars=heatmap_pars, graphic_component=\"vue_heatmap_11\")\n",
    "\n",
    "# Output a line plot the log file\n",
    "bio.single_species_line_plot(species_index=0, plot_pars=lineplot_pars, graphic_component=\"vue_curves_1\")"
   ]
  },
  {
   "cell_type": "code",
   "execution_count": 5,
   "id": "6e4f2edf-97e0-47dc-9640-2d7c4bca8a3b",
   "metadata": {},
   "outputs": [
    {
     "name": "stdout",
     "output_type": "stream",
     "text": [
      "\n",
      "\n",
      "Advancing to time t=20, with time steps of 0.1 ...\n"
     ]
    }
   ],
   "source": [
    "log.write(\"Advancing to time t=20, with time steps of 0.1 ...\", blanks_before=2)"
   ]
  },
  {
   "cell_type": "code",
   "execution_count": 6,
   "id": "89cde412-b19a-429b-9d23-785df3e8c85f",
   "metadata": {},
   "outputs": [
    {
     "name": "stdout",
     "output_type": "stream",
     "text": [
      "\n",
      " {'steps': 200}\n",
      "\n",
      "After delta time 20.0.  TOTAL TIME 20.0  (200 steps taken):\n",
      "\n",
      "[[1.79154498 2.04604996 2.15752876 1.81408657 1.18572897 0.61493163\n",
      "  0.26031377 0.09234937 0.02835038 0.00911562]]\n"
     ]
    }
   ],
   "source": [
    "total_time = 0.\n",
    "delta_time = 20.\n",
    "\n",
    "status = bio.diffuse(time_duration=delta_time, time_step=0.1)\n",
    "print(\"\\n\", status)\n",
    "total_time += delta_time\n",
    "\n",
    "log.write(f\"After delta time {delta_time}.  TOTAL TIME {total_time}  ({status['steps']} steps taken):\",\n",
    "          blanks_before=1, blanks_after=1)\n",
    "bio.describe_state(concise=True)"
   ]
  },
  {
   "cell_type": "code",
   "execution_count": 7,
   "id": "43ca4d09-7abc-49ed-bd00-c149ec4d7ca0",
   "metadata": {},
   "outputs": [
    {
     "name": "stdout",
     "output_type": "stream",
     "text": [
      "['0', '1', '2', '3', '4', '5', '6', '7', '8', '9']\n"
     ]
    }
   ],
   "source": [
    "bin_names = [str(i) for i in range(bio.n_bins)]\n",
    "print(bin_names)"
   ]
  },
  {
   "cell_type": "code",
   "execution_count": 8,
   "id": "af71d327-83a1-418f-a9b7-ef6000079a63",
   "metadata": {},
   "outputs": [
    {
     "name": "stdout",
     "output_type": "stream",
     "text": [
      "[{'group': '0', 'variable': 'Mol 0', 'value': '1.7915449815979623'}, {'group': '1', 'variable': 'Mol 0', 'value': '2.046049956197253'}, {'group': '2', 'variable': 'Mol 0', 'value': '2.1575287571012467'}, {'group': '3', 'variable': 'Mol 0', 'value': '1.8140865655191563'}, {'group': '4', 'variable': 'Mol 0', 'value': '1.1857289679580865'}, {'group': '5', 'variable': 'Mol 0', 'value': '0.6149316304187616'}, {'group': '6', 'variable': 'Mol 0', 'value': '0.2603137725324633'}, {'group': '7', 'variable': 'Mol 0', 'value': '0.09234937004182237'}, {'group': '8', 'variable': 'Mol 0', 'value': '0.028350381854367064'}, {'group': '9', 'variable': 'Mol 0', 'value': '0.009115616778886402'}]\n"
     ]
    }
   ],
   "source": [
    "my_data = [{\"group\": bin_names[i], \"variable\": \"Mol 0\", \"value\": str(bio.system[0, i])}\n",
    "           for i in range(bio.n_bins)]\n",
    "print(my_data)"
   ]
  },
  {
   "cell_type": "code",
   "execution_count": 9,
   "id": "a5007d92-b757-4769-ad73-8849486ed244",
   "metadata": {},
   "outputs": [],
   "source": [
    "# Output a heatmap into the log file\n",
    "bio.single_species_heatmap(species_index=0, heatmap_pars=heatmap_pars, graphic_component=\"vue_heatmap_11\")"
   ]
  },
  {
   "cell_type": "markdown",
   "id": "e7e88e5a-fc8b-4126-8649-d929f1d01c93",
   "metadata": {},
   "source": [
    "_Note: this is still an early stage in the diffusion process; let's advance it more..._\n",
    "---"
   ]
  },
  {
   "cell_type": "code",
   "execution_count": 10,
   "id": "9721daf2-f653-4f36-a4f9-2c47cadd9c81",
   "metadata": {},
   "outputs": [
    {
     "name": "stdout",
     "output_type": "stream",
     "text": [
      "\n",
      "\n",
      "Advancing an additional Delta time of 40.0, with time steps of 0.1 ...\n"
     ]
    }
   ],
   "source": [
    "delta_time = 40.\n",
    "log.write(f\"Advancing an additional Delta time of {delta_time}, with time steps of 0.1 ...\", blanks_before=2)"
   ]
  },
  {
   "cell_type": "code",
   "execution_count": 11,
   "id": "9d7eca67-5ad9-4d38-adca-f6ca2c9092fc",
   "metadata": {},
   "outputs": [
    {
     "name": "stdout",
     "output_type": "stream",
     "text": [
      "\n",
      " {'steps': 400}\n",
      "\n",
      "After delta time 40.0.  TOTAL TIME 60.0  (400 steps taken):\n",
      "\n",
      "[[1.76697624 1.69877596 1.56309588 1.36661912 1.12701103 0.87222369\n",
      "  0.63367319 0.43785006 0.30151635 0.23225847]]\n"
     ]
    }
   ],
   "source": [
    "status = bio.diffuse(time_duration=delta_time, time_step=0.1)\n",
    "print(\"\\n\", status)\n",
    "total_time += delta_time\n",
    "\n",
    "log.write(f\"After delta time {delta_time}.  TOTAL TIME {total_time}  ({status['steps']} steps taken):\",\n",
    "          blanks_before=1, blanks_after=1)\n",
    "bio.describe_state(concise=True)"
   ]
  },
  {
   "cell_type": "code",
   "execution_count": 12,
   "id": "e9a878df-f45c-42bf-ba42-505c0bdf4f8a",
   "metadata": {},
   "outputs": [
    {
     "name": "stdout",
     "output_type": "stream",
     "text": [
      "[{'group': '0', 'variable': 'Mol 0', 'value': '1.7669762430068738'}, {'group': '1', 'variable': 'Mol 0', 'value': '1.698775963907739'}, {'group': '2', 'variable': 'Mol 0', 'value': '1.563095883685993'}, {'group': '3', 'variable': 'Mol 0', 'value': '1.366619118349869'}, {'group': '4', 'variable': 'Mol 0', 'value': '1.1270110298494436'}, {'group': '5', 'variable': 'Mol 0', 'value': '0.872223687843469'}, {'group': '6', 'variable': 'Mol 0', 'value': '0.6336731927902174'}, {'group': '7', 'variable': 'Mol 0', 'value': '0.4378500586480128'}, {'group': '8', 'variable': 'Mol 0', 'value': '0.301516347232347'}, {'group': '9', 'variable': 'Mol 0', 'value': '0.23225847468603866'}]\n"
     ]
    }
   ],
   "source": [
    "my_data = [{\"group\": bin_names[i], \"variable\": \"Mol 0\", \"value\": str(bio.system[0, i])}\n",
    "           for i in range(bio.n_bins)]\n",
    "print(my_data)"
   ]
  },
  {
   "cell_type": "code",
   "execution_count": 13,
   "id": "84aed8eb-efc6-41d6-99e9-f1c5fde4d2b0",
   "metadata": {},
   "outputs": [],
   "source": [
    "#Output a heatmap into the log file\n",
    "bio.single_species_heatmap(species_index=0, heatmap_pars=heatmap_pars, graphic_component=\"vue_heatmap_11\")"
   ]
  },
  {
   "cell_type": "markdown",
   "id": "70cc636a-6138-4612-ab6e-d8f210f0ed74",
   "metadata": {
    "tags": []
   },
   "source": [
    "_One last round of diffusion:_\n",
    "---"
   ]
  },
  {
   "cell_type": "code",
   "execution_count": 14,
   "id": "97ae6131-00e6-4509-a9db-3d4bb1167ca7",
   "metadata": {},
   "outputs": [
    {
     "name": "stdout",
     "output_type": "stream",
     "text": [
      "\n",
      "\n",
      "Advancing an additional Delta time of 60.0, with time steps of 0.1 ...\n"
     ]
    }
   ],
   "source": [
    "delta_time = 60.\n",
    "log.write(f\"Advancing an additional Delta time of {delta_time}, with time steps of 0.1 ...\", blanks_before=2)"
   ]
  },
  {
   "cell_type": "code",
   "execution_count": 15,
   "id": "496a9334-8c21-44f4-abc3-0c3a95ba5941",
   "metadata": {},
   "outputs": [
    {
     "name": "stdout",
     "output_type": "stream",
     "text": [
      "\n",
      " {'steps': 600}\n",
      "\n",
      "After delta time 60.0.  TOTAL TIME 120.0  (600 steps taken):\n",
      "\n",
      "[[1.43120344 1.38903875 1.30879999 1.19829836 1.06833665 0.93166317\n",
      "  0.80170171 0.69120023 0.61096132 0.56879638]]\n"
     ]
    }
   ],
   "source": [
    "status = bio.diffuse(time_duration=delta_time, time_step=0.1)\n",
    "print(\"\\n\", status)\n",
    "total_time += delta_time\n",
    "\n",
    "log.write(f\"After delta time {delta_time}.  TOTAL TIME {total_time}  ({status['steps']} steps taken):\",\n",
    "          blanks_before=1, blanks_after=1)\n",
    "bio.describe_state(concise=True)"
   ]
  },
  {
   "cell_type": "code",
   "execution_count": 16,
   "id": "573aa3cb-7580-4a2c-8b27-e3c86b97fcd3",
   "metadata": {},
   "outputs": [],
   "source": [
    "my_data = [{\"group\": bin_names[i], \"variable\": \"Mol 0\", \"value\": str(bio.system[0, i])}\n",
    "           for i in range(bio.n_bins)]"
   ]
  },
  {
   "cell_type": "code",
   "execution_count": 17,
   "id": "30511984-ad31-4364-a328-afb05afdb427",
   "metadata": {},
   "outputs": [],
   "source": [
    "# Output a heatmap into the log file\n",
    "bio.single_species_heatmap(species_index=0, heatmap_pars=heatmap_pars, graphic_component=\"vue_heatmap_11\")"
   ]
  }
 ],
 "metadata": {
  "kernelspec": {
   "display_name": "Python 3 (ipykernel)",
   "language": "python",
   "name": "python3"
  },
  "language_info": {
   "codemirror_mode": {
    "name": "ipython",
    "version": 3
   },
   "file_extension": ".py",
   "mimetype": "text/x-python",
   "name": "python",
   "nbconvert_exporter": "python",
   "pygments_lexer": "ipython3",
   "version": "3.7.3"
  }
 },
 "nbformat": 4,
 "nbformat_minor": 5
}
