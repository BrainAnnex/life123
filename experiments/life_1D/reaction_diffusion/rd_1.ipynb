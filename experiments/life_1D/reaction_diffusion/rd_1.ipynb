{
 "cells": [
  {
   "cell_type": "markdown",
   "id": "ef6b822a-73a9-4057-97ea-b55c1661c2bc",
   "metadata": {},
   "source": [
    "**Reaction  A + B <-> C, mostly forward and with 1st-order kinetics for each species,\n",
    "taken to equilibrium**\n",
    "\n",
    "Initial concentrations of A and B are spacially separated to the opposite ends of the system;\n",
    "as a result, no C is being generated.\n",
    "\n",
    "But, as soon as A and B, from their respective distant originating points at the edges, \n",
    "diffuse into the middle - and into each other - the reaction starts,\n",
    "consuming both A and B (the forward reaction is much more substantial than the reverse one),\n",
    "until an equilibrium is reached in both diffusion and reactions.\n",
    "\n",
    "A LOT of plots are sent to the log file from this experiment; the reason is to compare two\n",
    "graphic elements, \"vue_curves_3\" and \"vue_curves_4\"\n",
    "\n",
    "LAST REVISED: July 13, 2022"
   ]
  },
  {
   "cell_type": "code",
   "execution_count": 1,
   "id": "15321112-0c2e-4e96-90b5-3ab73f3a5b94",
   "metadata": {},
   "outputs": [
    {
     "name": "stdout",
     "output_type": "stream",
     "text": [
      "Added 'D:\\Docs\\- MY CODE\\BioSimulations\\life123-Win7' to sys.path\n"
     ]
    }
   ],
   "source": [
    "import set_path\n",
    "set_path.add_ancestor_dir_to_syspath(3)  # The number of levels to go up \n",
    "                                         # to reach the project's home, from the folder containing this notebook"
   ]
  },
  {
   "cell_type": "code",
   "execution_count": 2,
   "id": "9736bec1-1aa5-4d3e-9d06-a9a29bee68dd",
   "metadata": {},
   "outputs": [],
   "source": [
    "from experiments.get_notebook_info import get_notebook_basename\n",
    "\n",
    "from life_1D.bio_sim_1d import BioSim1D as bio\n",
    "\n",
    "from modules.chemicals.chemicals import Chemicals as chem\n",
    "from modules.reactions.reactions import Reactions\n",
    "from modules.html_log.html_log import HtmlLog as log\n",
    "from modules.visualization.graphic_log import GraphicLog"
   ]
  },
  {
   "cell_type": "code",
   "execution_count": 3,
   "id": "6eae381c-b048-4345-904b-939c551ce1ef",
   "metadata": {},
   "outputs": [
    {
     "name": "stdout",
     "output_type": "stream",
     "text": [
      "-> Output will be LOGGED into the file 'rd_1.log.htm'\n"
     ]
    }
   ],
   "source": [
    "# Initialize the HTML logging\n",
    "log_file = get_notebook_basename() + \".log.htm\"    # Use the notebook base filename for the log file\n",
    "\n",
    "# Set up the use of some specified graphic (Vue) components\n",
    "GraphicLog.config(filename=log_file,\n",
    "                  components=[\"vue_heatmap_11\", \"vue_curves_3\", \"vue_curves_4\", \"vue_cytoscape_1\"],\n",
    "                  extra_js=\"https://cdnjs.cloudflare.com/ajax/libs/cytoscape/3.21.2/cytoscape.umd.js\",\n",
    "                  home_rel_path=\"../../..\")    # relative path is from the location of THE LOG FILE to the project's home"
   ]
  },
  {
   "cell_type": "code",
   "execution_count": 4,
   "id": "f9e1cf26-1df8-4f38-af51-10f162043c7c",
   "metadata": {},
   "outputs": [
    {
     "name": "stdout",
     "output_type": "stream",
     "text": [
      "SYSTEM STATE at Time t = 0.0:\n",
      "7 bins and 3 species:\n",
      "  Species 0 (A). Diff rate: 50.0. Conc:  [20.  0.  0.  0.  0.  0.  0.]\n",
      "  Species 1 (B). Diff rate: 50.0. Conc:  [ 0.  0.  0.  0.  0.  0. 20.]\n",
      "  Species 2 (C). Diff rate: 1.0. Conc:  [0. 0. 0. 0. 0. 0. 0.]\n"
     ]
    }
   ],
   "source": [
    "# Initialize the system\n",
    "chem_data = chem(names=[\"A\", \"B\", \"C\"], diffusion_rates=[50., 50., 1.])\n",
    "\n",
    "rxn = Reactions(chem_data)\n",
    "\n",
    "# Reaction A + B <-> C , with 1st-order kinetics for each species; note that it's mostly in the forward direction\n",
    "rxn.add_reaction(reactants=[\"A\", \"B\"], products=[\"C\"], forward_rate=20., reverse_rate=2.)\n",
    "\n",
    "bio.initialize_system(n_bins=7, chem_data=chem_data, reactions=rxn)\n",
    "\n",
    "bio.set_bin_conc(bin=0, species_index=0, conc=20.)\n",
    "bio.set_bin_conc(bin=6, species_index=1, conc=20.)\n",
    "\n",
    "total_time = 0.\n",
    "\n",
    "bio.describe_state(time = total_time)"
   ]
  },
  {
   "cell_type": "code",
   "execution_count": 5,
   "id": "dc49e75c-6aa5-414d-831f-805461f04f3a",
   "metadata": {},
   "outputs": [
    {
     "name": "stdout",
     "output_type": "stream",
     "text": [
      "Number of reactions:  1\n",
      "0: A + B <-> C  (Rf = 20.0 / Rb = 2.0)\n"
     ]
    },
    {
     "data": {
      "text/plain": [
       "['0: A + B <-> C  (Rf = 20.0 / Rb = 2.0)']"
      ]
     },
     "execution_count": 5,
     "metadata": {},
     "output_type": "execute_result"
    }
   ],
   "source": [
    "rxn.describe_reactions()"
   ]
  },
  {
   "cell_type": "code",
   "execution_count": 6,
   "id": "37eb3a95-3d46-479e-9c93-2e81a2d3202d",
   "metadata": {},
   "outputs": [
    {
     "name": "stdout",
     "output_type": "stream",
     "text": [
      "\n",
      " {'reactants': [(1, 0, 1), (1, 1, 1)], 'products': [(1, 2, 1)], 'Rf': 20.0, 'Rb': 2.0} \n",
      "\n",
      "[Graphic element sent to log file]\n"
     ]
    }
   ],
   "source": [
    "# Send the plot to the HTML log file\n",
    "graph_data = rxn.prepare_graph_network()\n",
    "GraphicLog.export_plot(graph_data, \"vue_cytoscape_1\")"
   ]
  },
  {
   "cell_type": "code",
   "execution_count": 7,
   "id": "433d4426-ca90-4d48-a7e6-b83a98904f5c",
   "metadata": {},
   "outputs": [],
   "source": [
    "# Set the heatmap parameters\n",
    "heatmap_pars = {\"range\": [0, 20],\n",
    "                \"outer_width\": 850, \"outer_height\": 100,\n",
    "                \"margins\": {\"top\": 30, \"right\": 30, \"bottom\": 30, \"left\": 55}\n",
    "                }\n",
    "\n",
    "# Set the parameters of the line plots (for now, same for single-curve and multiple-curves)\n",
    "lineplot_pars = {\"range\": [0, 20],\n",
    "                \"outer_width\": 850, \"outer_height\": 200,\n",
    "                \"margins\": {\"top\": 30, \"right\": 30, \"bottom\": 30, \"left\": 55}\n",
    "                }"
   ]
  },
  {
   "cell_type": "code",
   "execution_count": 8,
   "id": "1fd5d82c-8523-418c-8132-cfc284605b1c",
   "metadata": {},
   "outputs": [
    {
     "name": "stdout",
     "output_type": "stream",
     "text": [
      "[Graphic element sent to log file]\n",
      "[Graphic element sent to log file]\n",
      "[Graphic element sent to log file]\n",
      "[Graphic element sent to log file]\n",
      "[Graphic element sent to log file]\n",
      "[Graphic element sent to log file]\n",
      "[Graphic element sent to log file]\n"
     ]
    }
   ],
   "source": [
    "log.write(f\"Initial system state at time t={total_time}:\", blanks_before=2, style=log.bold, also_print=False)\n",
    "\n",
    "# Output to the log file a heatmap for each chemical species\n",
    "for i in range(3):\n",
    "    bio.single_species_heatmap(species_index=i, heatmap_pars=heatmap_pars, graphic_component=\"vue_heatmap_11\")\n",
    "\n",
    "# Output to the log file a one-curve line plot for each chemical species\n",
    "for i in range(3):\n",
    "    bio.single_species_line_plot(species_index=i, plot_pars=lineplot_pars, graphic_component=\"vue_curves_3\")\n",
    "\n",
    "# Output to the log file a line plot for all the chemicals together \n",
    "bio.line_plot(plot_pars=lineplot_pars, graphic_component=\"vue_curves_4\")"
   ]
  },
  {
   "cell_type": "code",
   "execution_count": 9,
   "id": "f3c1fe2b-61d3-429e-92d2-b922e8a2fad5",
   "metadata": {},
   "outputs": [
    {
     "name": "stdout",
     "output_type": "stream",
     "text": [
      "SYSTEM STATE at Time t = 0.002:\n",
      "7 bins and 3 species:\n",
      "  Species 0 (A). Diff rate: 50.0. Conc:  [18.  2.  0.  0.  0.  0.  0.]\n",
      "  Species 1 (B). Diff rate: 50.0. Conc:  [ 0.  0.  0.  0.  0.  2. 18.]\n",
      "  Species 2 (C). Diff rate: 1.0. Conc:  [0. 0. 0. 0. 0. 0. 0.]\n"
     ]
    }
   ],
   "source": [
    "delta_t = 0.002   # This will be our time \"quantum\" for this experiment\n",
    "\n",
    "\n",
    "# First step\n",
    "bio.react_diffuse(time_step=delta_t, n_steps=1)\n",
    "total_time += delta_t\n",
    "bio.describe_state(time=total_time)"
   ]
  },
  {
   "cell_type": "markdown",
   "id": "901b2e59-fea6-4190-af69-fc49f14d9a64",
   "metadata": {},
   "source": [
    "_After the first delta_t time step_:\n",
    "\n",
    "  Species 0 (A). Diff rate: 50.0. Conc:  [18.  2.  0.  0.  0.  0.  0.]\n",
    "  \n",
    "  Species 1 (B). Diff rate: 50.0. Conc:  [ 0.  0.  0.  0.  0.  2. 18.]\n",
    "  \n",
    "  Species 2 (C). Diff rate: 1.0. Conc:  [0. 0. 0. 0. 0. 0. 0.]\n"
   ]
  },
  {
   "cell_type": "code",
   "execution_count": 10,
   "id": "47bca5d0-c1f8-478d-ac9a-acb3a4ffbb3c",
   "metadata": {},
   "outputs": [
    {
     "name": "stdout",
     "output_type": "stream",
     "text": [
      "[Graphic element sent to log file]\n",
      "[Graphic element sent to log file]\n",
      "[Graphic element sent to log file]\n",
      "[Graphic element sent to log file]\n",
      "[Graphic element sent to log file]\n",
      "[Graphic element sent to log file]\n",
      "[Graphic element sent to log file]\n"
     ]
    }
   ],
   "source": [
    "log.write(f\"System state at time t={total_time}:\", blanks_before=2, style=log.bold, also_print=False)\n",
    "\n",
    "# Output to the log file a heatmap for each chemical species\n",
    "for i in range(3):\n",
    "    bio.single_species_heatmap(species_index=i, heatmap_pars=heatmap_pars, graphic_component=\"vue_heatmap_11\")\n",
    "\n",
    "# Output to the log file a one-curve line plot for each chemical species\n",
    "for i in range(3):\n",
    "    bio.single_species_line_plot(species_index=i, plot_pars=lineplot_pars, graphic_component=\"vue_curves_3\")\n",
    "\n",
    "# Output to the log file a line plot for all the chemicals together \n",
    "bio.line_plot(plot_pars=lineplot_pars, graphic_component=\"vue_curves_4\")"
   ]
  },
  {
   "cell_type": "code",
   "execution_count": 11,
   "id": "a2746d1b-48f9-4d57-980c-9ea807a4e989",
   "metadata": {},
   "outputs": [
    {
     "name": "stdout",
     "output_type": "stream",
     "text": [
      "SYSTEM STATE at Time t = 0.004:\n",
      "[[16.4  3.4  0.2  0.   0.   0.   0. ]\n",
      " [ 0.   0.   0.   0.   0.2  3.4 16.4]\n",
      " [ 0.   0.   0.   0.   0.   0.   0. ]]\n",
      "SYSTEM STATE at Time t = 0.006:\n",
      "[[15.1   4.38  0.5   0.02  0.    0.    0.  ]\n",
      " [ 0.    0.    0.    0.02  0.5   4.38 15.1 ]\n",
      " [ 0.    0.    0.    0.    0.    0.    0.  ]]\n",
      "SYSTEM STATE at Time t = 0.008:\n",
      "[[1.4028e+01 5.0640e+00 8.4000e-01 6.5984e-02 2.0000e-03 0.0000e+00\n",
      "  0.0000e+00]\n",
      " [0.0000e+00 0.0000e+00 2.0000e-03 6.5984e-02 8.4000e-01 5.0640e+00\n",
      "  1.4028e+01]\n",
      " [0.0000e+00 0.0000e+00 0.0000e+00 1.6000e-05 0.0000e+00 0.0000e+00\n",
      "  0.0000e+00]]\n",
      "SYSTEM STATE at Time t = 0.01:\n",
      "[[1.31316000e+01 5.53800000e+00 1.18493120e+00 1.36813108e-01\n",
      "  8.13120000e-03 2.00000000e-04 0.00000000e+00]\n",
      " [0.00000000e+00 2.00000000e-04 8.13120000e-03 1.36813108e-01\n",
      "  1.18493120e+00 5.53800000e+00 1.31316000e+01]\n",
      " [0.00000000e+00 0.00000000e+00 6.72320000e-05 1.90027530e-04\n",
      "  6.72320000e-05 0.00000000e+00 0.00000000e+00]]\n",
      "SYSTEM STATE at Time t = 0.012:\n",
      "[[1.23722400e+01 5.86200882e+00 1.51504114e+00 2.28008774e-01\n",
      "  1.98211433e-02 9.28816000e-04 2.00000000e-05]\n",
      " [2.00000000e-05 9.28816000e-04 1.98211433e-02 2.28008774e-01\n",
      "  1.51504114e+00 5.86200882e+00 1.23722400e+01]\n",
      " [0.00000000e+00 4.44384640e-05 4.52470702e-04 9.37489304e-04\n",
      "  4.52470702e-04 4.44384640e-05 0.00000000e+00]]\n",
      "SYSTEM STATE at Time t = 0.014:\n",
      "[[1.17212070e+01 6.07811756e+00 1.81983529e+00 3.33817478e-01\n",
      "  3.75512896e-02 2.50955578e-03 1.00983808e-04]\n",
      " [1.00983808e-04 2.50955578e-03 3.75512896e-02 3.33817478e-01\n",
      "  1.81983529e+00 6.07811756e+00 1.17212070e+01]\n",
      " [9.98666893e-06 2.62777001e-04 1.65200869e-03 3.01131931e-03\n",
      "  1.65200869e-03 2.62777001e-04 9.98666893e-06]]\n",
      "SYSTEM STATE at Time t = 0.016:\n",
      "[[1.11568507e+01 6.21598919e+00 2.09433486e+00 4.48347321e-01\n",
      "  6.09468566e-02 5.16378807e-03 2.94534867e-04]\n",
      " [2.94534867e-04 5.16378807e-03 6.09468566e-02 4.48347321e-01\n",
      "  2.09433486e+00 6.21598919e+00 1.11568507e+01]\n",
      " [5.77983875e-05 8.74133777e-04 4.37882730e-03 7.45120113e-03\n",
      "  4.37882730e-03 8.74133777e-04 5.77983875e-05]]\n"
     ]
    }
   ],
   "source": [
    "# Continue with several delta_t steps\n",
    "for _ in range(7):\n",
    "    bio.react_diffuse(time_step=delta_t, n_steps=1)\n",
    "    total_time += delta_t\n",
    "    bio.describe_state(concise=True, time=total_time)"
   ]
  },
  {
   "cell_type": "code",
   "execution_count": 12,
   "id": "9974a579-14c5-447b-9616-b136e356ee90",
   "metadata": {},
   "outputs": [
    {
     "name": "stdout",
     "output_type": "stream",
     "text": [
      "[Graphic element sent to log file]\n",
      "[Graphic element sent to log file]\n",
      "[Graphic element sent to log file]\n",
      "[Graphic element sent to log file]\n",
      "[Graphic element sent to log file]\n",
      "[Graphic element sent to log file]\n",
      "[Graphic element sent to log file]\n"
     ]
    }
   ],
   "source": [
    "log.write(f\"System state at time t={total_time}:\", blanks_before=2, style=log.bold, also_print=False)\n",
    "\n",
    "# Output to the log file a heatmap for each chemical species\n",
    "for i in range(3):\n",
    "    bio.single_species_heatmap(species_index=i, heatmap_pars=heatmap_pars, graphic_component=\"vue_heatmap_11\")\n",
    "\n",
    "# Output to the log file a one-curve line plot for each chemical species\n",
    "for i in range(3):\n",
    "    bio.single_species_line_plot(species_index=i, plot_pars=lineplot_pars, graphic_component=\"vue_curves_3\")\n",
    "\n",
    "# Output to the log file a line plot for all the chemicals together \n",
    "bio.line_plot(plot_pars=lineplot_pars, graphic_component=\"vue_curves_4\")"
   ]
  },
  {
   "cell_type": "code",
   "execution_count": 13,
   "id": "bb248152-bda9-4f70-b81d-52d982a2233e",
   "metadata": {},
   "outputs": [
    {
     "name": "stdout",
     "output_type": "stream",
     "text": [
      "\n",
      "\n",
      "+ 10 steps later:\n",
      "SYSTEM STATE at Time t = 0.018000000000000002:\n",
      "[[7.92576526 5.95824446 3.31917619 1.31581241 0.35918764 0.07038175\n",
      "  0.01251229]\n",
      " [0.01251229 0.07038175 0.35918764 1.31581241 3.31917619 5.95824446\n",
      "  7.92576526]\n",
      " [0.01555131 0.07914514 0.24409632 0.36133444 0.24409632 0.07914514\n",
      "  0.01555131]]\n",
      "\n",
      "\n",
      "+ 10 steps later:\n",
      "SYSTEM STATE at Time t = 0.020000000000000004:\n",
      "[[6.29600683 5.06118233 3.15970431 1.44600532 0.47532616 0.12019317\n",
      "  0.03045075]\n",
      " [0.03045075 0.12019317 0.47532616 1.44600532 3.15970431 5.06118233\n",
      "  6.29600683]\n",
      " [0.07498099 0.28735559 0.78250579 1.12144639 0.78250579 0.28735559\n",
      "  0.07498099]]\n",
      "\n",
      "\n",
      "+ 10 steps later:\n",
      "SYSTEM STATE at Time t = 0.022000000000000006:\n",
      "[[5.13609493 4.21433746 2.7454954  1.35328847 0.4992179  0.14748071\n",
      "  0.04559633]\n",
      " [0.04559633 0.14748071 0.4992179  1.35328847 2.7454954  4.21433746\n",
      "  5.13609493]\n",
      " [0.1615343  0.52706799 1.31954666 1.8421909  1.31954666 0.52706799\n",
      "  0.1615343 ]]\n",
      "\n",
      "\n",
      "+ 10 steps later:\n",
      "SYSTEM STATE at Time t = 0.024000000000000007:\n",
      "[[4.2209458  3.50170661 2.34873485 1.23042685 0.50075376 0.16821567\n",
      "  0.0606064 ]\n",
      " [0.0606064  0.16821567 0.50075376 1.23042685 2.34873485 3.50170661\n",
      "  4.2209458 ]\n",
      " [0.25982593 0.75464804 1.76534285 2.40897641 1.76534285 0.75464804\n",
      "  0.25982593]]\n"
     ]
    }
   ],
   "source": [
    "# Now, do several group of longer runs\n",
    "for _ in range(4):\n",
    "    print(\"\\n\\n+ 10 steps later:\")\n",
    "    bio.react_diffuse(time_step=delta_t, n_steps=10)\n",
    "    total_time += delta_t\n",
    "    bio.describe_state(concise=True, time=total_time)"
   ]
  },
  {
   "cell_type": "code",
   "execution_count": 14,
   "id": "cff27b4b-5cf3-4d70-80a7-8a13e1e3cd99",
   "metadata": {},
   "outputs": [
    {
     "name": "stdout",
     "output_type": "stream",
     "text": [
      "[Graphic element sent to log file]\n",
      "[Graphic element sent to log file]\n",
      "[Graphic element sent to log file]\n",
      "[Graphic element sent to log file]\n",
      "[Graphic element sent to log file]\n",
      "[Graphic element sent to log file]\n",
      "[Graphic element sent to log file]\n"
     ]
    }
   ],
   "source": [
    "log.write(f\"System state at time t={total_time}:\", blanks_before=2, style=log.bold, also_print=False)\n",
    "\n",
    "# Output to the log file a heatmap for each chemical species\n",
    "for i in range(3):\n",
    "    bio.single_species_heatmap(species_index=i, heatmap_pars=heatmap_pars, graphic_component=\"vue_heatmap_11\")\n",
    "\n",
    "# Output to the log file a one-curve line plot for each chemical species\n",
    "for i in range(3):\n",
    "    bio.single_species_line_plot(species_index=i, plot_pars=lineplot_pars, graphic_component=\"vue_curves_3\")\n",
    "\n",
    "# Output to the log file a line plot for all the chemicals together \n",
    "bio.line_plot(plot_pars=lineplot_pars, graphic_component=\"vue_curves_4\")"
   ]
  },
  {
   "cell_type": "code",
   "execution_count": 15,
   "id": "c15dfca3-00fc-4b9a-80c4-01f565f30cf8",
   "metadata": {},
   "outputs": [
    {
     "name": "stdout",
     "output_type": "stream",
     "text": [
      "\n",
      "\n",
      "+++ 30 steps later:\n",
      "SYSTEM STATE at Time t = 0.02600000000000001:\n",
      "[[2.39736516 2.05453684 1.50075745 0.92781069 0.48529917 0.22472198\n",
      "  0.11560109]\n",
      " [0.11560109 0.22472198 0.48529917 0.92781069 1.50075745 2.05453684\n",
      "  2.39736516]\n",
      " [0.57202182 1.29674075 2.59761288 3.36115673 2.59761288 1.29674075\n",
      "  0.57202182]]\n",
      "\n",
      "\n",
      "+++ 30 steps later:\n",
      "SYSTEM STATE at Time t = 0.02800000000000001:\n",
      "[[1.43652347 1.28435794 1.02979899 0.73906751 0.47257834 0.28028088\n",
      "  0.18445971]\n",
      " [0.18445971 0.28028088 0.47257834 0.73906751 1.02979899 1.28435794\n",
      "  1.43652347]\n",
      " [0.8597085  1.64384498 2.94653088 3.67276444 2.94653088 1.64384498\n",
      "  0.8597085 ]]\n",
      "\n",
      "\n",
      "+++ 30 steps later:\n",
      "SYSTEM STATE at Time t = 0.030000000000000013:\n",
      "[[0.94369275 0.88396666 0.77535511 0.63019458 0.46959173 0.33300009\n",
      "  0.25664867]\n",
      " [0.25664867 0.33300009 0.46959173 0.63019458 0.77535511 0.88396666\n",
      "  0.94369275]\n",
      " [1.09382006 1.85282552 3.05530325 3.70365274 3.05530325 1.85282552\n",
      "  1.09382006]]\n",
      "\n",
      "\n",
      "+++ 30 steps later:\n",
      "SYSTEM STATE at Time t = 0.032000000000000015:\n",
      "[[0.69798039 0.68111864 0.64213556 0.57196145 0.47435422 0.37878712\n",
      "  0.32097915]\n",
      " [0.32097915 0.37878712 0.47435422 0.57196145 0.64213556 0.68111864\n",
      "  0.69798039]\n",
      " [1.27482053 1.97696102 3.05404907 3.62102222 3.05404907 1.97696102\n",
      "  1.27482053]]\n"
     ]
    }
   ],
   "source": [
    "for _ in range(4):\n",
    "    print(\"\\n\\n+++ 30 steps later:\")\n",
    "    bio.react_diffuse(time_step=delta_t, n_steps=30)\n",
    "    total_time += delta_t\n",
    "    bio.describe_state(concise=True, time=total_time)"
   ]
  },
  {
   "cell_type": "code",
   "execution_count": 16,
   "id": "ba4c44a3-3384-4f1a-b656-783c06eeb4af",
   "metadata": {},
   "outputs": [
    {
     "name": "stdout",
     "output_type": "stream",
     "text": [
      "[Graphic element sent to log file]\n",
      "[Graphic element sent to log file]\n",
      "[Graphic element sent to log file]\n",
      "[Graphic element sent to log file]\n",
      "[Graphic element sent to log file]\n",
      "[Graphic element sent to log file]\n",
      "[Graphic element sent to log file]\n"
     ]
    }
   ],
   "source": [
    "log.write(f\"System state at time t={total_time}:\", blanks_before=2, style=log.bold, also_print=False)\n",
    "\n",
    "# Output to the log file a heatmap for each chemical species\n",
    "for i in range(3):\n",
    "    bio.single_species_heatmap(species_index=i, heatmap_pars=heatmap_pars, graphic_component=\"vue_heatmap_11\")\n",
    "\n",
    "# Output to the log file a one-curve line plot for each chemical species\n",
    "for i in range(3):\n",
    "    bio.single_species_line_plot(species_index=i, plot_pars=lineplot_pars, graphic_component=\"vue_curves_3\")\n",
    "\n",
    "# Output to the log file a line plot for all the chemicals together \n",
    "bio.line_plot(plot_pars=lineplot_pars, graphic_component=\"vue_curves_4\")"
   ]
  },
  {
   "cell_type": "code",
   "execution_count": 17,
   "id": "d7bd2795-9a78-4a2e-834c-477951677878",
   "metadata": {},
   "outputs": [
    {
     "name": "stdout",
     "output_type": "stream",
     "text": [
      "\n",
      "+++++ 50 steps later:\n",
      "SYSTEM STATE at Time t = 0.034000000000000016:\n",
      "[[0.53513401 0.5437576  0.54867719 0.53174198 0.48696931 0.43256384\n",
      "  0.39647767]\n",
      " [0.39647767 0.43256384 0.48696931 0.53174198 0.54867719 0.5437576\n",
      "  0.53513401]\n",
      " [1.49508439 2.09028492 2.96849022 3.41695934 2.96849022 2.09028492\n",
      "  1.49508439]]\n",
      "\n",
      "+++++ 50 steps later:\n",
      "SYSTEM STATE at Time t = 0.03600000000000002:\n",
      "[[0.48751897 0.50165856 0.51768297 0.51798994 0.49498758 0.46076288\n",
      "  0.4365229 ]\n",
      " [0.4365229  0.46076288 0.49498758 0.51798994 0.51768297 0.50165856\n",
      "  0.48751897]\n",
      " [1.65797359 2.15520413 2.86719131 3.22213812 2.86719131 2.15520413\n",
      "  1.65797359]]\n",
      "\n",
      "+++++ 50 steps later:\n",
      "SYSTEM STATE at Time t = 0.03800000000000002:\n",
      "[[0.47470241 0.48869324 0.50591479 0.51120986 0.49756771 0.47365233\n",
      "  0.45594669]\n",
      " [0.45594669 0.47365233 0.49756771 0.51120986 0.50591479 0.48869324\n",
      "  0.47470241]\n",
      " [1.78774781 2.20070508 2.77778668 3.05983384 2.77778668 2.20070508\n",
      "  1.78774781]]\n",
      "\n",
      "+++++ 50 steps later:\n",
      "SYSTEM STATE at Time t = 0.04000000000000002:\n",
      "[[0.47257504 0.48488523 0.50040062 0.50652836 0.49733067 0.47935337\n",
      "  0.46567693]\n",
      " [0.46567693 0.47935337 0.49733067 0.50652836 0.50040062 0.48488523\n",
      "  0.47257504]\n",
      " [1.89367665 2.23536347 2.70338342 2.9284027  2.70338342 2.23536347\n",
      "  1.89367665]]\n"
     ]
    }
   ],
   "source": [
    "for _ in range(4):\n",
    "    print(\"\\n+++++ 50 steps later:\")\n",
    "    bio.react_diffuse(time_step=delta_t, n_steps=50)\n",
    "    total_time += delta_t\n",
    "    bio.describe_state(concise=True, time=total_time)"
   ]
  },
  {
   "cell_type": "code",
   "execution_count": 18,
   "id": "8ac79f33-0548-49ce-a165-24b9773a7c4c",
   "metadata": {},
   "outputs": [
    {
     "name": "stdout",
     "output_type": "stream",
     "text": [
      "[Graphic element sent to log file]\n",
      "[Graphic element sent to log file]\n",
      "[Graphic element sent to log file]\n",
      "[Graphic element sent to log file]\n",
      "[Graphic element sent to log file]\n",
      "[Graphic element sent to log file]\n",
      "[Graphic element sent to log file]\n"
     ]
    }
   ],
   "source": [
    "log.write(f\"System state at time t={total_time}:\", blanks_before=2, style=log.bold, also_print=False)\n",
    "\n",
    "# Output to the log file a heatmap for each chemical species\n",
    "for i in range(3):\n",
    "    bio.single_species_heatmap(species_index=i, heatmap_pars=heatmap_pars, graphic_component=\"vue_heatmap_11\")\n",
    "\n",
    "# Output to the log file a one-curve line plot for each chemical species\n",
    "for i in range(3):\n",
    "    bio.single_species_line_plot(species_index=i, plot_pars=lineplot_pars, graphic_component=\"vue_curves_3\")\n",
    "\n",
    "# Output to the log file a line plot for all the chemicals together \n",
    "bio.line_plot(plot_pars=lineplot_pars, graphic_component=\"vue_curves_4\")"
   ]
  },
  {
   "cell_type": "code",
   "execution_count": 19,
   "id": "b041f211-cc16-42a4-b0ca-2beb4e2c34aa",
   "metadata": {},
   "outputs": [
    {
     "name": "stdout",
     "output_type": "stream",
     "text": [
      "\n",
      "+++++++++++++++ 150 steps later:\n",
      "SYSTEM STATE at Time t = 0.04200000000000002:\n",
      "[[0.47744061 0.4845086  0.49346999 0.49747162 0.49331726 0.48423339\n",
      "  0.47709743]\n",
      " [0.47709743 0.48423339 0.49331726 0.49747162 0.49346999 0.4845086\n",
      "  0.47744061]\n",
      " [2.11014111 2.3007984  2.55138084 2.66782039 2.55138084 2.3007984\n",
      "  2.11014111]]\n",
      "\n",
      "+++++++++++++++ 150 steps later:\n",
      "SYSTEM STATE at Time t = 0.044000000000000025:\n",
      "[[0.48168804 0.48554921 0.49041386 0.49259511 0.49040626 0.48553552\n",
      "  0.48167096]\n",
      " [0.48167096 0.48553552 0.49040626 0.49259511 0.49041386 0.48554921\n",
      "  0.48168804]\n",
      " [2.2288825  2.33377315 2.46847456 2.52988061 2.46847456 2.33377315\n",
      "  2.2288825 ]]\n",
      "\n",
      "+++++++++++++++ 150 steps later:\n",
      "SYSTEM STATE at Time t = 0.04600000000000003:\n",
      "[[0.48405962 0.48615505 0.48878337 0.48995858 0.48878299 0.48615437\n",
      "  0.48405877]\n",
      " [0.48405877 0.48615437 0.48878299 0.48995858 0.48878337 0.48615505\n",
      "  0.48405962]\n",
      " [2.29360822 2.350868   2.42345244 2.45618991 2.42345244 2.350868\n",
      "  2.29360822]]\n",
      "\n",
      "+++++++++++++++ 150 steps later:\n",
      "SYSTEM STATE at Time t = 0.04800000000000003:\n",
      "[[0.48534444 0.4864795  0.48789956 0.48853323 0.48789955 0.48647947\n",
      "  0.4853444 ]\n",
      " [0.4853444  0.48647947 0.48789955 0.48853323 0.48789956 0.4864795\n",
      "  0.48534444]\n",
      " [2.32876222 2.35988613 2.39905402 2.4166151  2.39905402 2.35988613\n",
      "  2.32876222]]\n"
     ]
    }
   ],
   "source": [
    "for _ in range(4):\n",
    "    print(\"\\n+++++++++++++++ 150 steps later:\")\n",
    "    bio.react_diffuse(time_step=delta_t, n_steps=150)\n",
    "    total_time += delta_t\n",
    "    bio.describe_state(concise=True, time=total_time)"
   ]
  },
  {
   "cell_type": "code",
   "execution_count": 20,
   "id": "149c2dd1-ae24-42af-9cb7-ea3e3b7bc7ae",
   "metadata": {},
   "outputs": [
    {
     "name": "stdout",
     "output_type": "stream",
     "text": [
      "[Graphic element sent to log file]\n",
      "[Graphic element sent to log file]\n",
      "[Graphic element sent to log file]\n",
      "[Graphic element sent to log file]\n",
      "[Graphic element sent to log file]\n",
      "[Graphic element sent to log file]\n",
      "[Graphic element sent to log file]\n"
     ]
    }
   ],
   "source": [
    "log.write(f\"System state at time t={total_time}:\", blanks_before=2, style=log.bold, also_print=False)\n",
    "\n",
    "# Output to the log file a heatmap for each chemical species\n",
    "for i in range(3):\n",
    "    bio.single_species_heatmap(species_index=i, heatmap_pars=heatmap_pars, graphic_component=\"vue_heatmap_11\")\n",
    "\n",
    "# Output to the log file a one-curve line plot for each chemical species\n",
    "for i in range(3):\n",
    "    bio.single_species_line_plot(species_index=i, plot_pars=lineplot_pars, graphic_component=\"vue_curves_3\")\n",
    "\n",
    "# Output to the log file a line plot for all the chemicals together \n",
    "bio.line_plot(plot_pars=lineplot_pars, graphic_component=\"vue_curves_4\")"
   ]
  },
  {
   "cell_type": "code",
   "execution_count": 21,
   "id": "c9a71254-b873-4f84-92e8-55110fd3e9e1",
   "metadata": {},
   "outputs": [
    {
     "name": "stdout",
     "output_type": "stream",
     "text": [
      "\n",
      "++++++++++ ... ++++++++++ 1,000 steps later:\n",
      "SYSTEM STATE at Time t = 0.05000000000000003:\n",
      "[[0.48683089 0.48684974 0.48687325 0.48688372 0.48687325 0.48684974\n",
      "  0.48683089]\n",
      " [0.48683089 0.48684974 0.48687325 0.48688372 0.48687325 0.48684974\n",
      "  0.48683089]\n",
      " [2.36959744 2.37011659 2.37076408 2.37105229 2.37076408 2.37011659\n",
      "  2.36959744]]\n",
      "\n",
      "++++++++++ ... ++++++++++ 1,000 steps later:\n",
      "SYSTEM STATE at Time t = 0.05200000000000003:\n",
      "[[0.48685551 0.48685582 0.48685621 0.48685639 0.48685621 0.48685582\n",
      "  0.48685551]\n",
      " [0.48685551 0.48685582 0.48685621 0.48685639 0.48685621 0.48685582\n",
      "  0.48685551]\n",
      " [2.37027551 2.37028411 2.37029484 2.37029961 2.37029484 2.37028411\n",
      "  2.37027551]]\n"
     ]
    }
   ],
   "source": [
    "for _ in range(2):\n",
    "    print(\"\\n++++++++++ ... ++++++++++ 1,000 steps later:\")\n",
    "    bio.react_diffuse(time_step=delta_t, n_steps=1000)\n",
    "    total_time += delta_t\n",
    "    bio.describe_state(concise=True, time=total_time)"
   ]
  },
  {
   "cell_type": "code",
   "execution_count": 22,
   "id": "ebc287ae-60de-4d52-9b34-6714b3813198",
   "metadata": {},
   "outputs": [
    {
     "name": "stdout",
     "output_type": "stream",
     "text": [
      "[Graphic element sent to log file]\n",
      "[Graphic element sent to log file]\n",
      "[Graphic element sent to log file]\n",
      "[Graphic element sent to log file]\n",
      "[Graphic element sent to log file]\n",
      "[Graphic element sent to log file]\n",
      "[Graphic element sent to log file]\n"
     ]
    }
   ],
   "source": [
    "log.write(f\"System state at time t={total_time}:\", blanks_before=2, style=log.bold, also_print=False)\n",
    "\n",
    "# Output to the log file a heatmap for each chemical species\n",
    "for i in range(3):\n",
    "    bio.single_species_heatmap(species_index=i, heatmap_pars=heatmap_pars, graphic_component=\"vue_heatmap_11\")\n",
    "\n",
    "# Output to the log file a one-curve line plot for each chemical species\n",
    "for i in range(3):\n",
    "    bio.single_species_line_plot(species_index=i, plot_pars=lineplot_pars, graphic_component=\"vue_curves_3\")\n",
    "\n",
    "# Output to the log file a line plot for all the chemicals together \n",
    "bio.line_plot(plot_pars=lineplot_pars, graphic_component=\"vue_curves_4\")"
   ]
  },
  {
   "cell_type": "code",
   "execution_count": 23,
   "id": "1678d6bf-434f-476c-a966-998fbfa0e74a",
   "metadata": {},
   "outputs": [
    {
     "name": "stdout",
     "output_type": "stream",
     "text": [
      "\n",
      "Ratio of equilibrium concentrations ((C_eq) / (A_eq * B_eq)) : 9.999968840509963\n",
      "Ratio of forward/reverse rates: 10.0\n"
     ]
    }
   ],
   "source": [
    "# Verify equilibrium concentrations (sampled in the 1st bin; at this point, all bins have equilibrated)\n",
    "A_eq = bio.bin_concentration(0, 0)\n",
    "B_eq = bio.bin_concentration(0, 1)\n",
    "C_eq = bio.bin_concentration(0, 2)\n",
    "print(f\"\\nRatio of equilibrium concentrations ((C_eq) / (A_eq * B_eq)) : {(C_eq) / (A_eq * B_eq)}\")\n",
    "print(f\"Ratio of forward/reverse rates: {rxn.get_forward_rate(0) / rxn.get_reverse_rate(0)}\")\n",
    "# Both are essentially equal, as expected"
   ]
  },
  {
   "cell_type": "code",
   "execution_count": null,
   "id": "db46747e-9289-45c8-ba33-10c21c83e2e6",
   "metadata": {},
   "outputs": [],
   "source": []
  }
 ],
 "metadata": {
  "kernelspec": {
   "display_name": "Python 3 (ipykernel)",
   "language": "python",
   "name": "python3"
  },
  "language_info": {
   "codemirror_mode": {
    "name": "ipython",
    "version": 3
   },
   "file_extension": ".py",
   "mimetype": "text/x-python",
   "name": "python",
   "nbconvert_exporter": "python",
   "pygments_lexer": "ipython3",
   "version": "3.8.10"
  }
 },
 "nbformat": 4,
 "nbformat_minor": 5
}
