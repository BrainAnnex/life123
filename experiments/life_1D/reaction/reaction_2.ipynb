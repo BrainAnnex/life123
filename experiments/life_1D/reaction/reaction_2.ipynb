{
 "cells": [
  {
   "cell_type": "markdown",
   "id": "76d0cfef-8918-4004-ba88-d27425d05675",
   "metadata": {},
   "source": [
    "**One-bin A <-> 3B reaction, with 1st-order kinetics in both directions,\n",
    "taken to equilibrium**\n",
    "\n",
    "LAST REVISED: June 13, 2022"
   ]
  },
  {
   "cell_type": "code",
   "execution_count": 1,
   "id": "38fd1aeb-070b-47bc-b346-471da0396a42",
   "metadata": {},
   "outputs": [
    {
     "name": "stdout",
     "output_type": "stream",
     "text": [
      "Added 'D:\\Docs\\- MY CODE\\BioSimulations\\life123-Win7' to sys.path\n"
     ]
    }
   ],
   "source": [
    "import set_path\n",
    "set_path.add_ancestor_dir_to_syspath(3)  # The number of levels to go up \n",
    "                                         # to reach the project's home from the folder containing this notebook"
   ]
  },
  {
   "cell_type": "code",
   "execution_count": 2,
   "id": "3b64aa9a-b253-4926-805d-61238df949ea",
   "metadata": {},
   "outputs": [],
   "source": [
    "from modules.chemicals.chemicals import Chemicals as chem\n",
    "from modules.reactions.reactions import Reactions\n",
    "from life_1D.bio_sim_1d import BioSim1D as bio\n",
    "\n",
    "from modules.html_log.html_log import HtmlLog as log"
   ]
  },
  {
   "cell_type": "code",
   "execution_count": 3,
   "id": "55ae0052-2f52-4d9b-8f13-cb65adb9d04b",
   "metadata": {},
   "outputs": [
    {
     "name": "stdout",
     "output_type": "stream",
     "text": [
      "1 bins and 2 species:\n",
      "\n",
      "  Species 0 (A). Diff rate: 0.1. Conc:  [10.]\n",
      "  Species 1 (B). Diff rate: 0.1. Conc:  [50.]\n"
     ]
    }
   ],
   "source": [
    "# Initialize the system\n",
    "chem_data = chem(diffusion_rates=[0.1, 0.1], names=[\"A\", \"B\"])  # NOTE: diffusion_rates not used for now\n",
    "\n",
    "rxn = Reactions(chem_data)\n",
    "\n",
    "# Reaction A -> 3B , with 1st-order kinetics in both directions\n",
    "rxn.add_reaction(reactants=[\"A\"], products=[(3,\"B\")], forward_rate=5., reverse_rate=2.)\n",
    "\n",
    "bio.initialize_system(n_bins=1, chem_data=chem_data, reactions=rxn)\n",
    "\n",
    "bio.set_uniform_concentration(species_index=0, conc=10.)\n",
    "bio.set_uniform_concentration(species_index=1, conc=50.)\n",
    "\n",
    "bio.describe_state()"
   ]
  },
  {
   "cell_type": "code",
   "execution_count": 4,
   "id": "025dc8d4-cc77-48fe-90f6-eab7f3383310",
   "metadata": {},
   "outputs": [
    {
     "name": "stdout",
     "output_type": "stream",
     "text": [
      "Number of reactions:  1\n",
      "0: A <-> 3 B  (Rf = 5.0 / Rb = 2.0)\n"
     ]
    }
   ],
   "source": [
    "rxn.describe_reactions()"
   ]
  },
  {
   "cell_type": "code",
   "execution_count": 5,
   "id": "6aa601cb-5f4a-4a16-bde8-abb514bb25c2",
   "metadata": {},
   "outputs": [
    {
     "name": "stdout",
     "output_type": "stream",
     "text": [
      "0: [(1, 0, 1)] <-> [(3, 1, 1)]   ; Fwd: 5.0 / Back: 2.0\n"
     ]
    }
   ],
   "source": [
    "rxn._internal_reactions_data()    # Low-level view of the reactions data"
   ]
  },
  {
   "cell_type": "code",
   "execution_count": 6,
   "id": "1ec91d5e-717e-45f5-a88c-f8e8df328e48",
   "metadata": {},
   "outputs": [
    {
     "name": "stdout",
     "output_type": "stream",
     "text": [
      "1 bins and 2 species:\n",
      "\n",
      "  Species 0 (A). Diff rate: 0.1. Conc:  [15.]\n",
      "  Species 1 (B). Diff rate: 0.1. Conc:  [35.]\n"
     ]
    }
   ],
   "source": [
    "# First step\n",
    "bio.react(time_step=0.1, n_steps=1)\n",
    "bio.describe_state()"
   ]
  },
  {
   "cell_type": "markdown",
   "id": "7a9b3abf-86e7-4ef3-9ddc-23e4a2698c7c",
   "metadata": {},
   "source": [
    "_Early in the reaction :_  \n",
    "[A] = 15.   [B] = 35."
   ]
  },
  {
   "cell_type": "code",
   "execution_count": 7,
   "id": "6c178528-e88b-4be4-ab61-a5f1f6d57c36",
   "metadata": {},
   "outputs": [
    {
     "name": "stdout",
     "output_type": "stream",
     "text": [
      "1 bins and 2 species:\n",
      "\n",
      "  Species 0 (A). Diff rate: 0.1. Conc:  [14.54545455]\n",
      "  Species 1 (B). Diff rate: 0.1. Conc:  [36.36363636]\n"
     ]
    }
   ],
   "source": [
    "# Numerous more steps\n",
    "bio.react(time_step=0.1, n_steps=10)\n",
    "\n",
    "bio.describe_state()"
   ]
  },
  {
   "cell_type": "markdown",
   "id": "17457676-5007-41b3-b8c2-a83a3d72ee47",
   "metadata": {},
   "source": [
    "Consistent with the 5/2 ratio of forward/reverse rates (and the 1st order reactions),\n",
    "the systems settles in the equilibrium:   [A] = 14.54545455 , [B] = 36.36363636"
   ]
  },
  {
   "cell_type": "code",
   "execution_count": 8,
   "id": "0c014508-d9fc-4069-8bfb-31b5798b8545",
   "metadata": {},
   "outputs": [
    {
     "name": "stdout",
     "output_type": "stream",
     "text": [
      "Ratio of equilibrium concentrations: 2.4999999999828124\n",
      "Ratio of forward/reverse rates: 2.5\n"
     ]
    }
   ],
   "source": [
    "A_eq = bio.bin_concentration(0, 0)\n",
    "B_eq = bio.bin_concentration(0, 1)\n",
    "print(f\"Ratio of equilibrium concentrations: {B_eq / A_eq}\")\n",
    "print(f\"Ratio of forward/reverse rates: {rxn.get_forward_rate(0) / rxn.get_reverse_rate(0)}\")"
   ]
  },
  {
   "cell_type": "code",
   "execution_count": null,
   "id": "d35ffbce-15c6-4eb6-ba00-da0f60686942",
   "metadata": {},
   "outputs": [],
   "source": []
  }
 ],
 "metadata": {
  "kernelspec": {
   "display_name": "Python 3 (ipykernel)",
   "language": "python",
   "name": "python3"
  },
  "language_info": {
   "codemirror_mode": {
    "name": "ipython",
    "version": 3
   },
   "file_extension": ".py",
   "mimetype": "text/x-python",
   "name": "python",
   "nbconvert_exporter": "python",
   "pygments_lexer": "ipython3",
   "version": "3.7.3"
  }
 },
 "nbformat": 4,
 "nbformat_minor": 5
}
