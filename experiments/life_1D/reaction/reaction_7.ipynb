{
 "cells": [
  {
   "cell_type": "markdown",
   "id": "80abc7ee-f50e-48b7-9ea7-15ce6226b0bf",
   "metadata": {},
   "source": [
    "**One-bin  2A <-> B reaction, COMPARING 1st-order and 2nd-order kinetics in forward direction;\n",
    "reverse direction 1-st order**\n",
    "\n",
    "LAST REVISED: June 13, 2022"
   ]
  },
  {
   "cell_type": "code",
   "execution_count": 1,
   "id": "c1b7c7c2-bb26-445b-ac5d-02800472335f",
   "metadata": {},
   "outputs": [
    {
     "name": "stdout",
     "output_type": "stream",
     "text": [
      "Added 'D:\\Docs\\- MY CODE\\BioSimulations\\life123-Win7' to sys.path\n"
     ]
    }
   ],
   "source": [
    "import set_path\n",
    "set_path.add_ancestor_dir_to_syspath(3)  # The number of levels to go up \n",
    "                                         # to reach the project's home from the folder containing this notebook"
   ]
  },
  {
   "cell_type": "code",
   "execution_count": 2,
   "id": "a182619a-ae73-4fca-9c63-55a195df46d7",
   "metadata": {},
   "outputs": [],
   "source": [
    "from modules.chemicals.chemicals import Chemicals as chem\n",
    "from modules.reactions.reactions import Reactions\n",
    "from life_1D.bio_sim_1d import BioSim1D as bio\n",
    "\n",
    "from modules.html_log.html_log import HtmlLog as log"
   ]
  },
  {
   "cell_type": "code",
   "execution_count": 3,
   "id": "72d71ac8-3f7d-47b5-94ba-142fca566ff4",
   "metadata": {},
   "outputs": [
    {
     "name": "stdout",
     "output_type": "stream",
     "text": [
      "1 bins and 2 species:\n",
      "\n",
      "  Species 0 (A). Diff rate: 0.1. Conc:  [3.]\n",
      "  Species 1 (B). Diff rate: 0.1. Conc:  [5.]\n"
     ]
    }
   ],
   "source": [
    "# Initialize the system\n",
    "chem_data = chem(diffusion_rates=[0.1, 0.1], names=[\"A\", \"B\"])  # NOTE: diffusion_rates not used for now\n",
    "\n",
    "rxn = Reactions(chem_data)\n",
    "\n",
    "# Reaction  2A <-> B , FOR NOW with 1st-order kinetics in both directions\n",
    "rxn.add_reaction(reactants=[(2, \"A\")], products=[\"B\"], forward_rate=5., reverse_rate=2.)\n",
    "\n",
    "bio.initialize_system(n_bins=1, chem_data=chem_data, reactions=rxn)\n",
    "\n",
    "bio.set_all_uniform_concentrations( [3., 5.] )\n",
    "\n",
    "bio.describe_state()"
   ]
  },
  {
   "cell_type": "code",
   "execution_count": 4,
   "id": "b472b184-9e22-45d4-ab18-b2507a83334a",
   "metadata": {},
   "outputs": [
    {
     "name": "stdout",
     "output_type": "stream",
     "text": [
      "Number of reactions:  1\n",
      "0: 2 A <-> B  (Rf = 5.0 / Rb = 2.0)\n"
     ]
    }
   ],
   "source": [
    "rxn.describe_reactions()"
   ]
  },
  {
   "cell_type": "code",
   "execution_count": 5,
   "id": "f9fb2c7f-1f78-4564-9742-6a4dde887d57",
   "metadata": {},
   "outputs": [
    {
     "name": "stdout",
     "output_type": "stream",
     "text": [
      "0: [(2, 0, 1)] <-> [(1, 1, 1)]   ; Fwd: 5.0 / Back: 2.0\n"
     ]
    }
   ],
   "source": [
    "rxn._internal_reactions_data()    # Low-level view of the reactions data"
   ]
  },
  {
   "cell_type": "markdown",
   "id": "43fb42a4-1582-45b5-9c8b-be146cb72236",
   "metadata": {},
   "source": [
    "# FOR NOW with 1st-order kinetics in both directions"
   ]
  },
  {
   "cell_type": "code",
   "execution_count": 6,
   "id": "4ee91e87-4800-41d6-bc21-223ac1e493b3",
   "metadata": {},
   "outputs": [
    {
     "name": "stdout",
     "output_type": "stream",
     "text": [
      "1 bins and 2 species:\n",
      "\n",
      "  Species 0 (A). Diff rate: 0.1. Conc:  [2.8]\n",
      "  Species 1 (B). Diff rate: 0.1. Conc:  [5.1]\n"
     ]
    }
   ],
   "source": [
    "# First step\n",
    "bio.react(time_step=0.02, n_steps=1)\n",
    "bio.describe_state()"
   ]
  },
  {
   "cell_type": "code",
   "execution_count": 7,
   "id": "333a8c40-dbfb-4c86-a488-750a244b88bc",
   "metadata": {},
   "outputs": [
    {
     "name": "stdout",
     "output_type": "stream",
     "text": [
      "1 bins and 2 species:\n",
      "\n",
      "  Species 0 (A). Diff rate: 0.1. Conc:  [2.16928427]\n",
      "  Species 1 (B). Diff rate: 0.1. Conc:  [5.41535786]\n"
     ]
    }
   ],
   "source": [
    "\"\"\"\n",
    "1 bins and 2 species:\n",
    " [[2.8]\n",
    " [5.1]]\n",
    "\"\"\"\n",
    "\n",
    "\n",
    "# Numerous more steps\n",
    "bio.react(time_step=0.02, n_steps=20)\n",
    "\n",
    "bio.describe_state()"
   ]
  },
  {
   "cell_type": "markdown",
   "id": "bb5ee324-b0e9-4823-82ae-815aab494b57",
   "metadata": {},
   "source": [
    "Consistent with the 5/2 ratio of forward/reverse rates (and the 1st order reactions),\n",
    "the systems settles in the following equilibrium:  \n",
    "[A] = 2.16928427 , [B] = 5.41535786"
   ]
  },
  {
   "cell_type": "code",
   "execution_count": 8,
   "id": "e20b106e-d0ed-46ca-98fb-2a24cd1fa888",
   "metadata": {},
   "outputs": [
    {
     "name": "stdout",
     "output_type": "stream",
     "text": [
      "Ratio of equilibrium concentrations: 2.496379996594894\n",
      "Ratio of forward/reverse rates: 2.5\n"
     ]
    }
   ],
   "source": [
    "A_eq = bio.bin_concentration(0, 0)\n",
    "B_eq = bio.bin_concentration(0, 1)\n",
    "print(f\"Ratio of equilibrium concentrations: {B_eq / A_eq}\")\n",
    "print(f\"Ratio of forward/reverse rates: {rxn.get_forward_rate(0) / rxn.get_reverse_rate(0)}\")"
   ]
  },
  {
   "cell_type": "markdown",
   "id": "6c277db7-6b2b-4e74-b50e-4746cff17e90",
   "metadata": {},
   "source": [
    "# STARTING OVER, this time with 2nd-order kinetics in the forward reaction"
   ]
  },
  {
   "cell_type": "code",
   "execution_count": 9,
   "id": "162100c5-e9d4-498b-81ee-be7b71e7f542",
   "metadata": {},
   "outputs": [],
   "source": [
    "rxn.clear_reactions()"
   ]
  },
  {
   "cell_type": "code",
   "execution_count": 10,
   "id": "9c09f158-2d64-49d6-8d0c-6d3a8b7eff4b",
   "metadata": {},
   "outputs": [
    {
     "name": "stdout",
     "output_type": "stream",
     "text": [
      "1 bins and 2 species:\n",
      "\n",
      "  Species 0 (A). Diff rate: 0.1. Conc:  [3.]\n",
      "  Species 1 (B). Diff rate: 0.1. Conc:  [5.]\n"
     ]
    }
   ],
   "source": [
    "# Reaction  2A <-> B , NOW WITH 2nd-order kinetics in the forward direction\n",
    "rxn.add_reaction(reactants=[(2, \"A\", 2)], products=[\"B\"], forward_rate=5., reverse_rate=2.)\n",
    "\n",
    "bio.set_all_uniform_concentrations( [3., 5.] )\n",
    "\n",
    "bio.describe_state()"
   ]
  },
  {
   "cell_type": "code",
   "execution_count": 11,
   "id": "68b1c2fa-fc50-4f33-a4f0-55d231939752",
   "metadata": {},
   "outputs": [
    {
     "name": "stdout",
     "output_type": "stream",
     "text": [
      "Number of reactions:  1\n",
      "0: 2 A <-> B  (Rf = 5.0 / Rb = 2.0) | 2-th order in reactant A\n"
     ]
    }
   ],
   "source": [
    "rxn.describe_reactions()"
   ]
  },
  {
   "cell_type": "code",
   "execution_count": 12,
   "id": "2e67259c-e51c-4400-bdd5-7ea830e3b298",
   "metadata": {},
   "outputs": [
    {
     "name": "stdout",
     "output_type": "stream",
     "text": [
      "0: [(2, 0, 2)] <-> [(1, 1, 1)]   ; Fwd: 5.0 / Back: 2.0\n"
     ]
    }
   ],
   "source": [
    "rxn._internal_reactions_data()    # Low-level view of the reactions data"
   ]
  },
  {
   "cell_type": "code",
   "execution_count": 13,
   "id": "ab938afe-a818-4e9c-bc2d-d347aa0d0a23",
   "metadata": {},
   "outputs": [
    {
     "name": "stdout",
     "output_type": "stream",
     "text": [
      "1 bins and 2 species:\n",
      "\n",
      "  Species 0 (A). Diff rate: 0.1. Conc:  [1.6]\n",
      "  Species 1 (B). Diff rate: 0.1. Conc:  [5.7]\n"
     ]
    }
   ],
   "source": [
    "# First step\n",
    "bio.react(time_step=0.02, n_steps=1)\n",
    "bio.describe_state()"
   ]
  },
  {
   "cell_type": "code",
   "execution_count": 14,
   "id": "00039c46-f42e-41dc-92b8-2452e489806d",
   "metadata": {},
   "outputs": [
    {
     "name": "stdout",
     "output_type": "stream",
     "text": [
      "1 bins and 2 species:\n",
      "\n",
      "  Species 0 (A). Diff rate: 0.1. Conc:  [1.51554944]\n",
      "  Species 1 (B). Diff rate: 0.1. Conc:  [5.74222528]\n"
     ]
    }
   ],
   "source": [
    "\"\"\"\n",
    "1 bins and 2 species:\n",
    " [[1.6]\n",
    " [5.7]]\n",
    "\"\"\"\n",
    "\n",
    "# Numerous more steps\n",
    "bio.react(time_step=0.02, n_steps=20)\n",
    "\n",
    "bio.describe_state()"
   ]
  },
  {
   "cell_type": "code",
   "execution_count": 15,
   "id": "d8c41a25-94b5-408e-bb2f-880b29b794d7",
   "metadata": {},
   "outputs": [
    {
     "name": "stdout",
     "output_type": "stream",
     "text": [
      "Ratio of equilibrium concentrations ((B_eq) / (A_eq **2)) : 2.4999999997397597\n",
      "Ratio of forward/reverse rates: 2.5\n"
     ]
    }
   ],
   "source": [
    "\"\"\"\n",
    "1 bins and 2 species:\n",
    " [[1.51554944]\n",
    " [5.74222528]]\n",
    "\"\"\"\n",
    "\n",
    "A_eq = bio.bin_concentration(0, 0)\n",
    "B_eq = bio.bin_concentration(0, 1)\n",
    "print(f\"Ratio of equilibrium concentrations ((B_eq) / (A_eq **2)) : {(B_eq) / (A_eq **2)}\")\n",
    "print(f\"Ratio of forward/reverse rates: {rxn.get_forward_rate(0) / rxn.get_reverse_rate(0)}\")"
   ]
  },
  {
   "cell_type": "code",
   "execution_count": null,
   "id": "16ec259b-98fe-4660-8123-83fdf55b74fb",
   "metadata": {},
   "outputs": [],
   "source": []
  }
 ],
 "metadata": {
  "kernelspec": {
   "display_name": "Python 3 (ipykernel)",
   "language": "python",
   "name": "python3"
  },
  "language_info": {
   "codemirror_mode": {
    "name": "ipython",
    "version": 3
   },
   "file_extension": ".py",
   "mimetype": "text/x-python",
   "name": "python",
   "nbconvert_exporter": "python",
   "pygments_lexer": "ipython3",
   "version": "3.7.3"
  }
 },
 "nbformat": 4,
 "nbformat_minor": 5
}
