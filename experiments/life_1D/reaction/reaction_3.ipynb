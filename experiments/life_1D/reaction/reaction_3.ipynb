{
 "cells": [
  {
   "cell_type": "markdown",
   "id": "8d1aaf6c-3d58-4e27-88ac-9482296ac61a",
   "metadata": {},
   "source": [
    "**One-bin 2A <-> 3B reaction, with 1st-order kinetics in both directions,\n",
    "taken to equilibrium**\n",
    "\n",
    "Diffusion not applicable (just 1 bin)\n",
    "\n",
    "LAST REVISED: July 2, 2022"
   ]
  },
  {
   "cell_type": "code",
   "execution_count": 1,
   "id": "266e43ba-f034-4552-b27c-9b344150333b",
   "metadata": {},
   "outputs": [
    {
     "name": "stdout",
     "output_type": "stream",
     "text": [
      "Added 'D:\\Docs\\- MY CODE\\BioSimulations\\life123-Win7' to sys.path\n"
     ]
    }
   ],
   "source": [
    "import set_path\n",
    "set_path.add_ancestor_dir_to_syspath(3)  # The number of levels to go up \n",
    "                                         # to reach the project's home, from the folder containing this notebook"
   ]
  },
  {
   "cell_type": "code",
   "execution_count": 4,
   "id": "1af1338d-1bb3-4fa7-ac47-1e36421df8c0",
   "metadata": {},
   "outputs": [],
   "source": [
    "from modules.chemicals.chemicals import Chemicals as chem\n",
    "from modules.reactions.reactions import Reactions\n",
    "from life_1D.bio_sim_1d import BioSim1D as bio\n",
    "\n",
    "from modules.html_log.html_log import HtmlLog as log"
   ]
  },
  {
   "cell_type": "code",
   "execution_count": 6,
   "id": "b2660f8d-3447-4874-88d0-da99c0edcfcd",
   "metadata": {},
   "outputs": [
    {
     "name": "stdout",
     "output_type": "stream",
     "text": [
      "1 bins and 2 species:\n",
      "\n",
      "  Species 0 (A). Diff rate: NOT SET. Conc:  [10.]\n",
      "  Species 1 (B). Diff rate: NOT SET. Conc:  [50.]\n"
     ]
    }
   ],
   "source": [
    "# Initialize the system\n",
    "chem_data = chem(names=[\"A\", \"B\"])     # NOTE: Diffusion not applicable (just 1 bin)\n",
    "\n",
    "rxn = Reactions(chem_data)\n",
    "\n",
    "# Reaction 2A <-> 3B , with 1st-order kinetics in both directions\n",
    "rxn.add_reaction(reactants=[(2,\"A\")], products=[(3,\"B\")], forward_rate=5., reverse_rate=2.)\n",
    "\n",
    "bio.initialize_system(n_bins=1, chem_data=chem_data, reactions=rxn)\n",
    "\n",
    "bio.set_uniform_concentration(species_index=0, conc=10.)\n",
    "bio.set_uniform_concentration(species_index=1, conc=50.)\n",
    "\n",
    "bio.describe_state()"
   ]
  },
  {
   "cell_type": "code",
   "execution_count": 7,
   "id": "0506f3fa-67d8-4aaf-986b-103f955336bb",
   "metadata": {},
   "outputs": [
    {
     "name": "stdout",
     "output_type": "stream",
     "text": [
      "Number of reactions:  1\n",
      "0: 2 A <-> 3 B  (Rf = 5.0 / Rb = 2.0)\n"
     ]
    }
   ],
   "source": [
    "rxn.describe_reactions()"
   ]
  },
  {
   "cell_type": "code",
   "execution_count": 8,
   "id": "6e554895-10c5-4232-a454-f717366de3b6",
   "metadata": {},
   "outputs": [
    {
     "name": "stdout",
     "output_type": "stream",
     "text": [
      "0: [(2, 0, 1)] <-> [(3, 1, 1)]   ; Fwd: 5.0 / Back: 2.0\n"
     ]
    }
   ],
   "source": [
    "rxn._internal_reactions_data()    # Low-level view of the reactions data"
   ]
  },
  {
   "cell_type": "code",
   "execution_count": 9,
   "id": "430626a5-2e29-4738-944f-6233edd0e7c7",
   "metadata": {},
   "outputs": [
    {
     "name": "stdout",
     "output_type": "stream",
     "text": [
      "1 bins and 2 species:\n",
      "\n",
      "  Species 0 (A). Diff rate: NOT SET. Conc:  [20.]\n",
      "  Species 1 (B). Diff rate: NOT SET. Conc:  [35.]\n"
     ]
    }
   ],
   "source": [
    "# First step\n",
    "bio.react(time_step=0.1, n_steps=1)\n",
    "bio.describe_state()"
   ]
  },
  {
   "cell_type": "markdown",
   "id": "27067455-0efd-45d3-abd8-9b66b6f48097",
   "metadata": {},
   "source": [
    "_Early in the reaction :_\n",
    "[A] = 20. [B] = 35."
   ]
  },
  {
   "cell_type": "code",
   "execution_count": 10,
   "id": "f714a848-01a0-4343-bfbb-89d946a7e343",
   "metadata": {},
   "outputs": [
    {
     "name": "stdout",
     "output_type": "stream",
     "text": [
      "1 bins and 2 species:\n",
      "\n",
      "  Species 0 (A). Diff rate: NOT SET. Conc:  [16.25]\n",
      "  Species 1 (B). Diff rate: NOT SET. Conc:  [40.625]\n"
     ]
    }
   ],
   "source": [
    "# Numerous more steps\n",
    "bio.react(time_step=0.1, n_steps=100)\n",
    "\n",
    "bio.describe_state()"
   ]
  },
  {
   "cell_type": "markdown",
   "id": "20ce715e-e24a-4ec3-a93d-d3eb5858aef5",
   "metadata": {},
   "source": [
    "Consistent with the 5/2 ratio of forward/reverse rates (and the 1st order reactions),\n",
    "the systems settles in the following equilibrium:  [A] = 16.25 , [B] = 40.625"
   ]
  },
  {
   "cell_type": "code",
   "execution_count": 11,
   "id": "c8e03e64-98ac-4e3e-a88e-124b213bb215",
   "metadata": {},
   "outputs": [
    {
     "name": "stdout",
     "output_type": "stream",
     "text": [
      "Ratio of equilibrium concentrations: 2.499999999999999\n",
      "Ratio of forward/reverse rates: 2.5\n"
     ]
    }
   ],
   "source": [
    "A_eq = bio.bin_concentration(0, 0)\n",
    "B_eq = bio.bin_concentration(0, 1)\n",
    "print(f\"Ratio of equilibrium concentrations: {B_eq / A_eq}\")\n",
    "print(f\"Ratio of forward/reverse rates: {rxn.get_forward_rate(0) / rxn.get_reverse_rate(0)}\")"
   ]
  },
  {
   "cell_type": "code",
   "execution_count": null,
   "id": "f4146eea-ab25-421c-915b-2e0e75c0e982",
   "metadata": {},
   "outputs": [],
   "source": []
  }
 ],
 "metadata": {
  "kernelspec": {
   "display_name": "Python 3 (ipykernel)",
   "language": "python",
   "name": "python3"
  },
  "language_info": {
   "codemirror_mode": {
    "name": "ipython",
    "version": 3
   },
   "file_extension": ".py",
   "mimetype": "text/x-python",
   "name": "python",
   "nbconvert_exporter": "python",
   "pygments_lexer": "ipython3",
   "version": "3.8.10"
  }
 },
 "nbformat": 4,
 "nbformat_minor": 5
}
