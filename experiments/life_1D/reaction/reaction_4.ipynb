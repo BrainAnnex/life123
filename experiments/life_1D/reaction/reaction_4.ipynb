{
 "cells": [
  {
   "cell_type": "markdown",
   "id": "c3b90917-d8b3-4644-a485-b22d440272b9",
   "metadata": {},
   "source": [
    "**One-bin A + B <-> C, with 1st-order kinetics for each species,\n",
    "taken to equilibrium**\n",
    "\n",
    "LAST REVISED: June 13, 2022"
   ]
  },
  {
   "cell_type": "code",
   "execution_count": 1,
   "id": "bce82b44-dace-4396-af34-6ba5b941b64a",
   "metadata": {},
   "outputs": [
    {
     "name": "stdout",
     "output_type": "stream",
     "text": [
      "Added 'D:\\Docs\\- MY CODE\\BioSimulations\\life123-Win7' to sys.path\n"
     ]
    }
   ],
   "source": [
    "from modules.chemicals.chemicals import Chemicals as chem\n",
    "from modules.reactions.reactions import Reactions\n",
    "from life_1D.bio_sim_1d import BioSim1D as bio\n",
    "\n",
    "from modules.html_log.html_log import HtmlLog as log\n",
    "\n",
    "import set_path\n",
    "set_path.add_ancestor_dir_to_syspath(3)  # The number of levels to go up \n",
    "                                         # to reach the project's home from the folder containing this notebook"
   ]
  },
  {
   "cell_type": "code",
   "execution_count": 2,
   "id": "d8f2d83d-97bc-4f57-8f71-c0923f0334ed",
   "metadata": {},
   "outputs": [
    {
     "name": "stdout",
     "output_type": "stream",
     "text": [
      "1 bins and 3 species:\n",
      "\n",
      "  Species 0 (A). Diff rate: 0.1. Conc:  [10.]\n",
      "  Species 1 (B). Diff rate: 0.1. Conc:  [50.]\n",
      "  Species 2 (C). Diff rate: 0.1. Conc:  [20.]\n"
     ]
    }
   ],
   "source": [
    "# Initialize the system\n",
    "chem_data = chem(diffusion_rates=[0.1, 0.1, 0.1], names=[\"A\", \"B\", \"C\"])    # NOTE: diffusion_rates not used for now\n",
    "\n",
    "rxn = Reactions(chem_data)\n",
    "\n",
    "# Reaction A + B <-> C , with 1st-order kinetics for each species\n",
    "rxn.add_reaction(reactants=[(\"A\") , (\"B\")], products=[(\"C\")],\n",
    "                 forward_rate=5., reverse_rate=2.)\n",
    "\n",
    "bio.initialize_system(n_bins=1, chem_data=chem_data, reactions=rxn)\n",
    "\n",
    "bio.set_uniform_concentration(species_index=0, conc=10.)\n",
    "bio.set_uniform_concentration(species_index=1, conc=50.)\n",
    "bio.set_uniform_concentration(species_index=2, conc=20.)\n",
    "\n",
    "bio.describe_state()"
   ]
  },
  {
   "cell_type": "code",
   "execution_count": 3,
   "id": "0daf928e-e511-44c9-b2ee-1995a8e493a4",
   "metadata": {},
   "outputs": [
    {
     "name": "stdout",
     "output_type": "stream",
     "text": [
      "Number of reactions:  1\n",
      "0: A + B <-> C  (Rf = 5.0 / Rb = 2.0)\n"
     ]
    }
   ],
   "source": [
    "rxn.describe_reactions()"
   ]
  },
  {
   "cell_type": "code",
   "execution_count": 4,
   "id": "e17f53bb-e044-4920-b98c-affc949b4361",
   "metadata": {},
   "outputs": [
    {
     "name": "stdout",
     "output_type": "stream",
     "text": [
      "0: [(1, 0, 1), (1, 1, 1)] <-> [(1, 2, 1)]   ; Fwd: 5.0 / Back: 2.0\n"
     ]
    }
   ],
   "source": [
    "rxn._internal_reactions_data()    # Low-level view of the reactions data"
   ]
  },
  {
   "cell_type": "code",
   "execution_count": 5,
   "id": "b8c0d439-13f7-459c-88e2-0ae357b46c18",
   "metadata": {},
   "outputs": [
    {
     "name": "stdout",
     "output_type": "stream",
     "text": [
      "1 bins and 3 species:\n",
      "\n",
      "  Species 0 (A). Diff rate: 0.1. Conc:  [5.08]\n",
      "  Species 1 (B). Diff rate: 0.1. Conc:  [45.08]\n",
      "  Species 2 (C). Diff rate: 0.1. Conc:  [24.92]\n"
     ]
    }
   ],
   "source": [
    "# First step\n",
    "bio.react(time_step=0.002, n_steps=1)\n",
    "bio.describe_state()"
   ]
  },
  {
   "cell_type": "markdown",
   "id": "4c074e7c-0308-4085-a2f9-2da055ffcef8",
   "metadata": {},
   "source": [
    "_Early in the reaction :_\n",
    "[A] = 5.08 ,  [B] = 45.08 ,  [C] = [24.92]"
   ]
  },
  {
   "cell_type": "code",
   "execution_count": 6,
   "id": "8efdf9ef-bdca-48ff-b139-6e2d9952c1d8",
   "metadata": {},
   "outputs": [
    {
     "name": "stdout",
     "output_type": "stream",
     "text": [
      "1 bins and 3 species:\n",
      "\n",
      "  Species 0 (A). Diff rate: 0.1. Conc:  [0.29487741]\n",
      "  Species 1 (B). Diff rate: 0.1. Conc:  [40.29487741]\n",
      "  Species 2 (C). Diff rate: 0.1. Conc:  [29.70512259]\n"
     ]
    }
   ],
   "source": [
    "# Numerous more steps\n",
    "bio.react(time_step=0.002, n_steps=40)\n",
    "\n",
    "bio.describe_state()"
   ]
  },
  {
   "cell_type": "markdown",
   "id": "7f687d0d-75ab-4e29-8070-5b6f1fc80b4b",
   "metadata": {},
   "source": [
    "Consistent with the 5/2 ratio of forward/reverse rates (and the 1st order reactions),\n",
    "the systems settles in the following equilibrium:  \n",
    "[A] = 0.29487741 , [B] = 40.29487741 , [C] = [29.70512259]"
   ]
  },
  {
   "cell_type": "markdown",
   "id": "e3e5ad07-d8ce-44ce-92fd-5c10a4bee6f6",
   "metadata": {},
   "source": [
    "# Note: \"A\" is largely the limiting reagent"
   ]
  },
  {
   "cell_type": "code",
   "execution_count": 7,
   "id": "52790e36-9799-47f4-9725-df016bf19781",
   "metadata": {},
   "outputs": [
    {
     "name": "stdout",
     "output_type": "stream",
     "text": [
      "Ratio of equilibrium concentrations (C_eq / (A_eq * B_eq)) : 2.4999999765280356\n",
      "Ratio of forward/reverse rates: 2.5\n"
     ]
    }
   ],
   "source": [
    "A_eq = bio.bin_concentration(0, 0)\n",
    "B_eq = bio.bin_concentration(0, 1)\n",
    "C_eq = bio.bin_concentration(0, 2)\n",
    "print(f\"Ratio of equilibrium concentrations (C_eq / (A_eq * B_eq)) : {C_eq / (A_eq * B_eq)}\")\n",
    "print(f\"Ratio of forward/reverse rates: {rxn.get_forward_rate(0) / rxn.get_reverse_rate(0)}\")"
   ]
  },
  {
   "cell_type": "code",
   "execution_count": null,
   "id": "734dc237-465d-47eb-a426-903bc474c6a4",
   "metadata": {},
   "outputs": [],
   "source": []
  }
 ],
 "metadata": {
  "kernelspec": {
   "display_name": "Python 3 (ipykernel)",
   "language": "python",
   "name": "python3"
  },
  "language_info": {
   "codemirror_mode": {
    "name": "ipython",
    "version": 3
   },
   "file_extension": ".py",
   "mimetype": "text/x-python",
   "name": "python",
   "nbconvert_exporter": "python",
   "pygments_lexer": "ipython3",
   "version": "3.7.3"
  }
 },
 "nbformat": 4,
 "nbformat_minor": 5
}
