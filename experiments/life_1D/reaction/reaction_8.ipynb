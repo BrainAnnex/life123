{
 "cells": [
  {
   "cell_type": "markdown",
   "id": "4f3151f1-fee2-40d3-9913-d02f15a8fa30",
   "metadata": {},
   "source": [
    "**Two COUPLED reactions:  A + B <-> C  and  C + D <-> E , with 1st-order kinetics for each species,\n",
    "taken to equilibrium**"
   ]
  },
  {
   "cell_type": "code",
   "execution_count": 2,
   "id": "ecd38f71-69ed-4040-9fca-45e01a2fc639",
   "metadata": {},
   "outputs": [
    {
     "name": "stdout",
     "output_type": "stream",
     "text": [
      "1 bins and 5 species:\n",
      "\n",
      "  Species 0 (A). Diff rate: 0.1. Conc:  [3.]\n",
      "  Species 1 (B). Diff rate: 0.1. Conc:  [5.]\n",
      "  Species 2 (C). Diff rate: 0.1. Conc:  [1.]\n",
      "  Species 3 (D). Diff rate: 0.1. Conc:  [0.4]\n",
      "  Species 4 (E). Diff rate: 0.1. Conc:  [0.1]\n"
     ]
    }
   ],
   "source": [
    "from modules.chemicals.chemicals import Chemicals as chem\n",
    "from modules.reactions.reactions import Reactions\n",
    "from life_1D.bio_sim_1d import BioSim1D as bio\n",
    "\n",
    "from modules.html_log.html_log import HtmlLog as log\n",
    "\n",
    "\n",
    "\n",
    "# Initialize the system\n",
    "chem_data = chem(diffusion_rates=[.1, .1, .1, .1, .1], names=[\"A\", \"B\", \"C\", \"D\", \"E\"])  # NOTE: diffusion_rates not used for now\n",
    "\n",
    "rxn = Reactions(chem_data)\n",
    "\n",
    "# Reactions A + B <-> C  and  C + D <-> E , with 1st-order kinetics for each species\n",
    "rxn.add_reaction(reactants=[\"A\", \"B\"], products=[\"C\"], forward_rate=5., reverse_rate=2.)\n",
    "rxn.add_reaction(reactants=[\"C\", \"D\"], products=[\"E\"], forward_rate=8., reverse_rate=4.)\n",
    "\n",
    "bio.initialize_system(n_bins=1, chem_data=chem_data, reactions=rxn)\n",
    "\n",
    "bio.set_all_uniform_concentrations( [3., 5., 1., 0.4, 0.1] )\n",
    "\n",
    "bio.describe_state()"
   ]
  },
  {
   "cell_type": "code",
   "execution_count": 3,
   "id": "d79393b1-8751-4cdc-81fe-381b1161ec93",
   "metadata": {},
   "outputs": [
    {
     "name": "stdout",
     "output_type": "stream",
     "text": [
      "Number of reactions:  2\n",
      "0: A + B <-> C  (Rf = 5.0 / Rb = 2.0)\n",
      "1: C + D <-> E  (Rf = 8.0 / Rb = 4.0)\n"
     ]
    }
   ],
   "source": [
    "rxn.describe_reactions()"
   ]
  },
  {
   "cell_type": "code",
   "execution_count": 4,
   "id": "c05a44f2-085e-418d-be55-8ea403b1b44e",
   "metadata": {},
   "outputs": [
    {
     "name": "stdout",
     "output_type": "stream",
     "text": [
      "0: [(1, 0, 1), (1, 1, 1)] <-> [(1, 2, 1)]   ; Fwd: 5.0 / Back: 2.0\n",
      "1: [(1, 2, 1), (1, 3, 1)] <-> [(1, 4, 1)]   ; Fwd: 8.0 / Back: 4.0\n"
     ]
    }
   ],
   "source": [
    "rxn._internal_reactions_data()    # Low-level view of the reactions data"
   ]
  },
  {
   "cell_type": "code",
   "execution_count": 5,
   "id": "73e5e562-60d7-46d9-b9d5-03748e0103eb",
   "metadata": {},
   "outputs": [
    {
     "name": "stdout",
     "output_type": "stream",
     "text": [
      "1 bins and 5 species:\n",
      "\n",
      "  Species 0 (A). Diff rate: 0.1. Conc:  [2.27]\n",
      "  Species 1 (B). Diff rate: 0.1. Conc:  [4.27]\n",
      "  Species 2 (C). Diff rate: 0.1. Conc:  [1.702]\n",
      "  Species 3 (D). Diff rate: 0.1. Conc:  [0.372]\n",
      "  Species 4 (E). Diff rate: 0.1. Conc:  [0.128]\n"
     ]
    }
   ],
   "source": [
    "# First step\n",
    "bio.react(time_step=0.01, n_steps=1)\n",
    "bio.describe_state()"
   ]
  },
  {
   "cell_type": "code",
   "execution_count": 6,
   "id": "ae1ad0a8-b118-400d-ab94-8f404597642d",
   "metadata": {},
   "outputs": [
    {
     "name": "stdout",
     "output_type": "stream",
     "text": [
      "1 bins and 5 species:\n",
      "\n",
      "  Species 0 (A). Diff rate: 0.1. Conc:  [1.819395]\n",
      "  Species 1 (B). Diff rate: 0.1. Conc:  [3.819395]\n",
      "  Species 2 (C). Diff rate: 0.1. Conc:  [2.10707348]\n",
      "  Species 3 (D). Diff rate: 0.1. Conc:  [0.32646848]\n",
      "  Species 4 (E). Diff rate: 0.1. Conc:  [0.17353152]\n"
     ]
    }
   ],
   "source": [
    "\"\"\"\n",
    "1 bins and 5 species:\n",
    " [[2.27 ]\n",
    " [4.27 ]\n",
    " [1.702]\n",
    " [0.372]\n",
    " [0.128]]\n",
    "\"\"\"\n",
    "\n",
    "# Identical 2nd step\n",
    "bio.react(time_step=0.01, n_steps=1)\n",
    "bio.describe_state()"
   ]
  },
  {
   "cell_type": "code",
   "execution_count": 7,
   "id": "9bf6ad6f-5e63-44c2-a5eb-e27a5d442c45",
   "metadata": {},
   "outputs": [
    {
     "name": "stdout",
     "output_type": "stream",
     "text": [
      "1 bins and 5 species:\n",
      "\n",
      "  Species 0 (A). Diff rate: 0.1. Conc:  [0.50508029]\n",
      "  Species 1 (B). Diff rate: 0.1. Conc:  [2.50508029]\n",
      "  Species 2 (C). Diff rate: 0.1. Conc:  [3.16316668]\n",
      "  Species 3 (D). Diff rate: 0.1. Conc:  [0.06824696]\n",
      "  Species 4 (E). Diff rate: 0.1. Conc:  [0.43175304]\n"
     ]
    }
   ],
   "source": [
    "\"\"\"\n",
    "1 bins and 5 species:\n",
    " [[1.819395  ]\n",
    " [3.819395  ]\n",
    " [2.10707348]\n",
    " [0.32646848]\n",
    " [0.17353152]]\n",
    "\"\"\"\n",
    "\n",
    "# Numerous more identical steps\n",
    "bio.react(time_step=0.01, n_steps=200)\n",
    "bio.describe_state()"
   ]
  },
  {
   "cell_type": "code",
   "execution_count": 8,
   "id": "df7086e8-1ea6-45f0-9fa3-66c84a9475e7",
   "metadata": {},
   "outputs": [
    {
     "name": "stdout",
     "output_type": "stream",
     "text": [
      "\n",
      "At equilibrium:  -2.6645352591003757e-15  (this should be close to 0 at equilibrium)\n"
     ]
    }
   ],
   "source": [
    "\"\"\"\n",
    "1 bins and 5 species:\n",
    " [[0.50508029]\n",
    " [2.50508029]\n",
    " [3.16316668]\n",
    " [0.06824696]\n",
    " [0.43175304]]\n",
    "\"\"\"\n",
    "\n",
    "\n",
    "# Do a consistent check with the equilibrium concentrations:\n",
    "\n",
    "A_eq = bio.bin_concentration(0, 0)\n",
    "B_eq = bio.bin_concentration(0, 1)\n",
    "C_eq = bio.bin_concentration(0, 2)\n",
    "D_eq = bio.bin_concentration(0, 3)\n",
    "E_eq = bio.bin_concentration(0, 4)\n",
    "\n",
    "Rf0 = rxn.get_forward_rate(0)\n",
    "Rb0 = rxn.get_reverse_rate(0)\n",
    "\n",
    "Rf1 = rxn.get_forward_rate(1)\n",
    "Rb1 = rxn.get_reverse_rate(1)\n",
    "\n",
    "equil = -(Rf0 * A_eq * B_eq - Rf1 * C_eq * D_eq) + (Rb0 * C_eq - Rb1 * E_eq)\n",
    "\n",
    "print(\"\\nAt equilibrium: \", equil, \" (this should be close to 0 at equilibrium)\")"
   ]
  },
  {
   "cell_type": "code",
   "execution_count": null,
   "id": "db69c2b9-d96f-4363-a404-5333217c34bf",
   "metadata": {},
   "outputs": [],
   "source": []
  }
 ],
 "metadata": {
  "kernelspec": {
   "display_name": "Python 3 (ipykernel)",
   "language": "python",
   "name": "python3"
  },
  "language_info": {
   "codemirror_mode": {
    "name": "ipython",
    "version": 3
   },
   "file_extension": ".py",
   "mimetype": "text/x-python",
   "name": "python",
   "nbconvert_exporter": "python",
   "pygments_lexer": "ipython3",
   "version": "3.7.3"
  }
 },
 "nbformat": 4,
 "nbformat_minor": 5
}
