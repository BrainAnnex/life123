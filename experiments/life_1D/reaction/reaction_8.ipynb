{
 "cells": [
  {
   "cell_type": "markdown",
   "id": "4f3151f1-fee2-40d3-9913-d02f15a8fa30",
   "metadata": {},
   "source": [
    "**Two COUPLED reactions:  A + B <-> C  and  C + D <-> E , with 1st-order kinetics for each species,\n",
    "taken to equilibrium**\n",
    "\n",
    "Both reactions are stronger in their respective forward rates.  For the most part, \"C\" is produced by the 1st reaction, and consumed by the 2nd one\n",
    "\n",
    "Diffusion not applicable (just 1 bin)\n",
    "\n",
    "LAST REVISED: Aug. 11, 2022"
   ]
  },
  {
   "cell_type": "code",
   "execution_count": 1,
   "id": "1ae6fc7e-a758-4f90-9fd5-835a4daee70b",
   "metadata": {},
   "outputs": [
    {
     "name": "stdout",
     "output_type": "stream",
     "text": [
      "Added 'D:\\Docs\\- MY CODE\\BioSimulations\\life123-Win7' to sys.path\n"
     ]
    }
   ],
   "source": [
    "# Extend the sys.path variable, to contain the project's root directory\n",
    "import set_path\n",
    "set_path.add_ancestor_dir_to_syspath(3)  # The number of levels to go up \n",
    "                                         # to reach the project's home, from the folder containing this notebook"
   ]
  },
  {
   "cell_type": "code",
   "execution_count": 2,
   "id": "ecd38f71-69ed-4040-9fca-45e01a2fc639",
   "metadata": {},
   "outputs": [],
   "source": [
    "from experiments.get_notebook_info import get_notebook_basename\n",
    "\n",
    "from modules.chemicals.chemicals import Chemicals as chem\n",
    "from modules.reactions.reactions import Reactions\n",
    "from life_1D.bio_sim_1d import BioSim1D as bio\n",
    "\n",
    "import plotly.express as px\n",
    "from modules.html_log.html_log import HtmlLog as log\n",
    "from modules.visualization.graphic_log import GraphicLog"
   ]
  },
  {
   "cell_type": "code",
   "execution_count": 3,
   "id": "05cc8402-3b3c-468a-bb98-ea4159816a0f",
   "metadata": {},
   "outputs": [
    {
     "name": "stdout",
     "output_type": "stream",
     "text": [
      "-> Output will be LOGGED into the file 'reaction_8.log.htm'\n"
     ]
    }
   ],
   "source": [
    "# Initialize the HTML logging\n",
    "log_file = get_notebook_basename() + \".log.htm\"    # Use the notebook base filename for the log file\n",
    "\n",
    "# Set up the use of some specified graphic (Vue) components\n",
    "GraphicLog.config(filename=log_file,\n",
    "                  components=[\"vue_cytoscape_1\"],\n",
    "                  extra_js=\"https://cdnjs.cloudflare.com/ajax/libs/cytoscape/3.21.2/cytoscape.umd.js\",\n",
    "                  home_rel_path=\"../../..\")    # relative path is from the location of THE LOG FILE to the project's home"
   ]
  },
  {
   "cell_type": "code",
   "execution_count": 4,
   "id": "c5443325-1f60-4129-aa6d-47d328ab7c05",
   "metadata": {},
   "outputs": [
    {
     "name": "stdout",
     "output_type": "stream",
     "text": [
      "1 bins and 5 species:\n",
      "  Species 0 (A). Diff rate: NOT SET. Conc:  [3.]\n",
      "  Species 1 (B). Diff rate: NOT SET. Conc:  [5.]\n",
      "  Species 2 (C). Diff rate: NOT SET. Conc:  [1.]\n",
      "  Species 3 (D). Diff rate: NOT SET. Conc:  [0.4]\n",
      "  Species 4 (E). Diff rate: NOT SET. Conc:  [0.1]\n"
     ]
    }
   ],
   "source": [
    "# Initialize the system\n",
    "chem_data = chem(names=[\"A\", \"B\", \"C\", \"D\", \"E\"])     # NOTE: Diffusion not applicable (just 1 bin)\n",
    "\n",
    "# Specify the reactions\n",
    "rxn = Reactions(chem_data)\n",
    "\n",
    "# Reactions A + B <-> C  and  C + D <-> E , with 1st-order kinetics for each species\n",
    "rxn.add_reaction(reactants=[\"A\", \"B\"], products=[\"C\"], forward_rate=5., reverse_rate=2.)\n",
    "rxn.add_reaction(reactants=[\"C\", \"D\"], products=[\"E\"], forward_rate=8., reverse_rate=4.)\n",
    "\n",
    "bio.initialize_system(n_bins=1, chem_data=chem_data, reactions=rxn)\n",
    "\n",
    "bio.set_all_uniform_concentrations( [3., 5., 1., 0.4, 0.1] )\n",
    "\n",
    "bio.describe_state()"
   ]
  },
  {
   "cell_type": "code",
   "execution_count": 6,
   "id": "98f90fcf-5e0c-488c-a96b-2b545e13b453",
   "metadata": {},
   "outputs": [
    {
     "data": {
      "text/html": [
       "<div>\n",
       "<style scoped>\n",
       "    .dataframe tbody tr th:only-of-type {\n",
       "        vertical-align: middle;\n",
       "    }\n",
       "\n",
       "    .dataframe tbody tr th {\n",
       "        vertical-align: top;\n",
       "    }\n",
       "\n",
       "    .dataframe thead th {\n",
       "        text-align: right;\n",
       "    }\n",
       "</style>\n",
       "<table border=\"1\" class=\"dataframe\">\n",
       "  <thead>\n",
       "    <tr style=\"text-align: right;\">\n",
       "      <th></th>\n",
       "      <th>A</th>\n",
       "      <th>B</th>\n",
       "      <th>SYSTEM TIME</th>\n",
       "    </tr>\n",
       "  </thead>\n",
       "  <tbody>\n",
       "    <tr>\n",
       "      <th>0</th>\n",
       "      <td>10.0</td>\n",
       "      <td>50.0</td>\n",
       "      <td>0</td>\n",
       "    </tr>\n",
       "  </tbody>\n",
       "</table>\n",
       "</div>"
      ],
      "text/plain": [
       "      A     B  SYSTEM TIME\n",
       "0  10.0  50.0            0"
      ]
     },
     "execution_count": 6,
     "metadata": {},
     "output_type": "execute_result"
    }
   ],
   "source": [
    "# Save the state of the concentrations of all species at bin 0\n",
    "bio.save_snapshot(bio.bin_snapshot(bin_address = 0))\n",
    "bio.get_history()"
   ]
  },
  {
   "cell_type": "code",
   "execution_count": 5,
   "id": "d79393b1-8751-4cdc-81fe-381b1161ec93",
   "metadata": {},
   "outputs": [
    {
     "name": "stdout",
     "output_type": "stream",
     "text": [
      "Number of reactions:  2\n",
      "0: A + B <-> C  (Rf = 5.0 / Rb = 2.0)\n",
      "1: C + D <-> E  (Rf = 8.0 / Rb = 4.0)\n"
     ]
    },
    {
     "data": {
      "text/plain": [
       "['0: A + B <-> C  (Rf = 5.0 / Rb = 2.0)',\n",
       " '1: C + D <-> E  (Rf = 8.0 / Rb = 4.0)']"
      ]
     },
     "execution_count": 5,
     "metadata": {},
     "output_type": "execute_result"
    }
   ],
   "source": [
    "rxn.describe_reactions()"
   ]
  },
  {
   "cell_type": "code",
   "execution_count": 6,
   "id": "c05a44f2-085e-418d-be55-8ea403b1b44e",
   "metadata": {},
   "outputs": [
    {
     "name": "stdout",
     "output_type": "stream",
     "text": [
      "\n",
      " {'reactants': [(1, 0, 1), (1, 1, 1)], 'products': [(1, 2, 1)], 'Rf': 5.0, 'Rb': 2.0} \n",
      "\n",
      "\n",
      " {'reactants': [(1, 2, 1), (1, 3, 1)], 'products': [(1, 4, 1)], 'Rf': 8.0, 'Rb': 4.0} \n",
      "\n",
      "[Graphic element sent to log file]\n"
     ]
    }
   ],
   "source": [
    "# Send the plot to the HTML log file\n",
    "graph_data = rxn.prepare_graph_network()\n",
    "GraphicLog.export_plot(graph_data, \"vue_cytoscape_1\")"
   ]
  },
  {
   "cell_type": "markdown",
   "id": "db7979c8-c39d-418c-bd70-e6e234d71cf7",
   "metadata": {
    "tags": []
   },
   "source": [
    "### <a name=\"sec_2_first_step\"></a>First step"
   ]
  },
  {
   "cell_type": "code",
   "execution_count": 7,
   "id": "73e5e562-60d7-46d9-b9d5-03748e0103eb",
   "metadata": {},
   "outputs": [
    {
     "name": "stdout",
     "output_type": "stream",
     "text": [
      "1 bins and 5 species:\n",
      "  Species 0 (A). Diff rate: NOT SET. Conc:  [2.27]\n",
      "  Species 1 (B). Diff rate: NOT SET. Conc:  [4.27]\n",
      "  Species 2 (C). Diff rate: NOT SET. Conc:  [1.702]\n",
      "  Species 3 (D). Diff rate: NOT SET. Conc:  [0.372]\n",
      "  Species 4 (E). Diff rate: NOT SET. Conc:  [0.128]\n"
     ]
    }
   ],
   "source": [
    "# First step\n",
    "bio.react(time_step=0.01, n_steps=1)\n",
    "bio.describe_state()"
   ]
  },
  {
   "cell_type": "code",
   "execution_count": 8,
   "id": "ae1ad0a8-b118-400d-ab94-8f404597642d",
   "metadata": {},
   "outputs": [
    {
     "name": "stdout",
     "output_type": "stream",
     "text": [
      "1 bins and 5 species:\n",
      "  Species 0 (A). Diff rate: NOT SET. Conc:  [1.819395]\n",
      "  Species 1 (B). Diff rate: NOT SET. Conc:  [3.819395]\n",
      "  Species 2 (C). Diff rate: NOT SET. Conc:  [2.10707348]\n",
      "  Species 3 (D). Diff rate: NOT SET. Conc:  [0.32646848]\n",
      "  Species 4 (E). Diff rate: NOT SET. Conc:  [0.17353152]\n"
     ]
    }
   ],
   "source": [
    "\"\"\"\n",
    "1 bins and 5 species:\n",
    " [[2.27 ]\n",
    " [4.27 ]\n",
    " [1.702]\n",
    " [0.372]\n",
    " [0.128]]\n",
    "\"\"\"\n",
    "\n",
    "# Identical 2nd step\n",
    "bio.react(time_step=0.01, n_steps=1)\n",
    "bio.describe_state()"
   ]
  },
  {
   "cell_type": "code",
   "execution_count": 9,
   "id": "9bf6ad6f-5e63-44c2-a5eb-e27a5d442c45",
   "metadata": {},
   "outputs": [
    {
     "name": "stdout",
     "output_type": "stream",
     "text": [
      "1 bins and 5 species:\n",
      "  Species 0 (A). Diff rate: NOT SET. Conc:  [0.50508029]\n",
      "  Species 1 (B). Diff rate: NOT SET. Conc:  [2.50508029]\n",
      "  Species 2 (C). Diff rate: NOT SET. Conc:  [3.16316668]\n",
      "  Species 3 (D). Diff rate: NOT SET. Conc:  [0.06824696]\n",
      "  Species 4 (E). Diff rate: NOT SET. Conc:  [0.43175304]\n"
     ]
    }
   ],
   "source": [
    "\"\"\"\n",
    "1 bins and 5 species:\n",
    " [[1.819395  ]\n",
    " [3.819395  ]\n",
    " [2.10707348]\n",
    " [0.32646848]\n",
    " [0.17353152]]\n",
    "\"\"\"\n",
    "\n",
    "# Numerous more identical steps\n",
    "bio.react(time_step=0.01, n_steps=200)\n",
    "bio.describe_state()"
   ]
  },
  {
   "cell_type": "code",
   "execution_count": 10,
   "id": "df7086e8-1ea6-45f0-9fa3-66c84a9475e7",
   "metadata": {},
   "outputs": [
    {
     "name": "stdout",
     "output_type": "stream",
     "text": [
      "\n",
      "At equilibrium:  -2.6645352591003757e-15  (this should be close to 0 at equilibrium)\n"
     ]
    }
   ],
   "source": [
    "\"\"\"\n",
    "1 bins and 5 species:\n",
    " [[0.50508029]\n",
    " [2.50508029]\n",
    " [3.16316668]\n",
    " [0.06824696]\n",
    " [0.43175304]]\n",
    "\"\"\"\n",
    "\n",
    "\n",
    "# Do a consistent check with the equilibrium concentrations:\n",
    "\n",
    "A_eq = bio.bin_concentration(0, 0)\n",
    "B_eq = bio.bin_concentration(0, 1)\n",
    "C_eq = bio.bin_concentration(0, 2)\n",
    "D_eq = bio.bin_concentration(0, 3)\n",
    "E_eq = bio.bin_concentration(0, 4)\n",
    "\n",
    "Rf0 = rxn.get_forward_rate(0)\n",
    "Rb0 = rxn.get_reverse_rate(0)\n",
    "\n",
    "Rf1 = rxn.get_forward_rate(1)\n",
    "Rb1 = rxn.get_reverse_rate(1)\n",
    "\n",
    "equil = -(Rf0 * A_eq * B_eq - Rf1 * C_eq * D_eq) + (Rb0 * C_eq - Rb1 * E_eq)\n",
    "\n",
    "print(\"\\nAt equilibrium: \", equil, \" (this should be close to 0 at equilibrium)\")"
   ]
  },
  {
   "cell_type": "code",
   "execution_count": null,
   "id": "db69c2b9-d96f-4363-a404-5333217c34bf",
   "metadata": {},
   "outputs": [],
   "source": []
  }
 ],
 "metadata": {
  "kernelspec": {
   "display_name": "Python 3 (ipykernel)",
   "language": "python",
   "name": "python3"
  },
  "language_info": {
   "codemirror_mode": {
    "name": "ipython",
    "version": 3
   },
   "file_extension": ".py",
   "mimetype": "text/x-python",
   "name": "python",
   "nbconvert_exporter": "python",
   "pygments_lexer": "ipython3",
   "version": "3.8.10"
  }
 },
 "nbformat": 4,
 "nbformat_minor": 5
}
