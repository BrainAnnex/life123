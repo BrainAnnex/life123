{
 "cells": [
  {
   "cell_type": "markdown",
   "id": "54d8ecb1-ea4d-4985-9d5a-e838e264c308",
   "metadata": {},
   "source": [
    "**One-bin A <-> 2C + D, with 1st-order kinetics for each species,\n",
    "taken to equilibrium**"
   ]
  },
  {
   "cell_type": "code",
   "execution_count": 1,
   "id": "bb483e13-4c78-42a8-a83c-2c233a3086bf",
   "metadata": {},
   "outputs": [
    {
     "name": "stdout",
     "output_type": "stream",
     "text": [
      "1 bins and 3 species:\n",
      "\n",
      "  Species 0 (A). Diff rate: 0.1. Conc:  [4.]\n",
      "  Species 1 (C). Diff rate: 0.1. Conc:  [7.]\n",
      "  Species 2 (D). Diff rate: 0.1. Conc:  [2.]\n"
     ]
    }
   ],
   "source": [
    "from modules.chemicals.chemicals import Chemicals as chem\n",
    "from modules.reactions.reactions import Reactions\n",
    "from life_1D.bio_sim_1d import BioSim1D as bio\n",
    "\n",
    "from modules.html_log.html_log import HtmlLog as log\n",
    "\n",
    "\n",
    "\n",
    "# Initialize the system\n",
    "chem_data = chem(diffusion_rates=[0.1, 0.1, 0.1], names=[\"A\", \"C\", \"D\"])    # NOTE: diffusion_rates not used for now\n",
    "\n",
    "rxn = Reactions(chem_data)\n",
    "\n",
    "# Reaction A <-> 2C + D , with 1st-order kinetics for each species\n",
    "rxn.add_reaction(reactants=[(\"A\")], products=[(2, \"C\") , (\"D\")],\n",
    "                 forward_rate=5., reverse_rate=2.)\n",
    "\n",
    "bio.initialize_system(n_bins=1, chem_data=chem_data, reactions=rxn)\n",
    "\n",
    "bio.set_all_uniform_concentrations( [4., 7., 2.] )\n",
    "\n",
    "bio.describe_state()"
   ]
  },
  {
   "cell_type": "code",
   "execution_count": 2,
   "id": "2fec356a-3018-4ac9-9a09-066bd69c2098",
   "metadata": {},
   "outputs": [
    {
     "name": "stdout",
     "output_type": "stream",
     "text": [
      "Number of reactions:  1\n",
      "0: A <-> 2 C + D  (Rf = 5.0 / Rb = 2.0)\n"
     ]
    }
   ],
   "source": [
    "rxn.describe_reactions()"
   ]
  },
  {
   "cell_type": "code",
   "execution_count": 3,
   "id": "5e674c56-99f6-4e09-b49f-9d854ac6f6f2",
   "metadata": {},
   "outputs": [
    {
     "name": "stdout",
     "output_type": "stream",
     "text": [
      "0: [(1, 0, 1)] <-> [(2, 1, 1), (1, 2, 1)]   ; Fwd: 5.0 / Back: 2.0\n"
     ]
    }
   ],
   "source": [
    "rxn._internal_reactions_data()    # Low-level view of the reactions data"
   ]
  },
  {
   "cell_type": "code",
   "execution_count": 4,
   "id": "8de0fb5d-419d-4976-b57d-b7656f7f0358",
   "metadata": {},
   "outputs": [
    {
     "name": "stdout",
     "output_type": "stream",
     "text": [
      "1 bins and 3 species:\n",
      "\n",
      "  Species 0 (A). Diff rate: 0.1. Conc:  [5.6]\n",
      "  Species 1 (C). Diff rate: 0.1. Conc:  [3.8]\n",
      "  Species 2 (D). Diff rate: 0.1. Conc:  [0.4]\n"
     ]
    }
   ],
   "source": [
    "# First step\n",
    "bio.react(time_step=0.2, n_steps=1)\n",
    "bio.describe_state()"
   ]
  },
  {
   "cell_type": "markdown",
   "id": "a128c0ed-ed29-4fa9-ac8d-995df08cc60c",
   "metadata": {},
   "source": [
    "---   \n",
    "    Note:  the above values are quite inaccurate because of the large time step 0.2\n",
    "\n",
    "    For example, the value for the concentration of D (0.4) is a wild overshot from the initial 2.0 to the equilibrium value of 1.68941267\n",
    "       \n",
    "    A more precise calculation with bio.react(time_step=0.1, n_steps=2) gives conc_D(0.2) = 2.304\n",
    "       \n",
    "    An even more precise calculation with bio.react(time_step=0.05, n_steps=4) gives conc_D(0.2) = 1.69037202\n",
    "       \n",
    "    I.e. the system is almost at equilibrium already at t=0.2 !\n",
    "    \n",
    "    TODO: explore the early dynamics of the system in a separate experiment\n",
    "---"
   ]
  },
  {
   "cell_type": "code",
   "execution_count": 5,
   "id": "19212806-2baa-43c6-8083-f3cbc4916d89",
   "metadata": {},
   "outputs": [
    {
     "name": "stdout",
     "output_type": "stream",
     "text": [
      "1 bins and 3 species:\n",
      "\n",
      "  Species 0 (A). Diff rate: 0.1. Conc:  [4.31058733]\n",
      "  Species 1 (C). Diff rate: 0.1. Conc:  [6.37882534]\n",
      "  Species 2 (D). Diff rate: 0.1. Conc:  [1.68941267]\n"
     ]
    }
   ],
   "source": [
    "# Numerous more steps\n",
    "bio.react(time_step=0.05, n_steps=30)\n",
    "\n",
    "bio.describe_state()"
   ]
  },
  {
   "cell_type": "markdown",
   "id": "622e8969-dc8c-44ea-be61-05824b1f8d5c",
   "metadata": {},
   "source": [
    "Consistent with the 5/2 ratio of forward/reverse rates (and the 1st order reactions),\n",
    "the systems settles in the following equilibrium:  \n",
    "[A] = 4.31058733 , [B] = 6.37882534 , [C] = 1.68941267"
   ]
  },
  {
   "cell_type": "code",
   "execution_count": 6,
   "id": "eb421a31-09d8-4387-85e8-acb255878317",
   "metadata": {},
   "outputs": [
    {
     "name": "stdout",
     "output_type": "stream",
     "text": [
      "Ratio of equilibrium concentrations (C_eq * D_eq / A_eq) : 2.4999999999999996\n",
      "Ratio of forward/reverse rates: 2.5\n"
     ]
    }
   ],
   "source": [
    "A_eq = bio.bin_concentration(0, 0)\n",
    "C_eq = bio.bin_concentration(0, 1)\n",
    "D_eq = bio.bin_concentration(0, 2)\n",
    "print(f\"Ratio of equilibrium concentrations (C_eq * D_eq / A_eq) : {C_eq * D_eq / A_eq}\")\n",
    "print(f\"Ratio of forward/reverse rates: {rxn.get_forward_rate(0) / rxn.get_reverse_rate(0)}\")"
   ]
  },
  {
   "cell_type": "code",
   "execution_count": null,
   "id": "b5962b41-d8f7-47cd-a1a6-f29856de1f85",
   "metadata": {},
   "outputs": [],
   "source": []
  }
 ],
 "metadata": {
  "kernelspec": {
   "display_name": "Python 3 (ipykernel)",
   "language": "python",
   "name": "python3"
  },
  "language_info": {
   "codemirror_mode": {
    "name": "ipython",
    "version": 3
   },
   "file_extension": ".py",
   "mimetype": "text/x-python",
   "name": "python",
   "nbconvert_exporter": "python",
   "pygments_lexer": "ipython3",
   "version": "3.7.3"
  }
 },
 "nbformat": 4,
 "nbformat_minor": 5
}
