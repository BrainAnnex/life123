{
 "cells": [
  {
   "cell_type": "markdown",
   "id": "83d68c5f-79b2-4947-920f-9fd1fbdd392f",
   "metadata": {},
   "source": [
    "**One-bin 2A + 5B <-> 4C + 3D, with 1st-order kinetics for each species,\n",
    "taken to equilibrium**\n",
    "\n",
    "Diffusion not applicable (just 1 bin)\n",
    "\n",
    "LAST REVISED: July 2, 2022"
   ]
  },
  {
   "cell_type": "code",
   "execution_count": 1,
   "id": "9e3ee9ae-4017-43c9-83fd-d32801a05b9f",
   "metadata": {},
   "outputs": [
    {
     "name": "stdout",
     "output_type": "stream",
     "text": [
      "Added 'D:\\Docs\\- MY CODE\\BioSimulations\\life123-Win7' to sys.path\n"
     ]
    }
   ],
   "source": [
    "import set_path\n",
    "set_path.add_ancestor_dir_to_syspath(3)  # The number of levels to go up \n",
    "                                         # to reach the project's home, from the folder containing this notebook"
   ]
  },
  {
   "cell_type": "code",
   "execution_count": 2,
   "id": "82fd4f08-1a4c-48d4-aac3-711aa72df099",
   "metadata": {},
   "outputs": [],
   "source": [
    "from modules.chemicals.chemicals import Chemicals as chem\n",
    "from modules.reactions.reactions import Reactions\n",
    "from life_1D.bio_sim_1d import BioSim1D as bio\n",
    "\n",
    "from modules.html_log.html_log import HtmlLog as log"
   ]
  },
  {
   "cell_type": "code",
   "execution_count": 3,
   "id": "8acfd3e5-effa-4d10-b400-47777be200fc",
   "metadata": {},
   "outputs": [
    {
     "name": "stdout",
     "output_type": "stream",
     "text": [
      "1 bins and 4 species:\n",
      "\n",
      "  Species 0 (A). Diff rate: NOT SET. Conc:  [4.]\n",
      "  Species 1 (B). Diff rate: NOT SET. Conc:  [7.]\n",
      "  Species 2 (C). Diff rate: NOT SET. Conc:  [5.]\n",
      "  Species 3 (D). Diff rate: NOT SET. Conc:  [2.]\n"
     ]
    }
   ],
   "source": [
    "# Initialize the system\n",
    "chem_data = chem(names=[\"A\", \"B\", \"C\", \"D\"])     # NOTE: Diffusion not applicable (just 1 bin)\n",
    "\n",
    "rxn = Reactions(chem_data)\n",
    "\n",
    "# Reaction 2A + 5B <-> 4C + 3D , with 1st-order kinetics for each species\n",
    "rxn.add_reaction(reactants=[(2,\"A\") , (5,\"B\")], products=[(4,\"C\") , (3,\"D\")],\n",
    "                 forward_rate=5., reverse_rate=2.)\n",
    "\n",
    "bio.initialize_system(n_bins=1, chem_data=chem_data, reactions=rxn)\n",
    "\n",
    "bio.set_all_uniform_concentrations( [4., 7., 5., 2.] )\n",
    "\n",
    "bio.describe_state()"
   ]
  },
  {
   "cell_type": "code",
   "execution_count": 4,
   "id": "5429cc81-fe31-4a1e-87c3-7c42dbd9e06e",
   "metadata": {},
   "outputs": [
    {
     "name": "stdout",
     "output_type": "stream",
     "text": [
      "Number of reactions:  1\n",
      "0: 2 A + 5 B <-> 4 C + 3 D  (Rf = 5.0 / Rb = 2.0)\n"
     ]
    }
   ],
   "source": [
    "rxn.describe_reactions()"
   ]
  },
  {
   "cell_type": "code",
   "execution_count": 5,
   "id": "e95f3814-f76b-476a-963d-ae440e87b2e8",
   "metadata": {},
   "outputs": [
    {
     "name": "stdout",
     "output_type": "stream",
     "text": [
      "0: [(2, 0, 1), (5, 1, 1)] <-> [(4, 2, 1), (3, 3, 1)]   ; Fwd: 5.0 / Back: 2.0\n"
     ]
    }
   ],
   "source": [
    "rxn._internal_reactions_data()    # Low-level view of the reactions data"
   ]
  },
  {
   "cell_type": "code",
   "execution_count": 6,
   "id": "177f241c-6ec9-4a3a-863e-685e031b4feb",
   "metadata": {},
   "outputs": [
    {
     "name": "stdout",
     "output_type": "stream",
     "text": [
      "1 bins and 4 species:\n",
      "\n",
      "  Species 0 (A). Diff rate: NOT SET. Conc:  [3.76]\n",
      "  Species 1 (B). Diff rate: NOT SET. Conc:  [6.4]\n",
      "  Species 2 (C). Diff rate: NOT SET. Conc:  [5.48]\n",
      "  Species 3 (D). Diff rate: NOT SET. Conc:  [2.36]\n"
     ]
    }
   ],
   "source": [
    "# First step\n",
    "bio.react(time_step=0.001, n_steps=1)\n",
    "bio.describe_state()"
   ]
  },
  {
   "cell_type": "markdown",
   "id": "bb01e107-69e1-4ffc-939f-ead43bc358a1",
   "metadata": {},
   "source": [
    "_Early in the reaction :_\n",
    "[A] = 3.76 ,  [B] = 6.4 ,  [C] = 5.48 ,  [D] = 2.36"
   ]
  },
  {
   "cell_type": "code",
   "execution_count": 7,
   "id": "d547bdba-3819-40bb-b965-28d06516619c",
   "metadata": {},
   "outputs": [
    {
     "name": "stdout",
     "output_type": "stream",
     "text": [
      "1 bins and 4 species:\n",
      "\n",
      "  Species 0 (A). Diff rate: NOT SET. Conc:  [2.80284552]\n",
      "  Species 1 (B). Diff rate: NOT SET. Conc:  [4.00711381]\n",
      "  Species 2 (C). Diff rate: NOT SET. Conc:  [7.39430896]\n",
      "  Species 3 (D). Diff rate: NOT SET. Conc:  [3.79573172]\n"
     ]
    }
   ],
   "source": [
    "# Numerous more steps\n",
    "bio.react(time_step=0.001, n_steps=40)\n",
    "\n",
    "bio.describe_state()"
   ]
  },
  {
   "cell_type": "markdown",
   "id": "a7b6400e-696a-4b2f-98c6-a8dea6515160",
   "metadata": {},
   "source": [
    "Consistent with the 5/2 ratio of forward/reverse rates (and the 1st order reactions),\n",
    "the systems settles in the following equilibrium:  \n",
    "[A] = 2.80284552 , [B] = 4.00711381 , [C] = 7.39430896 , [D] = 3.79573172"
   ]
  },
  {
   "cell_type": "code",
   "execution_count": 8,
   "id": "5b07ed15-6795-44f6-afb4-a2153bc7a5c2",
   "metadata": {},
   "outputs": [
    {
     "name": "stdout",
     "output_type": "stream",
     "text": [
      "Ratio of equilibrium concentrations ((C_eq * D_eq) / (A_eq * B_eq)) : 2.498977017845165\n",
      "Ratio of forward/reverse rates: 2.5\n"
     ]
    }
   ],
   "source": [
    "A_eq = bio.bin_concentration(0, 0)\n",
    "B_eq = bio.bin_concentration(0, 1)\n",
    "C_eq = bio.bin_concentration(0, 2)\n",
    "D_eq = bio.bin_concentration(0, 3)\n",
    "print(f\"Ratio of equilibrium concentrations ((C_eq * D_eq) / (A_eq * B_eq)) : {(C_eq * D_eq) / (A_eq * B_eq)}\")\n",
    "print(f\"Ratio of forward/reverse rates: {rxn.get_forward_rate(0) / rxn.get_reverse_rate(0)}\")"
   ]
  },
  {
   "cell_type": "code",
   "execution_count": null,
   "id": "e4377bb5-591a-4a0b-8b49-adde6961ce9c",
   "metadata": {},
   "outputs": [],
   "source": []
  }
 ],
 "metadata": {
  "kernelspec": {
   "display_name": "Python 3 (ipykernel)",
   "language": "python",
   "name": "python3"
  },
  "language_info": {
   "codemirror_mode": {
    "name": "ipython",
    "version": 3
   },
   "file_extension": ".py",
   "mimetype": "text/x-python",
   "name": "python",
   "nbconvert_exporter": "python",
   "pygments_lexer": "ipython3",
   "version": "3.8.10"
  }
 },
 "nbformat": 4,
 "nbformat_minor": 5
}
