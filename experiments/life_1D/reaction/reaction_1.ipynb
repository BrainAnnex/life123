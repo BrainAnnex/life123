{
 "cells": [
  {
   "cell_type": "markdown",
   "id": "49bcb5b0-f19d-4b96-a5f1-e0ae30f66d8f",
   "metadata": {},
   "source": [
    "**A simple A <-> B reaction between 2 species with initial uniform concentrations,\n",
    "with 1st-order kinetics in both directions, taken to equilibrium**\n",
    "\n",
    "Diffusion (non-applicable) not done"
   ]
  },
  {
   "cell_type": "code",
   "execution_count": 1,
   "id": "01bae555-3dcf-42c1-bddc-9477a37f49f8",
   "metadata": {},
   "outputs": [
    {
     "name": "stdout",
     "output_type": "stream",
     "text": [
      "3 bins and 2 species:\n",
      "\n",
      "  Species 0 (A). Diff rate: 0.1. Conc:  [10. 10. 10.]\n",
      "  Species 1 (B). Diff rate: 0.1. Conc:  [50. 50. 50.]\n"
     ]
    }
   ],
   "source": [
    "from modules.chemicals.chemicals import Chemicals as chem\n",
    "from modules.reactions.reactions import Reactions\n",
    "from life_1D.bio_sim_1d import BioSim1D as bio\n",
    "\n",
    "from modules.html_log.html_log import HtmlLog as log\n",
    "\n",
    "\n",
    "\n",
    "# Initialize the system\n",
    "chem_data = chem(diffusion_rates=[0.1, 0.1], names=[\"A\", \"B\"])  # diffusion_rates NOT used for now\n",
    "bio.initialize_system(n_bins=3, chem_data=chem_data)\n",
    "\n",
    "bio.set_uniform_concentration(species_index=0, conc=10.)\n",
    "bio.set_uniform_concentration(species_index=1, conc=50.)\n",
    "\n",
    "bio.describe_state(show_diffusion_rates=True)"
   ]
  },
  {
   "cell_type": "code",
   "execution_count": 2,
   "id": "25155c63-e53c-41e1-be1e-41577158a4ca",
   "metadata": {},
   "outputs": [
    {
     "name": "stdout",
     "output_type": "stream",
     "text": [
      "Number of reactions:  1\n"
     ]
    }
   ],
   "source": [
    "rxn = Reactions(chem_data)\n",
    "\n",
    "# Reaction A -> B , with 1st-order kinetics in both directions\n",
    "rxn.add_reaction(reactants=[\"A\"], products=[\"B\"], forward_rate=3., reverse_rate=2.)\n",
    "\n",
    "bio.all_reactions = rxn\n",
    "\n",
    "print(\"Number of reactions: \", rxn.number_of_reactions())"
   ]
  },
  {
   "cell_type": "code",
   "execution_count": 3,
   "id": "2c08a3ad-cc4b-4761-ae39-f5a809648a84",
   "metadata": {},
   "outputs": [
    {
     "name": "stdout",
     "output_type": "stream",
     "text": [
      "0: [(1, 0, 1)] <-> [(1, 1, 1)]   ; Fwd: 3.0 / Back: 2.0\n"
     ]
    }
   ],
   "source": [
    "rxn._internal_reactions_data()    # Low-level view of the reactions data"
   ]
  },
  {
   "cell_type": "code",
   "execution_count": 4,
   "id": "16396b37-96ce-4b6d-a415-dc8f72b04559",
   "metadata": {},
   "outputs": [
    {
     "name": "stdout",
     "output_type": "stream",
     "text": [
      "Number of reactions:  1\n",
      "0: A <-> B  (Rf = 3.0 / Rb = 2.0)\n"
     ]
    },
    {
     "data": {
      "text/plain": [
       "['0: A <-> B  (Rf = 3.0 / Rb = 2.0)']"
      ]
     },
     "execution_count": 4,
     "metadata": {},
     "output_type": "execute_result"
    }
   ],
   "source": [
    "rxn.describe_reactions()"
   ]
  },
  {
   "cell_type": "code",
   "execution_count": 5,
   "id": "bcf652b8-e0dc-438e-bdbe-02216c1d52a0",
   "metadata": {},
   "outputs": [
    {
     "name": "stdout",
     "output_type": "stream",
     "text": [
      "3 bins and 2 species:\n",
      "\n",
      "  Species 0 (A). Diff rate: 0.1. Conc:  [17. 17. 17.]\n",
      "  Species 1 (B). Diff rate: 0.1. Conc:  [43. 43. 43.]\n"
     ]
    }
   ],
   "source": [
    "# First step\n",
    "bio.react(time_step=0.1, n_steps=1)\n",
    "bio.describe_state()"
   ]
  },
  {
   "cell_type": "markdown",
   "id": "7dc56592-179d-4e4c-b75a-8eb81dcafe71",
   "metadata": {},
   "source": [
    "NOTE: the concentration of species A is increasing, while that of species B is decreasing.\n",
    "All bins have identical concentrations; so, there's no diffusion:\n",
    "[[17. 17. 17.]\n",
    " [43. 43. 43.]]"
   ]
  },
  {
   "cell_type": "code",
   "execution_count": 6,
   "id": "cf6a7337-8e2e-4c02-9bb3-85052f37144f",
   "metadata": {},
   "outputs": [
    {
     "name": "stdout",
     "output_type": "stream",
     "text": [
      "3 bins and 2 species:\n",
      "\n",
      "  Species 0 (A). Diff rate: 0.1. Conc:  [23.99316406 23.99316406 23.99316406]\n",
      "  Species 1 (B). Diff rate: 0.1. Conc:  [36.00683594 36.00683594 36.00683594]\n"
     ]
    }
   ],
   "source": [
    "# Numerous more steps\n",
    "bio.react(time_step=0.1, n_steps=10)\n",
    "\n",
    "bio.describe_state()"
   ]
  },
  {
   "cell_type": "markdown",
   "id": "809b4afa-fb2f-4ac3-92c9-083fc487c81b",
   "metadata": {},
   "source": [
    "NOTE: Consistent with the 3/2 ratio of forward/reverse rates (and the 1st order reactions),\n",
    " the systems settles in the following equilibrium:\n",
    "\n",
    "[A] = 23.99316406\n",
    " \n",
    "[B] = 36.00683594\n"
   ]
  },
  {
   "cell_type": "code",
   "execution_count": 7,
   "id": "53d1f6f7-bf65-4071-b954-144143decc8c",
   "metadata": {},
   "outputs": [
    {
     "name": "stdout",
     "output_type": "stream",
     "text": [
      "Ratio of equilibrium concentrations: 1.5007122797020636\n",
      "Ratio of forward/reverse rates: 1.5\n"
     ]
    }
   ],
   "source": [
    "A_eq = bio.bin_concentration(0, 0)\n",
    "B_eq = bio.bin_concentration(0, 1)\n",
    "print(f\"Ratio of equilibrium concentrations: {B_eq / A_eq}\")\n",
    "print(f\"Ratio of forward/reverse rates: {rxn.get_forward_rate(0) / rxn.get_reverse_rate(0)}\")"
   ]
  },
  {
   "cell_type": "code",
   "execution_count": null,
   "id": "75751d1a-968a-4806-a409-44ac242b0089",
   "metadata": {},
   "outputs": [],
   "source": []
  }
 ],
 "metadata": {
  "kernelspec": {
   "display_name": "Python 3 (ipykernel)",
   "language": "python",
   "name": "python3"
  },
  "language_info": {
   "codemirror_mode": {
    "name": "ipython",
    "version": 3
   },
   "file_extension": ".py",
   "mimetype": "text/x-python",
   "name": "python",
   "nbconvert_exporter": "python",
   "pygments_lexer": "ipython3",
   "version": "3.7.3"
  }
 },
 "nbformat": 4,
 "nbformat_minor": 5
}
