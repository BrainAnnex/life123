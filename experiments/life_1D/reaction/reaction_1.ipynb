{
 "cells": [
  {
   "cell_type": "markdown",
   "id": "49bcb5b0-f19d-4b96-a5f1-e0ae30f66d8f",
   "metadata": {},
   "source": [
    "**A simple A <-> B reaction between 2 species with initial uniform concentrations across 3 bins,\n",
    "with 1st-order kinetics in both directions, taken to equilibrium**\n",
    "\n",
    "Diffusion not done\n",
    "\n",
    "LAST REVISED: Aug. 7, 2022"
   ]
  },
  {
   "cell_type": "code",
   "execution_count": 1,
   "id": "d9efa3fd-e95d-4e1c-878a-81ae932b2709",
   "metadata": {},
   "outputs": [
    {
     "name": "stdout",
     "output_type": "stream",
     "text": [
      "Added 'D:\\Docs\\- MY CODE\\BioSimulations\\life123-Win7' to sys.path\n"
     ]
    }
   ],
   "source": [
    "import set_path\n",
    "set_path.add_ancestor_dir_to_syspath(3)  # The number of levels to go up \n",
    "                                         # to reach the project's home, from the folder containing this notebook"
   ]
  },
  {
   "cell_type": "code",
   "execution_count": 2,
   "id": "01bae555-3dcf-42c1-bddc-9477a37f49f8",
   "metadata": {},
   "outputs": [],
   "source": [
    "from experiments.get_notebook_info import get_notebook_basename\n",
    "\n",
    "from modules.chemicals.chemicals import Chemicals as chem\n",
    "from modules.reactions.reactions import Reactions\n",
    "from life_1D.bio_sim_1d import BioSim1D as bio\n",
    "\n",
    "from modules.html_log.html_log import HtmlLog as log\n",
    "from modules.visualization.graphic_log import GraphicLog"
   ]
  },
  {
   "cell_type": "code",
   "execution_count": 3,
   "id": "cc53849f-351d-49e0-bfa8-22f8d8e22f8e",
   "metadata": {},
   "outputs": [
    {
     "name": "stdout",
     "output_type": "stream",
     "text": [
      "-> Output will be LOGGED into the file 'reaction_1.log.htm'\n"
     ]
    }
   ],
   "source": [
    "# Initialize the HTML logging\n",
    "log_file = get_notebook_basename() + \".log.htm\"    # Use the notebook base filename for the log file\n",
    "\n",
    "# Set up the use of some specified graphic (Vue) components\n",
    "GraphicLog.config(filename=log_file,\n",
    "                  components=[\"vue_cytoscape_1\"],\n",
    "                  extra_js=\"https://cdnjs.cloudflare.com/ajax/libs/cytoscape/3.21.2/cytoscape.umd.js\",\n",
    "                  home_rel_path=\"../../..\")    # relative path is from the location of THE LOG FILE to the project's home"
   ]
  },
  {
   "cell_type": "code",
   "execution_count": 4,
   "id": "de47e1df-67cf-4200-a580-fbcf50ebd1c0",
   "metadata": {},
   "outputs": [
    {
     "name": "stdout",
     "output_type": "stream",
     "text": [
      "3 bins and 2 species:\n",
      "  Species 0 (A). Diff rate: NOT SET. Conc:  [10. 10. 10.]\n",
      "  Species 1 (B). Diff rate: NOT SET. Conc:  [50. 50. 50.]\n"
     ]
    }
   ],
   "source": [
    "# Initialize the system\n",
    "chem_data = chem(names=[\"A\", \"B\"])       # Diffusion NOT taken into account\n",
    "bio.initialize_system(n_bins=3, chem_data=chem_data)\n",
    "\n",
    "bio.set_uniform_concentration(species_index=0, conc=10.)\n",
    "bio.set_uniform_concentration(species_index=1, conc=50.)\n",
    "\n",
    "bio.describe_state()"
   ]
  },
  {
   "cell_type": "code",
   "execution_count": 5,
   "id": "25155c63-e53c-41e1-be1e-41577158a4ca",
   "metadata": {},
   "outputs": [
    {
     "name": "stdout",
     "output_type": "stream",
     "text": [
      "Number of reactions:  1\n"
     ]
    }
   ],
   "source": [
    "# Specify the reaction\n",
    "rxn = Reactions(chem_data)\n",
    "\n",
    "# Reaction A -> B , with 1st-order kinetics in both directions\n",
    "rxn.add_reaction(reactants=[\"A\"], products=[\"B\"], forward_rate=3., reverse_rate=2.)\n",
    "\n",
    "bio.all_reactions = rxn\n",
    "\n",
    "print(\"Number of reactions: \", rxn.number_of_reactions())"
   ]
  },
  {
   "cell_type": "code",
   "execution_count": 6,
   "id": "16396b37-96ce-4b6d-a415-dc8f72b04559",
   "metadata": {},
   "outputs": [
    {
     "name": "stdout",
     "output_type": "stream",
     "text": [
      "Number of reactions:  1\n",
      "0: A <-> B  (Rf = 3.0 / Rb = 2.0)\n"
     ]
    },
    {
     "data": {
      "text/plain": [
       "['0: A <-> B  (Rf = 3.0 / Rb = 2.0)']"
      ]
     },
     "execution_count": 6,
     "metadata": {},
     "output_type": "execute_result"
    }
   ],
   "source": [
    "rxn.describe_reactions()"
   ]
  },
  {
   "cell_type": "code",
   "execution_count": 7,
   "id": "00a39103-a470-490a-8165-bd58c6f70fb6",
   "metadata": {},
   "outputs": [
    {
     "name": "stdout",
     "output_type": "stream",
     "text": [
      "\n",
      " {'reactants': [(1, 0, 1)], 'products': [(1, 1, 1)], 'Rf': 3.0, 'Rb': 2.0} \n",
      "\n",
      "[Graphic element sent to log file]\n"
     ]
    }
   ],
   "source": [
    "# Send the plot to the HTML log file\n",
    "graph_data = rxn.prepare_graph_network()\n",
    "GraphicLog.export_plot(graph_data, \"vue_cytoscape_1\")"
   ]
  },
  {
   "cell_type": "code",
   "execution_count": 8,
   "id": "bcf652b8-e0dc-438e-bdbe-02216c1d52a0",
   "metadata": {},
   "outputs": [
    {
     "name": "stdout",
     "output_type": "stream",
     "text": [
      "3 bins and 2 species:\n",
      "  Species 0 (A). Diff rate: NOT SET. Conc:  [17. 17. 17.]\n",
      "  Species 1 (B). Diff rate: NOT SET. Conc:  [43. 43. 43.]\n"
     ]
    }
   ],
   "source": [
    "# First step\n",
    "bio.react(time_step=0.1, n_steps=1)\n",
    "bio.describe_state()"
   ]
  },
  {
   "cell_type": "markdown",
   "id": "7dc56592-179d-4e4c-b75a-8eb81dcafe71",
   "metadata": {},
   "source": [
    "NOTE: the concentration of species A is increasing, while that of species B is decreasing.\n",
    "All bins have identical concentrations; so, there's no diffusion:\n",
    "[[17. 17. 17.]\n",
    " [43. 43. 43.]]"
   ]
  },
  {
   "cell_type": "code",
   "execution_count": 9,
   "id": "cf6a7337-8e2e-4c02-9bb3-85052f37144f",
   "metadata": {},
   "outputs": [
    {
     "name": "stdout",
     "output_type": "stream",
     "text": [
      "3 bins and 2 species:\n",
      "  Species 0 (A). Diff rate: NOT SET. Conc:  [23.99316406 23.99316406 23.99316406]\n",
      "  Species 1 (B). Diff rate: NOT SET. Conc:  [36.00683594 36.00683594 36.00683594]\n"
     ]
    }
   ],
   "source": [
    "# Numerous more steps\n",
    "bio.react(time_step=0.1, n_steps=10)\n",
    "\n",
    "bio.describe_state()"
   ]
  },
  {
   "cell_type": "markdown",
   "id": "809b4afa-fb2f-4ac3-92c9-083fc487c81b",
   "metadata": {},
   "source": [
    "NOTE: Consistent with the 3/2 ratio of forward/reverse rates (and the 1st order reactions),\n",
    " the systems settles in the following equilibrium:\n",
    "\n",
    "[A] = 23.99316406\n",
    " \n",
    "[B] = 36.00683594\n"
   ]
  },
  {
   "cell_type": "code",
   "execution_count": 10,
   "id": "53d1f6f7-bf65-4071-b954-144143decc8c",
   "metadata": {},
   "outputs": [
    {
     "name": "stdout",
     "output_type": "stream",
     "text": [
      "Ratio of equilibrium concentrations: 1.5007122797020636\n",
      "Ratio of forward/reverse rates: 1.5\n"
     ]
    }
   ],
   "source": [
    "A_eq = bio.bin_concentration(0, 0)\n",
    "B_eq = bio.bin_concentration(0, 1)\n",
    "print(f\"Ratio of equilibrium concentrations: {B_eq / A_eq}\")\n",
    "print(f\"Ratio of forward/reverse rates: {rxn.get_forward_rate(0) / rxn.get_reverse_rate(0)}\")"
   ]
  },
  {
   "cell_type": "code",
   "execution_count": null,
   "id": "34f13382-ccbf-4900-bec2-55982e846029",
   "metadata": {},
   "outputs": [],
   "source": []
  }
 ],
 "metadata": {
  "jupytext": {
   "formats": "ipynb,py:percent"
  },
  "kernelspec": {
   "display_name": "Python 3 (ipykernel)",
   "language": "python",
   "name": "python3"
  },
  "language_info": {
   "codemirror_mode": {
    "name": "ipython",
    "version": 3
   },
   "file_extension": ".py",
   "mimetype": "text/x-python",
   "name": "python",
   "nbconvert_exporter": "python",
   "pygments_lexer": "ipython3",
   "version": "3.8.10"
  }
 },
 "nbformat": 4,
 "nbformat_minor": 5
}
