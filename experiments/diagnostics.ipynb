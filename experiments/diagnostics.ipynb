{
 "cells": [
  {
   "cell_type": "code",
   "execution_count": 1,
   "id": "f3c0b7b9-75b9-44c2-974a-610464d49a54",
   "metadata": {},
   "outputs": [
    {
     "name": "stdout",
     "output_type": "stream",
     "text": [
      "SOME DIAGNOSTIC VALUES:\n",
      "\n",
      "sys.executable:  D:\\Docs\\- MY CODE\\BioSimulations\\life123-Win7\\venv\\Scripts\\python.exe\n",
      "\n",
      "cwd:  D:\\Docs\\- MY CODE\\BioSimulations\\life123-Win7\\experiments\n",
      "\n",
      "sys.path:  ['D:\\\\Docs\\\\- MY CODE\\\\BioSimulations\\\\life123-Win7\\\\experiments', 'D:\\\\Docs\\\\- MY CODE\\\\BioSimulations\\\\life123-Win7', 'C:\\\\Program Files\\\\Python 3.7.3\\\\python37.zip', 'C:\\\\Program Files\\\\Python 3.7.3\\\\DLLs', 'C:\\\\Program Files\\\\Python 3.7.3\\\\lib', 'C:\\\\Program Files\\\\Python 3.7.3', 'D:\\\\Docs\\\\- MY CODE\\\\BioSimulations\\\\life123-Win7\\\\venv', '', 'D:\\\\Docs\\\\- MY CODE\\\\BioSimulations\\\\life123-Win7\\\\venv\\\\lib\\\\site-packages', 'D:\\\\Docs\\\\- MY CODE\\\\BioSimulations\\\\life123-Win7\\\\venv\\\\lib\\\\site-packages\\\\win32', 'D:\\\\Docs\\\\- MY CODE\\\\BioSimulations\\\\life123-Win7\\\\venv\\\\lib\\\\site-packages\\\\win32\\\\lib', 'D:\\\\Docs\\\\- MY CODE\\\\BioSimulations\\\\life123-Win7\\\\venv\\\\lib\\\\site-packages\\\\Pythonwin', 'D:\\\\Docs\\\\- MY CODE\\\\BioSimulations\\\\life123-Win7\\\\venv\\\\lib\\\\site-packages\\\\IPython\\\\extensions', 'C:\\\\Users\\\\juls\\\\.ipython']\n",
      "\n",
      "sys.path again, using separate lines: \n",
      "     D:\\Docs\\- MY CODE\\BioSimulations\\life123-Win7\\experiments\n",
      "     D:\\Docs\\- MY CODE\\BioSimulations\\life123-Win7\n",
      "     C:\\Program Files\\Python 3.7.3\\python37.zip\n",
      "     C:\\Program Files\\Python 3.7.3\\DLLs\n",
      "     C:\\Program Files\\Python 3.7.3\\lib\n",
      "     C:\\Program Files\\Python 3.7.3\n",
      "     D:\\Docs\\- MY CODE\\BioSimulations\\life123-Win7\\venv\n",
      "     \n",
      "     D:\\Docs\\- MY CODE\\BioSimulations\\life123-Win7\\venv\\lib\\site-packages\n",
      "     D:\\Docs\\- MY CODE\\BioSimulations\\life123-Win7\\venv\\lib\\site-packages\\win32\n",
      "     D:\\Docs\\- MY CODE\\BioSimulations\\life123-Win7\\venv\\lib\\site-packages\\win32\\lib\n",
      "     D:\\Docs\\- MY CODE\\BioSimulations\\life123-Win7\\venv\\lib\\site-packages\\Pythonwin\n",
      "     D:\\Docs\\- MY CODE\\BioSimulations\\life123-Win7\\venv\\lib\\site-packages\\IPython\\extensions\n",
      "     C:\\Users\\juls\\.ipython\n"
     ]
    }
   ],
   "source": [
    "import os\n",
    "import sys\n",
    "\n",
    "\n",
    "print(\"SOME DIAGNOSTIC VALUES:\")\n",
    "\n",
    "print(\"\\nsys.executable: \", sys.executable)\n",
    "\n",
    "print(\"\\ncwd: \", os.getcwd())\n",
    "\n",
    "print(\"\\nsys.path: \", sys.path)\n",
    "print(\"\\nsys.path again, using separate lines: \")\n",
    "for p in sys.path:\n",
    "    print(\"    \", p)"
   ]
  },
  {
   "cell_type": "code",
   "execution_count": null,
   "id": "4557d7ba-8166-4b27-8278-15d459035a10",
   "metadata": {},
   "outputs": [],
   "source": []
  }
 ],
 "metadata": {
  "kernelspec": {
   "display_name": "Python 3 (ipykernel)",
   "language": "python",
   "name": "python3"
  },
  "language_info": {
   "codemirror_mode": {
    "name": "ipython",
    "version": 3
   },
   "file_extension": ".py",
   "mimetype": "text/x-python",
   "name": "python",
   "nbconvert_exporter": "python",
   "pygments_lexer": "ipython3",
   "version": "3.7.3"
  }
 },
 "nbformat": 4,
 "nbformat_minor": 5
}
