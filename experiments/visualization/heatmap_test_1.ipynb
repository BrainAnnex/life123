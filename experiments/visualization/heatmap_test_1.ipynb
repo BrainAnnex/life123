{
 "cells": [
  {
   "cell_type": "markdown",
   "id": "b5b42ccf-43c0-4255-9bd9-e30772ab2d1f",
   "metadata": {},
   "source": [
    "**Test of the heatmap module \"vue-heatmap-9\"**"
   ]
  },
  {
   "cell_type": "code",
   "execution_count": 1,
   "id": "c82ce04e-b088-496e-91e0-3538308960c3",
   "metadata": {},
   "outputs": [
    {
     "name": "stdout",
     "output_type": "stream",
     "text": [
      "-> Output will be LOGGED into the file 'heatmap_test_1.htm'\n"
     ]
    }
   ],
   "source": [
    "from modules.html_log.html_log import HtmlLog as log\n",
    "\n",
    "# Note: paths are from the location of THE LOG FILE\n",
    "log.config(filename=\"heatmap_test_1.htm\", mode='overwrite',\n",
    "           use_D3=True,\n",
    "           Vue_lib = \"../../modules/Vue2_lib/vue2.js\",\n",
    "           js = \"../../modules/SVG_helper/svg_helper.js\",\n",
    "           css=\"../../modules/visualization/D3_heatmap.css\")"
   ]
  },
  {
   "cell_type": "code",
   "execution_count": 2,
   "id": "ce4d7c4a-263c-4bf3-810a-5f13ab83446c",
   "metadata": {},
   "outputs": [
    {
     "name": "stdout",
     "output_type": "stream",
     "text": [
      "Example of Heatmap, using the module \"vue-heatmap-9\":\n",
      "\n"
     ]
    }
   ],
   "source": [
    "log.write('Example of Heatmap, using the module \"vue-heatmap-9\":',\n",
    "          style=log.h2, blanks_after=1)"
   ]
  },
  {
   "cell_type": "code",
   "execution_count": 3,
   "id": "12708546-a463-484e-9b79-0da6a18a4f71",
   "metadata": {},
   "outputs": [],
   "source": [
    "# EXAMPLE OF DATA VISUALIZATION WITH A HEATMAP (with arbitrary data, hardwired below)\n",
    "\n",
    "all_data = {\n",
    "    \"my_groups\": [\"A\", \"B\", \"C\"],\n",
    "    \"my_vars\": [\"v1\", \"v2\"],\n",
    "    \"my_data\": [\n",
    "        { \"group\": \"A\", \"variable\": \"v1\", \"value\": \"0\" },\n",
    "        { \"group\": \"A\", \"variable\": \"v2\", \"value\": \"82\" },\n",
    "        { \"group\": \"B\", \"variable\": \"v1\", \"value\": \"37\" },\n",
    "        { \"group\": \"B\", \"variable\": \"v2\", \"value\": \"50\" },\n",
    "        { \"group\": \"C\", \"variable\": \"v1\", \"value\": \"100\" },\n",
    "        { \"group\": \"C\", \"variable\": \"v2\", \"value\": \"13\" }\n",
    "    ],\n",
    "    \"range_min\": 0,\n",
    "    \"range_max\": 100,\n",
    "    \"outer_width\": 850,\n",
    "    \"outer_height\": 450,\n",
    "    \"margins\": {\"top\": 30, \"right\": 30, \"bottom\": 30, \"left\": 30}\n",
    "}\n",
    "\n",
    "log.export_plot_Vue(data=all_data,\n",
    "                    component_name=\"vue-heatmap-9\",\n",
    "                    component_file=\"../../modules/visualization/vue_components/heatmap9.js\")"
   ]
  },
  {
   "cell_type": "code",
   "execution_count": 4,
   "id": "e5aa2b18-e3fc-40ec-ae78-e3639bed59c2",
   "metadata": {},
   "outputs": [],
   "source": [
    "log.close()"
   ]
  },
  {
   "cell_type": "code",
   "execution_count": null,
   "id": "ee6b4911-f5bd-44f8-a461-b59f9a930e2d",
   "metadata": {},
   "outputs": [],
   "source": []
  }
 ],
 "metadata": {
  "kernelspec": {
   "display_name": "Python 3 (ipykernel)",
   "language": "python",
   "name": "python3"
  },
  "language_info": {
   "codemirror_mode": {
    "name": "ipython",
    "version": 3
   },
   "file_extension": ".py",
   "mimetype": "text/x-python",
   "name": "python",
   "nbconvert_exporter": "python",
   "pygments_lexer": "ipython3",
   "version": "3.7.3"
  }
 },
 "nbformat": 4,
 "nbformat_minor": 5
}
