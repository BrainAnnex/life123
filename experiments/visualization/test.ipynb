{
 "cells": [
  {
   "cell_type": "markdown",
   "id": "9d87418a-f73e-488d-8da4-0e9cb531912b",
   "metadata": {},
   "source": [
    "**TEST OF Jupytext**"
   ]
  },
  {
   "cell_type": "code",
   "execution_count": 1,
   "id": "6969b060-e966-45d7-85c8-31bee4322218",
   "metadata": {},
   "outputs": [],
   "source": [
    "a = 2"
   ]
  },
  {
   "cell_type": "code",
   "execution_count": 2,
   "id": "f548d30c-9424-4c81-9635-14e7a9317111",
   "metadata": {},
   "outputs": [
    {
     "data": {
      "text/plain": [
       "7"
      ]
     },
     "execution_count": 2,
     "metadata": {},
     "output_type": "execute_result"
    }
   ],
   "source": [
    "a+5"
   ]
  },
  {
   "cell_type": "code",
   "execution_count": null,
   "id": "5adf82dc-f362-400a-aa35-8cb5e3a6b192",
   "metadata": {},
   "outputs": [],
   "source": []
  }
 ],
 "metadata": {
  "jupytext": {
   "formats": "ipynb,py:percent"
  },
  "kernelspec": {
   "display_name": "Python 3 (ipykernel)",
   "language": "python",
   "name": "python3"
  },
  "language_info": {
   "codemirror_mode": {
    "name": "ipython",
    "version": 3
   },
   "file_extension": ".py",
   "mimetype": "text/x-python",
   "name": "python",
   "nbconvert_exporter": "python",
   "pygments_lexer": "ipython3",
   "version": "3.8.10"
  }
 },
 "nbformat": 4,
 "nbformat_minor": 5
}
