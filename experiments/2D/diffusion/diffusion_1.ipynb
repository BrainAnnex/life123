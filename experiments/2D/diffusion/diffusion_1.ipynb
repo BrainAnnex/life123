{
 "cells": [
  {
   "cell_type": "markdown",
   "id": "58ff55b9-7d22-47fe-8d5b-1d29d2194498",
   "metadata": {},
   "source": [
    "## An initial concentration pulse (near the left edge of the system, and halfway vertically) moving towards equilibrium\n",
    "\n",
    "The system starts out with a \"concentration pulse\" in just one bin - i.e. that bin is initially the only one with a non-zero concentration of the only chemical species.\n",
    "Then the system is left undisturbed, and followed to equilibrium.\n",
    "\n",
    "(Note: this is the 2D counterpart of the 1D experiment by the same name)\n",
    "\n",
    "LAST REVISED: Oct. 17, 2022"
   ]
  },
  {
   "cell_type": "code",
   "execution_count": 1,
   "id": "7bc27a42-13c8-469a-b99a-af09f545bb53",
   "metadata": {},
   "outputs": [
    {
     "name": "stdout",
     "output_type": "stream",
     "text": [
      "Added 'D:\\Docs\\- MY CODE\\BioSimulations\\life123-Win7' to sys.path\n"
     ]
    }
   ],
   "source": [
    "# Extend the sys.path variable, to contain the project's root directory\n",
    "import set_path\n",
    "set_path.add_ancestor_dir_to_syspath(3)  # The number of levels to go up \n",
    "                                         # to reach the project's home, from the folder containing this notebook"
   ]
  },
  {
   "cell_type": "code",
   "execution_count": 2,
   "id": "d9fd4e5f-c784-449f-9cc6-234dbe9eb20e",
   "metadata": {},
   "outputs": [],
   "source": [
    "from experiments.get_notebook_info import get_notebook_basename\n",
    "\n",
    "from life_2D.bio_sim_2d import BioSim2D\n",
    "\n",
    "import plotly.express as px\n",
    "import plotly.graph_objects as go\n",
    "\n",
    "from modules.chemicals.chemicals import Chemicals as chem"
   ]
  },
  {
   "cell_type": "code",
   "execution_count": 3,
   "id": "008a6f6e-0bae-4d70-b486-43dda6214bf4",
   "metadata": {},
   "outputs": [
    {
     "name": "stdout",
     "output_type": "stream",
     "text": [
      "SYSTEM STATE at Time t = 0:\n",
      "Species `A`:\n",
      "[[ 0.  0.  0.  0.  0.  0.  0.  0.  0.  0.]\n",
      " [ 0.  0.  0.  0.  0.  0.  0.  0.  0.  0.]\n",
      " [ 0.  0.  0.  0.  0.  0.  0.  0.  0.  0.]\n",
      " [ 0.  0. 10.  0.  0.  0.  0.  0.  0.  0.]\n",
      " [ 0.  0.  0.  0.  0.  0.  0.  0.  0.  0.]\n",
      " [ 0.  0.  0.  0.  0.  0.  0.  0.  0.  0.]\n",
      " [ 0.  0.  0.  0.  0.  0.  0.  0.  0.  0.]]\n"
     ]
    }
   ],
   "source": [
    "# Prepare the initial system, with a single non-zero bin, near the left edge of the system, positioned halfway vertically\n",
    "chem_data = chem(names=[\"A\"], diffusion_rates=[0.1])\n",
    "bio = BioSim2D(n_bins=(7, 10), chem_data=chem_data)\n",
    "\n",
    "bio.inject_conc_to_bin(bin_address=(3, 2), species_index=0, delta_conc=10.)\n",
    "\n",
    "bio.describe_state()"
   ]
  },
  {
   "cell_type": "markdown",
   "id": "1206f461-ee37-4d82-89d2-2599e8115a5f",
   "metadata": {},
   "source": [
    "# Initial Diffusion Step"
   ]
  },
  {
   "cell_type": "code",
   "execution_count": 4,
   "id": "2345e05a-8c43-466a-b0ac-c562b68c4113",
   "metadata": {},
   "outputs": [
    {
     "name": "stdout",
     "output_type": "stream",
     "text": [
      "\n",
      " {'steps': 100}\n",
      "SYSTEM STATE at Time t = 9.99999999999998:\n",
      "Species `A`:\n",
      "[[4.30951658e-02 7.93497580e-02 1.10929538e-01 7.70929938e-02\n",
      "  3.30778235e-02 1.00272325e-02 2.32398310e-03 4.33007101e-04\n",
      "  6.72189701e-05 9.89018280e-06]\n",
      " [1.15891206e-01 2.11465055e-01 2.94043475e-01 2.05298887e-01\n",
      "  8.87676594e-02 2.71514706e-02 6.35374803e-03 1.19581241e-03\n",
      "  1.87580840e-04 2.79244652e-05]\n",
      " [2.64895803e-01 4.79991551e-01 6.64687187e-01 4.65722945e-01\n",
      "  2.02570338e-01 6.23917546e-02 1.47098573e-02 2.79021032e-03\n",
      "  4.41252062e-04 6.62901602e-05]\n",
      " [3.78216348e-01 6.82527360e-01 9.42890713e-01 6.62005597e-01\n",
      "  2.88950434e-01 8.93627421e-02 2.11627067e-02 4.03309126e-03\n",
      "  6.40943320e-04 9.68280044e-05]\n",
      " [2.64895803e-01 4.79991551e-01 6.64687187e-01 4.65722945e-01\n",
      "  2.02570338e-01 6.23917546e-02 1.47098573e-02 2.79021032e-03\n",
      "  4.41252062e-04 6.62901602e-05]\n",
      " [1.15891206e-01 2.11465055e-01 2.94043475e-01 2.05298887e-01\n",
      "  8.87676594e-02 2.71514706e-02 6.35374803e-03 1.19581241e-03\n",
      "  1.87580840e-04 2.79244652e-05]\n",
      " [4.30951658e-02 7.93497580e-02 1.10929538e-01 7.70929938e-02\n",
      "  3.30778235e-02 1.00272325e-02 2.32398310e-03 4.33007101e-04\n",
      "  6.72189701e-05 9.89018280e-06]]\n"
     ]
    }
   ],
   "source": [
    "delta_time = 10.\n",
    "\n",
    "status = bio.diffuse(total_duration=delta_time, time_step=0.1)\n",
    "print(\"\\n\", status)\n",
    "\n",
    "bio.describe_state()"
   ]
  },
  {
   "cell_type": "markdown",
   "id": "fbf9545e-9730-41e4-937e-814504f1aa0e",
   "metadata": {},
   "source": [
    "## This is still an early stage in the diffusion process; let's advance it more... (Visualization from results shown at selected times)"
   ]
  },
  {
   "cell_type": "code",
   "execution_count": 5,
   "id": "570a5152-42aa-4ea3-a377-134296f2dc09",
   "metadata": {
    "lines_to_next_cell": 2,
    "tags": []
   },
   "outputs": [
    {
     "name": "stdout",
     "output_type": "stream",
     "text": [
      "SYSTEM STATE at Time t = 20.000000000000014:\n",
      "Species `A`:\n",
      "[[0.15623792 0.17878164 0.18876711 0.15863977 0.10349461 0.05352399\n",
      "  0.02258178 0.00798107 0.00243991 0.00078068]\n",
      " [0.22761437 0.26007791 0.27433859 0.23063959 0.15067892 0.07808822\n",
      "  0.03302805 0.01170581 0.00358973 0.00115277]\n",
      " [0.32545515 0.3714429  0.39150836 0.32924242 0.21533877 0.11178241\n",
      "  0.04737358 0.01682757 0.00517311 0.00166603]\n",
      " [0.37293011 0.42544506 0.44830064 0.37704301 0.24670436 0.1281424\n",
      "  0.05434695 0.01932048 0.0059449  0.00191665]\n",
      " [0.32545515 0.3714429  0.39150836 0.32924242 0.21533877 0.11178241\n",
      "  0.04737358 0.01682757 0.00517311 0.00166603]\n",
      " [0.22761437 0.26007791 0.27433859 0.23063959 0.15067892 0.07808822\n",
      "  0.03302805 0.01170581 0.00358973 0.00115277]\n",
      " [0.15623792 0.17878164 0.18876711 0.15863977 0.10349461 0.05352399\n",
      "  0.02258178 0.00798107 0.00243991 0.00078068]]\n",
      "SYSTEM STATE at Time t = 30.000000000000156:\n",
      "Species `A`:\n",
      "[[0.2219987  0.22481987 0.21667889 0.1864453  0.13855595 0.08822622\n",
      "  0.04838392 0.02314241 0.01000935 0.00478347]\n",
      " [0.25983762 0.26307595 0.25349651 0.21813191 0.16215301 0.10330746\n",
      "  0.05669561 0.02714177 0.01175156 0.00562285]\n",
      " [0.30784771 0.31161278 0.30020617 0.25833222 0.19209223 0.12244436\n",
      "  0.06724419 0.03221847 0.01396363 0.00668888]\n",
      " [0.32952594 0.33352786 0.32129543 0.27648262 0.20561053 0.13108604\n",
      "  0.07200829 0.03451167 0.01496305 0.00717063]\n",
      " [0.30784771 0.31161278 0.30020617 0.25833222 0.19209223 0.12244436\n",
      "  0.06724419 0.03221847 0.01396363 0.00668888]\n",
      " [0.25983762 0.26307595 0.25349651 0.21813191 0.16215301 0.10330746\n",
      "  0.05669561 0.02714177 0.01175156 0.00562285]\n",
      " [0.2219987  0.22481987 0.21667889 0.1864453  0.13855595 0.08822622\n",
      "  0.04838392 0.02314241 0.01000935 0.00478347]]\n",
      "SYSTEM STATE at Time t = 79.99999999999973:\n",
      "Species `A`:\n",
      "[[0.23277448 0.22409071 0.20742436 0.18423531 0.15674265 0.12774728\n",
      "  0.10026393 0.07708063 0.06040853 0.05171545]\n",
      " [0.23352298 0.22481135 0.20809158 0.18482823 0.15724751 0.12815929\n",
      "  0.10058791 0.07733032 0.06060478 0.05188383]\n",
      " [0.23445633 0.22570998 0.20892359 0.18556759 0.15787707 0.12867305\n",
      "  0.1009919  0.07764169 0.06084951 0.05209379]\n",
      " [0.23487172 0.22610991 0.20929387 0.18589663 0.15815725 0.1289017\n",
      "  0.1011717  0.07778026 0.06095842 0.05218723]\n",
      " [0.23445633 0.22570998 0.20892359 0.18556759 0.15787707 0.12867305\n",
      "  0.1009919  0.07764169 0.06084951 0.05209379]\n",
      " [0.23352298 0.22481135 0.20809158 0.18482823 0.15724751 0.12815929\n",
      "  0.10058791 0.07733032 0.06060478 0.05188383]\n",
      " [0.23277448 0.22409071 0.20742436 0.18423531 0.15674265 0.12774728\n",
      "  0.10026393 0.07708063 0.06040853 0.05171545]]\n",
      "SYSTEM STATE at Time t = 810.0000000001156:\n",
      "Species `A`:\n",
      "[[0.14292874 0.14292173 0.1429084  0.14289005 0.14286848 0.1428458\n",
      "  0.14282423 0.14280588 0.14279255 0.14278555]\n",
      " [0.14292874 0.14292173 0.1429084  0.14289005 0.14286848 0.1428458\n",
      "  0.14282423 0.14280588 0.14279255 0.14278555]\n",
      " [0.14292874 0.14292173 0.1429084  0.14289005 0.14286848 0.1428458\n",
      "  0.14282423 0.14280588 0.14279255 0.14278555]\n",
      " [0.14292874 0.14292173 0.1429084  0.14289005 0.14286848 0.1428458\n",
      "  0.14282423 0.14280588 0.14279255 0.14278555]\n",
      " [0.14292874 0.14292173 0.1429084  0.14289005 0.14286848 0.1428458\n",
      "  0.14282423 0.14280588 0.14279255 0.14278555]\n",
      " [0.14292874 0.14292173 0.1429084  0.14289005 0.14286848 0.1428458\n",
      "  0.14282423 0.14280588 0.14279255 0.14278555]\n",
      " [0.14292874 0.14292173 0.1429084  0.14289005 0.14286848 0.1428458\n",
      "  0.14282423 0.14280588 0.14279255 0.14278555]]\n"
     ]
    }
   ],
   "source": [
    "for i in range(80):\n",
    "    status = bio.diffuse(total_duration=delta_time, time_step=0.1)\n",
    "\n",
    "    if i<2 or i==6 or i>=79:\n",
    "        bio.describe_state()"
   ]
  },
  {
   "cell_type": "markdown",
   "id": "f52f7bd3-202a-44be-af53-5b2b63772eae",
   "metadata": {},
   "source": [
    "## All bins now have essentially uniform concentration\n",
    "\n",
    "The \"10 units of concentration\" are now uniformly spread across the 70 bins, leading to a near-constant concentration of 10/70"
   ]
  },
  {
   "cell_type": "code",
   "execution_count": 6,
   "id": "84026abc-687d-409a-a58e-2f71d5e5ecd3",
   "metadata": {},
   "outputs": [
    {
     "data": {
      "text/plain": [
       "0.14285714285714285"
      ]
     },
     "execution_count": 6,
     "metadata": {},
     "output_type": "execute_result"
    }
   ],
   "source": [
    "10/70."
   ]
  },
  {
   "cell_type": "code",
   "execution_count": null,
   "id": "b6012a48-dd32-4f63-ac6b-c6e2432a19a5",
   "metadata": {},
   "outputs": [],
   "source": []
  }
 ],
 "metadata": {
  "kernelspec": {
   "display_name": "Python 3 (ipykernel)",
   "language": "python",
   "name": "python3"
  },
  "language_info": {
   "codemirror_mode": {
    "name": "ipython",
    "version": 3
   },
   "file_extension": ".py",
   "mimetype": "text/x-python",
   "name": "python",
   "nbconvert_exporter": "python",
   "pygments_lexer": "ipython3",
   "version": "3.8.10"
  }
 },
 "nbformat": 4,
 "nbformat_minor": 5
}
