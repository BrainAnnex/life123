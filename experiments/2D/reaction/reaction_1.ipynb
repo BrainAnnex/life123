{
 "cells": [
  {
   "cell_type": "markdown",
   "id": "d0259ef8",
   "metadata": {
    "lines_to_next_cell": 0
   },
   "source": [
    "## A <-> B reaction, with 1st-order kinetics in both directions,\n",
    "### taken to equilibrium\n",
    "\n",
    "Diffusion not done\n",
    "\n",
    "LAST REVISED: Sep. 21, 2022"
   ]
  },
  {
   "cell_type": "code",
   "execution_count": 1,
   "id": "706d5946",
   "metadata": {},
   "outputs": [
    {
     "name": "stdout",
     "output_type": "stream",
     "text": [
      "Added 'D:\\Docs\\- MY CODE\\BioSimulations\\life123-Win7' to sys.path\n"
     ]
    }
   ],
   "source": [
    "# Extend the sys.path variable, to contain the project's root directory\n",
    "import set_path\n",
    "set_path.add_ancestor_dir_to_syspath(3)  # The number of levels to go up \n",
    "                                         # to reach the project's home, from the folder containing this notebook"
   ]
  },
  {
   "cell_type": "code",
   "execution_count": 5,
   "id": "bca245e8",
   "metadata": {},
   "outputs": [],
   "source": [
    "from experiments.get_notebook_info import get_notebook_basename\n",
    "\n",
    "from modules.chemicals.chemicals import Chemicals as chem\n",
    "from modules.reactions.reactions import Reactions\n",
    "from life_2D.bio_sim_2d import BioSim2D\n",
    "\n",
    "import plotly.express as px\n",
    "from modules.html_log.html_log import HtmlLog as log\n",
    "from modules.visualization.graphic_log import GraphicLog"
   ]
  },
  {
   "cell_type": "code",
   "execution_count": 3,
   "id": "48630be5",
   "metadata": {},
   "outputs": [
    {
     "name": "stdout",
     "output_type": "stream",
     "text": [
      "-> Output will be LOGGED into the file 'reaction_1.log.htm'\n"
     ]
    }
   ],
   "source": [
    "# Initialize the HTML logging\n",
    "log_file = get_notebook_basename() + \".log.htm\"    # Use the notebook base filename for the log file\n",
    "# Set up the use of some specified graphic (Vue) components\n",
    "GraphicLog.config(filename=log_file,\n",
    "                  components=[\"vue_cytoscape_1\"],\n",
    "                  extra_js=\"https://cdnjs.cloudflare.com/ajax/libs/cytoscape/3.21.2/cytoscape.umd.js\")"
   ]
  },
  {
   "cell_type": "code",
   "execution_count": 6,
   "id": "e18c0c41",
   "metadata": {},
   "outputs": [
    {
     "name": "stdout",
     "output_type": "stream",
     "text": [
      "SYSTEM STATE at Time t = 0:\n",
      "Species `A`:\n",
      "[[10. 20.  0.  0.]\n",
      " [ 0.  0.  0.  0.]\n",
      " [ 0.  0.  0.  5.]]\n",
      "Species `B`:\n",
      "[[ 50.  35.   0.   0.]\n",
      " [  0.   0.   0.   0.]\n",
      " [  0.   0.   0. 100.]]\n"
     ]
    }
   ],
   "source": [
    "# Initialize the system\n",
    "chem_data = chem(names=[\"A\", \"B\"])     # NOTE: Diffusion not done\n",
    "\n",
    "rxn = Reactions(chem_data)\n",
    "\n",
    "# Reaction A <-> B , with 1st-order kinetics in both directions\n",
    "rxn.add_reaction(reactants=[\"A\"], products=[\"B\"], forward_rate=3., reverse_rate=2.)\n",
    "\n",
    "bio = BioSim2D(n_bins=(3,4), chem_data=chem_data, reactions=rxn)\n",
    "\n",
    "bio.set_bin_conc_all_species(bin_x=0, bin_y=0, conc_list=[10.,50.])\n",
    "bio.set_bin_conc_all_species(bin_x=0, bin_y=1, conc_list=[20.,35.])\n",
    "bio.set_bin_conc_all_species(bin_x=2, bin_y=3, conc_list=[5.,100.])\n",
    "\n",
    "bio.describe_state()"
   ]
  },
  {
   "cell_type": "code",
   "execution_count": 7,
   "id": "06d14448",
   "metadata": {},
   "outputs": [
    {
     "name": "stdout",
     "output_type": "stream",
     "text": [
      "Number of reactions:  1\n",
      "0: A <-> B  (Rf = 3.0 / Rb = 2.0)\n"
     ]
    }
   ],
   "source": [
    "rxn.describe_reactions()"
   ]
  },
  {
   "cell_type": "code",
   "execution_count": 8,
   "id": "bad0134c",
   "metadata": {},
   "outputs": [
    {
     "name": "stdout",
     "output_type": "stream",
     "text": [
      "\n",
      " {'reactants': [(1, 0, 1)], 'products': [(1, 1, 1)], 'Rf': 3.0, 'Rb': 2.0} \n",
      "\n",
      "[GRAPHIC ELEMENT SENT TO LOG FILE `reaction_1.log.htm`]\n"
     ]
    }
   ],
   "source": [
    "# Send the plot to the HTML log file\n",
    "graph_data = rxn.prepare_graph_network()\n",
    "GraphicLog.export_plot(graph_data, \"vue_cytoscape_1\")"
   ]
  },
  {
   "cell_type": "markdown",
   "id": "0b8318bf",
   "metadata": {
    "tags": []
   },
   "source": [
    "## First step"
   ]
  },
  {
   "cell_type": "code",
   "execution_count": 9,
   "id": "97f6ad20",
   "metadata": {},
   "outputs": [
    {
     "name": "stdout",
     "output_type": "stream",
     "text": [
      "bio.delta_reactions:\n",
      " [[[  7.    1.    0.    0. ]\n",
      "  [  0.    0.    0.    0. ]\n",
      "  [  0.    0.    0.   18.5]]\n",
      "\n",
      " [[ -7.   -1.    0.    0. ]\n",
      "  [  0.    0.    0.    0. ]\n",
      "  [  0.    0.    0.  -18.5]]]\n"
     ]
    }
   ],
   "source": [
    "# First step (NOTE: here we're using a lower-level function that doesn't update the system state;\n",
    "#                   it only computes the delta_reactions array)\n",
    "bio.reaction_step(delta_time=0.1)\n",
    "print(\"bio.delta_reactions:\\n\", bio.delta_reactions)"
   ]
  },
  {
   "cell_type": "code",
   "execution_count": 10,
   "id": "93b53e77",
   "metadata": {},
   "outputs": [
    {
     "name": "stdout",
     "output_type": "stream",
     "text": [
      "SYSTEM STATE at Time t = 0.1:\n",
      "Species `A`:\n",
      "[[17.  21.   0.   0. ]\n",
      " [ 0.   0.   0.   0. ]\n",
      " [ 0.   0.   0.  23.5]]\n",
      "Species `B`:\n",
      "[[43.  34.   0.   0. ]\n",
      " [ 0.   0.   0.   0. ]\n",
      " [ 0.   0.   0.  81.5]]\n"
     ]
    }
   ],
   "source": [
    "bio.system += bio.delta_reactions       # Matrix operation to update all the concentrations\n",
    "bio.system_time += 0.1\n",
    "\n",
    "bio.describe_state()"
   ]
  },
  {
   "cell_type": "markdown",
   "id": "1dfcfa0b-ae89-4fdc-af96-54ada6f7f555",
   "metadata": {
    "tags": []
   },
   "source": [
    "## Second step"
   ]
  },
  {
   "cell_type": "code",
   "execution_count": 11,
   "id": "4a32fd45-f20d-4bed-99cb-3b611656e1be",
   "metadata": {},
   "outputs": [
    {
     "name": "stdout",
     "output_type": "stream",
     "text": [
      "SYSTEM STATE at Time t = 0.2:\n",
      "Species `A`:\n",
      "[[20.5  21.5   0.    0.  ]\n",
      " [ 0.    0.    0.    0.  ]\n",
      " [ 0.    0.    0.   32.75]]\n",
      "Species `B`:\n",
      "[[39.5  33.5   0.    0.  ]\n",
      " [ 0.    0.    0.    0.  ]\n",
      " [ 0.    0.    0.   72.25]]\n"
     ]
    }
   ],
   "source": [
    "# NOTE: now, we're using a highel-level function that also updates the system state\n",
    "bio.react(time_step=0.1, n_steps=1)\n",
    "bio.describe_state()"
   ]
  },
  {
   "cell_type": "markdown",
   "id": "c8f2dcc9-7343-47b0-9e2c-4157add49e32",
   "metadata": {},
   "source": [
    "## Many more steps, to equilibrium"
   ]
  },
  {
   "cell_type": "code",
   "execution_count": 12,
   "id": "42be106a-095e-4d0e-8c24-a8d03370eff7",
   "metadata": {},
   "outputs": [
    {
     "name": "stdout",
     "output_type": "stream",
     "text": [
      "SYSTEM STATE at Time t = 0.9999999999999999:\n",
      "Species `A`:\n",
      "[[23.98632812 21.99804688  0.          0.        ]\n",
      " [ 0.          0.          0.          0.        ]\n",
      " [ 0.          0.          0.         41.96386719]]\n",
      "Species `B`:\n",
      "[[36.01367188 33.00195312  0.          0.        ]\n",
      " [ 0.          0.          0.          0.        ]\n",
      " [ 0.          0.          0.         63.03613281]]\n"
     ]
    }
   ],
   "source": [
    "bio.react(time_step=0.1, n_steps=8)\n",
    "bio.describe_state()"
   ]
  },
  {
   "cell_type": "code",
   "execution_count": 13,
   "id": "51fefb11-5382-4e2e-87e4-f175884e9fcf",
   "metadata": {},
   "outputs": [
    {
     "name": "stdout",
     "output_type": "stream",
     "text": [
      "SYSTEM STATE at Time t = 2.0000000000000004:\n",
      "Species `A`:\n",
      "[[23.99998665 21.99999809  0.          0.        ]\n",
      " [ 0.          0.          0.          0.        ]\n",
      " [ 0.          0.          0.         41.99996471]]\n",
      "Species `B`:\n",
      "[[36.00001335 33.00000191  0.          0.        ]\n",
      " [ 0.          0.          0.          0.        ]\n",
      " [ 0.          0.          0.         63.00003529]]\n"
     ]
    }
   ],
   "source": [
    "bio.react(time_step=0.1, n_steps=10)\n",
    "bio.describe_state()"
   ]
  },
  {
   "cell_type": "markdown",
   "id": "9b66fc29-20a2-4be9-9248-5fff187aa773",
   "metadata": {},
   "source": [
    "### The system has now reached equilibrium\n",
    "### in individual bins, which remain separate because we're NOT doing diffusion in this experiment"
   ]
  },
  {
   "cell_type": "markdown",
   "id": "4458f3e5-3cd5-4f88-a79f-0dc134bcf309",
   "metadata": {},
   "source": [
    "Verify the equilibrium in each of the active bins"
   ]
  },
  {
   "cell_type": "code",
   "execution_count": 14,
   "id": "a0d8cc78-870c-45af-90dc-10f50bf3bc40",
   "metadata": {},
   "outputs": [
    {
     "name": "stdout",
     "output_type": "stream",
     "text": [
      "Ratio of forward/reverse reaction rates: 1.5\n",
      "Ratio of reactant/product concentrations, adjusted for reaction orders: 1.5000013906257736\n",
      "    [B] / [A]\n"
     ]
    },
    {
     "data": {
      "text/plain": [
       "True"
      ]
     },
     "execution_count": 14,
     "metadata": {},
     "output_type": "execute_result"
    }
   ],
   "source": [
    "bio.all_reactions.is_in_equilibrium(rxn_index=0, conc={\"A\": 23.99998665, \"B\": 36.00001335})"
   ]
  },
  {
   "cell_type": "code",
   "execution_count": 15,
   "id": "46a41b53-b4c5-4de3-84d5-3fd1024c2652",
   "metadata": {},
   "outputs": [
    {
     "name": "stdout",
     "output_type": "stream",
     "text": [
      "Ratio of forward/reverse reaction rates: 1.5\n",
      "Ratio of reactant/product concentrations, adjusted for reaction orders: 1.5000002170454736\n",
      "    [B] / [A]\n"
     ]
    },
    {
     "data": {
      "text/plain": [
       "True"
      ]
     },
     "execution_count": 15,
     "metadata": {},
     "output_type": "execute_result"
    }
   ],
   "source": [
    "bio.all_reactions.is_in_equilibrium(rxn_index=0, conc={\"A\": 21.99999809, \"B\": 33.00000191})"
   ]
  },
  {
   "cell_type": "code",
   "execution_count": 16,
   "id": "91e85f0a-a186-408f-864e-08bc6acb9591",
   "metadata": {},
   "outputs": [
    {
     "data": {
      "text/plain": [
       "True"
      ]
     },
     "execution_count": 16,
     "metadata": {},
     "output_type": "execute_result"
    }
   ],
   "source": [
    "bio.all_reactions.is_in_equilibrium(rxn_index=0, conc={\"A\": 41.99996471, \"B\": 63.00003529}, explain=False)"
   ]
  },
  {
   "cell_type": "code",
   "execution_count": null,
   "id": "d0d723d5-bb66-4be0-a24e-e467f6ffc0f0",
   "metadata": {},
   "outputs": [],
   "source": []
  }
 ],
 "metadata": {
  "kernelspec": {
   "display_name": "Python 3 (ipykernel)",
   "language": "python",
   "name": "python3"
  },
  "language_info": {
   "codemirror_mode": {
    "name": "ipython",
    "version": 3
   },
   "file_extension": ".py",
   "mimetype": "text/x-python",
   "name": "python",
   "nbconvert_exporter": "python",
   "pygments_lexer": "ipython3",
   "version": "3.8.10"
  }
 },
 "nbformat": 4,
 "nbformat_minor": 5
}
